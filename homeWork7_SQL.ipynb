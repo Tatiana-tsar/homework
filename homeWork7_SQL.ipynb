{
 "cells": [
  {
   "cell_type": "code",
   "execution_count": 1,
   "metadata": {},
   "outputs": [],
   "source": [
    "#Домашняя работа 7\n",
    "-colab/jupyter: https://colab.research.google.com/drive/1j4XdGIU__NYPVpv74vQa9HUOAkxsgUez?usp=sharing\n",
    "\n",
    "--task1  (lesson7)\n",
    "-- sqlite3: Сделать тестовый проект с БД (sqlite3, project name: task1_7). \n",
    "-- В таблицу table1 записать 1000 строк с случайными значениями (3 колонки, тип int) от 0 до 1000.\n",
    "-- Далее построить гистаграмму распределения этих трех колонко\n",
    "\n",
    "-task2  (lesson7)\n",
    "-- oracle: https://leetcode.com/problems/duplicate-emails/\n",
    "        \n",
    "-task3  (lesson7)\n",
    "-- oracle: https://leetcode.com/problems/employees-earning-more-than-their-managers/\n",
    "\n",
    "-task4  (lesson7)\n",
    "-- oracle: https://leetcode.com/problems/rank-scores/\n",
    "        \n",
    "--task5  (lesson7)\n",
    "-- oracle: https://leetcode.com/problems/combine-two-tables/        "
   ]
  },
  {
   "cell_type": "code",
   "execution_count": 12,
   "metadata": {},
   "outputs": [],
   "source": [
    "import sqlite3\n",
    "conn = sqlite3.connect('task1_7.db')  \n",
    "c = conn.cursor()"
   ]
  },
  {
   "cell_type": "code",
   "execution_count": 13,
   "metadata": {},
   "outputs": [
    {
     "ename": "SyntaxError",
     "evalue": "invalid syntax (<ipython-input-13-8db4c9702338>, line 1)",
     "output_type": "error",
     "traceback": [
      "\u001b[1;36m  File \u001b[1;32m\"<ipython-input-13-8db4c9702338>\"\u001b[1;36m, line \u001b[1;32m1\u001b[0m\n\u001b[1;33m    https://sandbox.neo4j.com/\u001b[0m\n\u001b[1;37m           ^\u001b[0m\n\u001b[1;31mSyntaxError\u001b[0m\u001b[1;31m:\u001b[0m invalid syntax\n"
     ]
    }
   ],
   "source": [
    "https://sandbox.neo4j.com/\n"
   ]
  },
  {
   "cell_type": "code",
   "execution_count": 14,
   "metadata": {},
   "outputs": [],
   "source": [
    "import psycopg2\n",
    "import pandas as pd\n",
    "\n",
    "#!введите свои реквизиты!\n",
    "DB_HOST = '52.157.159.24'\n",
    "DB_USER = 'student15'\n",
    "DB_USER_PASSWORD = 'student15_password'\n",
    "DB_NAME = 'sql_ex_for_student15'\n",
    "\n",
    "conn = psycopg2.connect(host=DB_HOST, user=DB_USER, password=DB_USER_PASSWORD, dbname=DB_NAME)\n"
   ]
  },
  {
   "cell_type": "code",
   "execution_count": 15,
   "metadata": {},
   "outputs": [],
   "source": [
    "#проверка подключения PostgreSQL \n",
    "import psycopg2\n",
    "import pandas as pd\n",
    "#Библиотека ждя визуализации\n",
    "from IPython.display import HTML\n",
    "import plotly.express as px"
   ]
  },
  {
   "cell_type": "code",
   "execution_count": 16,
   "metadata": {
    "scrolled": true
   },
   "outputs": [
    {
     "ename": "OperationalError",
     "evalue": "table table1 already exists",
     "output_type": "error",
     "traceback": [
      "\u001b[1;31m---------------------------------------------------------------------------\u001b[0m",
      "\u001b[1;31mOperationalError\u001b[0m                          Traceback (most recent call last)",
      "\u001b[1;32m<ipython-input-16-610b27676014>\u001b[0m in \u001b[0;36m<module>\u001b[1;34m\u001b[0m\n\u001b[0;32m      1\u001b[0m \u001b[0mrequest\u001b[0m\u001b[1;33m=\u001b[0m\u001b[1;34m\"CREATE TABLE table1 (id INTEGER PRIMARY KEY NOT NULL, x int NOT NULL,y int NOT NULL, z int NOT NULL);\"\u001b[0m\u001b[1;33m\u001b[0m\u001b[1;33m\u001b[0m\u001b[0m\n\u001b[1;32m----> 2\u001b[1;33m \u001b[0mc\u001b[0m\u001b[1;33m.\u001b[0m\u001b[0mexecute\u001b[0m\u001b[1;33m(\u001b[0m\u001b[0mrequest\u001b[0m\u001b[1;33m)\u001b[0m\u001b[1;33m\u001b[0m\u001b[1;33m\u001b[0m\u001b[0m\n\u001b[0m\u001b[0;32m      3\u001b[0m \u001b[0mtables\u001b[0m \u001b[1;33m=\u001b[0m \u001b[0mc\u001b[0m\u001b[1;33m.\u001b[0m\u001b[0mfetchall\u001b[0m\u001b[1;33m(\u001b[0m\u001b[1;33m)\u001b[0m\u001b[1;33m\u001b[0m\u001b[1;33m\u001b[0m\u001b[0m\n",
      "\u001b[1;31mOperationalError\u001b[0m: table table1 already exists"
     ]
    }
   ],
   "source": [
    "\n",
    "request=\"CREATE TABLE table1 (id INTEGER PRIMARY KEY NOT NULL, x int NOT NULL,y int NOT NULL, z int NOT NULL);\"\n",
    "c.execute(request)\n",
    "tables = c.fetchall()\n",
    "\n",
    "\n",
    "# и решала все задачи в dbeaver\n",
    "CREATE TABLE table1 (\n",
    "  id INTEGER PRIMARY KEY NOT NULL, \n",
    "  x int NOT NULL,\n",
    "  y int NOT NULL,\n",
    "  z int NOT NULL\n",
    ");\n",
    "  INSERT INTO table1\n",
    "    WITH RECURSIVE\n",
    "      cnt( id, x, y, z) AS (\n",
    "      VALUES(1 , 1+(1000-1)*RANDom(),1+(1000-1)*RANDom(),1+(1000-1)*RANDom()) UNION ALL \n",
    "      SELECT id+1,1+(1000-1)*RANDom(),1+(1000-1)*RANDom(),1+(1000-1)*RANDom() FROM cnt WHERE id<1000)\n",
    "    select * from cnt;\n",
    "         "
   ]
  },
  {
   "cell_type": "code",
   "execution_count": 5,
   "metadata": {},
   "outputs": [],
   "source": [
    "request=\"  INSERT INTO table1 WITH RECURSIVE cnt( id, x, y, z) AS (VALUES(1 , 1+(1000-1)*RANDom(),1+(1000-1)*RANDom(),1+(1000-1)*RANDom()) UNION ALL     SELECT id+1,1+(1000-1)*RANDom(),1+(1000-1)*RANDom(),1+(1000-1)*RANDom() FROM cnt WHERE id<1000) select * from cnt;\"\n",
    "         \n",
    "c.execute(request)\n",
    "tables = c.fetchall()"
   ]
  },
  {
   "cell_type": "code",
   "execution_count": 6,
   "metadata": {
    "scrolled": true
   },
   "outputs": [],
   "source": [
    "request=\"select * from table1;\"\n",
    "c.execute(request)\n",
    "tables = c.fetchall()"
   ]
  },
  {
   "cell_type": "code",
   "execution_count": 11,
   "metadata": {
    "scrolled": false
   },
   "outputs": [
    {
     "ename": "SyntaxError",
     "evalue": "can't assign to literal (<ipython-input-11-f046da20299e>, line 6)",
     "output_type": "error",
     "traceback": [
      "\u001b[1;36m  File \u001b[1;32m\"<ipython-input-11-f046da20299e>\"\u001b[1;36m, line \u001b[1;32m6\u001b[0m\n\u001b[1;33m    N=1000, h=1000;\u001b[0m\n\u001b[1;37m     ^\u001b[0m\n\u001b[1;31mSyntaxError\u001b[0m\u001b[1;31m:\u001b[0m can't assign to literal\n"
     ]
    }
   ],
   "source": [
    "df = pd.read_sql_query(request, conn)\n",
    "#fig = px.hist(x=df.x.to_list(), y=df.y.to_list(),z=df.z.to_list(), labels={'x':'x', 'y':'y', 'z':'z'})\n",
    "\n",
    "fig = px.bar(x=df.x.to_list(), y=df.y.to_list(), labels={'x':'x', 'y':'y'})\n",
    "\n",
    "N=1000, h=1000; \n",
    "x=rnorm(N,0,1) \n",
    "fig=histogram(bin,x)\n",
    "fig.show()\n",
    "    \n",
    "    "
   ]
  },
  {
   "cell_type": "code",
   "execution_count": null,
   "metadata": {},
   "outputs": [],
   "source": [
    "--task2  (lesson7)\n",
    "-- oracle: https://leetcode.com/problems/duplicate-emails/\n",
    "select Email from Person \n",
    "group by Email\n",
    "having count(Email)>=2"
   ]
  },
  {
   "cell_type": "code",
   "execution_count": null,
   "metadata": {},
   "outputs": [],
   "source": [
    "--task3  (lesson7)\n",
    "-- oracle: https://leetcode.com/problems/employees-earning-more-than-their-managers/\n",
    "select Name as Employee from Employee e where e.ManagerId in (select ID from Employee) and\n",
    " e.Salary> (select  ee.Salary from Employee ee where e.ManagerId=ee.Id);"
   ]
  },
  {
   "cell_type": "code",
   "execution_count": null,
   "metadata": {},
   "outputs": [],
   "source": [
    "--task4  (lesson7)\n",
    "-- oracle: https://leetcode.com/problems/rank-scores/\n",
    "select Score, Dense_rank() over(order by Score DESC) 'Rank' from Scores"
   ]
  },
  {
   "cell_type": "code",
   "execution_count": null,
   "metadata": {},
   "outputs": [],
   "source": [
    "--task5  (lesson7)\n",
    "-- oracle: https://leetcode.com/problems/combine-two-tables/\n",
    "select FirstName, LastName, City, State from Person p left join Address a on p.PersonId=a.PersonId; "
   ]
  },
  {
   "cell_type": "code",
   "execution_count": null,
   "metadata": {},
   "outputs": [],
   "source": []
  },
  {
   "cell_type": "code",
   "execution_count": null,
   "metadata": {},
   "outputs": [],
   "source": []
  }
 ],
 "metadata": {
  "kernelspec": {
   "display_name": "Python 3",
   "language": "python",
   "name": "python3"
  },
  "language_info": {
   "codemirror_mode": {
    "name": "ipython",
    "version": 3
   },
   "file_extension": ".py",
   "mimetype": "text/x-python",
   "name": "python",
   "nbconvert_exporter": "python",
   "pygments_lexer": "ipython3",
   "version": "3.7.6"
  }
 },
 "nbformat": 4,
 "nbformat_minor": 4
}
