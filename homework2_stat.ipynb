{
 "cells": [
  {
   "cell_type": "markdown",
   "metadata": {
    "id": "pDrecLU-4QjS"
   },
   "source": [
    "# Практика  домашняя работа 2"
   ]
  },
  {
   "cell_type": "code",
   "execution_count": 1,
   "metadata": {
    "id": "a6XFMuQUG6jO"
   },
   "outputs": [],
   "source": [
    "import pandas as pd\n",
    "import numpy as np\n",
    "import matplotlib.pyplot as plt\n",
    "import scipy.stats as sts\n",
    "import math\n",
    "%matplotlib inline\n",
    "\n",
    "from scipy.stats import cosine\n",
    "import matplotlib.pyplot as plt\n",
    "from scipy.stats import gausshyper\n",
    "\n",
    "\n",
    "\n",
    "import pylab\n",
    "import random\n"
   ]
  },
  {
   "cell_type": "markdown",
   "metadata": {
    "id": "5owLnS0MHJnz"
   },
   "source": [
    "## ЦПТ для различных распределений\n",
    "Возьмите то непрерывное распределение, которое вам больше всего понравится из списка доступных в модуле [scipy.stats](https://docs.scipy.org/doc/scipy/reference/stats.html)."
   ]
  },
  {
   "cell_type": "markdown",
   "metadata": {
    "id": "v1IvIGF9IRgH"
   },
   "source": [
    "### Сгенерируйте примеры из распределения"
   ]
  },
  {
   "cell_type": "code",
   "execution_count": 2,
   "metadata": {
    "colab": {
     "base_uri": "https://localhost:8080/",
     "height": 377
    },
    "id": "l4oTC1NSHvl7",
    "outputId": "52df1553-6d91-4452-9ade-e2a62a8d7ff2"
   },
   "outputs": [
    {
     "data": {
      "text/plain": [
       "array([0.81004626, 0.89503816, 0.8246357 , 0.79498871, 0.66464358,\n",
       "       0.85790986, 0.6944672 , 0.80564577, 0.84350207, 0.46383851,\n",
       "       0.70187056, 0.69012121, 0.76983656, 0.93434503, 0.83996963,\n",
       "       0.75131322, 0.62016488, 0.69577405, 0.7440723 , 0.81384131,\n",
       "       0.72757024, 0.73024861, 0.84285069, 0.8284227 , 0.74515182,\n",
       "       0.73021925, 0.87022824, 0.90375163, 0.69821476, 0.91265781,\n",
       "       0.80288306, 0.59439334, 0.78625056, 0.8103784 , 0.7070414 ,\n",
       "       0.67607412, 0.75466705, 0.71550463, 0.82622923, 0.67807093,\n",
       "       0.90339389, 0.83137222, 0.87560727, 0.87384811, 0.86159664,\n",
       "       0.44940501, 0.6287997 , 0.56858049, 0.80583698, 0.83773499,\n",
       "       0.805532  , 0.80610958, 0.69371115, 0.73070764, 0.81350087,\n",
       "       0.89547164, 0.79301298, 0.70614097, 0.82653422, 0.8566435 ,\n",
       "       0.65126792, 0.88169994, 0.66704054, 0.93497918, 0.84052745,\n",
       "       0.88226812, 0.82784203, 0.86093571, 0.95295074, 0.59239961,\n",
       "       0.83554154, 0.94062467, 0.92205619, 0.79360199, 0.63001093,\n",
       "       0.82034034, 0.74121351, 0.59228126, 0.79489719, 0.83217589,\n",
       "       0.92731905, 0.8169277 , 0.89185519, 0.91407198, 0.59541373,\n",
       "       0.8252691 , 0.89333609, 0.680737  , 0.90471289, 0.39622793,\n",
       "       0.84143448, 0.63139804, 0.70270672, 0.84700838, 0.75305141,\n",
       "       0.73011815, 0.8836592 , 0.90147549, 0.78412509, 0.73668362])"
      ]
     },
     "execution_count": 2,
     "metadata": {},
     "output_type": "execute_result"
    }
   ],
   "source": [
    "# ваш код тут\n",
    "# например вот такое распределение https://docs.scipy.org/doc/scipy/reference/generated/scipy.stats.cosine.html#scipy.stats.cosine\n",
    "#cosine_rv = sts.cosine()\n",
    "#sample = cosine_rv.rvs(100)\n",
    "#sample\n",
    "\n",
    "#Гауссовская гипергеометрическая непрерывная случайная величина.\n",
    "#Подсчитаем несколько первых моментов:\n",
    "\n",
    "a, b, c, z = 13.8, 3.12, 2.51, 5.18\n",
    "#mean, var, skew, kurt = gausshyper.stats(a, b, c, z, moments='mvsk')\n",
    "cos = sts.gausshyper(a, b, c, z)\n",
    "#sample = cos.rvs(100)\n",
    "\n",
    "#Генерация случайных чисел:\n",
    "sample = gausshyper.rvs(a, b, c, z, size=100)  # rvs - Случайные варианты\n",
    "sample\n",
    "\n",
    "\n"
   ]
  },
  {
   "cell_type": "code",
   "execution_count": 3,
   "metadata": {
    "colab": {
     "base_uri": "https://localhost:8080/",
     "height": 35
    },
    "id": "ScsjsI4oXgKR",
    "outputId": "86833794-f43b-436e-a0e4-c3b7483df016"
   },
   "outputs": [
    {
     "data": {
      "text/plain": [
       "dtype('float64')"
      ]
     },
     "execution_count": 3,
     "metadata": {},
     "output_type": "execute_result"
    }
   ],
   "source": [
    "sample.dtype"
   ]
  },
  {
   "cell_type": "code",
   "execution_count": 4,
   "metadata": {
    "id": "pXTNSqAOCYX4"
   },
   "outputs": [
    {
     "data": {
      "text/plain": [
       "0.7777255890959445"
      ]
     },
     "execution_count": 4,
     "metadata": {},
     "output_type": "execute_result"
    }
   ],
   "source": [
    "real_mean = sample.mean() # настоящее среднее случайной величины\n",
    "real_mean"
   ]
  },
  {
   "cell_type": "code",
   "execution_count": 5,
   "metadata": {
    "id": "5x4hFKaUCWSY"
   },
   "outputs": [
    {
     "data": {
      "text/plain": [
       "0.012267373262400174"
      ]
     },
     "execution_count": 5,
     "metadata": {},
     "output_type": "execute_result"
    }
   ],
   "source": [
    "real_var = sample.var() # настоящая дисперсия случайной величины\n",
    "real_var"
   ]
  },
  {
   "cell_type": "markdown",
   "metadata": {
    "id": "4bNn15giIX77"
   },
   "source": [
    "### Постройте гистограмму выборки и теоретическую плотность распределения"
   ]
  },
  {
   "cell_type": "code",
   "execution_count": 6,
   "metadata": {
    "colab": {
     "base_uri": "https://localhost:8080/",
     "height": 283
    },
    "id": "CwbvqecvIcXN",
    "outputId": "ace01d5d-2552-499b-bc4f-1eb19166af83",
    "scrolled": true
   },
   "outputs": [
    {
     "data": {
      "image/png": "[encoded data removed]",
      "text/plain": [
       "<Figure size 432x288 with 1 Axes>"
      ]
     },
     "metadata": {
      "needs_background": "light"
     },
     "output_type": "display_data"
    }
   ],
   "source": [
    "fig, ax = plt.subplots(1, 1)\n",
    "# функция плотности вероятности ( pdf):\n",
    "\n",
    "x = np.linspace(gausshyper.ppf(0.01, a, b, c, z),\n",
    "                gausshyper.ppf(0.99, a, b, c, z), 100)\n",
    "ax.plot(x, gausshyper.pdf(x, a, b, c, z),\n",
    "       'r-', lw=5, alpha=0.6, label='плотность вероятности')\n",
    "\n",
    "# ваш код тут\n",
    "plt.hist(sample, density=True)\n",
    "x = np.linspace(0.3,1,100)\n",
    "pdf = cos.pdf(x) # функция плотности вероятности\n",
    "plt.plot(x, pdf, label='теоретическая плотность', alpha=0.5)\n",
    "plt.legend();"
   ]
  },
  {
   "cell_type": "code",
   "execution_count": 7,
   "metadata": {
    "colab": {
     "base_uri": "https://localhost:8080/",
     "height": 51
    },
    "id": "rKd5XFelBqe7",
    "outputId": "32773b82-a3e9-46a2-b06d-a94d667d4f66"
   },
   "outputs": [
    {
     "name": "stdout",
     "output_type": "stream",
     "text": [
      "0.7777255890959445\n",
      "0.012267373262400174\n"
     ]
    }
   ],
   "source": [
    "sample_mean = sample.mean() # выборочное среднее\n",
    "print(sample_mean)\n",
    "sample_var = sample.var() # выборочная дисперсия\n",
    "print(sample_var)"
   ]
  },
  {
   "cell_type": "markdown",
   "metadata": {
    "id": "qPuHR68NId_Z"
   },
   "source": [
    "### Оценим распределение выборочного среднего для разных объёмов выборок\n",
    "Для этого постройте на одном полотне гистограмму выборочных средних и теоретическое распределение выборочных средних по ЦПТ для разных объёмов выборок.\n",
    "\n",
    "Для теоретического распределение используйте настоящие значения мат ожидания и дисперсии (не приближенные на основе выборки)."
   ]
  },
  {
   "cell_type": "code",
   "execution_count": null,
   "metadata": {},
   "outputs": [],
   "source": [
    "# из теоремы  знаем, что случайная величина X из практически любого распределения, и из этого распределения \n",
    "# слуным образом сформирована выборка объемом N, то выборочное среднее, определенное на основании выборки,\n",
    "# можно приблизить нормальным распределением со средним значением, которое совпадает с математическим ожиданием \n",
    "# исходной совокупности.\n",
    "\n",
    "# случайной величины X имеет вид: f(x)=l*e^(-l*x)\n",
    "# где , Математическое ожидание случайной величины X, в соответствии с законом экспоненциального распределения \n",
    "#определяется, обратно :  m=1/l\n",
    "# Дисперсия случайной величины X определяется как q^2=1/l^2\n",
    "# l=0.0125? m=80 q=6400\n"
   ]
  },
  {
   "cell_type": "code",
   "execution_count": 14,
   "metadata": {
    "scrolled": true
   },
   "outputs": [],
   "source": [
    "\n",
    "# зададим параметр распределения\n",
    "la = 0.0125\n",
    "\n",
    "# сформируем диапазон \"иксовых\" и \"игрековых\" значений\n",
    "list_xt = range(600)\n",
    "list_yt = [(la * math.exp(-la * i)) for i in list_xt]"
   ]
  },
  {
   "cell_type": "code",
   "execution_count": 15,
   "metadata": {},
   "outputs": [],
   "source": [
    "def sample_expon(value, la, n):\n",
    "    m = 1/la\n",
    "    list_x = []\n",
    "    for i in range(value):\n",
    "        summa = 0\n",
    "        for j in range(n):\n",
    "            summa += m**2*random.expovariate(m)\n",
    "        list_x.append(summa/n)\n",
    "    return list_x"
   ]
  },
  {
   "cell_type": "code",
   "execution_count": 17,
   "metadata": {
    "scrolled": true
   },
   "outputs": [
    {
     "name": "stderr",
     "output_type": "stream",
     "text": [
      "C:\\Users\\user\\anaconda3\\lib\\site-packages\\ipykernel_launcher.py:9: MatplotlibDeprecationWarning: \n",
      "The 'normed' kwarg was deprecated in Matplotlib 2.1 and will be removed in 3.1. Use 'density' instead.\n",
      "  if __name__ == '__main__':\n"
     ]
    },
    {
     "data": {
      "image/png": "[encoded data removed]",
      "text/plain": [
       "<Figure size 640x320 with 1 Axes>"
      ]
     },
     "metadata": {
      "needs_background": "light"
     },
     "output_type": "display_data"
    }
   ],
   "source": [
    "# зададим параметры выборки\n",
    "value = 1000\n",
    "n = 1\n",
    "\n",
    "# сформируем выборку\n",
    "list_x = sample_expon(value, la, n)\n",
    "\n",
    "fig, axes = plt.subplots(figsize=(8,4), dpi=80)\n",
    "plt.hist(list_x, bins = 'auto', normed = True, label='Плотность распределения')\n",
    "\n",
    "axes.set_xlim([0,600])\n",
    "plt.plot(list_xt, list_yt, label='Tеоретическое распределение', color='g', linestyle='-', lw=4)\n",
    "plt.legend()\n",
    "plt.show();"
   ]
  },
  {
   "cell_type": "code",
   "execution_count": 11,
   "metadata": {},
   "outputs": [],
   "source": [
    "# функция для определения теоритической плотности соответствующего (выборке) нормального распределения\n",
    "def normal_pdf(x, mu, sigma):\n",
    "    sqrt_two_pi = math.sqrt(2 * math.pi)\n",
    "    return (math.exp(-(x-mu) ** 2 / 2 / sigma ** 2)/(sqrt_two_pi * sigma)) "
   ]
  },
  {
   "cell_type": "code",
   "execution_count": 12,
   "metadata": {},
   "outputs": [
    {
     "name": "stderr",
     "output_type": "stream",
     "text": [
      "C:\\Users\\user\\anaconda3\\lib\\site-packages\\ipykernel_launcher.py:8: MatplotlibDeprecationWarning: \n",
      "The 'normed' kwarg was deprecated in Matplotlib 2.1 and will be removed in 3.1. Use 'density' instead.\n",
      "  \n"
     ]
    },
    {
     "name": "stdout",
     "output_type": "stream",
     "text": [
      "\u001b[4mОбъем выборки: \u001b[1m 10 \u001b[0m\n",
      "Мат. ожидание 80.436 Дисперсия 665.862 Стандарт. откл-е 25.804\n"
     ]
    },
    {
     "name": "stderr",
     "output_type": "stream",
     "text": [
      "C:\\Users\\user\\anaconda3\\lib\\site-packages\\ipykernel_launcher.py:8: MatplotlibDeprecationWarning: \n",
      "The 'normed' kwarg was deprecated in Matplotlib 2.1 and will be removed in 3.1. Use 'density' instead.\n",
      "  \n"
     ]
    },
    {
     "name": "stdout",
     "output_type": "stream",
     "text": [
      "\u001b[4mОбъем выборки: \u001b[1m 100 \u001b[0m\n",
      "Мат. ожидание 79.95 Дисперсия 63.914 Стандарт. откл-е 7.995\n"
     ]
    },
    {
     "name": "stderr",
     "output_type": "stream",
     "text": [
      "C:\\Users\\user\\anaconda3\\lib\\site-packages\\ipykernel_launcher.py:8: MatplotlibDeprecationWarning: \n",
      "The 'normed' kwarg was deprecated in Matplotlib 2.1 and will be removed in 3.1. Use 'density' instead.\n",
      "  \n"
     ]
    },
    {
     "name": "stdout",
     "output_type": "stream",
     "text": [
      "\u001b[4mОбъем выборки: \u001b[1m 1000 \u001b[0m\n",
      "Мат. ожидание 80.056 Дисперсия 6.344 Стандарт. откл-е 2.519\n"
     ]
    },
    {
     "name": "stderr",
     "output_type": "stream",
     "text": [
      "C:\\Users\\user\\anaconda3\\lib\\site-packages\\ipykernel_launcher.py:8: MatplotlibDeprecationWarning: \n",
      "The 'normed' kwarg was deprecated in Matplotlib 2.1 and will be removed in 3.1. Use 'density' instead.\n",
      "  \n"
     ]
    },
    {
     "name": "stdout",
     "output_type": "stream",
     "text": [
      "\u001b[4mОбъем выборки: \u001b[1m 10000 \u001b[0m\n",
      "Мат. ожидание 80.02 Дисперсия 0.668 Стандарт. откл-е 0.817\n"
     ]
    },
    {
     "name": "stderr",
     "output_type": "stream",
     "text": [
      "C:\\Users\\user\\anaconda3\\lib\\site-packages\\ipykernel_launcher.py:8: MatplotlibDeprecationWarning: \n",
      "The 'normed' kwarg was deprecated in Matplotlib 2.1 and will be removed in 3.1. Use 'density' instead.\n",
      "  \n"
     ]
    },
    {
     "name": "stdout",
     "output_type": "stream",
     "text": [
      "\u001b[4mОбъем выборки: \u001b[1m 100000 \u001b[0m\n",
      "Мат. ожидание 79.981 Дисперсия 0.065 Стандарт. откл-е 0.255\n"
     ]
    },
    {
     "data": {
      "image/png": "[encoded data removed]",
      "text/plain": [
       "<Figure size 640x320 with 1 Axes>"
      ]
     },
     "metadata": {
      "needs_background": "light"
     },
     "output_type": "display_data"
    },
    {
     "data": {
      "image/png": "[encoded data removed]",
      "text/plain": [
       "<Figure size 640x320 with 1 Axes>"
      ]
     },
     "metadata": {
      "needs_background": "light"
     },
     "output_type": "display_data"
    },
    {
     "data": {
      "image/png": "[encoded data removed]",
      "text/plain": [
       "<Figure size 640x320 with 1 Axes>"
      ]
     },
     "metadata": {
      "needs_background": "light"
     },
     "output_type": "display_data"
    },
    {
     "data": {
      "image/png": "[encoded data removed]",
      "text/plain": [
       "<Figure size 640x320 with 1 Axes>"
      ]
     },
     "metadata": {
      "needs_background": "light"
     },
     "output_type": "display_data"
    },
    {
     "data": {
      "image/png": "[encoded data removed]",
      "text/plain": [
       "<Figure size 640x320 with 1 Axes>"
      ]
     },
     "metadata": {
      "needs_background": "light"
     },
     "output_type": "display_data"
    }
   ],
   "source": [
    "w=1\n",
    "for n in [10, 100, 1000, 10000, 100000]:\n",
    "    for i in range(w):\n",
    "        list_x = sample_expon(value, la, n)\n",
    "        #print('\\033[4m' + 'Объем выборки:', '\\033[1m', n, '\\033[0m')\n",
    "        #   гистограмма выборки\n",
    "        fig, axes = plt.subplots(figsize=(8,4), dpi=80)\n",
    "        plt.hist(list_x,bins = 'auto', normed = True)\n",
    "    \n",
    "        #   график плотности\n",
    "        axes.set_xlim([0,150])\n",
    "        axes.set_ylim([0,0.12])\n",
    "        plt.plot(sorted(list_x),[normal_pdf(x, np.mean(list_x), np.std(list_x)) for x in sorted(list_x)], color='green', lw=4)\n",
    "\n",
    "        print('\\033[4m' + 'Объем выборки:', '\\033[1m', n, '\\033[0m')\n",
    "        print('Мат. ожидание',round(np.mean(list_x),3),'Дисперсия',round(np.var(list_x),3),'Стандарт. откл-е',round(np.std(list_x),3))\n",
    "        \n",
    "       \n",
    "\n",
    "    "
   ]
  },
  {
   "cell_type": "code",
   "execution_count": null,
   "metadata": {},
   "outputs": [],
   "source": []
  },
  {
   "cell_type": "code",
   "execution_count": null,
   "metadata": {},
   "outputs": [],
   "source": []
  },
  {
   "cell_type": "markdown",
   "metadata": {
    "id": "TF1onBy_J7sX"
   },
   "source": [
    "Как вы считаете, для выбранного распределения апроксимация распределения выборочного среднего работает хорошо или плохо?\n",
    "**Ваш ответ:**"
   ]
  },
  {
   "cell_type": "code",
   "execution_count": null,
   "metadata": {
    "id": "1BEsK495KIuM"
   },
   "outputs": [],
   "source": [
    "Что касается параметров дисперсии и стандартного отклонения - аппроксимация видна, \n",
    "то есть, при увеличении выборки, отклонение выборочных параметров уменьшается от расчетных теоретических. \n",
    "НО!!!!! При исследование напрашивается вывод, что\n",
    "при увеличении объема выборок распределение становится все ближе и ближе к нормальному. \n",
    "что видно из наблюдени. Смысл следующий – практически любое распределение можем свести к нормальному посредством ЦПТ, \n",
    "при этом с увеличением выборки среднее становится точнее, а дисперсия сокращается. Т.е. точнее предсказываем."
   ]
  },
  {
   "cell_type": "markdown",
   "metadata": {
    "id": "xEyWxfjSfxGp"
   },
   "source": [
    "## Доверительный интервал на основе ЦПТ\n",
    "Возьмите данные для оттока телеком компании, и постройте доверительные интервалы для среднего значения total day calls, используя центральную предельную теорему в разбиении по колонке churn (ушел/не ушел). \n",
    "\n",
    "Для оценки дисперсии используйте несмещенную оценку (параметр ddof=1).\n",
    "\n",
    "Сделайте оценку с использованием явной формулы для z интервала, а затем с помощью функций \n",
    "`from statsmodels.stats.weightstats import _zconfint_generic`. Сравните результаты.\n",
    "\n",
    "\n",
    "Ссылка на данные: https://drive.google.com/file/d/1X_drKqoarnU2Sz2har7uSCsgyhh8Xtz8/view?usp=sharing"
   ]
  },
  {
   "cell_type": "code",
   "execution_count": null,
   "metadata": {
    "id": "56V0za8GfxeL"
   },
   "outputs": [],
   "source": [
    "true - ушли"
   ]
  },
  {
   "cell_type": "code",
   "execution_count": 2,
   "metadata": {},
   "outputs": [],
   "source": [
    "import requests\n",
    "import csv\n",
    "import sys\n",
    "csv.field_size_limit(1000000)\n",
    "from statsmodels.stats.weightstats import _zconfint_generic, _tconfint_generic"
   ]
  },
  {
   "cell_type": "code",
   "execution_count": 13,
   "metadata": {},
   "outputs": [
    {
     "ename": "NameError",
     "evalue": "name 'csv' is not defined",
     "output_type": "error",
     "traceback": [
      "\u001b[1;31m---------------------------------------------------------------------------\u001b[0m",
      "\u001b[1;31mNameError\u001b[0m                                 Traceback (most recent call last)",
      "\u001b[1;32m<ipython-input-13-ffd012ad8ae0>\u001b[0m in \u001b[0;36m<module>\u001b[1;34m\u001b[0m\n\u001b[1;32m----> 1\u001b[1;33m \u001b[0mvacs\u001b[0m \u001b[1;33m=\u001b[0m \u001b[0mlist\u001b[0m\u001b[1;33m(\u001b[0m\u001b[0mcsv\u001b[0m\u001b[1;33m.\u001b[0m\u001b[0mDictReader\u001b[0m\u001b[1;33m(\u001b[0m\u001b[0mopen\u001b[0m\u001b[1;33m(\u001b[0m\u001b[1;34m'telecom_churn.csv'\u001b[0m\u001b[1;33m,\u001b[0m \u001b[0mencoding\u001b[0m\u001b[1;33m=\u001b[0m\u001b[1;34m'utf-8'\u001b[0m\u001b[1;33m,\u001b[0m \u001b[0mnewline\u001b[0m\u001b[1;33m=\u001b[0m\u001b[1;34m''\u001b[0m\u001b[1;33m)\u001b[0m\u001b[1;33m)\u001b[0m\u001b[1;33m)\u001b[0m  \u001b[1;31m#telecom_churn.csv\u001b[0m\u001b[1;33m\u001b[0m\u001b[1;33m\u001b[0m\u001b[0m\n\u001b[0m\u001b[0;32m      2\u001b[0m \u001b[1;31m#url = f'https://drive.google.com/file/d/1X_drKqoarnU2Sz2har7uSCsgyhh8Xtz8/view?usp=sharing/telecom_churn.csv')\u001b[0m\u001b[1;33m\u001b[0m\u001b[1;33m\u001b[0m\u001b[1;33m\u001b[0m\u001b[0m\n\u001b[0;32m      3\u001b[0m \u001b[0mdf\u001b[0m \u001b[1;33m=\u001b[0m \u001b[0mpd\u001b[0m\u001b[1;33m.\u001b[0m\u001b[0mread_csv\u001b[0m\u001b[1;33m(\u001b[0m\u001b[1;34m'telecom_churn.csv'\u001b[0m\u001b[1;33m)\u001b[0m\u001b[1;33m\u001b[0m\u001b[1;33m\u001b[0m\u001b[0m\n\u001b[0;32m      4\u001b[0m \u001b[0mdf\u001b[0m\u001b[1;33m\u001b[0m\u001b[1;33m\u001b[0m\u001b[0m\n",
      "\u001b[1;31mNameError\u001b[0m: name 'csv' is not defined"
     ]
    }
   ],
   "source": [
    "vacs = list(csv.DictReader(open('telecom_churn.csv', encoding='utf-8', newline='')))  #telecom_churn.csv\n",
    "#url = f'https://drive.google.com/file/d/1X_drKqoarnU2Sz2har7uSCsgyhh8Xtz8/view?usp=sharing/telecom_churn.csv')\n",
    "df = pd.read_csv('telecom_churn.csv')\n",
    "df"
   ]
  },
  {
   "cell_type": "code",
   "execution_count": 75,
   "metadata": {},
   "outputs": [
    {
     "data": {
      "text/plain": [
       "OrderedDict([('state', 'KS'),\n",
       "             ('account length', '128'),\n",
       "             ('area code', '415'),\n",
       "             ('phone number', '382-4657'),\n",
       "             ('international plan', 'no'),\n",
       "             ('voice mail plan', 'yes'),\n",
       "             ('number vmail messages', '25'),\n",
       "             ('total day minutes', '265.1'),\n",
       "             ('total day calls', '110'),\n",
       "             ('total day charge', '45.07'),\n",
       "             ('total eve minutes', '197.4'),\n",
       "             ('total eve calls', '99'),\n",
       "             ('total eve charge', '16.78'),\n",
       "             ('total night minutes', '244.7'),\n",
       "             ('total night calls', '91'),\n",
       "             ('total night charge', '11.01'),\n",
       "             ('total intl minutes', '10.0'),\n",
       "             ('total intl calls', '3'),\n",
       "             ('total intl charge', '2.7'),\n",
       "             ('customer service calls', '1'),\n",
       "             ('churn', 'False')])"
      ]
     },
     "execution_count": 75,
     "metadata": {},
     "output_type": "execute_result"
    }
   ],
   "source": [
    "vacs[0]"
   ]
  },
  {
   "cell_type": "code",
   "execution_count": null,
   "metadata": {},
   "outputs": [],
   "source": [
    "Пусть  𝜎2=0.1 . Доверительные интервалы\n",
    "𝑋¯𝑛±𝑧1−𝛼2𝜎𝑛⎯⎯√"
   ]
  },
  {
   "cell_type": "code",
   "execution_count": 3,
   "metadata": {
    "scrolled": true
   },
   "outputs": [
    {
     "ename": "NameError",
     "evalue": "name 'df' is not defined",
     "output_type": "error",
     "traceback": [
      "\u001b[1;31m---------------------------------------------------------------------------\u001b[0m",
      "\u001b[1;31mNameError\u001b[0m                                 Traceback (most recent call last)",
      "\u001b[1;32m<ipython-input-3-717f46b29a65>\u001b[0m in \u001b[0;36m<module>\u001b[1;34m\u001b[0m\n\u001b[0;32m      1\u001b[0m \u001b[1;31m#Оценка среднего\u001b[0m\u001b[1;33m\u001b[0m\u001b[1;33m\u001b[0m\u001b[1;33m\u001b[0m\u001b[0m\n\u001b[1;32m----> 2\u001b[1;33m knn_auc_scores = df.cross_val_score(neighbors.KNeighborsClassifier(7), \n\u001b[0m\u001b[0;32m      3\u001b[0m                                  'total day calls','churn', scoring = 'roc_auc', cv = 20)\n\u001b[0;32m      4\u001b[0m \u001b[1;31m# выборочные дисперсии, и доверительные интервалы\u001b[0m\u001b[1;33m\u001b[0m\u001b[1;33m\u001b[0m\u001b[1;33m\u001b[0m\u001b[0m\n\u001b[0;32m      5\u001b[0m \u001b[1;31m#knn_mean_std = knn_auc_scores.std(ddof=1)/sqrt(len(knn_auc_scores))\u001b[0m\u001b[1;33m\u001b[0m\u001b[1;33m\u001b[0m\u001b[1;33m\u001b[0m\u001b[0m\n",
      "\u001b[1;31mNameError\u001b[0m: name 'df' is not defined"
     ]
    }
   ],
   "source": [
    "#Оценка среднего\n",
    "knn_auc_scores = df.cross_val_score(neighbors.KNeighborsClassifier(7), \n",
    "                                 'total day calls','churn', scoring = 'roc_auc', cv = 20)\n",
    "# выборочные дисперсии, и доверительные интервалы \n",
    "#knn_mean_std = knn_auc_scores.std(ddof=1)/sqrt(len(knn_auc_scores))"
   ]
  },
  {
   "cell_type": "code",
   "execution_count": 6,
   "metadata": {},
   "outputs": [
    {
     "name": "stdout",
     "output_type": "stream",
     "text": [
      "48945 483\n"
     ]
    }
   ],
   "source": [
    "sum=0\n",
    "kol=0\n",
    "for i in range(0,len(vacs)):\n",
    "    k=vacs[i]\n",
    "    l = k.get('total day calls').upper()\n",
    "    d= k.get('churn').upper()\n",
    "    #print(l)\n",
    "    #knn_auc_scores = model_selection.cross_val_score(neighbors.KNeighborsClassifier(7), l,  scoring = 'roc_auc', cv = 20)\n",
    "    if d== 'TRUE':\n",
    "        df['age_total_day_calls'] = pd.cut(df['total day calls'], 10)\n",
    "        "
   ]
  },
  {
   "cell_type": "code",
   "execution_count": 9,
   "metadata": {
    "scrolled": false
   },
   "outputs": [
    {
     "data": {
      "text/plain": [
       "age_total_day_calls\n",
       "(-0.165, 16.5]    0.500000\n",
       "(16.5, 33.0]      0.000000\n",
       "(33.0, 49.5]      0.368421\n",
       "(49.5, 66.0]      0.151515\n",
       "(66.0, 82.5]      0.123620\n",
       "(82.5, 99.0]      0.130746\n",
       "(99.0, 115.5]     0.145015\n",
       "(115.5, 132.0]    0.166960\n",
       "(132.0, 148.5]    0.170732\n",
       "(148.5, 165.0]    0.190476\n",
       "Name: churn, dtype: float64"
      ]
     },
     "execution_count": 9,
     "metadata": {},
     "output_type": "execute_result"
    }
   ],
   "source": [
    "#доверительные интервалы для среднего значения total day calls, \n",
    "# в разбиении по колонке churn (ушел/не ушел). TRUE\n",
    "percentage_by_age = df.groupby('age_total_day_calls')['churn'].sum() / df.groupby('age_total_day_calls')['churn'].count()\n",
    "\n",
    "percentage_by_age\n"
   ]
  },
  {
   "cell_type": "code",
   "execution_count": 95,
   "metadata": {
    "scrolled": true
   },
   "outputs": [
    {
     "data": {
      "image/png": "[encoded data removed]",
      "text/plain": [
       "<Figure size 432x288 with 1 Axes>"
      ]
     },
     "metadata": {
      "needs_background": "light"
     },
     "output_type": "display_data"
    }
   ],
   "source": [
    "percentage_by_age.plot.bar();"
   ]
  },
  {
   "cell_type": "code",
   "execution_count": null,
   "metadata": {},
   "outputs": [],
   "source": []
  }
 ],
 "metadata": {
  "colab": {
   "collapsed_sections": [],
   "name": "Практика к занятию 12.ipynb",
   "provenance": []
  },
  "kernelspec": {
   "display_name": "Python 3",
   "language": "python",
   "name": "python3"
  },
  "language_info": {
   "codemirror_mode": {
    "name": "ipython",
    "version": 3
   },
   "file_extension": ".py",
   "mimetype": "text/x-python",
   "name": "python",
   "nbconvert_exporter": "python",
   "pygments_lexer": "ipython3",
   "version": "3.7.6"
  }
 },
 "nbformat": 4,
 "nbformat_minor": 1
}
