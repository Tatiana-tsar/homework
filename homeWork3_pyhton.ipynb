{
 "cells": [
  {
   "cell_type": "code",
   "execution_count": 1,
   "metadata": {
    "scrolled": true
   },
   "outputs": [],
   "source": [
    "%matplotlib inline\n",
    "import yfinance as yf\n",
    "import pandas as pd\n",
    "import matplotlib.pyplot as plt\n",
    "import seaborn; seaborn.set()\n",
    "from pandas_datareader import data as pdr\n",
    "from bs4 import BeautifulSoup\n",
    "from urllib.request import urlopen\n"
   ]
  },
  {
   "cell_type": "code",
   "execution_count": 19,
   "metadata": {
    "scrolled": true
   },
   "outputs": [
    {
     "name": "stdout",
     "output_type": "stream",
     "text": [
      "Requirement already satisfied: pandas_datareader in c:\\users\\user\\anaconda3\\lib\\site-packages (0.9.0)\n",
      "Requirement already satisfied: lxml in c:\\users\\user\\anaconda3\\lib\\site-packages (from pandas_datareader) (4.6.3)\n",
      "Requirement already satisfied: requests>=2.19.0 in c:\\users\\user\\anaconda3\\lib\\site-packages (from pandas_datareader) (2.22.0)\n",
      "Requirement already satisfied: pandas>=0.23 in c:\\users\\user\\anaconda3\\lib\\site-packages (from pandas_datareader) (1.0.1)\n",
      "Requirement already satisfied: certifi>=2017.4.17 in c:\\users\\user\\anaconda3\\lib\\site-packages (from requests>=2.19.0->pandas_datareader) (2019.11.28)\n",
      "Requirement already satisfied: urllib3!=1.25.0,!=1.25.1,<1.26,>=1.21.1 in c:\\users\\user\\anaconda3\\lib\\site-packages (from requests>=2.19.0->pandas_datareader) (1.25.8)\n",
      "Requirement already satisfied: idna<2.9,>=2.5 in c:\\users\\user\\anaconda3\\lib\\site-packages (from requests>=2.19.0->pandas_datareader) (2.8)\n",
      "Requirement already satisfied: chardet<3.1.0,>=3.0.2 in c:\\users\\user\\anaconda3\\lib\\site-packages (from requests>=2.19.0->pandas_datareader) (3.0.4)\n",
      "Requirement already satisfied: numpy>=1.13.3 in c:\\users\\user\\anaconda3\\lib\\site-packages (from pandas>=0.23->pandas_datareader) (1.18.1)\n",
      "Requirement already satisfied: python-dateutil>=2.6.1 in c:\\users\\user\\anaconda3\\lib\\site-packages (from pandas>=0.23->pandas_datareader) (2.8.1)\n",
      "Requirement already satisfied: pytz>=2017.2 in c:\\users\\user\\anaconda3\\lib\\site-packages (from pandas>=0.23->pandas_datareader) (2019.3)\n",
      "Requirement already satisfied: six>=1.5 in c:\\users\\user\\anaconda3\\lib\\site-packages (from python-dateutil>=2.6.1->pandas>=0.23->pandas_datareader) (1.14.0)\n"
     ]
    }
   ],
   "source": [
    "!pip install pandas_datareader\n",
    "\n"
   ]
  },
  {
   "cell_type": "markdown",
   "metadata": {},
   "source": [
    "# Задание 1.\n",
    "\n",
    "Вы - менеджер по продажам в нефтехимической компании. Вы ведете несколько ключевых клиентов, которые закупают продукты вашей компании. Ваша компания запускает новый продукт - \"Волшебный белый порошок\" (ВБП), который по своим свойствам похож на тот, что уже есть на рынке. Ваши клиенты предпочитают формульный подход к ценообразованию. Вам нужно предложить клиентам формулу расчета цены на ВБП. В зависимости от объемов, которые покупают клиенты, им может быть предложена скидка.\n",
    "\n",
    "### Дополнительные вводные:\n",
    "\n",
    "Так как продукт Б новый, возможно стоит предложить дисконт от цены Продукта А. Продукт производиться из нефти. Один из известных способов производства предполагает что из 16 баррелей нефти сделают одну тонну ВБП, а затраты на производство в районе 400 евро."
   ]
  },
  {
   "cell_type": "code",
   "execution_count": 3,
   "metadata": {
    "scrolled": true
   },
   "outputs": [
    {
     "data": {
      "text/html": [
       "<div>\n",
       "<style scoped>\n",
       "    .dataframe tbody tr th:only-of-type {\n",
       "        vertical-align: middle;\n",
       "    }\n",
       "\n",
       "    .dataframe tbody tr th {\n",
       "        vertical-align: top;\n",
       "    }\n",
       "\n",
       "    .dataframe thead th {\n",
       "        text-align: right;\n",
       "    }\n",
       "</style>\n",
       "<table border=\"1\" class=\"dataframe\">\n",
       "  <thead>\n",
       "    <tr style=\"text-align: right;\">\n",
       "      <th></th>\n",
       "      <th>Date</th>\n",
       "      <th>EURUSD=X</th>\n",
       "      <th>OIL</th>\n",
       "    </tr>\n",
       "  </thead>\n",
       "  <tbody>\n",
       "    <tr>\n",
       "      <th>0</th>\n",
       "      <td>2018-01-01</td>\n",
       "      <td>1.2005</td>\n",
       "      <td>NaN</td>\n",
       "    </tr>\n",
       "    <tr>\n",
       "      <th>1</th>\n",
       "      <td>2018-01-02</td>\n",
       "      <td>1.2012</td>\n",
       "      <td>59.15</td>\n",
       "    </tr>\n",
       "    <tr>\n",
       "      <th>2</th>\n",
       "      <td>2018-01-03</td>\n",
       "      <td>1.2063</td>\n",
       "      <td>59.15</td>\n",
       "    </tr>\n",
       "    <tr>\n",
       "      <th>3</th>\n",
       "      <td>2018-01-04</td>\n",
       "      <td>1.2010</td>\n",
       "      <td>59.15</td>\n",
       "    </tr>\n",
       "    <tr>\n",
       "      <th>4</th>\n",
       "      <td>2018-01-05</td>\n",
       "      <td>1.2069</td>\n",
       "      <td>60.44</td>\n",
       "    </tr>\n",
       "    <tr>\n",
       "      <th>...</th>\n",
       "      <td>...</td>\n",
       "      <td>...</td>\n",
       "      <td>...</td>\n",
       "    </tr>\n",
       "    <tr>\n",
       "      <th>341</th>\n",
       "      <td>2019-04-23</td>\n",
       "      <td>1.1259</td>\n",
       "      <td>67.72</td>\n",
       "    </tr>\n",
       "    <tr>\n",
       "      <th>342</th>\n",
       "      <td>2019-04-24</td>\n",
       "      <td>1.1224</td>\n",
       "      <td>67.14</td>\n",
       "    </tr>\n",
       "    <tr>\n",
       "      <th>343</th>\n",
       "      <td>2019-04-25</td>\n",
       "      <td>1.1153</td>\n",
       "      <td>66.37</td>\n",
       "    </tr>\n",
       "    <tr>\n",
       "      <th>344</th>\n",
       "      <td>2019-04-26</td>\n",
       "      <td>1.1137</td>\n",
       "      <td>64.27</td>\n",
       "    </tr>\n",
       "    <tr>\n",
       "      <th>345</th>\n",
       "      <td>2019-04-29</td>\n",
       "      <td>1.1150</td>\n",
       "      <td>64.94</td>\n",
       "    </tr>\n",
       "  </tbody>\n",
       "</table>\n",
       "<p>346 rows × 3 columns</p>\n",
       "</div>"
      ],
      "text/plain": [
       "          Date  EURUSD=X    OIL\n",
       "0   2018-01-01    1.2005    NaN\n",
       "1   2018-01-02    1.2012  59.15\n",
       "2   2018-01-03    1.2063  59.15\n",
       "3   2018-01-04    1.2010  59.15\n",
       "4   2018-01-05    1.2069  60.44\n",
       "..         ...       ...    ...\n",
       "341 2019-04-23    1.1259  67.72\n",
       "342 2019-04-24    1.1224  67.14\n",
       "343 2019-04-25    1.1153  66.37\n",
       "344 2019-04-26    1.1137  64.27\n",
       "345 2019-04-29    1.1150  64.94\n",
       "\n",
       "[346 rows x 3 columns]"
      ]
     },
     "execution_count": 3,
     "metadata": {},
     "output_type": "execute_result"
    }
   ],
   "source": [
    "# Из данных есть:\n",
    "# Цены на продукт А, который уже есть на рынке Европы\n",
    "# ----- октябрь 2018 - \n",
    "# ----- ноябрь 2018 - \n",
    "# ----- февраль 2019 -\n",
    "\n",
    "# Котировки нефти, курс eur/usd\n",
    "dbc = pd.read_excel('cur_oil.xlsx')\n",
    "\n",
    "# Затраты на производство\n",
    "PRODUCTION_COST = 400 # (EUR)\n",
    "\n",
    "# Расходы на логистику\n",
    "EU_LOGISTIC_COST_EUR = 30 # в Европу в евро\n",
    "CN_LOGISTIC_COST_USD = 130 # в Китай в долларах\n",
    "\n",
    "# * Справочная информация по клиентам(объемы, локации, комментарии) \n",
    "customers = {\n",
    "    'Monty':{\n",
    "        'location':'EU',\n",
    "        'volumes':200,\n",
    "        'comment':'moving_average'\n",
    "    },\n",
    "    \n",
    "    'Triangle':{\n",
    "        'location':'CN',\n",
    "        'volumes': 30,\n",
    "        'comment': 'monthly'\n",
    "    },\n",
    "    'Stone':{\n",
    "        'location':'EU',\n",
    "        'volumes': 150,\n",
    "        'comment': 'moving_average'\n",
    "    },\n",
    "    'Poly':{\n",
    "        'location':'EU',\n",
    "        'volumes': 70,\n",
    "        'comment': 'monthly'\n",
    "    }\n",
    "}\n",
    "# Скидки\n",
    "discounts = {'up to 100': 0.01, # 1%\n",
    "             'up to 300': 0.05, # 5%\n",
    "             '300 plus': 0.1}   #10%\n",
    "dbc"
   ]
  },
  {
   "cell_type": "markdown",
   "metadata": {},
   "source": [
    "### Что нужно сделать?\n",
    "\n",
    "1. Проанализировать имеющиеся данные.\n",
    "2. Определить базовую формулу цены на условиях FCA (цена на заводе). То есть как бы выглядела цена на исторических данных.\n",
    "3. Отобразить на графике.\n",
    "4. Сделать расчет возможной цены по формуле для каждого из клиентов на условиях DDP (цена с доставкой). Записать все в один эксель файл, на разных листах. Каждый лист - название клиента.\n",
    "5. Предложить формулу цены каждому из клиентов на условиях DDP (цена с доставкой).\n",
    "- Создать директорию «для клиентов» и в ней сложить  файлы с расчетами.\n",
    "- Каждый клиент - отдельный файл (любой из docx, xlsx, pptx, pdf)  с именем клиента… \n",
    "\n",
    "### В результате должно быть 3 файла:\n",
    "1. Ноутбук с расчетами и графиками. \n",
    "2. Скрипт, который делает расчет цены для каждого клиента в одном файле\n",
    "2. Скрипт, который делает расчет цены для каждого клиента в отельном файле"
   ]
  },
  {
   "cell_type": "code",
   "execution_count": 4,
   "metadata": {},
   "outputs": [],
   "source": [
    "# FCA — Free Carrier — «Франко перевозчик». Обязанности продавца: \n",
    "# уплатить таможенные пошлины на вывоз, отгрузить товар перевозчику, \n",
    "# которого указал покупатель, и зафиксировать передачу в транспортных документах.\n",
    "#Цена FCA (FCA price) означает, что контрактная (инвойсовая или таможенная) \n",
    "#цена за товар включает в себя сумму стоимости самого товара и экспортного таможенного \n",
    "#оформления этого товара с оплатой экспортных пошлин и иных сборов, без стоимости доставки (фрахта) до покупателя."
   ]
  },
  {
   "cell_type": "code",
   "execution_count": 30,
   "metadata": {
    "scrolled": true
   },
   "outputs": [],
   "source": [
    "PRODUCTION_COST = 400 # (EUR) затраты на производство\n",
    "\n",
    "# Расходы на логистику в зависимости от локации клиента\n",
    "EU_LOGISTIC_COST_EUR = 30 # в Европу в евро\n",
    "CN_LOGISTIC_COST_USD = 130 # в Китай в долларах\n",
    "\n",
    "# формулы для расчета\n",
    "fca=16*price/EUR_USD+PRODUCTION_COST   # цена на исторических данных? базовая формула цены на условиях FCA (цена на заводе\n",
    "ddp=16*price/EUR_USD+PRODUCTION_COST +cost #расчет возможной цены для каждого из клиентов на условиях DDP (цена с доставкой)"
   ]
  },
  {
   "cell_type": "code",
   "execution_count": 4,
   "metadata": {},
   "outputs": [
    {
     "name": "stdout",
     "output_type": "stream",
     "text": [
      "Monty\n",
      "Triangle\n",
      "Stone\n",
      "Poly\n"
     ]
    },
    {
     "data": {
      "text/html": [
       "<div>\n",
       "<style scoped>\n",
       "    .dataframe tbody tr th:only-of-type {\n",
       "        vertical-align: middle;\n",
       "    }\n",
       "\n",
       "    .dataframe tbody tr th {\n",
       "        vertical-align: top;\n",
       "    }\n",
       "\n",
       "    .dataframe thead th {\n",
       "        text-align: right;\n",
       "    }\n",
       "</style>\n",
       "<table border=\"1\" class=\"dataframe\">\n",
       "  <thead>\n",
       "    <tr style=\"text-align: right;\">\n",
       "      <th></th>\n",
       "      <th>Date</th>\n",
       "      <th>EURUSD=X</th>\n",
       "      <th>OIL</th>\n",
       "      <th>FCA</th>\n",
       "      <th>DDP</th>\n",
       "    </tr>\n",
       "  </thead>\n",
       "  <tbody>\n",
       "    <tr>\n",
       "      <th>0</th>\n",
       "      <td>2018-01-01</td>\n",
       "      <td>1.2005</td>\n",
       "      <td>NaN</td>\n",
       "      <td>NaN</td>\n",
       "      <td>NaN</td>\n",
       "    </tr>\n",
       "    <tr>\n",
       "      <th>1</th>\n",
       "      <td>2018-01-02</td>\n",
       "      <td>1.2012</td>\n",
       "      <td>59.15</td>\n",
       "      <td>1187.878788</td>\n",
       "      <td>1217.878788</td>\n",
       "    </tr>\n",
       "    <tr>\n",
       "      <th>2</th>\n",
       "      <td>2018-01-03</td>\n",
       "      <td>1.2063</td>\n",
       "      <td>59.15</td>\n",
       "      <td>1184.547791</td>\n",
       "      <td>1214.547791</td>\n",
       "    </tr>\n",
       "    <tr>\n",
       "      <th>3</th>\n",
       "      <td>2018-01-04</td>\n",
       "      <td>1.2010</td>\n",
       "      <td>59.15</td>\n",
       "      <td>1188.009992</td>\n",
       "      <td>1218.009992</td>\n",
       "    </tr>\n",
       "    <tr>\n",
       "      <th>4</th>\n",
       "      <td>2018-01-05</td>\n",
       "      <td>1.2069</td>\n",
       "      <td>60.44</td>\n",
       "      <td>1201.259425</td>\n",
       "      <td>1231.259425</td>\n",
       "    </tr>\n",
       "  </tbody>\n",
       "</table>\n",
       "</div>"
      ],
      "text/plain": [
       "        Date  EURUSD=X    OIL          FCA          DDP\n",
       "0 2018-01-01    1.2005    NaN          NaN          NaN\n",
       "1 2018-01-02    1.2012  59.15  1187.878788  1217.878788\n",
       "2 2018-01-03    1.2063  59.15  1184.547791  1214.547791\n",
       "3 2018-01-04    1.2010  59.15  1188.009992  1218.009992\n",
       "4 2018-01-05    1.2069  60.44  1201.259425  1231.259425"
      ]
     },
     "execution_count": 4,
     "metadata": {},
     "output_type": "execute_result"
    },
    {
     "data": {
      "image/png": "[encoded data removed]",
      "text/plain": [
       "<Figure size 432x288 with 1 Axes>"
      ]
     },
     "metadata": {},
     "output_type": "display_data"
    }
   ],
   "source": [
    "# расчет возможной цены по формуле для каждого из клиентов на условиях DDP (цена с доставкой).\n",
    "# Записать все в один эксель файл, на разных листах. Каждый лист - название клиента.\n",
    "# Предложить формулу цены каждому из клиентов на условиях DDP (цена с доставкой).\n",
    "# Создать директорию «для клиентов» и в ней сложить файлы с расчетами.\n",
    "\n",
    "\n",
    "dbc = pd.read_excel('cur_oil.xlsx')\n",
    "#dbc.dropna(inplace=True)\n",
    "EUR_USD=dbc['EURUSD=X'] # валюта из файла\n",
    "price=dbc['OIL']  # цена из файла\n",
    "\n",
    "# Запись все в один эксель файл\n",
    "writ=pd.ExcelWriter('mame_prices.xlsx', engine='xlsxwriter')\n",
    "for name, value in customers.items():\n",
    "    print(name)    \n",
    "    region=value['location']\n",
    "    if region =='EU':\n",
    "        cost=EU_LOGISTIC_COST_EUR\n",
    "    if region =='CN':\n",
    "        cost=CN_LOGISTIC_COST_USD/EUR_USD\n",
    "        \n",
    "    dbc['FCA']=16*price/EUR_USD+PRODUCTION_COST\n",
    "    dbc['DDP']=dbc['FCA'] +cost\n",
    "    \n",
    "# запись на разных листах. Каждый лист - название клиента.\n",
    "    dbc.to_excel(writ, sheet_name=name)\n",
    "\n",
    "writ.save()\n",
    "\n",
    "dbc\n",
    "\n",
    "#\n",
    "dbc.plot(x='Date', y='DDP')\n",
    "dbc.head(5)\n"
   ]
  },
  {
   "cell_type": "markdown",
   "metadata": {},
   "source": [
    "# Задание 2. Продолжение"
   ]
  },
  {
   "cell_type": "markdown",
   "metadata": {},
   "source": [
    "Клиенты согласились на ваше предложение. \n",
    "Вам нужно сделать написать скрипт, с помощью которого можно автоматом рассчитывать цены для всех клиентов одновременно. \n",
    "Важный момент: данные для расчета скрипт должен подтягивать сам.\n",
    "\n",
    "В результате должно быть 3 файла\n",
    "1. Ноутбук с расчетами и графиками (чтобы данные подтягивались туда)\n",
    "2. Скрипт, который делает расчет цены для клиента (чтобы данные подтягивались туда сами)"
   ]
  },
  {
   "cell_type": "code",
   "execution_count": 5,
   "metadata": {},
   "outputs": [
    {
     "name": "stderr",
     "output_type": "stream",
     "text": [
      "C:\\Users\\user\\anaconda3\\lib\\site-packages\\ipykernel_launcher.py:12: FutureWarning: Indexing with multiple keys (implicitly converted to a tuple of keys) will be deprecated, use a list instead.\n",
      "  if sys.path[0] == '':\n"
     ]
    },
    {
     "data": {
      "text/html": [
       "<div>\n",
       "<style scoped>\n",
       "    .dataframe tbody tr th:only-of-type {\n",
       "        vertical-align: middle;\n",
       "    }\n",
       "\n",
       "    .dataframe tbody tr th {\n",
       "        vertical-align: top;\n",
       "    }\n",
       "\n",
       "    .dataframe thead th {\n",
       "        text-align: right;\n",
       "    }\n",
       "</style>\n",
       "<table border=\"1\" class=\"dataframe\">\n",
       "  <thead>\n",
       "    <tr style=\"text-align: right;\">\n",
       "      <th></th>\n",
       "      <th>Date</th>\n",
       "      <th>EURUSD=X</th>\n",
       "      <th>OIL</th>\n",
       "      <th>FCA</th>\n",
       "      <th>DDP</th>\n",
       "      <th>sum_DDP</th>\n",
       "      <th>sum_FCA</th>\n",
       "      <th>name</th>\n",
       "    </tr>\n",
       "  </thead>\n",
       "  <tbody>\n",
       "    <tr>\n",
       "      <th>1</th>\n",
       "      <td>2018-01-02</td>\n",
       "      <td>1.20298</td>\n",
       "      <td>60.202</td>\n",
       "      <td>1200.704916</td>\n",
       "      <td>1230.704916</td>\n",
       "      <td>&lt;bound method Series.mean of 1      1230.70491...</td>\n",
       "      <td>&lt;bound method Series.mean of 1      1200.70491...</td>\n",
       "      <td>Poly</td>\n",
       "    </tr>\n",
       "    <tr>\n",
       "      <th>2</th>\n",
       "      <td>2018-01-03</td>\n",
       "      <td>1.20030</td>\n",
       "      <td>60.868</td>\n",
       "      <td>1211.370491</td>\n",
       "      <td>1241.370491</td>\n",
       "      <td>&lt;bound method Series.mean of 1      1230.70491...</td>\n",
       "      <td>&lt;bound method Series.mean of 1      1200.70491...</td>\n",
       "      <td>Poly</td>\n",
       "    </tr>\n",
       "    <tr>\n",
       "      <th>3</th>\n",
       "      <td>2018-01-04</td>\n",
       "      <td>1.19922</td>\n",
       "      <td>61.538</td>\n",
       "      <td>1221.040343</td>\n",
       "      <td>1251.040343</td>\n",
       "      <td>&lt;bound method Series.mean of 1      1230.70491...</td>\n",
       "      <td>&lt;bound method Series.mean of 1      1200.70491...</td>\n",
       "      <td>Poly</td>\n",
       "    </tr>\n",
       "    <tr>\n",
       "      <th>4</th>\n",
       "      <td>2018-01-05</td>\n",
       "      <td>1.19868</td>\n",
       "      <td>61.942</td>\n",
       "      <td>1226.802816</td>\n",
       "      <td>1256.802816</td>\n",
       "      <td>&lt;bound method Series.mean of 1      1230.70491...</td>\n",
       "      <td>&lt;bound method Series.mean of 1      1200.70491...</td>\n",
       "      <td>Poly</td>\n",
       "    </tr>\n",
       "    <tr>\n",
       "      <th>5</th>\n",
       "      <td>2018-01-08</td>\n",
       "      <td>1.20330</td>\n",
       "      <td>62.404</td>\n",
       "      <td>1229.771462</td>\n",
       "      <td>1259.771462</td>\n",
       "      <td>&lt;bound method Series.mean of 1      1230.70491...</td>\n",
       "      <td>&lt;bound method Series.mean of 1      1200.70491...</td>\n",
       "      <td>Poly</td>\n",
       "    </tr>\n",
       "  </tbody>\n",
       "</table>\n",
       "</div>"
      ],
      "text/plain": [
       "        Date  EURUSD=X     OIL          FCA          DDP  \\\n",
       "1 2018-01-02   1.20298  60.202  1200.704916  1230.704916   \n",
       "2 2018-01-03   1.20030  60.868  1211.370491  1241.370491   \n",
       "3 2018-01-04   1.19922  61.538  1221.040343  1251.040343   \n",
       "4 2018-01-05   1.19868  61.942  1226.802816  1256.802816   \n",
       "5 2018-01-08   1.20330  62.404  1229.771462  1259.771462   \n",
       "\n",
       "                                             sum_DDP  \\\n",
       "1  <bound method Series.mean of 1      1230.70491...   \n",
       "2  <bound method Series.mean of 1      1230.70491...   \n",
       "3  <bound method Series.mean of 1      1230.70491...   \n",
       "4  <bound method Series.mean of 1      1230.70491...   \n",
       "5  <bound method Series.mean of 1      1230.70491...   \n",
       "\n",
       "                                             sum_FCA  name  \n",
       "1  <bound method Series.mean of 1      1200.70491...  Poly  \n",
       "2  <bound method Series.mean of 1      1200.70491...  Poly  \n",
       "3  <bound method Series.mean of 1      1200.70491...  Poly  \n",
       "4  <bound method Series.mean of 1      1200.70491...  Poly  \n",
       "5  <bound method Series.mean of 1      1200.70491...  Poly  "
      ]
     },
     "execution_count": 5,
     "metadata": {},
     "output_type": "execute_result"
    },
    {
     "data": {
      "image/png": "[encoded data removed]",
      "text/plain": [
       "<Figure size 432x288 with 1 Axes>"
      ]
     },
     "metadata": {},
     "output_type": "display_data"
    }
   ],
   "source": [
    "# открываю файл с курсом валют\n",
    "dbc = pd.read_excel('cur_oil.xlsx')\n",
    "dbc.dropna(inplace=True)\n",
    "# копии с баз\n",
    "dba=dbc.copy()\n",
    "dbt=dbc.copy()\n",
    "\n",
    "\n",
    "dba['EURUSD=X']=dba['EURUSD=X'].rolling(window=5, min_periods=1).mean().shift(-5)\n",
    "dba['OIL']=dba['OIL'].rolling(window=5, min_periods=1).mean().shift(-5)\n",
    "\n",
    "dbt= (dbt.groupby(pd.Grouper(key='Date', freq='M'))['EURUSD=X','OIL'].mean().reset_index())\n",
    "\n",
    "dba.dropna(inplace=True)\n",
    "dbt.dropna(inplace=True)\n",
    "    \n",
    "\n",
    "\n",
    "\n",
    "for name, value in customers.items():\n",
    "    region=value['location']\n",
    "    comment=value['comment']\n",
    "    writ=pd.ExcelWriter((f'{name}.xlsx'),engine='xlsxwriter') \n",
    "    #/Users/user/Desktop/учеба/piton/home3/hometask/\n",
    "    if region =='EU':\n",
    "        cost=EU_LOGISTIC_COST_EUR\n",
    "    if region =='CN':\n",
    "        cost=CN_LOGISTIC_COST_USD/EUR_USD\n",
    "      \n",
    "    if comment=='monthly':   #ежемесячно\n",
    "        dba['FCA']=16*dba['OIL']/dba['EURUSD=X']+PRODUCTION_COST\n",
    "        dba['DDP']=dba['FCA'] +cost \n",
    "        sum_DDP=dba['DDP'].mean\n",
    "        dba['sum_DDP']=sum_DDP\n",
    "        dba['sum_FCA']=dba['FCA'].mean\n",
    "    \n",
    "        dba['name']=name\n",
    "        dba.to_excel(writ, sheet_name=name)\n",
    "        \n",
    "    if comment=='moving_average':  #скользящая средняя\n",
    "        dbt['FCA']=16*dbt['OIL']/dbt['EURUSD=X']+PRODUCTION_COST\n",
    "        dbt['DDP']=dbt['FCA'] +cost \n",
    "        dbt['sum_DDP']=float(sum(dbt['DDP']))\n",
    "        dbt['sum_FCA']=sum(dbt['FCA'])\n",
    "        dbt['name']=name\n",
    "        dbt.to_excel(writ, sheet_name=name)\n",
    "        \n",
    "    writ.save()    \n",
    "\n",
    "\n",
    "dba.plot(x='Date', y='DDP')\n",
    "dba.head(5)"
   ]
  },
  {
   "cell_type": "markdown",
   "metadata": {},
   "source": [
    "# Задание 3. Back to Russia\n",
    "\n",
    "К вам пришел новый клиент из России. Который использует продукт А и готов регулярно закупать ВБП для того, чтобы не быть привязанным к одному поставщику. Клиент готов забирать ВБП с завода самостоятельно.\n",
    "1. На основе тех данных, которые уже есть предложите цену новому клиенту. \n",
    "2. Подготовьте скрипт, который будет использовать курс публикуемый на <a href='http://www.cbr.ru/currency_base/dynamics/'> сайте ЦБ РФ</a>.\n"
   ]
  },
  {
   "cell_type": "code",
   "execution_count": 9,
   "metadata": {},
   "outputs": [],
   "source": [
    "from fpdf import FPDF\n",
    "import requests"
   ]
  },
  {
   "cell_type": "code",
   "execution_count": 29,
   "metadata": {
    "scrolled": true
   },
   "outputs": [
    {
     "name": "stdout",
     "output_type": "stream",
     "text": [
      "Введите количества товара: \n",
      "500\n",
      "Введите имя клиента: \n",
      "iii\n",
      "курс: 1 доллар = 74.1 Цена для покупателя 372.0\n"
     ]
    }
   ],
   "source": [
    "# Резутат записывает в pdf файл\n",
    "print('Введите количества товара: ')\n",
    "kol = int(input())\n",
    "print('Введите имя клиента: ')\n",
    "name = str(input())\n",
    "\n",
    "\n",
    "import requests # Модуль для обработки URL\n",
    "from bs4 import BeautifulSoup # Модуль для работы с HTML\n",
    "import time # Модуль для остановки программы\n",
    "import smtplib # Модуль для работы с почтой\n",
    "\n",
    "\n",
    "dbt=dbc.copy()\n",
    "price_FCA=0\n",
    "# Основной класс\n",
    "class Currency:\n",
    "    # Ссылка на нужную страницу\n",
    "    DOLLAR_RUB = 'https://www.google.com/search?sxsrf=ALeKk01NWm6viYijAo3HXYOEQUyDEDtFEw%3A1584716087546&source=hp&ei=N9l0XtDXHs716QTcuaXoAg&q=%D0%B4%D0%BE%D0%BB%D0%BB%D0%B0%D1%80+%D0%BA+%D1%80%D1%83%D0%B1%D0%BB%D1%8E&oq=%D0%B4%D0%BE%D0%BB%D0%BB%D0%B0%D1%80+&gs_l=psy-ab.3.0.35i39i70i258j0i131l4j0j0i131l4.3044.4178..5294...1.0..0.83.544.7......0....1..gws-wiz.......35i39.5QL6Ev1Kfk4'\n",
    "    # Заголовки для передачи вместе с URL\n",
    "    headers = {'User-Agent': 'Mozilla/5.0 (Macintosh; Intel Mac OS X 10_15_3) AppleWebKit/537.36 (KHTML, like Gecko) Chrome/80.0.3987.149 Safari/537.36'}\n",
    "\n",
    "    current_converted_price = 0\n",
    "  \n",
    "    def __init__(self):\n",
    "        # Установка курса валюты при создании объекта\n",
    "        self.current_converted_price = float(self.get_currency_price().replace(\",\", \".\"))\n",
    "\n",
    "    # Метод для получения курса валюты\n",
    "    def get_currency_price(self):\n",
    "        # Парсим всю страницу\n",
    "        full_page = requests.get(self.DOLLAR_RUB, headers=self.headers)\n",
    "\n",
    "        # Разбираем через BeautifulSoup\n",
    "        soup = BeautifulSoup(full_page.content, 'html.parser')\n",
    "\n",
    "        # Получаем нужное для нас значение и возвращаем его\n",
    "        convert = soup.findAll(\"span\", {\"class\": \"DFlfde\", \"class\": \"SwHCTb\", \"data-precision\": 2})\n",
    "        return convert[0].text\n",
    "\n",
    "    # Проверка изменения валюты\n",
    "    def check_currency(self):\n",
    "            currency = float(self.get_currency_price().replace(\",\", \".\"))\n",
    "            price_FCA=16*currency/(currency*1.2)+PRODUCTION_COST\n",
    "            \n",
    "            writ = pd.ExcelWriter(f'demo.xlsx', engine='xlsxwriter')\n",
    "            \n",
    "            if kol<=100:\n",
    "                price_FCA=price_FCA-price_FCA*0.01\n",
    "            if kol>100 and kol<300:\n",
    "                price_FCA=price_FCA-price_FCA*0.05\n",
    "            if kol>=300:\n",
    "                price_FCA=price_FCA-price_FCA*0.1\n",
    "                       \n",
    "                \n",
    "            dbt['USD']=currency\n",
    "            dbt['price']=price_FCA\n",
    "            dbt.to_excel(writ, sheet_name=name)\n",
    "            writer.save()\n",
    "            return print('курс: 1 доллар =', currency, 'Цена для покупателя',price_FCA)\n",
    "\n",
    "    #    print(\"Сейчас курс: 1 доллар = \" + str(currency))\n",
    "    \n",
    "\n",
    "\n",
    "# Создание объекта и вызов метода\n",
    "currency = Currency()\n",
    "currency.check_currency()\n",
    "\n"
   ]
  },
  {
   "cell_type": "markdown",
   "metadata": {},
   "source": [
    "# Задание 4. Check it"
   ]
  },
  {
   "cell_type": "markdown",
   "metadata": {},
   "source": [
    "* Подумайте, как можно проверить корректность работы алгоритма? \n",
    "* Какие возможны ошибки?\n",
    "* Придумайте тесты для проверки возможных ошибок алгоритма\n",
    "* Интергрируйте их в свои скрипты в виде исключений\n"
   ]
  },
  {
   "cell_type": "code",
   "execution_count": 30,
   "metadata": {},
   "outputs": [],
   "source": [
    "def cost(price, currency):\n",
    "    cost = (16 * price/currency) + PRODUCTION_COST\n",
    "    return cost"
   ]
  },
  {
   "cell_type": "code",
   "execution_count": 31,
   "metadata": {
    "scrolled": true
   },
   "outputs": [],
   "source": [
    "# только при равных значениях price=currency\n",
    "assert cost(50,50)== 416.0"
   ]
  },
  {
   "cell_type": "markdown",
   "metadata": {},
   "source": [
    "# Задание 5. Поделись с ближним"
   ]
  },
  {
   "cell_type": "markdown",
   "metadata": {},
   "source": [
    "Вы решили пойти в отпуск на время вашего отсутствия вас будет заменять коллега. Он будет заниматься рассчетом цен для клиентов. Чтобы ему было проще вам нужно завернуть ваши скрипты в модуль, который будет запускать у себя коллега."
   ]
  },
  {
   "cell_type": "markdown",
   "metadata": {},
   "source": [
    "* Создайте модуль, который можно запускать в ноутбуке подкладывая в ту же директорию\n",
    "* Хорошенько задокументируйте ВСЁ, но помните о PEP8"
   ]
  },
  {
   "cell_type": "code",
   "execution_count": 59,
   "metadata": {},
   "outputs": [
    {
     "ename": "ModuleNotFoundError",
     "evalue": "No module named 'mwp'",
     "output_type": "error",
     "traceback": [
      "\u001b[1;31m---------------------------------------------------------------------------\u001b[0m",
      "\u001b[1;31mModuleNotFoundError\u001b[0m                       Traceback (most recent call last)",
      "\u001b[1;32m<ipython-input-59-f53cbb0ddf79>\u001b[0m in \u001b[0;36m<module>\u001b[1;34m\u001b[0m\n\u001b[0;32m      1\u001b[0m \u001b[1;31m# import yourpackage\u001b[0m\u001b[1;33m\u001b[0m\u001b[1;33m\u001b[0m\u001b[1;33m\u001b[0m\u001b[0m\n\u001b[0;32m      2\u001b[0m \u001b[1;31m# import yourpackage\u001b[0m\u001b[1;33m\u001b[0m\u001b[1;33m\u001b[0m\u001b[1;33m\u001b[0m\u001b[0m\n\u001b[1;32m----> 3\u001b[1;33m \u001b[1;32mimport\u001b[0m \u001b[0mmwp\u001b[0m\u001b[1;33m\u001b[0m\u001b[1;33m\u001b[0m\u001b[0m\n\u001b[0m\u001b[0;32m      4\u001b[0m \u001b[0mmwp\u001b[0m\u001b[1;33m.\u001b[0m\u001b[0mget_price_ex\u001b[0m\u001b[1;33m(\u001b[0m\u001b[1;36m10\u001b[0m\u001b[1;33m,\u001b[0m\u001b[1;34m'Jimmy'\u001b[0m\u001b[1;33m)\u001b[0m\u001b[1;33m\u001b[0m\u001b[1;33m\u001b[0m\u001b[0m\n",
      "\u001b[1;31mModuleNotFoundError\u001b[0m: No module named 'mwp'"
     ]
    }
   ],
   "source": [
    "# import yourpackage\n",
    "# import yourpackage\n",
    "\n"
   ]
  },
  {
   "cell_type": "markdown",
   "metadata": {},
   "source": [
    "# Задание 6. Поделись пакетом"
   ]
  },
  {
   "cell_type": "markdown",
   "metadata": {},
   "source": [
    "Ваши коллеги узнали, что вы быстро рассчитываете цены для формульных контрактов, и решили использовать такую же практику для своих продуктов и клиентов. Вам нужно создать пакет, чтобы его было проще устанавливать и использовать."
   ]
  },
  {
   "cell_type": "markdown",
   "metadata": {},
   "source": [
    "* Создайте отдельный пакет, который можно устанавливать с помощью pip \n",
    "* В пакете должны быть реализованы функции для рассчета цен по формульным контрактам\n",
    "* Выложите пакет в репозиторий"
   ]
  },
  {
   "cell_type": "code",
   "execution_count": null,
   "metadata": {},
   "outputs": [],
   "source": [
    "# !pip install yourpackage\n",
    "# import yourpackage"
   ]
  },
  {
   "cell_type": "code",
   "execution_count": null,
   "metadata": {},
   "outputs": [],
   "source": []
  },
  {
   "cell_type": "code",
   "execution_count": null,
   "metadata": {},
   "outputs": [],
   "source": []
  },
  {
   "cell_type": "code",
   "execution_count": null,
   "metadata": {},
   "outputs": [],
   "source": []
  },
  {
   "cell_type": "code",
   "execution_count": null,
   "metadata": {},
   "outputs": [],
   "source": []
  },
  {
   "cell_type": "code",
   "execution_count": 18,
   "metadata": {
    "scrolled": true
   },
   "outputs": [
    {
     "name": "stdout",
     "output_type": "stream",
     "text": [
      "курс: 1 доллар = 74.1 Цена для покупателя 413.3333333333333\n"
     ]
    }
   ],
   "source": [
    "import requests # Модуль для обработки URL\n",
    "from bs4 import BeautifulSoup # Модуль для работы с HTML\n",
    "import time # Модуль для остановки программы\n",
    "import smtplib # Модуль для работы с почтой\n",
    "\n",
    "\n",
    "dbt=dbc.copy()\n",
    "# Основной класс\n",
    "class Currency:\n",
    "    # Ссылка на нужную страницу\n",
    "    DOLLAR_RUB = 'https://www.google.com/search?sxsrf=ALeKk01NWm6viYijAo3HXYOEQUyDEDtFEw%3A1584716087546&source=hp&ei=N9l0XtDXHs716QTcuaXoAg&q=%D0%B4%D0%BE%D0%BB%D0%BB%D0%B0%D1%80+%D0%BA+%D1%80%D1%83%D0%B1%D0%BB%D1%8E&oq=%D0%B4%D0%BE%D0%BB%D0%BB%D0%B0%D1%80+&gs_l=psy-ab.3.0.35i39i70i258j0i131l4j0j0i131l4.3044.4178..5294...1.0..0.83.544.7......0....1..gws-wiz.......35i39.5QL6Ev1Kfk4'\n",
    "    # Заголовки для передачи вместе с URL\n",
    "    headers = {'User-Agent': 'Mozilla/5.0 (Macintosh; Intel Mac OS X 10_15_3) AppleWebKit/537.36 (KHTML, like Gecko) Chrome/80.0.3987.149 Safari/537.36'}\n",
    "\n",
    "    current_converted_price = 0\n",
    "    difference = 5 # Разница после которой будет отправлено сообщение на почту\n",
    "\n",
    "    def __init__(self):\n",
    "        # Установка курса валюты при создании объекта\n",
    "        self.current_converted_price = float(self.get_currency_price().replace(\",\", \".\"))\n",
    "\n",
    "    # Метод для получения курса валюты\n",
    "    def get_currency_price(self):\n",
    "        # Парсим всю страницу\n",
    "        full_page = requests.get(self.DOLLAR_RUB, headers=self.headers)\n",
    "\n",
    "        # Разбираем через BeautifulSoup\n",
    "        soup = BeautifulSoup(full_page.content, 'html.parser')\n",
    "\n",
    "        # Получаем нужное для нас значение и возвращаем его\n",
    "        convert = soup.findAll(\"span\", {\"class\": \"DFlfde\", \"class\": \"SwHCTb\", \"data-precision\": 2})\n",
    "        return convert[0].text\n",
    "\n",
    "    # Проверка изменения валюты\n",
    "    def check_currency(self):\n",
    "            currency = float(self.get_currency_price().replace(\",\", \".\"))\n",
    "            price_FCA=16*currency/(currency*1.2)+PRODUCTION_COST\n",
    "            \n",
    "            writer = pd.ExcelWriter(f'demo.xlsx', engine='xlsxwriter')\n",
    "            dbt['USD']=currency\n",
    "            dbt['price']=price_FCA\n",
    "            dbt.to_excel(writ, sheet_name=name)\n",
    "            writer.save()\n",
    "            return print('курс: 1 доллар =', currency, 'Цена для покупателя',price_FCA)\n",
    "\n",
    "    #    print(\"Сейчас курс: 1 доллар = \" + str(currency))\n",
    "    \n",
    "\n",
    "\n",
    "# Создание объекта и вызов метода\n",
    "currency = Currency()\n",
    "currency.check_currency()\n",
    "\n",
    "\n",
    "\n"
   ]
  },
  {
   "cell_type": "code",
   "execution_count": null,
   "metadata": {},
   "outputs": [],
   "source": []
  }
 ],
 "metadata": {
  "kernelspec": {
   "display_name": "Python 3",
   "language": "python",
   "name": "python3"
  },
  "language_info": {
   "codemirror_mode": {
    "name": "ipython",
    "version": 3
   },
   "file_extension": ".py",
   "mimetype": "text/x-python",
   "name": "python",
   "nbconvert_exporter": "python",
   "pygments_lexer": "ipython3",
   "version": "3.7.6"
  }
 },
 "nbformat": 4,
 "nbformat_minor": 2
}
