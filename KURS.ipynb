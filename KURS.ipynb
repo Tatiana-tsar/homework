{
 "cells": [
  {
   "cell_type": "markdown",
   "metadata": {},
   "source": [
    "курсовая работа"
   ]
  },
  {
   "cell_type": "markdown",
   "metadata": {},
   "source": [
    "Зарплаты в San Francisco\n",
    "https://www.kaggle.com/kaggle/sf-salaries?select=Salaries.csv \n",
    "\n",
    "Как со временем менялись зарплаты между разными группами (группировка по Department - fire, medicine, police)? \n",
    "(максимальная, медианная, средняя)\n",
    "Как распределяются базовая оплата, сверхурочная работа и льготы между разными группами? Нужно построить диаграммы по распределению со временем для каждого департамента по базовым, сверхурочным и льготам\n",
    "Как распределяется бюджет на разные группы (department) с течением времени?\n",
    "Какое количество людей в каждом департаменте? \n",
    "Какое количество с разным уровнем дохода? (гистограмма с шагом в 5к) \n",
    "На базе линейной регрессии постройте прогноз по тому, какие будут закупки на следующий год по каждому департаменту\n"
   ]
  },
  {
   "cell_type": "code",
   "execution_count": 72,
   "metadata": {},
   "outputs": [],
   "source": [
    "import pandas as pd\n",
    "import numpy as np\n",
    "import matplotlib.pyplot as plt\n",
    "import scipy.stats as sts\n",
    "import math\n",
    "%matplotlib inline\n",
    "\n",
    "from scipy.stats import cosine\n",
    "import matplotlib.pyplot as plt\n",
    "import csv\n",
    "import sys\n",
    "\n",
    "import requests\n",
    "\n",
    "\n",
    "from scipy import stats"
   ]
  },
  {
   "cell_type": "code",
   "execution_count": 27,
   "metadata": {
    "scrolled": true
   },
   "outputs": [
    {
     "name": "stderr",
     "output_type": "stream",
     "text": [
      "C:\\Users\\user\\anaconda3\\lib\\site-packages\\IPython\\core\\interactiveshell.py:3063: DtypeWarning: Columns (3,4,5,6,12) have mixed types.Specify dtype option on import or set low_memory=False.\n",
      "  interactivity=interactivity, compiler=compiler, result=result)\n"
     ]
    },
    {
     "data": {
      "text/html": [
       "<div>\n",
       "<style scoped>\n",
       "    .dataframe tbody tr th:only-of-type {\n",
       "        vertical-align: middle;\n",
       "    }\n",
       "\n",
       "    .dataframe tbody tr th {\n",
       "        vertical-align: top;\n",
       "    }\n",
       "\n",
       "    .dataframe thead th {\n",
       "        text-align: right;\n",
       "    }\n",
       "</style>\n",
       "<table border=\"1\" class=\"dataframe\">\n",
       "  <thead>\n",
       "    <tr style=\"text-align: right;\">\n",
       "      <th></th>\n",
       "      <th>Id</th>\n",
       "      <th>EmployeeName</th>\n",
       "      <th>JobTitle</th>\n",
       "      <th>BasePay</th>\n",
       "      <th>OvertimePay</th>\n",
       "      <th>OtherPay</th>\n",
       "      <th>Benefits</th>\n",
       "      <th>TotalPay</th>\n",
       "      <th>TotalPayBenefits</th>\n",
       "      <th>Year</th>\n",
       "      <th>Notes</th>\n",
       "      <th>Agency</th>\n",
       "      <th>Status</th>\n",
       "    </tr>\n",
       "  </thead>\n",
       "  <tbody>\n",
       "    <tr>\n",
       "      <th>0</th>\n",
       "      <td>1</td>\n",
       "      <td>NATHANIEL FORD</td>\n",
       "      <td>GENERAL MANAGER-METROPOLITAN TRANSIT AUTHORITY</td>\n",
       "      <td>167411</td>\n",
       "      <td>0</td>\n",
       "      <td>400184</td>\n",
       "      <td>NaN</td>\n",
       "      <td>567595.43</td>\n",
       "      <td>567595.43</td>\n",
       "      <td>2011</td>\n",
       "      <td>NaN</td>\n",
       "      <td>San Francisco</td>\n",
       "      <td>NaN</td>\n",
       "    </tr>\n",
       "    <tr>\n",
       "      <th>1</th>\n",
       "      <td>2</td>\n",
       "      <td>GARY JIMENEZ</td>\n",
       "      <td>CAPTAIN III (POLICE DEPARTMENT)</td>\n",
       "      <td>155966</td>\n",
       "      <td>245132</td>\n",
       "      <td>137811</td>\n",
       "      <td>NaN</td>\n",
       "      <td>538909.28</td>\n",
       "      <td>538909.28</td>\n",
       "      <td>2011</td>\n",
       "      <td>NaN</td>\n",
       "      <td>San Francisco</td>\n",
       "      <td>NaN</td>\n",
       "    </tr>\n",
       "    <tr>\n",
       "      <th>2</th>\n",
       "      <td>3</td>\n",
       "      <td>ALBERT PARDINI</td>\n",
       "      <td>CAPTAIN III (POLICE DEPARTMENT)</td>\n",
       "      <td>212739</td>\n",
       "      <td>106088</td>\n",
       "      <td>16452.6</td>\n",
       "      <td>NaN</td>\n",
       "      <td>335279.91</td>\n",
       "      <td>335279.91</td>\n",
       "      <td>2011</td>\n",
       "      <td>NaN</td>\n",
       "      <td>San Francisco</td>\n",
       "      <td>NaN</td>\n",
       "    </tr>\n",
       "    <tr>\n",
       "      <th>3</th>\n",
       "      <td>4</td>\n",
       "      <td>CHRISTOPHER CHONG</td>\n",
       "      <td>WIRE ROPE CABLE MAINTENANCE MECHANIC</td>\n",
       "      <td>77916</td>\n",
       "      <td>56120.7</td>\n",
       "      <td>198307</td>\n",
       "      <td>NaN</td>\n",
       "      <td>332343.61</td>\n",
       "      <td>332343.61</td>\n",
       "      <td>2011</td>\n",
       "      <td>NaN</td>\n",
       "      <td>San Francisco</td>\n",
       "      <td>NaN</td>\n",
       "    </tr>\n",
       "    <tr>\n",
       "      <th>4</th>\n",
       "      <td>5</td>\n",
       "      <td>PATRICK GARDNER</td>\n",
       "      <td>DEPUTY CHIEF OF DEPARTMENT,(FIRE DEPARTMENT)</td>\n",
       "      <td>134402</td>\n",
       "      <td>9737</td>\n",
       "      <td>182235</td>\n",
       "      <td>NaN</td>\n",
       "      <td>326373.19</td>\n",
       "      <td>326373.19</td>\n",
       "      <td>2011</td>\n",
       "      <td>NaN</td>\n",
       "      <td>San Francisco</td>\n",
       "      <td>NaN</td>\n",
       "    </tr>\n",
       "    <tr>\n",
       "      <th>5</th>\n",
       "      <td>6</td>\n",
       "      <td>DAVID SULLIVAN</td>\n",
       "      <td>ASSISTANT DEPUTY CHIEF II</td>\n",
       "      <td>118602</td>\n",
       "      <td>8601</td>\n",
       "      <td>189083</td>\n",
       "      <td>NaN</td>\n",
       "      <td>316285.74</td>\n",
       "      <td>316285.74</td>\n",
       "      <td>2011</td>\n",
       "      <td>NaN</td>\n",
       "      <td>San Francisco</td>\n",
       "      <td>NaN</td>\n",
       "    </tr>\n",
       "    <tr>\n",
       "      <th>6</th>\n",
       "      <td>7</td>\n",
       "      <td>ALSON LEE</td>\n",
       "      <td>BATTALION CHIEF, (FIRE DEPARTMENT)</td>\n",
       "      <td>92492</td>\n",
       "      <td>89062.9</td>\n",
       "      <td>134426</td>\n",
       "      <td>NaN</td>\n",
       "      <td>315981.05</td>\n",
       "      <td>315981.05</td>\n",
       "      <td>2011</td>\n",
       "      <td>NaN</td>\n",
       "      <td>San Francisco</td>\n",
       "      <td>NaN</td>\n",
       "    </tr>\n",
       "    <tr>\n",
       "      <th>7</th>\n",
       "      <td>8</td>\n",
       "      <td>DAVID KUSHNER</td>\n",
       "      <td>DEPUTY DIRECTOR OF INVESTMENTS</td>\n",
       "      <td>256577</td>\n",
       "      <td>0</td>\n",
       "      <td>51322.5</td>\n",
       "      <td>NaN</td>\n",
       "      <td>307899.46</td>\n",
       "      <td>307899.46</td>\n",
       "      <td>2011</td>\n",
       "      <td>NaN</td>\n",
       "      <td>San Francisco</td>\n",
       "      <td>NaN</td>\n",
       "    </tr>\n",
       "    <tr>\n",
       "      <th>8</th>\n",
       "      <td>9</td>\n",
       "      <td>MICHAEL MORRIS</td>\n",
       "      <td>BATTALION CHIEF, (FIRE DEPARTMENT)</td>\n",
       "      <td>176933</td>\n",
       "      <td>86362.7</td>\n",
       "      <td>40132.2</td>\n",
       "      <td>NaN</td>\n",
       "      <td>303427.55</td>\n",
       "      <td>303427.55</td>\n",
       "      <td>2011</td>\n",
       "      <td>NaN</td>\n",
       "      <td>San Francisco</td>\n",
       "      <td>NaN</td>\n",
       "    </tr>\n",
       "    <tr>\n",
       "      <th>9</th>\n",
       "      <td>10</td>\n",
       "      <td>JOANNE HAYES-WHITE</td>\n",
       "      <td>CHIEF OF DEPARTMENT, (FIRE DEPARTMENT)</td>\n",
       "      <td>285262</td>\n",
       "      <td>0</td>\n",
       "      <td>17115.7</td>\n",
       "      <td>NaN</td>\n",
       "      <td>302377.73</td>\n",
       "      <td>302377.73</td>\n",
       "      <td>2011</td>\n",
       "      <td>NaN</td>\n",
       "      <td>San Francisco</td>\n",
       "      <td>NaN</td>\n",
       "    </tr>\n",
       "    <tr>\n",
       "      <th>10</th>\n",
       "      <td>11</td>\n",
       "      <td>ARTHUR KENNEY</td>\n",
       "      <td>ASSISTANT CHIEF OF DEPARTMENT, (FIRE DEPARTMENT)</td>\n",
       "      <td>194999</td>\n",
       "      <td>71344.9</td>\n",
       "      <td>33149.9</td>\n",
       "      <td>NaN</td>\n",
       "      <td>299494.17</td>\n",
       "      <td>299494.17</td>\n",
       "      <td>2011</td>\n",
       "      <td>NaN</td>\n",
       "      <td>San Francisco</td>\n",
       "      <td>NaN</td>\n",
       "    </tr>\n",
       "    <tr>\n",
       "      <th>11</th>\n",
       "      <td>12</td>\n",
       "      <td>PATRICIA JACKSON</td>\n",
       "      <td>CAPTAIN III (POLICE DEPARTMENT)</td>\n",
       "      <td>99722</td>\n",
       "      <td>87082.6</td>\n",
       "      <td>110804</td>\n",
       "      <td>NaN</td>\n",
       "      <td>297608.92</td>\n",
       "      <td>297608.92</td>\n",
       "      <td>2011</td>\n",
       "      <td>NaN</td>\n",
       "      <td>San Francisco</td>\n",
       "      <td>NaN</td>\n",
       "    </tr>\n",
       "    <tr>\n",
       "      <th>12</th>\n",
       "      <td>13</td>\n",
       "      <td>EDWARD HARRINGTON</td>\n",
       "      <td>EXECUTIVE CONTRACT EMPLOYEE</td>\n",
       "      <td>294580</td>\n",
       "      <td>0</td>\n",
       "      <td>0</td>\n",
       "      <td>NaN</td>\n",
       "      <td>294580.02</td>\n",
       "      <td>294580.02</td>\n",
       "      <td>2011</td>\n",
       "      <td>NaN</td>\n",
       "      <td>San Francisco</td>\n",
       "      <td>NaN</td>\n",
       "    </tr>\n",
       "    <tr>\n",
       "      <th>13</th>\n",
       "      <td>14</td>\n",
       "      <td>JOHN MARTIN</td>\n",
       "      <td>DEPARTMENT HEAD V</td>\n",
       "      <td>271329</td>\n",
       "      <td>0</td>\n",
       "      <td>21342.6</td>\n",
       "      <td>NaN</td>\n",
       "      <td>292671.62</td>\n",
       "      <td>292671.62</td>\n",
       "      <td>2011</td>\n",
       "      <td>NaN</td>\n",
       "      <td>San Francisco</td>\n",
       "      <td>NaN</td>\n",
       "    </tr>\n",
       "    <tr>\n",
       "      <th>14</th>\n",
       "      <td>15</td>\n",
       "      <td>DAVID FRANKLIN</td>\n",
       "      <td>BATTALION CHIEF, (FIRE DEPARTMENT)</td>\n",
       "      <td>174873</td>\n",
       "      <td>74050.3</td>\n",
       "      <td>37424.1</td>\n",
       "      <td>NaN</td>\n",
       "      <td>286347.05</td>\n",
       "      <td>286347.05</td>\n",
       "      <td>2011</td>\n",
       "      <td>NaN</td>\n",
       "      <td>San Francisco</td>\n",
       "      <td>NaN</td>\n",
       "    </tr>\n",
       "  </tbody>\n",
       "</table>\n",
       "</div>"
      ],
      "text/plain": [
       "    Id        EmployeeName                                          JobTitle  \\\n",
       "0    1      NATHANIEL FORD    GENERAL MANAGER-METROPOLITAN TRANSIT AUTHORITY   \n",
       "1    2        GARY JIMENEZ                   CAPTAIN III (POLICE DEPARTMENT)   \n",
       "2    3      ALBERT PARDINI                   CAPTAIN III (POLICE DEPARTMENT)   \n",
       "3    4   CHRISTOPHER CHONG              WIRE ROPE CABLE MAINTENANCE MECHANIC   \n",
       "4    5     PATRICK GARDNER      DEPUTY CHIEF OF DEPARTMENT,(FIRE DEPARTMENT)   \n",
       "5    6      DAVID SULLIVAN                         ASSISTANT DEPUTY CHIEF II   \n",
       "6    7           ALSON LEE                BATTALION CHIEF, (FIRE DEPARTMENT)   \n",
       "7    8       DAVID KUSHNER                    DEPUTY DIRECTOR OF INVESTMENTS   \n",
       "8    9      MICHAEL MORRIS                BATTALION CHIEF, (FIRE DEPARTMENT)   \n",
       "9   10  JOANNE HAYES-WHITE            CHIEF OF DEPARTMENT, (FIRE DEPARTMENT)   \n",
       "10  11       ARTHUR KENNEY  ASSISTANT CHIEF OF DEPARTMENT, (FIRE DEPARTMENT)   \n",
       "11  12    PATRICIA JACKSON                   CAPTAIN III (POLICE DEPARTMENT)   \n",
       "12  13   EDWARD HARRINGTON                       EXECUTIVE CONTRACT EMPLOYEE   \n",
       "13  14         JOHN MARTIN                                 DEPARTMENT HEAD V   \n",
       "14  15      DAVID FRANKLIN                BATTALION CHIEF, (FIRE DEPARTMENT)   \n",
       "\n",
       "   BasePay OvertimePay OtherPay Benefits   TotalPay  TotalPayBenefits  Year  \\\n",
       "0   167411           0   400184      NaN  567595.43         567595.43  2011   \n",
       "1   155966      245132   137811      NaN  538909.28         538909.28  2011   \n",
       "2   212739      106088  16452.6      NaN  335279.91         335279.91  2011   \n",
       "3    77916     56120.7   198307      NaN  332343.61         332343.61  2011   \n",
       "4   134402        9737   182235      NaN  326373.19         326373.19  2011   \n",
       "5   118602        8601   189083      NaN  316285.74         316285.74  2011   \n",
       "6    92492     89062.9   134426      NaN  315981.05         315981.05  2011   \n",
       "7   256577           0  51322.5      NaN  307899.46         307899.46  2011   \n",
       "8   176933     86362.7  40132.2      NaN  303427.55         303427.55  2011   \n",
       "9   285262           0  17115.7      NaN  302377.73         302377.73  2011   \n",
       "10  194999     71344.9  33149.9      NaN  299494.17         299494.17  2011   \n",
       "11   99722     87082.6   110804      NaN  297608.92         297608.92  2011   \n",
       "12  294580           0        0      NaN  294580.02         294580.02  2011   \n",
       "13  271329           0  21342.6      NaN  292671.62         292671.62  2011   \n",
       "14  174873     74050.3  37424.1      NaN  286347.05         286347.05  2011   \n",
       "\n",
       "    Notes         Agency Status  \n",
       "0     NaN  San Francisco    NaN  \n",
       "1     NaN  San Francisco    NaN  \n",
       "2     NaN  San Francisco    NaN  \n",
       "3     NaN  San Francisco    NaN  \n",
       "4     NaN  San Francisco    NaN  \n",
       "5     NaN  San Francisco    NaN  \n",
       "6     NaN  San Francisco    NaN  \n",
       "7     NaN  San Francisco    NaN  \n",
       "8     NaN  San Francisco    NaN  \n",
       "9     NaN  San Francisco    NaN  \n",
       "10    NaN  San Francisco    NaN  \n",
       "11    NaN  San Francisco    NaN  \n",
       "12    NaN  San Francisco    NaN  \n",
       "13    NaN  San Francisco    NaN  \n",
       "14    NaN  San Francisco    NaN  "
      ]
     },
     "execution_count": 27,
     "metadata": {},
     "output_type": "execute_result"
    }
   ],
   "source": [
    "#df = list(csv.DictReader(open('Salaries.csv', encoding='utf-8', newline='')))  #telecom_churn.csv\n",
    "#url = f'https://drive.google.com/file/d/1X_drKqoarnU2Sz2har7uSCsgyhh8Xtz8/view?usp=sharing/telecom_churn.csv'\n",
    "#url=f'https://www.kaggle.com/kaggle/sf-salaries?select=Salaries.csv'\n",
    "df = pd.read_csv('Salaries.csv')\n",
    "df.head(15)\n"
   ]
  },
  {
   "cell_type": "code",
   "execution_count": 165,
   "metadata": {
    "scrolled": true
   },
   "outputs": [
    {
     "ename": "TypeError",
     "evalue": "parser_f() got an unexpected keyword argument 'parse'",
     "output_type": "error",
     "traceback": [
      "\u001b[1;31m---------------------------------------------------------------------------\u001b[0m",
      "\u001b[1;31mTypeError\u001b[0m                                 Traceback (most recent call last)",
      "\u001b[1;32m<ipython-input-165-3580663a1e1c>\u001b[0m in \u001b[0;36m<module>\u001b[1;34m\u001b[0m\n\u001b[1;32m----> 1\u001b[1;33m \u001b[0mdf\u001b[0m \u001b[1;33m=\u001b[0m \u001b[0mpd\u001b[0m\u001b[1;33m.\u001b[0m\u001b[0mread_csv\u001b[0m\u001b[1;33m(\u001b[0m\u001b[0murl\u001b[0m\u001b[1;33m,\u001b[0m\u001b[0mindex_col\u001b[0m\u001b[1;33m=\u001b[0m\u001b[1;36m0\u001b[0m\u001b[1;33m,\u001b[0m\u001b[0mparse\u001b[0m\u001b[1;33m=\u001b[0m\u001b[1;32mTrue\u001b[0m\u001b[1;33m)\u001b[0m\u001b[1;33m\u001b[0m\u001b[1;33m\u001b[0m\u001b[0m\n\u001b[0m\u001b[0;32m      2\u001b[0m \u001b[0mdf\u001b[0m\u001b[1;33m.\u001b[0m\u001b[0mhead\u001b[0m\u001b[1;33m(\u001b[0m\u001b[1;33m)\u001b[0m\u001b[1;33m\u001b[0m\u001b[1;33m\u001b[0m\u001b[0m\n",
      "\u001b[1;31mTypeError\u001b[0m: parser_f() got an unexpected keyword argument 'parse'"
     ]
    }
   ],
   "source": [
    "#df = pd.read_csv(url,index_col=0,parse=True)\n",
    "#df.head()"
   ]
  },
  {
   "cell_type": "code",
   "execution_count": 26,
   "metadata": {
    "scrolled": false
   },
   "outputs": [
    {
     "name": "stdout",
     "output_type": "stream",
     "text": [
      "<class 'pandas.core.frame.DataFrame'>\n",
      "RangeIndex: 148654 entries, 0 to 148653\n",
      "Data columns (total 13 columns):\n",
      " #   Column            Non-Null Count   Dtype  \n",
      "---  ------            --------------   -----  \n",
      " 0   Id                148654 non-null  int64  \n",
      " 1   EmployeeName      148654 non-null  object \n",
      " 2   JobTitle          148654 non-null  object \n",
      " 3   BasePay           148049 non-null  object \n",
      " 4   OvertimePay       148654 non-null  object \n",
      " 5   OtherPay          148654 non-null  object \n",
      " 6   Benefits          112495 non-null  object \n",
      " 7   TotalPay          148654 non-null  float64\n",
      " 8   TotalPayBenefits  148654 non-null  float64\n",
      " 9   Year              148654 non-null  int64  \n",
      " 10  Notes             0 non-null       float64\n",
      " 11  Agency            148654 non-null  object \n",
      " 12  Status            38119 non-null   object \n",
      "dtypes: float64(3), int64(2), object(8)\n",
      "memory usage: 14.7+ MB\n"
     ]
    }
   ],
   "source": [
    "df.info()"
   ]
  },
  {
   "cell_type": "code",
   "execution_count": 231,
   "metadata": {
    "scrolled": true
   },
   "outputs": [
    {
     "data": {
      "text/plain": [
       "(148654, 13)"
      ]
     },
     "execution_count": 231,
     "metadata": {},
     "output_type": "execute_result"
    }
   ],
   "source": [
    "df.shape"
   ]
  },
  {
   "cell_type": "code",
   "execution_count": 4,
   "metadata": {
    "scrolled": false
   },
   "outputs": [
    {
     "data": {
      "text/plain": [
       "Id                       0\n",
       "EmployeeName             0\n",
       "JobTitle                 0\n",
       "BasePay                605\n",
       "OvertimePay              0\n",
       "OtherPay                 0\n",
       "Benefits             36159\n",
       "TotalPay                 0\n",
       "TotalPayBenefits         0\n",
       "Year                     0\n",
       "Notes               148654\n",
       "Agency                   0\n",
       "Status              110535\n",
       "dtype: int64"
      ]
     },
     "execution_count": 4,
     "metadata": {},
     "output_type": "execute_result"
    }
   ],
   "source": [
    "df.isna().sum()  # Benefits - ПРЕИМУЩЕСТВА ??? прверяем на наличие NaN в общей базе"
   ]
  },
  {
   "cell_type": "code",
   "execution_count": 148,
   "metadata": {
    "scrolled": false
   },
   "outputs": [
    {
     "data": {
      "text/plain": [
       "BasePay\n",
       "14.25      1\n",
       "15.83      3\n",
       "17.48      1\n",
       "18.81      1\n",
       "23.08      1\n",
       "          ..\n",
       "9987.04    1\n",
       "9991.53    1\n",
       "9997.15    1\n",
       "9998.60    1\n",
       "9999.59    1\n",
       "Name: BasePay, Length: 109886, dtype: int64"
      ]
     },
     "execution_count": 148,
     "metadata": {},
     "output_type": "execute_result"
    }
   ],
   "source": [
    "df.groupby(['BasePay'])['BasePay'].count() #проверяю количество нулей, отрицательных значений, и др.\n"
   ]
  },
  {
   "cell_type": "code",
   "execution_count": 28,
   "metadata": {
    "scrolled": true
   },
   "outputs": [],
   "source": [
    "# удаляем Not Provided - не предоставлено\n",
    "df = df.drop(df[df.BasePay =='Not Provided'].index)\n"
   ]
  },
  {
   "cell_type": "code",
   "execution_count": 29,
   "metadata": {
    "scrolled": true
   },
   "outputs": [],
   "source": [
    "# переводим сумму float и удаляем все отрицательные и нулевые суммы\n",
    "df = df.drop(df[df.BasePay.astype(float) <=0.0].index)\n"
   ]
  },
  {
   "cell_type": "code",
   "execution_count": 195,
   "metadata": {
    "scrolled": false
   },
   "outputs": [],
   "source": [
    "# меняем все пустоты NaN на значение медианы \n",
    "df.fillna(df.BasePay.median(),inplace = True) \n",
    "#df['BasePay']=df['BasePay'].fillna(df.BasePay.median(),inplace=True)"
   ]
  },
  {
   "cell_type": "code",
   "execution_count": 204,
   "metadata": {
    "scrolled": false
   },
   "outputs": [
    {
     "data": {
      "text/html": [
       "<div>\n",
       "<style scoped>\n",
       "    .dataframe tbody tr th:only-of-type {\n",
       "        vertical-align: middle;\n",
       "    }\n",
       "\n",
       "    .dataframe tbody tr th {\n",
       "        vertical-align: top;\n",
       "    }\n",
       "\n",
       "    .dataframe thead th {\n",
       "        text-align: right;\n",
       "    }\n",
       "</style>\n",
       "<table border=\"1\" class=\"dataframe\">\n",
       "  <thead>\n",
       "    <tr style=\"text-align: right;\">\n",
       "      <th></th>\n",
       "      <th>Id</th>\n",
       "      <th>EmployeeName</th>\n",
       "      <th>JobTitle</th>\n",
       "      <th>BasePay</th>\n",
       "      <th>OvertimePay</th>\n",
       "      <th>OtherPay</th>\n",
       "      <th>Benefits</th>\n",
       "      <th>TotalPay</th>\n",
       "      <th>TotalPayBenefits</th>\n",
       "      <th>Year</th>\n",
       "      <th>Notes</th>\n",
       "      <th>Agency</th>\n",
       "      <th>Status</th>\n",
       "    </tr>\n",
       "  </thead>\n",
       "  <tbody>\n",
       "    <tr>\n",
       "      <th>0</th>\n",
       "      <td>1</td>\n",
       "      <td>NATHANIEL FORD</td>\n",
       "      <td>GENERAL MANAGER-METROPOLITAN TRANSIT AUTHORITY</td>\n",
       "      <td>167411.18</td>\n",
       "      <td>167411.18</td>\n",
       "      <td>167411.18</td>\n",
       "      <td>NaN</td>\n",
       "      <td>567595.43</td>\n",
       "      <td>567595.43</td>\n",
       "      <td>2011</td>\n",
       "      <td>NaN</td>\n",
       "      <td>San Francisco</td>\n",
       "      <td>NaN</td>\n",
       "    </tr>\n",
       "    <tr>\n",
       "      <th>1</th>\n",
       "      <td>2</td>\n",
       "      <td>GARY JIMENEZ</td>\n",
       "      <td>CAPTAIN III (POLICE DEPARTMENT)</td>\n",
       "      <td>155966.02</td>\n",
       "      <td>155966.02</td>\n",
       "      <td>155966.02</td>\n",
       "      <td>NaN</td>\n",
       "      <td>538909.28</td>\n",
       "      <td>538909.28</td>\n",
       "      <td>2011</td>\n",
       "      <td>NaN</td>\n",
       "      <td>San Francisco</td>\n",
       "      <td>NaN</td>\n",
       "    </tr>\n",
       "    <tr>\n",
       "      <th>2</th>\n",
       "      <td>3</td>\n",
       "      <td>ALBERT PARDINI</td>\n",
       "      <td>CAPTAIN III (POLICE DEPARTMENT)</td>\n",
       "      <td>212739.13</td>\n",
       "      <td>212739.13</td>\n",
       "      <td>212739.13</td>\n",
       "      <td>NaN</td>\n",
       "      <td>335279.91</td>\n",
       "      <td>335279.91</td>\n",
       "      <td>2011</td>\n",
       "      <td>NaN</td>\n",
       "      <td>San Francisco</td>\n",
       "      <td>NaN</td>\n",
       "    </tr>\n",
       "    <tr>\n",
       "      <th>3</th>\n",
       "      <td>4</td>\n",
       "      <td>CHRISTOPHER CHONG</td>\n",
       "      <td>WIRE ROPE CABLE MAINTENANCE MECHANIC</td>\n",
       "      <td>77916.00</td>\n",
       "      <td>77916.00</td>\n",
       "      <td>77916.00</td>\n",
       "      <td>NaN</td>\n",
       "      <td>332343.61</td>\n",
       "      <td>332343.61</td>\n",
       "      <td>2011</td>\n",
       "      <td>NaN</td>\n",
       "      <td>San Francisco</td>\n",
       "      <td>NaN</td>\n",
       "    </tr>\n",
       "    <tr>\n",
       "      <th>4</th>\n",
       "      <td>5</td>\n",
       "      <td>PATRICK GARDNER</td>\n",
       "      <td>DEPUTY CHIEF OF DEPARTMENT,(FIRE DEPARTMENT)</td>\n",
       "      <td>134401.60</td>\n",
       "      <td>134401.60</td>\n",
       "      <td>134401.60</td>\n",
       "      <td>NaN</td>\n",
       "      <td>326373.19</td>\n",
       "      <td>326373.19</td>\n",
       "      <td>2011</td>\n",
       "      <td>NaN</td>\n",
       "      <td>San Francisco</td>\n",
       "      <td>NaN</td>\n",
       "    </tr>\n",
       "    <tr>\n",
       "      <th>...</th>\n",
       "      <td>...</td>\n",
       "      <td>...</td>\n",
       "      <td>...</td>\n",
       "      <td>...</td>\n",
       "      <td>...</td>\n",
       "      <td>...</td>\n",
       "      <td>...</td>\n",
       "      <td>...</td>\n",
       "      <td>...</td>\n",
       "      <td>...</td>\n",
       "      <td>...</td>\n",
       "      <td>...</td>\n",
       "      <td>...</td>\n",
       "    </tr>\n",
       "    <tr>\n",
       "      <th>148613</th>\n",
       "      <td>148614</td>\n",
       "      <td>Nanette M Lloyd</td>\n",
       "      <td>Special Nurse</td>\n",
       "      <td>19.97</td>\n",
       "      <td>19.97</td>\n",
       "      <td>19.97</td>\n",
       "      <td>4.30</td>\n",
       "      <td>19.97</td>\n",
       "      <td>24.27</td>\n",
       "      <td>2014</td>\n",
       "      <td>NaN</td>\n",
       "      <td>San Francisco</td>\n",
       "      <td>PT</td>\n",
       "    </tr>\n",
       "    <tr>\n",
       "      <th>148616</th>\n",
       "      <td>148617</td>\n",
       "      <td>Afakasi O Afakasi</td>\n",
       "      <td>Public Service Trainee</td>\n",
       "      <td>21.48</td>\n",
       "      <td>21.48</td>\n",
       "      <td>21.48</td>\n",
       "      <td>0.22</td>\n",
       "      <td>22.34</td>\n",
       "      <td>22.56</td>\n",
       "      <td>2014</td>\n",
       "      <td>NaN</td>\n",
       "      <td>San Francisco</td>\n",
       "      <td>PT</td>\n",
       "    </tr>\n",
       "    <tr>\n",
       "      <th>148617</th>\n",
       "      <td>148618</td>\n",
       "      <td>Charles F Williams Iii</td>\n",
       "      <td>Pool Lifeguard</td>\n",
       "      <td>17.26</td>\n",
       "      <td>17.26</td>\n",
       "      <td>17.26</td>\n",
       "      <td>4.04</td>\n",
       "      <td>17.26</td>\n",
       "      <td>21.30</td>\n",
       "      <td>2014</td>\n",
       "      <td>NaN</td>\n",
       "      <td>San Francisco</td>\n",
       "      <td>PT</td>\n",
       "    </tr>\n",
       "    <tr>\n",
       "      <th>148619</th>\n",
       "      <td>148620</td>\n",
       "      <td>Ian V Cameron</td>\n",
       "      <td>IS Program Analyst-Assistant</td>\n",
       "      <td>6.04</td>\n",
       "      <td>6.04</td>\n",
       "      <td>6.04</td>\n",
       "      <td>2.30</td>\n",
       "      <td>16.09</td>\n",
       "      <td>18.39</td>\n",
       "      <td>2014</td>\n",
       "      <td>NaN</td>\n",
       "      <td>San Francisco</td>\n",
       "      <td>PT</td>\n",
       "    </tr>\n",
       "    <tr>\n",
       "      <th>148620</th>\n",
       "      <td>148621</td>\n",
       "      <td>India C Sabater</td>\n",
       "      <td>Recreation Leader</td>\n",
       "      <td>15.50</td>\n",
       "      <td>15.50</td>\n",
       "      <td>15.50</td>\n",
       "      <td>0.16</td>\n",
       "      <td>15.50</td>\n",
       "      <td>15.66</td>\n",
       "      <td>2014</td>\n",
       "      <td>NaN</td>\n",
       "      <td>San Francisco</td>\n",
       "      <td>PT</td>\n",
       "    </tr>\n",
       "  </tbody>\n",
       "</table>\n",
       "<p>147341 rows × 13 columns</p>\n",
       "</div>"
      ],
      "text/plain": [
       "            Id            EmployeeName  \\\n",
       "0            1          NATHANIEL FORD   \n",
       "1            2            GARY JIMENEZ   \n",
       "2            3          ALBERT PARDINI   \n",
       "3            4       CHRISTOPHER CHONG   \n",
       "4            5         PATRICK GARDNER   \n",
       "...        ...                     ...   \n",
       "148613  148614         Nanette M Lloyd   \n",
       "148616  148617       Afakasi O Afakasi   \n",
       "148617  148618  Charles F Williams Iii   \n",
       "148619  148620           Ian V Cameron   \n",
       "148620  148621         India C Sabater   \n",
       "\n",
       "                                              JobTitle    BasePay  \\\n",
       "0       GENERAL MANAGER-METROPOLITAN TRANSIT AUTHORITY  167411.18   \n",
       "1                      CAPTAIN III (POLICE DEPARTMENT)  155966.02   \n",
       "2                      CAPTAIN III (POLICE DEPARTMENT)  212739.13   \n",
       "3                 WIRE ROPE CABLE MAINTENANCE MECHANIC   77916.00   \n",
       "4         DEPUTY CHIEF OF DEPARTMENT,(FIRE DEPARTMENT)  134401.60   \n",
       "...                                                ...        ...   \n",
       "148613                                   Special Nurse      19.97   \n",
       "148616                          Public Service Trainee      21.48   \n",
       "148617                                  Pool Lifeguard      17.26   \n",
       "148619                    IS Program Analyst-Assistant       6.04   \n",
       "148620                               Recreation Leader      15.50   \n",
       "\n",
       "        OvertimePay   OtherPay Benefits   TotalPay  TotalPayBenefits  Year  \\\n",
       "0         167411.18  167411.18      NaN  567595.43         567595.43  2011   \n",
       "1         155966.02  155966.02      NaN  538909.28         538909.28  2011   \n",
       "2         212739.13  212739.13      NaN  335279.91         335279.91  2011   \n",
       "3          77916.00   77916.00      NaN  332343.61         332343.61  2011   \n",
       "4         134401.60  134401.60      NaN  326373.19         326373.19  2011   \n",
       "...             ...        ...      ...        ...               ...   ...   \n",
       "148613        19.97      19.97     4.30      19.97             24.27  2014   \n",
       "148616        21.48      21.48     0.22      22.34             22.56  2014   \n",
       "148617        17.26      17.26     4.04      17.26             21.30  2014   \n",
       "148619         6.04       6.04     2.30      16.09             18.39  2014   \n",
       "148620        15.50      15.50     0.16      15.50             15.66  2014   \n",
       "\n",
       "        Notes         Agency Status  \n",
       "0         NaN  San Francisco    NaN  \n",
       "1         NaN  San Francisco    NaN  \n",
       "2         NaN  San Francisco    NaN  \n",
       "3         NaN  San Francisco    NaN  \n",
       "4         NaN  San Francisco    NaN  \n",
       "...       ...            ...    ...  \n",
       "148613    NaN  San Francisco     PT  \n",
       "148616    NaN  San Francisco     PT  \n",
       "148617    NaN  San Francisco     PT  \n",
       "148619    NaN  San Francisco     PT  \n",
       "148620    NaN  San Francisco     PT  \n",
       "\n",
       "[147341 rows x 13 columns]"
      ]
     },
     "execution_count": 204,
     "metadata": {},
     "output_type": "execute_result"
    }
   ],
   "source": [
    "df"
   ]
  },
  {
   "cell_type": "code",
   "execution_count": null,
   "metadata": {},
   "outputs": [],
   "source": []
  },
  {
   "cell_type": "markdown",
   "metadata": {},
   "source": [
    "df['BasePay'] = df['BasePay'].str.replace('%','').astype(np.float64)\n",
    "df['OvertimePay'] = df['OvertimePay'].str.replace('%','').astype(np.float64)\n",
    "df['OtherPay'] = df['OtherPay'].str.replace('%','').astype(np.float64)\n"
   ]
  },
  {
   "cell_type": "code",
   "execution_count": 30,
   "metadata": {
    "scrolled": false
   },
   "outputs": [],
   "source": [
    "df['BasePay']=df.BasePay.astype(float)\n",
    "df['OvertimePay']=df.BasePay.astype(float)\n",
    "df['OtherPay']=df.BasePay.astype(float)"
   ]
  },
  {
   "cell_type": "code",
   "execution_count": 203,
   "metadata": {
    "scrolled": true
   },
   "outputs": [
    {
     "data": {
      "text/plain": [
       "0         167411.18\n",
       "1         155966.02\n",
       "2         212739.13\n",
       "3          77916.00\n",
       "4         134401.60\n",
       "            ...    \n",
       "148613        19.97\n",
       "148616        21.48\n",
       "148617        17.26\n",
       "148619         6.04\n",
       "148620        15.50\n",
       "Name: BasePay, Length: 147341, dtype: float64"
      ]
     },
     "execution_count": 203,
     "metadata": {},
     "output_type": "execute_result"
    }
   ],
   "source": [
    "df['BasePay']"
   ]
  },
  {
   "cell_type": "code",
   "execution_count": 31,
   "metadata": {
    "scrolled": false
   },
   "outputs": [
    {
     "name": "stdout",
     "output_type": "stream",
     "text": [
      "<class 'pandas.core.frame.DataFrame'>\n",
      "Int64Index: 147341 entries, 0 to 148620\n",
      "Data columns (total 13 columns):\n",
      " #   Column            Non-Null Count   Dtype  \n",
      "---  ------            --------------   -----  \n",
      " 0   Id                147341 non-null  int64  \n",
      " 1   EmployeeName      147341 non-null  object \n",
      " 2   JobTitle          147341 non-null  object \n",
      " 3   BasePay           146736 non-null  float64\n",
      " 4   OvertimePay       146736 non-null  float64\n",
      " 5   OtherPay          146736 non-null  float64\n",
      " 6   Benefits          111634 non-null  object \n",
      " 7   TotalPay          147341 non-null  float64\n",
      " 8   TotalPayBenefits  147341 non-null  float64\n",
      " 9   Year              147341 non-null  int64  \n",
      " 10  Notes             0 non-null       float64\n",
      " 11  Agency            147341 non-null  object \n",
      " 12  Status            37693 non-null   object \n",
      "dtypes: float64(6), int64(2), object(5)\n",
      "memory usage: 15.7+ MB\n"
     ]
    }
   ],
   "source": [
    "df.info()"
   ]
  },
  {
   "cell_type": "code",
   "execution_count": 160,
   "metadata": {
    "scrolled": true
   },
   "outputs": [
    {
     "data": {
      "text/plain": [
       "54703.00     0.002303\n",
       "55026.00     0.002024\n",
       "48472.40     0.001431\n",
       "65448.00     0.001043\n",
       "121068.00    0.001036\n",
       "               ...   \n",
       "48249.89     0.000007\n",
       "20487.14     0.000007\n",
       "53546.01     0.000007\n",
       "1607.00      0.000007\n",
       "7611.73      0.000007\n",
       "Name: BasePay, Length: 109477, dtype: float64"
      ]
     },
     "execution_count": 160,
     "metadata": {},
     "output_type": "execute_result"
    }
   ],
   "source": [
    "#проверить на корретность полей, базовая оплата базовая оплата - очень маленький %, можно удалить\n",
    "df.BasePay.value_counts(normalize=True) "
   ]
  },
  {
   "cell_type": "code",
   "execution_count": null,
   "metadata": {},
   "outputs": [],
   "source": []
  },
  {
   "cell_type": "code",
   "execution_count": 81,
   "metadata": {},
   "outputs": [
    {
     "data": {
      "text/plain": [
       "0.0        0.4\n",
       "0.00       0.1\n",
       "681.23     0.0\n",
       "10.68      0.0\n",
       "152.13     0.0\n",
       "            ..\n",
       "976.26     0.0\n",
       "571.51     0.0\n",
       "35515.23   0.0\n",
       "302.89     0.0\n",
       "38043.49   0.0\n",
       "Name: OvertimePay, Length: 66484, dtype: float64"
      ]
     },
     "execution_count": 81,
     "metadata": {},
     "output_type": "execute_result"
    }
   ],
   "source": [
    "#проверить на корретность полей, другие значения - Оплата сверхурочной работы -- очень маленький %, можно удалить\n",
    "df.OvertimePay.value_counts(normalize=True) "
   ]
  },
  {
   "cell_type": "code",
   "execution_count": 161,
   "metadata": {
    "scrolled": false
   },
   "outputs": [
    {
     "data": {
      "text/plain": [
       "OvertimePay\n",
       "6.04         1\n",
       "14.25        1\n",
       "15.50        1\n",
       "15.83        3\n",
       "17.26        1\n",
       "            ..\n",
       "313312.52    1\n",
       "313686.01    1\n",
       "315572.01    1\n",
       "318835.49    1\n",
       "319275.01    1\n",
       "Name: OvertimePay, Length: 109477, dtype: int64"
      ]
     },
     "execution_count": 161,
     "metadata": {},
     "output_type": "execute_result"
    }
   ],
   "source": [
    "df.groupby(['OvertimePay'])['OvertimePay'].count() #проверяю количество нулей, отрицательных значений, и др."
   ]
  },
  {
   "cell_type": "code",
   "execution_count": 32,
   "metadata": {},
   "outputs": [],
   "source": [
    "# переводим сумму float и удаляем все отрицательные и нулевые суммы\n",
    "df = df.drop(df[df.OvertimePay.astype(float) <=0.0].index)"
   ]
  },
  {
   "cell_type": "code",
   "execution_count": null,
   "metadata": {},
   "outputs": [],
   "source": []
  },
  {
   "cell_type": "code",
   "execution_count": 207,
   "metadata": {
    "scrolled": true
   },
   "outputs": [
    {
     "data": {
      "text/plain": [
       "54703.00     0.002303\n",
       "55026.00     0.002024\n",
       "48472.40     0.001431\n",
       "65448.00     0.001043\n",
       "121068.00    0.001036\n",
       "               ...   \n",
       "48249.89     0.000007\n",
       "20487.14     0.000007\n",
       "53546.01     0.000007\n",
       "1607.00      0.000007\n",
       "7611.73      0.000007\n",
       "Name: OtherPay, Length: 109477, dtype: float64"
      ]
     },
     "execution_count": 207,
     "metadata": {},
     "output_type": "execute_result"
    }
   ],
   "source": [
    "#проверить на корретность полей, другие значения - другое - льготы-- очень маленький %, можно удалить\n",
    "df.OtherPay.value_counts(normalize=True) "
   ]
  },
  {
   "cell_type": "code",
   "execution_count": 33,
   "metadata": {},
   "outputs": [],
   "source": [
    "# переводим сумму float и удаляем все отрицательные и нулевые суммы\n",
    "df = df.drop(df[df.OtherPay.astype(float) <=0.0].index)"
   ]
  },
  {
   "cell_type": "code",
   "execution_count": null,
   "metadata": {},
   "outputs": [],
   "source": []
  },
  {
   "cell_type": "code",
   "execution_count": 209,
   "metadata": {
    "scrolled": true
   },
   "outputs": [
    {
     "data": {
      "text/plain": [
       "0.00         0.001955\n",
       "18594.00     0.000557\n",
       "123290.70    0.000380\n",
       "132242.50    0.000333\n",
       "105489.00    0.000285\n",
       "               ...   \n",
       "44250.28     0.000007\n",
       "74942.09     0.000007\n",
       "74942.84     0.000007\n",
       "55024.53     0.000007\n",
       "3072.00      0.000007\n",
       "Name: TotalPay, Length: 137357, dtype: float64"
      ]
     },
     "execution_count": 209,
     "metadata": {},
     "output_type": "execute_result"
    }
   ],
   "source": [
    "#проверить на корретность полей, другие значения - другое -- очень маленький %, можно удалить\n",
    "df.TotalPay.value_counts(normalize=True) "
   ]
  },
  {
   "cell_type": "code",
   "execution_count": null,
   "metadata": {},
   "outputs": [],
   "source": []
  },
  {
   "cell_type": "code",
   "execution_count": null,
   "metadata": {},
   "outputs": [],
   "source": []
  },
  {
   "cell_type": "code",
   "execution_count": null,
   "metadata": {},
   "outputs": [],
   "source": []
  },
  {
   "cell_type": "code",
   "execution_count": 48,
   "metadata": {},
   "outputs": [],
   "source": [
    "MEDICAL=['PATIENT','PARAMEDIC','MEDICAL','NURSE','MENTAL','HEALTH','PHYSICIAN','PSYCHIATRIC','NURSING','HOSPITAL','PHYSICAL','THERAP','PHARMAC','PSYCHOLOGIST','X-RAY','NUTRITIONIST','DIETITIAN','ANESTHETIST','EPIDEMIOLOGIST','DENTAL','CLINICAL','REHABILITATION','HLTH','PATHOLOGIST','DISEASE','CARE','SURGICAL','DENTIST','MORGUE','REHABILITATION','PATIENT','MED STAFF','EPIDEMIOLOGIST']\n",
    "df_MEDICAL = pd.DataFrame()\n",
    "for i in MEDICAL:\n",
    "    df_MEDICAL = df_MEDICAL.append(df[df['JobTitle'].str.upper().str.contains(i)]) # (df['Status']=='FT'))\n"
   ]
  },
  {
   "cell_type": "code",
   "execution_count": 52,
   "metadata": {
    "scrolled": true
   },
   "outputs": [
    {
     "data": {
      "text/plain": [
       "(35970, 13)"
      ]
     },
     "execution_count": 52,
     "metadata": {},
     "output_type": "execute_result"
    }
   ],
   "source": [
    "df_MEDICAL.shape"
   ]
  },
  {
   "cell_type": "code",
   "execution_count": null,
   "metadata": {},
   "outputs": [],
   "source": []
  },
  {
   "cell_type": "code",
   "execution_count": 270,
   "metadata": {
    "scrolled": false
   },
   "outputs": [
    {
     "data": {
      "text/plain": [
       "count     35970.000000\n",
       "mean      69555.358293\n",
       "std       48890.181816\n",
       "min           0.000000\n",
       "25%       29608.772500\n",
       "50%       64648.780000\n",
       "75%       97671.757500\n",
       "max      337204.860000\n",
       "Name: TotalPay, dtype: float64"
      ]
     },
     "execution_count": 270,
     "metadata": {},
     "output_type": "execute_result"
    }
   ],
   "source": [
    "df_MEDICAL.TotalPay.describe()"
   ]
  },
  {
   "cell_type": "code",
   "execution_count": 63,
   "metadata": {},
   "outputs": [],
   "source": [
    "pd.options.display.float_format = '{:,.1f}'.format #чтобы округлял значения до сотых:"
   ]
  },
  {
   "cell_type": "code",
   "execution_count": 13,
   "metadata": {
    "scrolled": true
   },
   "outputs": [
    {
     "data": {
      "text/html": [
       "<div>\n",
       "<style scoped>\n",
       "    .dataframe tbody tr th:only-of-type {\n",
       "        vertical-align: middle;\n",
       "    }\n",
       "\n",
       "    .dataframe tbody tr th {\n",
       "        vertical-align: top;\n",
       "    }\n",
       "\n",
       "    .dataframe thead th {\n",
       "        text-align: right;\n",
       "    }\n",
       "</style>\n",
       "<table border=\"1\" class=\"dataframe\">\n",
       "  <thead>\n",
       "    <tr style=\"text-align: right;\">\n",
       "      <th></th>\n",
       "      <th>median</th>\n",
       "      <th>max</th>\n",
       "      <th>mean</th>\n",
       "      <th>count</th>\n",
       "    </tr>\n",
       "    <tr>\n",
       "      <th>Year</th>\n",
       "      <th></th>\n",
       "      <th></th>\n",
       "      <th></th>\n",
       "      <th></th>\n",
       "    </tr>\n",
       "  </thead>\n",
       "  <tbody>\n",
       "    <tr>\n",
       "      <th>2011</th>\n",
       "      <td>61593.53</td>\n",
       "      <td>278569.21</td>\n",
       "      <td>66324.241025</td>\n",
       "      <td>9050</td>\n",
       "    </tr>\n",
       "    <tr>\n",
       "      <th>2012</th>\n",
       "      <td>64837.86</td>\n",
       "      <td>337204.86</td>\n",
       "      <td>69269.014755</td>\n",
       "      <td>8792</td>\n",
       "    </tr>\n",
       "    <tr>\n",
       "      <th>2013</th>\n",
       "      <td>66836.49</td>\n",
       "      <td>322886.84</td>\n",
       "      <td>71306.227018</td>\n",
       "      <td>9099</td>\n",
       "    </tr>\n",
       "    <tr>\n",
       "      <th>2014</th>\n",
       "      <td>66173.17</td>\n",
       "      <td>311650.36</td>\n",
       "      <td>71308.375140</td>\n",
       "      <td>9029</td>\n",
       "    </tr>\n",
       "  </tbody>\n",
       "</table>\n",
       "</div>"
      ],
      "text/plain": [
       "        median        max          mean  count\n",
       "Year                                          \n",
       "2011  61593.53  278569.21  66324.241025   9050\n",
       "2012  64837.86  337204.86  69269.014755   8792\n",
       "2013  66836.49  322886.84  71306.227018   9099\n",
       "2014  66173.17  311650.36  71308.375140   9029"
      ]
     },
     "execution_count": 13,
     "metadata": {},
     "output_type": "execute_result"
    }
   ],
   "source": [
    "dr3=df_MEDICAL.groupby(['Year'])['TotalPay'].agg(['median','max','mean','count']) \n",
    "dr3"
   ]
  },
  {
   "cell_type": "code",
   "execution_count": 260,
   "metadata": {
    "scrolled": true
   },
   "outputs": [
    {
     "name": "stdout",
     "output_type": "stream",
     "text": [
      "<class 'pandas.core.frame.DataFrame'>\n",
      "Int64Index: 4 entries, 2011 to 2014\n",
      "Data columns (total 4 columns):\n",
      " #   Column  Non-Null Count  Dtype  \n",
      "---  ------  --------------  -----  \n",
      " 0   median  4 non-null      float64\n",
      " 1   max     4 non-null      float64\n",
      " 2   mean    4 non-null      float64\n",
      " 3   count   4 non-null      int64  \n",
      "dtypes: float64(3), int64(1)\n",
      "memory usage: 160.0 bytes\n"
     ]
    }
   ],
   "source": [
    "dr3.info()"
   ]
  },
  {
   "cell_type": "code",
   "execution_count": 213,
   "metadata": {
    "scrolled": true
   },
   "outputs": [
    {
     "data": {
      "image/png": "[encoded data removed]",
      "text/plain": [
       "<Figure size 432x288 with 1 Axes>"
      ]
     },
     "metadata": {
      "needs_background": "light"
     },
     "output_type": "display_data"
    }
   ],
   "source": [
    "dr3.plot();"
   ]
  },
  {
   "cell_type": "code",
   "execution_count": null,
   "metadata": {},
   "outputs": [],
   "source": []
  },
  {
   "cell_type": "code",
   "execution_count": 14,
   "metadata": {},
   "outputs": [],
   "source": [
    "POLICE=['Sergeant','OFFICER','POLICE','Captain','Investigator','ATTORNEY','Criminalist','Examiner','Fingerprint','RESEARCH','Inspector','Fingerprint','Technician','Engineering','Assistant','Criminal','COMMISSIONER','ATTORNEY','Service','Witness']\n",
    "\n",
    "df_POLICE = pd.DataFrame()\n",
    "for i in POLICE:\n",
    "    df_POLICE = df_POLICE.append(df[df['JobTitle'].str.upper().str.contains(i)])"
   ]
  },
  {
   "cell_type": "code",
   "execution_count": 215,
   "metadata": {},
   "outputs": [
    {
     "data": {
      "text/plain": [
       "(22056, 13)"
      ]
     },
     "execution_count": 215,
     "metadata": {},
     "output_type": "execute_result"
    }
   ],
   "source": [
    "df_POLICE.shape"
   ]
  },
  {
   "cell_type": "code",
   "execution_count": 15,
   "metadata": {
    "scrolled": true
   },
   "outputs": [
    {
     "data": {
      "text/html": [
       "<div>\n",
       "<style scoped>\n",
       "    .dataframe tbody tr th:only-of-type {\n",
       "        vertical-align: middle;\n",
       "    }\n",
       "\n",
       "    .dataframe tbody tr th {\n",
       "        vertical-align: top;\n",
       "    }\n",
       "\n",
       "    .dataframe thead th {\n",
       "        text-align: right;\n",
       "    }\n",
       "</style>\n",
       "<table border=\"1\" class=\"dataframe\">\n",
       "  <thead>\n",
       "    <tr style=\"text-align: right;\">\n",
       "      <th></th>\n",
       "      <th>median</th>\n",
       "      <th>mean</th>\n",
       "      <th>max</th>\n",
       "      <th>count</th>\n",
       "    </tr>\n",
       "    <tr>\n",
       "      <th>Year</th>\n",
       "      <th></th>\n",
       "      <th></th>\n",
       "      <th></th>\n",
       "      <th></th>\n",
       "    </tr>\n",
       "  </thead>\n",
       "  <tbody>\n",
       "    <tr>\n",
       "      <th>2011</th>\n",
       "      <td>120814.870</td>\n",
       "      <td>115966.838634</td>\n",
       "      <td>538909.28</td>\n",
       "      <td>6209</td>\n",
       "    </tr>\n",
       "    <tr>\n",
       "      <th>2012</th>\n",
       "      <td>126039.055</td>\n",
       "      <td>114474.284551</td>\n",
       "      <td>321552.11</td>\n",
       "      <td>5216</td>\n",
       "    </tr>\n",
       "    <tr>\n",
       "      <th>2013</th>\n",
       "      <td>131131.240</td>\n",
       "      <td>117053.714736</td>\n",
       "      <td>339282.07</td>\n",
       "      <td>5340</td>\n",
       "    </tr>\n",
       "    <tr>\n",
       "      <th>2014</th>\n",
       "      <td>124433.290</td>\n",
       "      <td>114062.378728</td>\n",
       "      <td>339653.70</td>\n",
       "      <td>5291</td>\n",
       "    </tr>\n",
       "  </tbody>\n",
       "</table>\n",
       "</div>"
      ],
      "text/plain": [
       "          median           mean        max  count\n",
       "Year                                             \n",
       "2011  120814.870  115966.838634  538909.28   6209\n",
       "2012  126039.055  114474.284551  321552.11   5216\n",
       "2013  131131.240  117053.714736  339282.07   5340\n",
       "2014  124433.290  114062.378728  339653.70   5291"
      ]
     },
     "execution_count": 15,
     "metadata": {},
     "output_type": "execute_result"
    }
   ],
   "source": [
    "dr2=df_POLICE.groupby(['Year'])['TotalPay'].agg(['median','mean','max','count']) \n",
    "dr2"
   ]
  },
  {
   "cell_type": "code",
   "execution_count": 167,
   "metadata": {},
   "outputs": [
    {
     "data": {
      "text/plain": [
       "count     22056.000000\n",
       "mean     115420.151063\n",
       "std       46513.604873\n",
       "min           0.000000\n",
       "25%       82042.785000\n",
       "50%      125047.090000\n",
       "75%      145194.680000\n",
       "max      538909.280000\n",
       "Name: TotalPay, dtype: float64"
      ]
     },
     "execution_count": 167,
     "metadata": {},
     "output_type": "execute_result"
    }
   ],
   "source": [
    "df_POLICE.TotalPay.describe()"
   ]
  },
  {
   "cell_type": "code",
   "execution_count": null,
   "metadata": {},
   "outputs": [],
   "source": []
  },
  {
   "cell_type": "code",
   "execution_count": 16,
   "metadata": {},
   "outputs": [],
   "source": [
    "FIRE=['FIRE']\n",
    "\n",
    "df_FIRE = pd.DataFrame()\n",
    "for i in FIRE:\n",
    "    df_FIRE = df_FIRE.append(df[df['JobTitle'].str.upper().str.contains(i)])"
   ]
  },
  {
   "cell_type": "code",
   "execution_count": 218,
   "metadata": {},
   "outputs": [
    {
     "data": {
      "text/plain": [
       "(5849, 13)"
      ]
     },
     "execution_count": 218,
     "metadata": {},
     "output_type": "execute_result"
    }
   ],
   "source": [
    "df_FIRE.shape"
   ]
  },
  {
   "cell_type": "code",
   "execution_count": 17,
   "metadata": {
    "scrolled": false
   },
   "outputs": [
    {
     "data": {
      "text/html": [
       "<div>\n",
       "<style scoped>\n",
       "    .dataframe tbody tr th:only-of-type {\n",
       "        vertical-align: middle;\n",
       "    }\n",
       "\n",
       "    .dataframe tbody tr th {\n",
       "        vertical-align: top;\n",
       "    }\n",
       "\n",
       "    .dataframe thead th {\n",
       "        text-align: right;\n",
       "    }\n",
       "</style>\n",
       "<table border=\"1\" class=\"dataframe\">\n",
       "  <thead>\n",
       "    <tr style=\"text-align: right;\">\n",
       "      <th></th>\n",
       "      <th>median</th>\n",
       "      <th>mean</th>\n",
       "      <th>max</th>\n",
       "      <th>count</th>\n",
       "    </tr>\n",
       "    <tr>\n",
       "      <th>Year</th>\n",
       "      <th></th>\n",
       "      <th></th>\n",
       "      <th></th>\n",
       "      <th></th>\n",
       "    </tr>\n",
       "  </thead>\n",
       "  <tbody>\n",
       "    <tr>\n",
       "      <th>2011</th>\n",
       "      <td>145118.32</td>\n",
       "      <td>146199.623626</td>\n",
       "      <td>326373.19</td>\n",
       "      <td>1445</td>\n",
       "    </tr>\n",
       "    <tr>\n",
       "      <th>2012</th>\n",
       "      <td>154600.38</td>\n",
       "      <td>153230.201862</td>\n",
       "      <td>362844.66</td>\n",
       "      <td>1439</td>\n",
       "    </tr>\n",
       "    <tr>\n",
       "      <th>2013</th>\n",
       "      <td>162498.75</td>\n",
       "      <td>160559.874473</td>\n",
       "      <td>347102.32</td>\n",
       "      <td>1460</td>\n",
       "    </tr>\n",
       "    <tr>\n",
       "      <th>2014</th>\n",
       "      <td>153647.23</td>\n",
       "      <td>149280.622027</td>\n",
       "      <td>335484.96</td>\n",
       "      <td>1505</td>\n",
       "    </tr>\n",
       "  </tbody>\n",
       "</table>\n",
       "</div>"
      ],
      "text/plain": [
       "         median           mean        max  count\n",
       "Year                                            \n",
       "2011  145118.32  146199.623626  326373.19   1445\n",
       "2012  154600.38  153230.201862  362844.66   1439\n",
       "2013  162498.75  160559.874473  347102.32   1460\n",
       "2014  153647.23  149280.622027  335484.96   1505"
      ]
     },
     "execution_count": 17,
     "metadata": {},
     "output_type": "execute_result"
    }
   ],
   "source": [
    "dr1=df_FIRE.groupby(['Year'])['TotalPay'].agg(['median','mean','max','count']) \n",
    "dr1"
   ]
  },
  {
   "cell_type": "code",
   "execution_count": 171,
   "metadata": {},
   "outputs": [
    {
     "data": {
      "text/plain": [
       "count      5849.000000\n",
       "mean     152306.628398\n",
       "std       50620.994529\n",
       "min           0.000000\n",
       "25%      130620.810000\n",
       "50%      153963.940000\n",
       "75%      181586.290000\n",
       "max      362844.660000\n",
       "Name: TotalPay, dtype: float64"
      ]
     },
     "execution_count": 171,
     "metadata": {},
     "output_type": "execute_result"
    }
   ],
   "source": [
    "df_FIRE.TotalPay.describe()"
   ]
  },
  {
   "cell_type": "code",
   "execution_count": null,
   "metadata": {},
   "outputs": [],
   "source": []
  },
  {
   "cell_type": "code",
   "execution_count": 133,
   "metadata": {
    "scrolled": true
   },
   "outputs": [
    {
     "data": {
      "text/html": [
       "<div>\n",
       "<style scoped>\n",
       "    .dataframe tbody tr th:only-of-type {\n",
       "        vertical-align: middle;\n",
       "    }\n",
       "\n",
       "    .dataframe tbody tr th {\n",
       "        vertical-align: top;\n",
       "    }\n",
       "\n",
       "    .dataframe thead th {\n",
       "        text-align: right;\n",
       "    }\n",
       "</style>\n",
       "<table border=\"1\" class=\"dataframe\">\n",
       "  <thead>\n",
       "    <tr style=\"text-align: right;\">\n",
       "      <th></th>\n",
       "      <th>median</th>\n",
       "      <th>min</th>\n",
       "      <th>max</th>\n",
       "      <th>count</th>\n",
       "      <th>median</th>\n",
       "      <th>min</th>\n",
       "      <th>max</th>\n",
       "      <th>count</th>\n",
       "      <th>median</th>\n",
       "      <th>min</th>\n",
       "      <th>max</th>\n",
       "      <th>count</th>\n",
       "    </tr>\n",
       "    <tr>\n",
       "      <th>Year</th>\n",
       "      <th></th>\n",
       "      <th></th>\n",
       "      <th></th>\n",
       "      <th></th>\n",
       "      <th></th>\n",
       "      <th></th>\n",
       "      <th></th>\n",
       "      <th></th>\n",
       "      <th></th>\n",
       "      <th></th>\n",
       "      <th></th>\n",
       "      <th></th>\n",
       "    </tr>\n",
       "  </thead>\n",
       "  <tbody>\n",
       "    <tr>\n",
       "      <th>2011</th>\n",
       "      <td>147,765.0</td>\n",
       "      <td>22,239.4</td>\n",
       "      <td>326,373.2</td>\n",
       "      <td>1316</td>\n",
       "      <td>123,465.9</td>\n",
       "      <td>2,230.0</td>\n",
       "      <td>538,909.3</td>\n",
       "      <td>4246</td>\n",
       "      <td>69,178.2</td>\n",
       "      <td>839.6</td>\n",
       "      <td>278,569.2</td>\n",
       "      <td>4327</td>\n",
       "    </tr>\n",
       "    <tr>\n",
       "      <th>2012</th>\n",
       "      <td>158,027.6</td>\n",
       "      <td>25,138.3</td>\n",
       "      <td>362,844.7</td>\n",
       "      <td>1325</td>\n",
       "      <td>128,955.8</td>\n",
       "      <td>2,084.6</td>\n",
       "      <td>249,667.7</td>\n",
       "      <td>3530</td>\n",
       "      <td>73,693.9</td>\n",
       "      <td>312.2</td>\n",
       "      <td>337,204.9</td>\n",
       "      <td>4042</td>\n",
       "    </tr>\n",
       "    <tr>\n",
       "      <th>2013</th>\n",
       "      <td>165,918.4</td>\n",
       "      <td>19,646.6</td>\n",
       "      <td>347,102.3</td>\n",
       "      <td>1356</td>\n",
       "      <td>136,122.4</td>\n",
       "      <td>10,376.6</td>\n",
       "      <td>262,317.8</td>\n",
       "      <td>3493</td>\n",
       "      <td>80,213.1</td>\n",
       "      <td>1,149.8</td>\n",
       "      <td>286,416.2</td>\n",
       "      <td>4000</td>\n",
       "    </tr>\n",
       "    <tr>\n",
       "      <th>2014</th>\n",
       "      <td>157,963.4</td>\n",
       "      <td>7,870.4</td>\n",
       "      <td>335,485.0</td>\n",
       "      <td>1348</td>\n",
       "      <td>129,709.0</td>\n",
       "      <td>11,888.4</td>\n",
       "      <td>267,902.7</td>\n",
       "      <td>3545</td>\n",
       "      <td>75,018.7</td>\n",
       "      <td>1,083.1</td>\n",
       "      <td>258,571.0</td>\n",
       "      <td>4217</td>\n",
       "    </tr>\n",
       "  </tbody>\n",
       "</table>\n",
       "</div>"
      ],
      "text/plain": [
       "        median      min       max  count    median      min       max  count  \\\n",
       "Year                                                                           \n",
       "2011 147,765.0 22,239.4 326,373.2   1316 123,465.9  2,230.0 538,909.3   4246   \n",
       "2012 158,027.6 25,138.3 362,844.7   1325 128,955.8  2,084.6 249,667.7   3530   \n",
       "2013 165,918.4 19,646.6 347,102.3   1356 136,122.4 10,376.6 262,317.8   3493   \n",
       "2014 157,963.4  7,870.4 335,485.0   1348 129,709.0 11,888.4 267,902.7   3545   \n",
       "\n",
       "       median     min       max  count  \n",
       "Year                                    \n",
       "2011 69,178.2   839.6 278,569.2   4327  \n",
       "2012 73,693.9   312.2 337,204.9   4042  \n",
       "2013 80,213.1 1,149.8 286,416.2   4000  \n",
       "2014 75,018.7 1,083.1 258,571.0   4217  "
      ]
     },
     "execution_count": 133,
     "metadata": {},
     "output_type": "execute_result"
    }
   ],
   "source": [
    "dk=pd.concat([dr1,dr2,dr3],axis=1)\n",
    "\n",
    "\n",
    "dk"
   ]
  },
  {
   "cell_type": "code",
   "execution_count": null,
   "metadata": {},
   "outputs": [],
   "source": []
  },
  {
   "cell_type": "code",
   "execution_count": null,
   "metadata": {},
   "outputs": [],
   "source": []
  },
  {
   "cell_type": "markdown",
   "metadata": {},
   "source": [
    "СКОЛЬКО СОТРУДНИКОВ В КАЖДОМ ДЕПАРТАМЕНТЕ"
   ]
  },
  {
   "cell_type": "code",
   "execution_count": 242,
   "metadata": {
    "scrolled": true
   },
   "outputs": [
    {
     "name": "stdout",
     "output_type": "stream",
     "text": [
      "количество сотрудников относящихся к департаменту - пожарные 5185.0\n",
      "количество сотрудников относящихся к департаменту - полиция 16437.0\n",
      "количество сотрудников относящихся к департаменту - медицина 27396.0\n"
     ]
    }
   ],
   "source": [
    "#группировка по фио сотрудников в каждом департаменте, где дубликаты - False.\n",
    "dk=df_FIRE.groupby(df_FIRE.EmployeeName.duplicated()==False).count()\n",
    "\n",
    "#количество сотрудников относящихся к департаменту - пожарные\n",
    "print('количество сотрудников относящихся к департаменту - пожарные',(dk.Id[1]+dk.Id[0]/2))\n",
    "\n",
    "\n",
    "dk=df_POLICE.groupby(df_POLICE.EmployeeName.duplicated()==False).count()\n",
    "\n",
    "#количество сотрудников относящихся к департаменту - пожарные\n",
    "print('количество сотрудников относящихся к департаменту - полиция',(dk.Id[1]+dk.Id[0]/2))\n",
    "\n",
    "\n",
    "dk=df_MEDICAL.groupby(df_MEDICAL.EmployeeName.duplicated()==False).count()\n",
    "\n",
    "#количество сотрудников относящихся к департаменту - пожарные\n",
    "print('количество сотрудников относящихся к департаменту - медицина',(dk.Id[1]+dk.Id[0]/2))"
   ]
  },
  {
   "cell_type": "code",
   "execution_count": 246,
   "metadata": {
    "scrolled": true
   },
   "outputs": [
    {
     "data": {
      "text/html": [
       "<div>\n",
       "<style scoped>\n",
       "    .dataframe tbody tr th:only-of-type {\n",
       "        vertical-align: middle;\n",
       "    }\n",
       "\n",
       "    .dataframe tbody tr th {\n",
       "        vertical-align: top;\n",
       "    }\n",
       "\n",
       "    .dataframe thead th {\n",
       "        text-align: right;\n",
       "    }\n",
       "</style>\n",
       "<table border=\"1\" class=\"dataframe\">\n",
       "  <thead>\n",
       "    <tr style=\"text-align: right;\">\n",
       "      <th></th>\n",
       "      <th>Id</th>\n",
       "      <th>EmployeeName</th>\n",
       "      <th>JobTitle</th>\n",
       "      <th>BasePay</th>\n",
       "      <th>OvertimePay</th>\n",
       "      <th>OtherPay</th>\n",
       "      <th>Benefits</th>\n",
       "      <th>TotalPay</th>\n",
       "      <th>TotalPayBenefits</th>\n",
       "      <th>Year</th>\n",
       "      <th>Notes</th>\n",
       "      <th>Agency</th>\n",
       "      <th>Status</th>\n",
       "    </tr>\n",
       "    <tr>\n",
       "      <th>EmployeeName</th>\n",
       "      <th></th>\n",
       "      <th></th>\n",
       "      <th></th>\n",
       "      <th></th>\n",
       "      <th></th>\n",
       "      <th></th>\n",
       "      <th></th>\n",
       "      <th></th>\n",
       "      <th></th>\n",
       "      <th></th>\n",
       "      <th></th>\n",
       "      <th></th>\n",
       "      <th></th>\n",
       "    </tr>\n",
       "  </thead>\n",
       "  <tbody>\n",
       "    <tr>\n",
       "      <th>False</th>\n",
       "      <td>11238</td>\n",
       "      <td>11238</td>\n",
       "      <td>11238</td>\n",
       "      <td>11212</td>\n",
       "      <td>11212</td>\n",
       "      <td>11212</td>\n",
       "      <td>9001</td>\n",
       "      <td>11238</td>\n",
       "      <td>11238</td>\n",
       "      <td>11238</td>\n",
       "      <td>0</td>\n",
       "      <td>11238</td>\n",
       "      <td>4808</td>\n",
       "    </tr>\n",
       "    <tr>\n",
       "      <th>True</th>\n",
       "      <td>10818</td>\n",
       "      <td>10818</td>\n",
       "      <td>10818</td>\n",
       "      <td>10722</td>\n",
       "      <td>10722</td>\n",
       "      <td>10722</td>\n",
       "      <td>6846</td>\n",
       "      <td>10818</td>\n",
       "      <td>10818</td>\n",
       "      <td>10818</td>\n",
       "      <td>0</td>\n",
       "      <td>10818</td>\n",
       "      <td>483</td>\n",
       "    </tr>\n",
       "  </tbody>\n",
       "</table>\n",
       "</div>"
      ],
      "text/plain": [
       "                 Id  EmployeeName  JobTitle  BasePay  OvertimePay  OtherPay  \\\n",
       "EmployeeName                                                                  \n",
       "False         11238         11238     11238    11212        11212     11212   \n",
       "True          10818         10818     10818    10722        10722     10722   \n",
       "\n",
       "              Benefits  TotalPay  TotalPayBenefits   Year  Notes  Agency  \\\n",
       "EmployeeName                                                               \n",
       "False             9001     11238             11238  11238      0   11238   \n",
       "True              6846     10818             10818  10818      0   10818   \n",
       "\n",
       "              Status  \n",
       "EmployeeName          \n",
       "False           4808  \n",
       "True             483  "
      ]
     },
     "execution_count": 246,
     "metadata": {},
     "output_type": "execute_result"
    }
   ],
   "source": [
    "dk=df_POLICE.groupby(df_POLICE.EmployeeName.duplicated()==False).count()\n",
    "dk"
   ]
  },
  {
   "cell_type": "code",
   "execution_count": 233,
   "metadata": {
    "scrolled": false
   },
   "outputs": [
    {
     "data": {
      "text/plain": [
       "5849"
      ]
     },
     "execution_count": 233,
     "metadata": {},
     "output_type": "execute_result"
    }
   ],
   "source": [
    "dft=df_FIRE.shape\n",
    "dft[0]"
   ]
  },
  {
   "cell_type": "code",
   "execution_count": 239,
   "metadata": {
    "scrolled": false
   },
   "outputs": [
    {
     "data": {
      "text/plain": [
       "(1328, 4521)"
      ]
     },
     "execution_count": 239,
     "metadata": {},
     "output_type": "execute_result"
    }
   ],
   "source": [
    "#dk.EmployeeName=='False'\n",
    "dk.Id[0], dk.Id[1]"
   ]
  },
  {
   "cell_type": "code",
   "execution_count": null,
   "metadata": {},
   "outputs": [],
   "source": []
  },
  {
   "cell_type": "markdown",
   "metadata": {},
   "source": [
    "сравним КАК ВЕДУТ СЕБЯ ЗНАЧЕНИЯ МЕЖДУ ДЕПАРТАМЕНТАМИ"
   ]
  },
  {
   "cell_type": "code",
   "execution_count": 18,
   "metadata": {
    "scrolled": false
   },
   "outputs": [
    {
     "data": {
      "image/png": "[encoded data removed]",
      "text/plain": [
       "<Figure size 432x288 with 1 Axes>"
      ]
     },
     "metadata": {
      "needs_background": "light"
     },
     "output_type": "display_data"
    }
   ],
   "source": [
    "plt.title('Медиана', fontsize=15)\n",
    "dr3['median'].plot(color='green',linewidth=5,label='медицина')\n",
    "dr2['median'].plot(color='blue',linewidth=5, label='=полиция')\n",
    "dr1['median'].plot(color='red',linewidth=5, label='пожарные')\n",
    "plt.legend(loc='best')\n",
    "plt.show();\n"
   ]
  },
  {
   "cell_type": "code",
   "execution_count": null,
   "metadata": {},
   "outputs": [],
   "source": []
  },
  {
   "cell_type": "code",
   "execution_count": 280,
   "metadata": {},
   "outputs": [
    {
     "data": {
      "image/png": "[encoded data removed]",
      "text/plain": [
       "<Figure size 432x288 with 1 Axes>"
      ]
     },
     "metadata": {
      "needs_background": "light"
     },
     "output_type": "display_data"
    }
   ],
   "source": [
    "plt.title('Среднее значение зп', fontsize=15)\n",
    "dr3['mean'].plot(color='green',linewidth=5, label='медицина')\n",
    "dr2['mean'].plot(color='blue',linewidth=5, label='полиция')\n",
    "dr1['mean'].plot(color='red',linewidth=5, label='пожарные')\n",
    "plt.legend(loc='best')\n",
    "plt.show();"
   ]
  },
  {
   "cell_type": "code",
   "execution_count": null,
   "metadata": {},
   "outputs": [],
   "source": []
  },
  {
   "cell_type": "code",
   "execution_count": 112,
   "metadata": {
    "scrolled": false
   },
   "outputs": [
    {
     "data": {
      "image/png": "[encoded data removed]",
      "text/plain": [
       "<Figure size 432x288 with 1 Axes>"
      ]
     },
     "metadata": {
      "needs_background": "light"
     },
     "output_type": "display_data"
    }
   ],
   "source": [
    "plt.title('Максимальное значение зп', fontsize=15)\n",
    "dr3['max'].plot(color='green',linewidth=5,label='медицина')\n",
    "dr2['max'].plot(color='blue',linewidth=5, label='полиция')\n",
    "dr1['max'].plot(color='red',linewidth=5, label='пожарные')\n",
    "plt.legend(loc='best')\n",
    "plt.show();"
   ]
  },
  {
   "cell_type": "code",
   "execution_count": null,
   "metadata": {},
   "outputs": [],
   "source": []
  },
  {
   "cell_type": "code",
   "execution_count": null,
   "metadata": {},
   "outputs": [],
   "source": []
  },
  {
   "cell_type": "markdown",
   "metadata": {},
   "source": [
    "ИНФЛЯЦИЯ"
   ]
  },
  {
   "cell_type": "code",
   "execution_count": null,
   "metadata": {},
   "outputs": [],
   "source": [
    "Уровень инфляции в США в 2019 году составил 1,81%, что на 0,63% меньше, чем в 2018 году. \n",
    "Уровень инфляции в США в 2018 году составил 2,44%, что на 0,31% больше, чем в 2017 году.\n",
    "Уровень инфляции в США в 2017 году составил 2,13%, что на 0,87% больше, чем в 2016 году.\n",
    "Уровень инфляции в США в 2016 году составил 1,26%, что на 1,14% больше, чем в 2015 году. \n",
    "2014\t1.62%\t0.16%\n",
    "2013\t1.46%\t-0.60%\n",
    "2012\t2.07%\t-1.09%\n",
    "2011\t3.16%\t1.52%\n",
    "2015- 0.12"
   ]
  },
  {
   "cell_type": "code",
   "execution_count": 23,
   "metadata": {},
   "outputs": [],
   "source": [
    "# данные по инфляции за необходимые года\n",
    "inf=pd.DataFrame()\n",
    "inf = pd.DataFrame({'YEAR': ['2011', '2012', '2013','2014'], 'Inflation Rate (%)': [3.16, 2.07, 1.46,1.62]})\n"
   ]
  },
  {
   "cell_type": "code",
   "execution_count": 24,
   "metadata": {
    "scrolled": true
   },
   "outputs": [
    {
     "data": {
      "text/html": [
       "<div>\n",
       "<style scoped>\n",
       "    .dataframe tbody tr th:only-of-type {\n",
       "        vertical-align: middle;\n",
       "    }\n",
       "\n",
       "    .dataframe tbody tr th {\n",
       "        vertical-align: top;\n",
       "    }\n",
       "\n",
       "    .dataframe thead th {\n",
       "        text-align: right;\n",
       "    }\n",
       "</style>\n",
       "<table border=\"1\" class=\"dataframe\">\n",
       "  <thead>\n",
       "    <tr style=\"text-align: right;\">\n",
       "      <th></th>\n",
       "      <th>YEAR</th>\n",
       "      <th>Inflation Rate (%)</th>\n",
       "    </tr>\n",
       "  </thead>\n",
       "  <tbody>\n",
       "    <tr>\n",
       "      <th>0</th>\n",
       "      <td>2011</td>\n",
       "      <td>3.16</td>\n",
       "    </tr>\n",
       "    <tr>\n",
       "      <th>1</th>\n",
       "      <td>2012</td>\n",
       "      <td>2.07</td>\n",
       "    </tr>\n",
       "    <tr>\n",
       "      <th>2</th>\n",
       "      <td>2013</td>\n",
       "      <td>1.46</td>\n",
       "    </tr>\n",
       "    <tr>\n",
       "      <th>3</th>\n",
       "      <td>2014</td>\n",
       "      <td>1.62</td>\n",
       "    </tr>\n",
       "  </tbody>\n",
       "</table>\n",
       "</div>"
      ],
      "text/plain": [
       "   YEAR  Inflation Rate (%)\n",
       "0  2011                3.16\n",
       "1  2012                2.07\n",
       "2  2013                1.46\n",
       "3  2014                1.62"
      ]
     },
     "execution_count": 24,
     "metadata": {},
     "output_type": "execute_result"
    }
   ],
   "source": [
    "inf"
   ]
  },
  {
   "cell_type": "code",
   "execution_count": 113,
   "metadata": {
    "scrolled": true
   },
   "outputs": [
    {
     "data": {
      "text/plain": [
       "<bound method Series.median of Year\n",
       "2011    105934.67\n",
       "2012    110847.10\n",
       "2013    116956.70\n",
       "2014    112703.72\n",
       "Name: BasePay, dtype: float64>"
      ]
     },
     "execution_count": 113,
     "metadata": {},
     "output_type": "execute_result"
    }
   ],
   "source": [
    "dr1=df_FIRE.groupby(['Year'])['BasePay'].median() \n",
    "dr2=df_POLICE.groupby(['Year'])['BasePay'].median() \n",
    "dr3=df_MEDICAL.groupby(['Year'])['BasePay'].median() \n",
    "\n",
    "dr1.median"
   ]
  },
  {
   "cell_type": "code",
   "execution_count": 122,
   "metadata": {
    "scrolled": false
   },
   "outputs": [
    {
     "data": {
      "image/png": "[encoded data removed]",
      "text/plain": [
       "<Figure size 1080x504 with 1 Axes>"
      ]
     },
     "metadata": {
      "needs_background": "light"
     },
     "output_type": "display_data"
    }
   ],
   "source": [
    "fig,axes=plt.subplots()\n",
    "#fig.suptitle('Уровень инфляции', y = 1.2,  fontsize = 30)\n",
    "#fig, axs = plt.subplots(figsize=(12, 4)); # Create an empty matplotlib Figure and Axes\n",
    "#air_quality.plot.area(ax=axs); # Use pandas to put the area plot on the prepared Figure/Axes\n",
    "#plt.set_ylabel(\"Уровень инфляции\"); # Do any matplotlib customization you like\n",
    "#fig.savefig(\"no2_concentrations.png\")  # Save the Figure/Axes using the existing matplotlib method.\n",
    "\n",
    "\n",
    "\n",
    "#inf.plot('YEAR')  # график инфляции\n",
    "\n",
    "\n",
    "\n",
    "plt.title('Уровень инфляции зп', fontsize=15)\n",
    "dr3.plot(color='green',linewidth=5, label='медицина')\n",
    "dr2.plot(color='blue',linewidth=5, label='полиция',linestyle='-.')\n",
    "dr1.plot(color='red',linewidth=5, label='пожарные',linestyle='--')\n",
    "\n",
    "plt.legend(loc='best')\n",
    "fig.set_figheight(7)\n",
    "fig.set_figwidth(15)\n",
    "plt.show()    "
   ]
  },
  {
   "cell_type": "code",
   "execution_count": null,
   "metadata": {},
   "outputs": [],
   "source": []
  },
  {
   "cell_type": "code",
   "execution_count": null,
   "metadata": {},
   "outputs": [],
   "source": []
  },
  {
   "cell_type": "code",
   "execution_count": null,
   "metadata": {},
   "outputs": [],
   "source": []
  },
  {
   "cell_type": "markdown",
   "metadata": {},
   "source": [
    "Как распределяются базовая оплата, сверхурочная работа и льготы между разными группами\n",
    "'BasePay','OvertimePay','OtherPay'"
   ]
  },
  {
   "cell_type": "code",
   "execution_count": 254,
   "metadata": {
    "scrolled": true
   },
   "outputs": [
    {
     "data": {
      "text/plain": [
       "count      5345.000000\n",
       "mean     113261.198614\n",
       "std       26067.148122\n",
       "min        6192.190000\n",
       "25%      105934.660000\n",
       "50%      112703.730000\n",
       "75%      127456.920000\n",
       "max      252423.600000\n",
       "Name: BasePay, dtype: float64"
      ]
     },
     "execution_count": 254,
     "metadata": {},
     "output_type": "execute_result"
    }
   ],
   "source": [
    "df_FIRE['BasePay'].describe()"
   ]
  },
  {
   "cell_type": "code",
   "execution_count": 284,
   "metadata": {},
   "outputs": [],
   "source": [
    "# чтобы было лучше видно на графике, разделим на 1000\n",
    "df_FIRE['BasePay1']=df_FIRE['BasePay']/1000\n",
    "df_POLICE['BasePay1']=df_POLICE['BasePay']/1000\n",
    "df_MEDICAL['BasePay1']=df_MEDICAL['BasePay']/1000"
   ]
  },
  {
   "cell_type": "code",
   "execution_count": 311,
   "metadata": {
    "scrolled": false
   },
   "outputs": [
    {
     "data": {
      "image/png": "[encoded data removed]",
      "text/plain": [
       "<Figure size 1440x360 with 3 Axes>"
      ]
     },
     "metadata": {
      "needs_background": "light"
     },
     "output_type": "display_data"
    }
   ],
   "source": [
    "fig, axes =plt.subplots(1,3)\n",
    "\n",
    "#  Заголовок области Figure:\n",
    "fig.suptitle('Базовая оплата',\n",
    "             y = 1.2,\n",
    "             fontsize = 30)\n",
    "\n",
    "axes[0].set_title('Пожарные',\n",
    "                fontfamily = 'serif',\n",
    "                fontstyle = 'italic',\n",
    "                fontsize = 15)\n",
    "axes[0].hist(df_FIRE['BasePay1'],range=(0,250))\n",
    "\n",
    "axes[1].set_title('Полиция',\n",
    "                fontfamily = 'fantasy',\n",
    "                fontstyle = 'oblique',\n",
    "                fontsize = 15)\n",
    "axes[1].hist(df_POLICE['BasePay1'])\n",
    "\n",
    "axes[2].set_title('Медицина',\n",
    "                fontfamily = 'monospace',\n",
    "                fontstyle = 'normal',\n",
    "                fontsize = 15)\n",
    "axes[2].hist(df_MEDICAL['BasePay1'])\n",
    "\n",
    "\n",
    "\n",
    "fig.set_figheight(5)\n",
    "fig.set_figwidth(20)\n",
    "\n",
    "plt.show()\n",
    "\n"
   ]
  },
  {
   "cell_type": "code",
   "execution_count": null,
   "metadata": {},
   "outputs": [],
   "source": []
  },
  {
   "cell_type": "code",
   "execution_count": 19,
   "metadata": {},
   "outputs": [
    {
     "name": "stdout",
     "output_type": "stream",
     "text": [
      "4         134.40160\n",
      "6          92.49201\n",
      "8         176.93264\n",
      "9         285.26200\n",
      "10        194.99939\n",
      "            ...    \n",
      "145729      4.23204\n",
      "147556      1.06324\n",
      "148021      0.68871\n",
      "148209      0.45914\n",
      "148554      0.07333\n",
      "Name: OvertimePay1, Length: 5849, dtype: float64\n"
     ]
    }
   ],
   "source": [
    "# чтобы было лучше видно на графике, разделим на 1000\n",
    "df_FIRE['OvertimePay1']=df_FIRE['OvertimePay']/1000\n",
    "df_POLICE['OvertimePay1']=df_POLICE['OvertimePay']/1000\n",
    "df_MEDICAL['OvertimePay1']=df_MEDICAL['OvertimePay']/1000\n",
    "\n",
    "print(df_FIRE['OvertimePay1'])"
   ]
  },
  {
   "cell_type": "code",
   "execution_count": 317,
   "metadata": {
    "scrolled": true
   },
   "outputs": [
    {
     "data": {
      "text/plain": [
       "count    5849.000000\n",
       "mean      110.395201\n",
       "std        31.289141\n",
       "min         0.073330\n",
       "25%       105.934650\n",
       "50%       112.190000\n",
       "75%       127.124120\n",
       "max       313.686010\n",
       "Name: OvertimePay1, dtype: float64"
      ]
     },
     "execution_count": 317,
     "metadata": {},
     "output_type": "execute_result"
    }
   ],
   "source": [
    "df_FIRE['OvertimePay1'].describe()"
   ]
  },
  {
   "cell_type": "code",
   "execution_count": 315,
   "metadata": {},
   "outputs": [
    {
     "data": {
      "image/png": "[encoded data removed]",
      "text/plain": [
       "<Figure size 1440x360 with 3 Axes>"
      ]
     },
     "metadata": {
      "needs_background": "light"
     },
     "output_type": "display_data"
    }
   ],
   "source": [
    "fig, axes =plt.subplots(1,3)\n",
    "\n",
    "\n",
    "#  Заголовок области Figure:\n",
    "fig.suptitle('Оплата сверхурочной работы',\n",
    "             y = 1.2,\n",
    "             fontsize = 30)\n",
    "\n",
    "axes[0].set_title('Пожарные',\n",
    "                fontfamily = 'serif',\n",
    "                fontstyle = 'italic',\n",
    "                fontsize = 15)\n",
    "axes[0].hist(df_FIRE['OvertimePay1'],range=(0,250))\n",
    "\n",
    "axes[1].set_title('Полиция',\n",
    "                fontfamily = 'fantasy',\n",
    "                fontstyle = 'oblique',\n",
    "                fontsize = 15)\n",
    "axes[1].hist(df_POLICE['OvertimePay1'])\n",
    "\n",
    "axes[2].set_title('Медицина',\n",
    "                fontfamily = 'monospace',\n",
    "                fontstyle = 'normal',\n",
    "                fontsize = 15)\n",
    "axes[2].hist(df_MEDICAL['OvertimePay1'])\n",
    "\n",
    "\n",
    "\n",
    "fig.set_figheight(5)\n",
    "fig.set_figwidth(20)\n",
    "\n",
    "plt.show()\n"
   ]
  },
  {
   "cell_type": "code",
   "execution_count": null,
   "metadata": {},
   "outputs": [],
   "source": []
  },
  {
   "cell_type": "code",
   "execution_count": 320,
   "metadata": {},
   "outputs": [],
   "source": [
    "# чтобы было лучше видно на графике, разделим на 1000\n",
    "df_FIRE['OtherPay1']=df_FIRE['OtherPay']/1000\n",
    "df_POLICE['OtherPay1']=df_POLICE['OtherPay']/1000\n",
    "df_MEDICAL['OtherPay1']=df_MEDICAL['OtherPay']/1000"
   ]
  },
  {
   "cell_type": "code",
   "execution_count": 323,
   "metadata": {
    "scrolled": true
   },
   "outputs": [
    {
     "data": {
      "text/plain": [
       "112190.0"
      ]
     },
     "execution_count": 323,
     "metadata": {},
     "output_type": "execute_result"
    }
   ],
   "source": [
    "df_FIRE['OtherPay'].median()  #describe()"
   ]
  },
  {
   "cell_type": "code",
   "execution_count": 322,
   "metadata": {
    "scrolled": true
   },
   "outputs": [
    {
     "data": {
      "image/png": "[encoded data removed]",
      "text/plain": [
       "<Figure size 1440x360 with 3 Axes>"
      ]
     },
     "metadata": {
      "needs_background": "light"
     },
     "output_type": "display_data"
    }
   ],
   "source": [
    "fig, axes =plt.subplots(1,3)\n",
    "\n",
    "#  Заголовок области Figure:\n",
    "fig.suptitle('Льготы',\n",
    "             y = 1.2,\n",
    "             fontsize = 30)\n",
    "\n",
    "axes[0].set_title('Пожарные',\n",
    "                fontfamily = 'serif',\n",
    "                fontstyle = 'italic',\n",
    "                fontsize = 15)\n",
    "axes[0].hist(df_FIRE['OtherPay1'],range=(0,250))\n",
    "\n",
    "axes[1].set_title('Полиция',\n",
    "                fontfamily = 'fantasy',\n",
    "                fontstyle = 'oblique',\n",
    "                fontsize = 15)\n",
    "axes[1].hist(df_POLICE['OtherPay1'])\n",
    "\n",
    "axes[2].set_title('Медицина',\n",
    "                fontfamily = 'monospace',\n",
    "                fontstyle = 'normal',\n",
    "                fontsize = 15)\n",
    "axes[2].hist(df_MEDICAL['OtherPay1'])\n",
    "\n",
    "\n",
    "\n",
    "fig.set_figheight(5)\n",
    "fig.set_figwidth(20)\n",
    "\n",
    "plt.show()\n"
   ]
  },
  {
   "cell_type": "code",
   "execution_count": null,
   "metadata": {},
   "outputs": [],
   "source": []
  },
  {
   "cell_type": "code",
   "execution_count": null,
   "metadata": {},
   "outputs": [],
   "source": []
  },
  {
   "cell_type": "code",
   "execution_count": null,
   "metadata": {},
   "outputs": [],
   "source": []
  },
  {
   "cell_type": "code",
   "execution_count": null,
   "metadata": {},
   "outputs": [],
   "source": []
  },
  {
   "cell_type": "markdown",
   "metadata": {},
   "source": [
    "ГИСТОГРАММА С ШАГОМ 5К"
   ]
  },
  {
   "cell_type": "code",
   "execution_count": null,
   "metadata": {},
   "outputs": [],
   "source": [
    "\n",
    "BasePay - 42 000 % 5 000 = 8 \n",
    "[42 000 % 5 000] x 5 000 = 40 000\n",
    "\n",
    "\n",
    "df.basePay.map(lambda x: x ...)\n",
    "\n"
   ]
  },
  {
   "cell_type": "code",
   "execution_count": 23,
   "metadata": {
    "scrolled": true
   },
   "outputs": [
    {
     "ename": "ValueError",
     "evalue": "The truth value of a Series is ambiguous. Use a.empty, a.bool(), a.item(), a.any() or a.all().",
     "output_type": "error",
     "traceback": [
      "\u001b[1;31m---------------------------------------------------------------------------\u001b[0m",
      "\u001b[1;31mValueError\u001b[0m                                Traceback (most recent call last)",
      "\u001b[1;32m<ipython-input-23-d57c563f2b8a>\u001b[0m in \u001b[0;36m<module>\u001b[1;34m\u001b[0m\n\u001b[0;32m      5\u001b[0m \u001b[1;33m\u001b[0m\u001b[0m\n\u001b[0;32m      6\u001b[0m \u001b[1;31m#plt.hist(data, bins = np.arange(min(data), max(data) + 1, 1))\u001b[0m\u001b[1;33m\u001b[0m\u001b[1;33m\u001b[0m\u001b[1;33m\u001b[0m\u001b[0m\n\u001b[1;32m----> 7\u001b[1;33m \u001b[0mplt\u001b[0m\u001b[1;33m.\u001b[0m\u001b[0mhist\u001b[0m\u001b[1;33m(\u001b[0m\u001b[0mdata\u001b[0m\u001b[1;33m,\u001b[0m \u001b[0mbins\u001b[0m \u001b[1;33m=\u001b[0m \u001b[0mnp\u001b[0m\u001b[1;33m.\u001b[0m\u001b[0marange\u001b[0m\u001b[1;33m(\u001b[0m\u001b[0msd\u001b[0m\u001b[1;33m,\u001b[0m \u001b[0mds\u001b[0m \u001b[1;33m+\u001b[0m \u001b[1;36m1\u001b[0m\u001b[1;33m,\u001b[0m \u001b[1;36m1\u001b[0m\u001b[1;33m)\u001b[0m\u001b[1;33m)\u001b[0m\u001b[1;33m\u001b[0m\u001b[1;33m\u001b[0m\u001b[0m\n\u001b[0m\u001b[0;32m      8\u001b[0m \u001b[0mplt\u001b[0m\u001b[1;33m.\u001b[0m\u001b[0mshow\u001b[0m\u001b[1;33m(\u001b[0m\u001b[1;33m)\u001b[0m\u001b[1;33m\u001b[0m\u001b[1;33m\u001b[0m\u001b[0m\n",
      "\u001b[1;32m~\\anaconda3\\lib\\site-packages\\pandas\\core\\generic.py\u001b[0m in \u001b[0;36m__nonzero__\u001b[1;34m(self)\u001b[0m\n\u001b[0;32m   1477\u001b[0m     \u001b[1;32mdef\u001b[0m \u001b[0m__nonzero__\u001b[0m\u001b[1;33m(\u001b[0m\u001b[0mself\u001b[0m\u001b[1;33m)\u001b[0m\u001b[1;33m:\u001b[0m\u001b[1;33m\u001b[0m\u001b[1;33m\u001b[0m\u001b[0m\n\u001b[0;32m   1478\u001b[0m         raise ValueError(\n\u001b[1;32m-> 1479\u001b[1;33m             \u001b[1;34mf\"The truth value of a {type(self).__name__} is ambiguous. \"\u001b[0m\u001b[1;33m\u001b[0m\u001b[1;33m\u001b[0m\u001b[0m\n\u001b[0m\u001b[0;32m   1480\u001b[0m             \u001b[1;34m\"Use a.empty, a.bool(), a.item(), a.any() or a.all().\"\u001b[0m\u001b[1;33m\u001b[0m\u001b[1;33m\u001b[0m\u001b[0m\n\u001b[0;32m   1481\u001b[0m         )\n",
      "\u001b[1;31mValueError\u001b[0m: The truth value of a Series is ambiguous. Use a.empty, a.bool(), a.item(), a.any() or a.all()."
     ]
    }
   ],
   "source": [
    "#fig, axes =plt.subplots()\n",
    "data = df_FIRE.BasePay\n",
    "#print(min(data), max(data))\n",
    "sd=(data-min(data))%5000\n",
    "ds=(min(data)%5000)*5000\n",
    "\n",
    "#plt.hist(data, bins = np.arange(min(data), max(data) + 1, 1))\n",
    "plt.hist(data, bins = np.arange(sd, ds + 1, 1))\n",
    "plt.show()"
   ]
  },
  {
   "cell_type": "code",
   "execution_count": null,
   "metadata": {},
   "outputs": [],
   "source": []
  },
  {
   "cell_type": "code",
   "execution_count": null,
   "metadata": {},
   "outputs": [],
   "source": []
  },
  {
   "cell_type": "code",
   "execution_count": null,
   "metadata": {},
   "outputs": [],
   "source": []
  },
  {
   "cell_type": "markdown",
   "metadata": {},
   "source": [
    "На базе линейной регрессии  прогноз по должности CLINICAL NURSE SPECIALIST"
   ]
  },
  {
   "cell_type": "code",
   "execution_count": 66,
   "metadata": {
    "scrolled": true
   },
   "outputs": [],
   "source": [
    "\n",
    "df_NURSE = pd.DataFrame()\n",
    "df_NURSE = df_NURSE.append(df[df['JobTitle'].str.upper().str.contains('CLINICAL NURSE SPECIALIST')])"
   ]
  },
  {
   "cell_type": "code",
   "execution_count": 84,
   "metadata": {},
   "outputs": [
    {
     "data": {
      "text/html": [
       "<div>\n",
       "<style scoped>\n",
       "    .dataframe tbody tr th:only-of-type {\n",
       "        vertical-align: middle;\n",
       "    }\n",
       "\n",
       "    .dataframe tbody tr th {\n",
       "        vertical-align: top;\n",
       "    }\n",
       "\n",
       "    .dataframe thead th {\n",
       "        text-align: right;\n",
       "    }\n",
       "</style>\n",
       "<table border=\"1\" class=\"dataframe\">\n",
       "  <thead>\n",
       "    <tr style=\"text-align: right;\">\n",
       "      <th></th>\n",
       "      <th>Id</th>\n",
       "      <th>EmployeeName</th>\n",
       "      <th>JobTitle</th>\n",
       "      <th>BasePay</th>\n",
       "      <th>OvertimePay</th>\n",
       "      <th>OtherPay</th>\n",
       "      <th>Benefits</th>\n",
       "      <th>TotalPay</th>\n",
       "      <th>TotalPayBenefits</th>\n",
       "      <th>Year</th>\n",
       "      <th>Notes</th>\n",
       "      <th>Agency</th>\n",
       "      <th>Status</th>\n",
       "    </tr>\n",
       "  </thead>\n",
       "  <tbody>\n",
       "    <tr>\n",
       "      <th>939</th>\n",
       "      <td>940</td>\n",
       "      <td>AMALIA FYLES</td>\n",
       "      <td>CLINICAL NURSE SPECIALIST</td>\n",
       "      <td>169,572.0</td>\n",
       "      <td>169,572.0</td>\n",
       "      <td>169,572.0</td>\n",
       "      <td>NaN</td>\n",
       "      <td>171,566.8</td>\n",
       "      <td>171,566.8</td>\n",
       "      <td>2011</td>\n",
       "      <td>nan</td>\n",
       "      <td>San Francisco</td>\n",
       "      <td>NaN</td>\n",
       "    </tr>\n",
       "    <tr>\n",
       "      <th>948</th>\n",
       "      <td>949</td>\n",
       "      <td>SHERYL CALSON</td>\n",
       "      <td>CLINICAL NURSE SPECIALIST</td>\n",
       "      <td>169,572.0</td>\n",
       "      <td>169,572.0</td>\n",
       "      <td>169,572.0</td>\n",
       "      <td>NaN</td>\n",
       "      <td>171,093.4</td>\n",
       "      <td>171,093.4</td>\n",
       "      <td>2011</td>\n",
       "      <td>nan</td>\n",
       "      <td>San Francisco</td>\n",
       "      <td>NaN</td>\n",
       "    </tr>\n",
       "    <tr>\n",
       "      <th>995</th>\n",
       "      <td>996</td>\n",
       "      <td>ANTIONETTE GRIFFIN</td>\n",
       "      <td>CLINICAL NURSE SPECIALIST</td>\n",
       "      <td>169,572.1</td>\n",
       "      <td>169,572.1</td>\n",
       "      <td>169,572.1</td>\n",
       "      <td>NaN</td>\n",
       "      <td>169,822.1</td>\n",
       "      <td>169,822.1</td>\n",
       "      <td>2011</td>\n",
       "      <td>nan</td>\n",
       "      <td>San Francisco</td>\n",
       "      <td>NaN</td>\n",
       "    </tr>\n",
       "    <tr>\n",
       "      <th>996</th>\n",
       "      <td>997</td>\n",
       "      <td>KATHERINE MAH</td>\n",
       "      <td>CLINICAL NURSE SPECIALIST</td>\n",
       "      <td>169,572.1</td>\n",
       "      <td>169,572.1</td>\n",
       "      <td>169,572.1</td>\n",
       "      <td>NaN</td>\n",
       "      <td>169,822.1</td>\n",
       "      <td>169,822.1</td>\n",
       "      <td>2011</td>\n",
       "      <td>nan</td>\n",
       "      <td>San Francisco</td>\n",
       "      <td>NaN</td>\n",
       "    </tr>\n",
       "    <tr>\n",
       "      <th>997</th>\n",
       "      <td>998</td>\n",
       "      <td>CHRISTINE DAVENPORT</td>\n",
       "      <td>CLINICAL NURSE SPECIALIST</td>\n",
       "      <td>169,572.0</td>\n",
       "      <td>169,572.0</td>\n",
       "      <td>169,572.0</td>\n",
       "      <td>NaN</td>\n",
       "      <td>169,822.0</td>\n",
       "      <td>169,822.0</td>\n",
       "      <td>2011</td>\n",
       "      <td>nan</td>\n",
       "      <td>San Francisco</td>\n",
       "      <td>NaN</td>\n",
       "    </tr>\n",
       "    <tr>\n",
       "      <th>...</th>\n",
       "      <td>...</td>\n",
       "      <td>...</td>\n",
       "      <td>...</td>\n",
       "      <td>...</td>\n",
       "      <td>...</td>\n",
       "      <td>...</td>\n",
       "      <td>...</td>\n",
       "      <td>...</td>\n",
       "      <td>...</td>\n",
       "      <td>...</td>\n",
       "      <td>...</td>\n",
       "      <td>...</td>\n",
       "      <td>...</td>\n",
       "    </tr>\n",
       "    <tr>\n",
       "      <th>113325</th>\n",
       "      <td>113326</td>\n",
       "      <td>Kelly M Brandon</td>\n",
       "      <td>Clinical Nurse Specialist</td>\n",
       "      <td>148,917.1</td>\n",
       "      <td>148,917.1</td>\n",
       "      <td>148,917.1</td>\n",
       "      <td>50,137.0</td>\n",
       "      <td>149,222.0</td>\n",
       "      <td>199,359.0</td>\n",
       "      <td>2014</td>\n",
       "      <td>nan</td>\n",
       "      <td>San Francisco</td>\n",
       "      <td>FT</td>\n",
       "    </tr>\n",
       "    <tr>\n",
       "      <th>113733</th>\n",
       "      <td>113734</td>\n",
       "      <td>Andre M Michaud</td>\n",
       "      <td>Clinical Nurse Specialist</td>\n",
       "      <td>145,718.4</td>\n",
       "      <td>145,718.4</td>\n",
       "      <td>145,718.4</td>\n",
       "      <td>48,626.9</td>\n",
       "      <td>145,968.4</td>\n",
       "      <td>194,595.3</td>\n",
       "      <td>2014</td>\n",
       "      <td>nan</td>\n",
       "      <td>San Francisco</td>\n",
       "      <td>FT</td>\n",
       "    </tr>\n",
       "    <tr>\n",
       "      <th>115119</th>\n",
       "      <td>115120</td>\n",
       "      <td>Grace Y Chen</td>\n",
       "      <td>Clinical Nurse Specialist</td>\n",
       "      <td>131,152.0</td>\n",
       "      <td>131,152.0</td>\n",
       "      <td>131,152.0</td>\n",
       "      <td>45,895.2</td>\n",
       "      <td>133,708.1</td>\n",
       "      <td>179,603.3</td>\n",
       "      <td>2014</td>\n",
       "      <td>nan</td>\n",
       "      <td>San Francisco</td>\n",
       "      <td>FT</td>\n",
       "    </tr>\n",
       "    <tr>\n",
       "      <th>118268</th>\n",
       "      <td>118269</td>\n",
       "      <td>Laurie J Agrillo</td>\n",
       "      <td>Clinical Nurse Specialist</td>\n",
       "      <td>114,920.7</td>\n",
       "      <td>114,920.7</td>\n",
       "      <td>114,920.7</td>\n",
       "      <td>39,213.4</td>\n",
       "      <td>115,170.7</td>\n",
       "      <td>154,384.1</td>\n",
       "      <td>2014</td>\n",
       "      <td>nan</td>\n",
       "      <td>San Francisco</td>\n",
       "      <td>PT</td>\n",
       "    </tr>\n",
       "    <tr>\n",
       "      <th>118932</th>\n",
       "      <td>118933</td>\n",
       "      <td>Sheryl W Calson</td>\n",
       "      <td>Clinical Nurse Specialist</td>\n",
       "      <td>88,609.2</td>\n",
       "      <td>88,609.2</td>\n",
       "      <td>88,609.2</td>\n",
       "      <td>27,284.6</td>\n",
       "      <td>123,282.7</td>\n",
       "      <td>150,567.3</td>\n",
       "      <td>2014</td>\n",
       "      <td>nan</td>\n",
       "      <td>San Francisco</td>\n",
       "      <td>PT</td>\n",
       "    </tr>\n",
       "  </tbody>\n",
       "</table>\n",
       "<p>92 rows × 13 columns</p>\n",
       "</div>"
      ],
      "text/plain": [
       "            Id         EmployeeName                   JobTitle   BasePay  \\\n",
       "939        940         AMALIA FYLES  CLINICAL NURSE SPECIALIST 169,572.0   \n",
       "948        949        SHERYL CALSON  CLINICAL NURSE SPECIALIST 169,572.0   \n",
       "995        996   ANTIONETTE GRIFFIN  CLINICAL NURSE SPECIALIST 169,572.1   \n",
       "996        997        KATHERINE MAH  CLINICAL NURSE SPECIALIST 169,572.1   \n",
       "997        998  CHRISTINE DAVENPORT  CLINICAL NURSE SPECIALIST 169,572.0   \n",
       "...        ...                  ...                        ...       ...   \n",
       "113325  113326      Kelly M Brandon  Clinical Nurse Specialist 148,917.1   \n",
       "113733  113734      Andre M Michaud  Clinical Nurse Specialist 145,718.4   \n",
       "115119  115120         Grace Y Chen  Clinical Nurse Specialist 131,152.0   \n",
       "118268  118269     Laurie J Agrillo  Clinical Nurse Specialist 114,920.7   \n",
       "118932  118933      Sheryl W Calson  Clinical Nurse Specialist  88,609.2   \n",
       "\n",
       "        OvertimePay  OtherPay Benefits  TotalPay  TotalPayBenefits  Year  \\\n",
       "939       169,572.0 169,572.0      NaN 171,566.8         171,566.8  2011   \n",
       "948       169,572.0 169,572.0      NaN 171,093.4         171,093.4  2011   \n",
       "995       169,572.1 169,572.1      NaN 169,822.1         169,822.1  2011   \n",
       "996       169,572.1 169,572.1      NaN 169,822.1         169,822.1  2011   \n",
       "997       169,572.0 169,572.0      NaN 169,822.0         169,822.0  2011   \n",
       "...             ...       ...      ...       ...               ...   ...   \n",
       "113325    148,917.1 148,917.1 50,137.0 149,222.0         199,359.0  2014   \n",
       "113733    145,718.4 145,718.4 48,626.9 145,968.4         194,595.3  2014   \n",
       "115119    131,152.0 131,152.0 45,895.2 133,708.1         179,603.3  2014   \n",
       "118268    114,920.7 114,920.7 39,213.4 115,170.7         154,384.1  2014   \n",
       "118932     88,609.2  88,609.2 27,284.6 123,282.7         150,567.3  2014   \n",
       "\n",
       "        Notes         Agency Status  \n",
       "939       nan  San Francisco    NaN  \n",
       "948       nan  San Francisco    NaN  \n",
       "995       nan  San Francisco    NaN  \n",
       "996       nan  San Francisco    NaN  \n",
       "997       nan  San Francisco    NaN  \n",
       "...       ...            ...    ...  \n",
       "113325    nan  San Francisco     FT  \n",
       "113733    nan  San Francisco     FT  \n",
       "115119    nan  San Francisco     FT  \n",
       "118268    nan  San Francisco     PT  \n",
       "118932    nan  San Francisco     PT  \n",
       "\n",
       "[92 rows x 13 columns]"
      ]
     },
     "execution_count": 84,
     "metadata": {},
     "output_type": "execute_result"
    }
   ],
   "source": [
    "df_NURSE"
   ]
  },
  {
   "cell_type": "code",
   "execution_count": 130,
   "metadata": {
    "scrolled": true
   },
   "outputs": [
    {
     "data": {
      "text/html": [
       "<div>\n",
       "<style scoped>\n",
       "    .dataframe tbody tr th:only-of-type {\n",
       "        vertical-align: middle;\n",
       "    }\n",
       "\n",
       "    .dataframe tbody tr th {\n",
       "        vertical-align: top;\n",
       "    }\n",
       "\n",
       "    .dataframe thead th {\n",
       "        text-align: right;\n",
       "    }\n",
       "</style>\n",
       "<table border=\"1\" class=\"dataframe\">\n",
       "  <thead>\n",
       "    <tr style=\"text-align: right;\">\n",
       "      <th></th>\n",
       "      <th>mean</th>\n",
       "      <th>count</th>\n",
       "    </tr>\n",
       "    <tr>\n",
       "      <th>Year</th>\n",
       "      <th></th>\n",
       "      <th></th>\n",
       "    </tr>\n",
       "  </thead>\n",
       "  <tbody>\n",
       "    <tr>\n",
       "      <th>2011</th>\n",
       "      <td>129,609.3</td>\n",
       "      <td>26</td>\n",
       "    </tr>\n",
       "    <tr>\n",
       "      <th>2012</th>\n",
       "      <td>148,740.1</td>\n",
       "      <td>24</td>\n",
       "    </tr>\n",
       "    <tr>\n",
       "      <th>2013</th>\n",
       "      <td>166,814.7</td>\n",
       "      <td>20</td>\n",
       "    </tr>\n",
       "    <tr>\n",
       "      <th>2014</th>\n",
       "      <td>164,540.0</td>\n",
       "      <td>21</td>\n",
       "    </tr>\n",
       "  </tbody>\n",
       "</table>\n",
       "</div>"
      ],
      "text/plain": [
       "          mean  count\n",
       "Year                 \n",
       "2011 129,609.3     26\n",
       "2012 148,740.1     24\n",
       "2013 166,814.7     20\n",
       "2014 164,540.0     21"
      ]
     },
     "execution_count": 130,
     "metadata": {},
     "output_type": "execute_result"
    }
   ],
   "source": [
    "df_NURSE.groupby(['Year'])['BasePay'].agg(['mean','count']) "
   ]
  },
  {
   "cell_type": "code",
   "execution_count": null,
   "metadata": {},
   "outputs": [],
   "source": []
  },
  {
   "cell_type": "code",
   "execution_count": null,
   "metadata": {},
   "outputs": [],
   "source": [
    "df_NURSE.drop('Benefits', axis=1, inplace=True)\n",
    "df_NURSE.drop('Notes', axis=1, inplace=True)\n",
    "df_NURSE.drop('Status', axis=1, inplace=True)\n",
    "df_NURSE.drop('Agency', axis=1, inplace=True)"
   ]
  },
  {
   "cell_type": "code",
   "execution_count": 116,
   "metadata": {},
   "outputs": [],
   "source": [
    "df_NURSE.drop('JobTitle', axis=1, inplace=True)\n",
    "df_NURSE.drop('EmployeeName', axis=1, inplace=True)"
   ]
  },
  {
   "cell_type": "code",
   "execution_count": 110,
   "metadata": {},
   "outputs": [],
   "source": [
    "from sklearn.model_selection import train_test_split\n",
    "from sklearn.linear_model import LinearRegression\n",
    "from sklearn.metrics import mean_squared_error"
   ]
  },
  {
   "cell_type": "code",
   "execution_count": 123,
   "metadata": {},
   "outputs": [],
   "source": [
    "# удалим доплату OtherPay\n",
    "X_train, X_test, y_train, y_test = train_test_split(df_NURSE.drop('OtherPay',axis=1), df_NURSE['OtherPay'], test_size=0.25, random_state=27)"
   ]
  },
  {
   "cell_type": "code",
   "execution_count": 124,
   "metadata": {},
   "outputs": [
    {
     "data": {
      "text/plain": [
       "73817    178,436.0\n",
       "80937    122,467.4\n",
       "3402     136,049.1\n",
       "36903    173,480.0\n",
       "36726    178,403.9\n",
       "            ...   \n",
       "118268   114,920.7\n",
       "36830    178,968.0\n",
       "111208   188,928.0\n",
       "73779    186,666.0\n",
       "5478     115,148.7\n",
       "Name: OtherPay, Length: 68, dtype: float64"
      ]
     },
     "execution_count": 124,
     "metadata": {},
     "output_type": "execute_result"
    }
   ],
   "source": [
    "y_train"
   ]
  },
  {
   "cell_type": "code",
   "execution_count": 109,
   "metadata": {},
   "outputs": [
    {
     "name": "stdout",
     "output_type": "stream",
     "text": [
      "<class 'pandas.core.frame.DataFrame'>\n",
      "Int64Index: 69 entries, 112781 to 5478\n",
      "Data columns (total 8 columns):\n",
      " #   Column            Non-Null Count  Dtype  \n",
      "---  ------            --------------  -----  \n",
      " 0   Id                69 non-null     int64  \n",
      " 1   EmployeeName      69 non-null     object \n",
      " 2   JobTitle          69 non-null     object \n",
      " 3   BasePay           68 non-null     float64\n",
      " 4   OvertimePay       68 non-null     float64\n",
      " 5   TotalPay          69 non-null     float64\n",
      " 6   TotalPayBenefits  69 non-null     float64\n",
      " 7   Year              69 non-null     int64  \n",
      "dtypes: float64(4), int64(2), object(2)\n",
      "memory usage: 4.9+ KB\n"
     ]
    }
   ],
   "source": [
    "X_train.info()"
   ]
  },
  {
   "cell_type": "code",
   "execution_count": 126,
   "metadata": {
    "scrolled": true
   },
   "outputs": [
    {
     "name": "stdout",
     "output_type": "stream",
     "text": [
      "1.7861346931231986e-21\n"
     ]
    }
   ],
   "source": [
    "# линейная регрессия\n",
    "reg = LinearRegression().fit(X_train, y_train)\n",
    "pred = reg.predict(X_test)\n",
    "\n",
    "print(mean_squared_error(y_test, pred, squared=True))  # что было - True и что стало, находим среднеквадратичное \n",
    "# метод mean_squared_error"
   ]
  },
  {
   "cell_type": "code",
   "execution_count": 122,
   "metadata": {
    "scrolled": true
   },
   "outputs": [
    {
     "data": {
      "text/plain": [
       "Id                  0\n",
       "BasePay             0\n",
       "OvertimePay         0\n",
       "OtherPay            0\n",
       "TotalPay            0\n",
       "TotalPayBenefits    0\n",
       "Year                0\n",
       "dtype: int64"
      ]
     },
     "execution_count": 122,
     "metadata": {},
     "output_type": "execute_result"
    }
   ],
   "source": [
    "df_NURSE.isna().sum() "
   ]
  },
  {
   "cell_type": "code",
   "execution_count": 121,
   "metadata": {},
   "outputs": [],
   "source": [
    "#df_NURSE.fillna(df_NURSE.BasePay.median(),inplace = True) \n",
    "df_NURSE.dropna(inplace = True) # удаление строк nan значения"
   ]
  },
  {
   "cell_type": "code",
   "execution_count": null,
   "metadata": {},
   "outputs": [],
   "source": []
  },
  {
   "cell_type": "code",
   "execution_count": 129,
   "metadata": {
    "scrolled": true
   },
   "outputs": [
    {
     "data": {
      "image/png": "[encoded data removed]",
      "text/plain": [
       "<Figure size 1440x648 with 1 Axes>"
      ]
     },
     "metadata": {
      "needs_background": "light"
     },
     "output_type": "display_data"
    }
   ],
   "source": [
    "# посмотрим насколько идеальна модель -  совпадает\n",
    "plt.figure(figsize=(20,9))\n",
    "plt.plot(y_test.values, \"blue\",linewidth=5, label='Реальные значения', alpha=0.5)\n",
    "plt.plot(pred, \"red\",linewidth=5, label='Предсказание')\n",
    "plt.legend(loc='best')\n",
    "plt.show()"
   ]
  },
  {
   "cell_type": "code",
   "execution_count": null,
   "metadata": {},
   "outputs": [],
   "source": []
  },
  {
   "cell_type": "code",
   "execution_count": null,
   "metadata": {},
   "outputs": [],
   "source": []
  },
  {
   "cell_type": "code",
   "execution_count": null,
   "metadata": {},
   "outputs": [],
   "source": []
  },
  {
   "cell_type": "code",
   "execution_count": null,
   "metadata": {},
   "outputs": [],
   "source": []
  },
  {
   "cell_type": "code",
   "execution_count": null,
   "metadata": {},
   "outputs": [],
   "source": []
  },
  {
   "cell_type": "code",
   "execution_count": null,
   "metadata": {},
   "outputs": [],
   "source": []
  },
  {
   "cell_type": "code",
   "execution_count": null,
   "metadata": {},
   "outputs": [],
   "source": []
  },
  {
   "cell_type": "code",
   "execution_count": 16,
   "metadata": {},
   "outputs": [],
   "source": [
    "pd.set_option('display.max_columns', 300)"
   ]
  },
  {
   "cell_type": "code",
   "execution_count": 17,
   "metadata": {
    "scrolled": false
   },
   "outputs": [],
   "source": [
    "df1 = pd.read_csv('inflation.csv', delimiter=';')"
   ]
  },
  {
   "cell_type": "code",
   "execution_count": 18,
   "metadata": {},
   "outputs": [
    {
     "data": {
      "text/html": [
       "<div>\n",
       "<style scoped>\n",
       "    .dataframe tbody tr th:only-of-type {\n",
       "        vertical-align: middle;\n",
       "    }\n",
       "\n",
       "    .dataframe tbody tr th {\n",
       "        vertical-align: top;\n",
       "    }\n",
       "\n",
       "    .dataframe thead th {\n",
       "        text-align: right;\n",
       "    }\n",
       "</style>\n",
       "<table border=\"1\" class=\"dataframe\">\n",
       "  <thead>\n",
       "    <tr style=\"text-align: right;\">\n",
       "      <th></th>\n",
       "      <th>Data Source,\"World Development Indicators\",</th>\n",
       "    </tr>\n",
       "  </thead>\n",
       "  <tbody>\n",
       "    <tr>\n",
       "      <th>0</th>\n",
       "      <td>Last Updated Date,\"2021-06-30\",</td>\n",
       "    </tr>\n",
       "    <tr>\n",
       "      <th>1</th>\n",
       "      <td>Country Name,\"Country Code\",\"Indicator Name\",\"...</td>\n",
       "    </tr>\n",
       "    <tr>\n",
       "      <th>2</th>\n",
       "      <td>Aruba,\"ABW\",\"Inflation, consumer prices (annua...</td>\n",
       "    </tr>\n",
       "    <tr>\n",
       "      <th>3</th>\n",
       "      <td>Africa Eastern and Southern,\"AFE\",\"Inflation, ...</td>\n",
       "    </tr>\n",
       "    <tr>\n",
       "      <th>4</th>\n",
       "      <td>Afghanistan,\"AFG\",\"Inflation, consumer prices ...</td>\n",
       "    </tr>\n",
       "    <tr>\n",
       "      <th>...</th>\n",
       "      <td>...</td>\n",
       "    </tr>\n",
       "    <tr>\n",
       "      <th>263</th>\n",
       "      <td>Kosovo,\"XKX\",\"Inflation, consumer prices (annu...</td>\n",
       "    </tr>\n",
       "    <tr>\n",
       "      <th>264</th>\n",
       "      <td>Yemen, Rep.,\"YEM\",\"Inflation, consumer prices ...</td>\n",
       "    </tr>\n",
       "    <tr>\n",
       "      <th>265</th>\n",
       "      <td>South Africa,\"ZAF\",\"Inflation, consumer prices...</td>\n",
       "    </tr>\n",
       "    <tr>\n",
       "      <th>266</th>\n",
       "      <td>Zambia,\"ZMB\",\"Inflation, consumer prices (annu...</td>\n",
       "    </tr>\n",
       "    <tr>\n",
       "      <th>267</th>\n",
       "      <td>Zimbabwe,\"ZWE\",\"Inflation, consumer prices (an...</td>\n",
       "    </tr>\n",
       "  </tbody>\n",
       "</table>\n",
       "<p>268 rows × 1 columns</p>\n",
       "</div>"
      ],
      "text/plain": [
       "           Data Source,\"World Development Indicators\",\n",
       "0                      Last Updated Date,\"2021-06-30\",\n",
       "1    Country Name,\"Country Code\",\"Indicator Name\",\"...\n",
       "2    Aruba,\"ABW\",\"Inflation, consumer prices (annua...\n",
       "3    Africa Eastern and Southern,\"AFE\",\"Inflation, ...\n",
       "4    Afghanistan,\"AFG\",\"Inflation, consumer prices ...\n",
       "..                                                 ...\n",
       "263  Kosovo,\"XKX\",\"Inflation, consumer prices (annu...\n",
       "264  Yemen, Rep.,\"YEM\",\"Inflation, consumer prices ...\n",
       "265  South Africa,\"ZAF\",\"Inflation, consumer prices...\n",
       "266  Zambia,\"ZMB\",\"Inflation, consumer prices (annu...\n",
       "267  Zimbabwe,\"ZWE\",\"Inflation, consumer prices (an...\n",
       "\n",
       "[268 rows x 1 columns]"
      ]
     },
     "execution_count": 18,
     "metadata": {},
     "output_type": "execute_result"
    }
   ],
   "source": [
    "df1"
   ]
  },
  {
   "cell_type": "code",
   "execution_count": null,
   "metadata": {},
   "outputs": [],
   "source": []
  },
  {
   "cell_type": "code",
   "execution_count": null,
   "metadata": {},
   "outputs": [],
   "source": []
  },
  {
   "cell_type": "code",
   "execution_count": null,
   "metadata": {},
   "outputs": [],
   "source": [
    "ДАЛЬШЕ НЕ ЧИТАТЬ! РАБОЧИЕ МОМЕНТЫ"
   ]
  },
  {
   "cell_type": "code",
   "execution_count": null,
   "metadata": {},
   "outputs": [],
   "source": []
  },
  {
   "cell_type": "code",
   "execution_count": null,
   "metadata": {},
   "outputs": [],
   "source": []
  },
  {
   "cell_type": "code",
   "execution_count": null,
   "metadata": {},
   "outputs": [],
   "source": [
    "Status\n",
    "Nan - незаполненное значение\n",
    "Pt- part time\n",
    "Ft - full time"
   ]
  },
  {
   "cell_type": "code",
   "execution_count": null,
   "metadata": {},
   "outputs": [],
   "source": []
  },
  {
   "cell_type": "code",
   "execution_count": null,
   "metadata": {},
   "outputs": [],
   "source": []
  },
  {
   "cell_type": "code",
   "execution_count": null,
   "metadata": {},
   "outputs": [],
   "source": []
  },
  {
   "cell_type": "code",
   "execution_count": null,
   "metadata": {},
   "outputs": [],
   "source": []
  },
  {
   "cell_type": "code",
   "execution_count": null,
   "metadata": {},
   "outputs": [],
   "source": []
  },
  {
   "cell_type": "code",
   "execution_count": null,
   "metadata": {},
   "outputs": [],
   "source": []
  },
  {
   "cell_type": "code",
   "execution_count": null,
   "metadata": {},
   "outputs": [],
   "source": []
  },
  {
   "cell_type": "code",
   "execution_count": null,
   "metadata": {},
   "outputs": [],
   "source": []
  },
  {
   "cell_type": "code",
   "execution_count": 255,
   "metadata": {
    "scrolled": true
   },
   "outputs": [
    {
     "data": {
      "text/plain": [
       "Food Service Worker                     544\n",
       "PUBLIC SERVICE AIDE-SPECIAL PROGRAMS    531\n",
       "Librarian 1                             529\n",
       "Truck Driver                            522\n",
       "Pr Administrative Analyst               511\n",
       "Assoc Engineer                          505\n",
       "Public SafetyComm Disp                  470\n",
       "Engineer                                469\n",
       "POLICE OFFICER I                        466\n",
       "HSA Sr Eligibility Worker               465\n",
       "Asst Engr                               459\n",
       "Stationary Eng, Sewage Plant            450\n",
       "Senior Account Clerk                    438\n",
       "Health Worker 3                         438\n",
       "Electronic Maintenance Tech             430\n",
       "Automotive Mechanic                     430\n",
       "StdntDsgnTrain1, Arch/Eng/Plng          415\n",
       "Manager III                             415\n",
       "Health Worker 2                         415\n",
       "Manager II                              394\n",
       "Physician Specialist                    389\n",
       "Manager I                               388\n",
       "Senior Physician Specialist             387\n",
       "Nursing Assistant                       380\n",
       "Deputy Probation Officer                375\n",
       "ATTORNEY (CIVIL/CRIMINAL)               375\n",
       "Pool Lifeguard                          374\n",
       "GENERAL LABORER                         372\n",
       "Psychiatric Social Worker               372\n",
       "Administrative Analyst                  368\n",
       "PORTER                                  362\n",
       "Painter                                 360\n",
       "POLICE OFFICER II                       360\n",
       "Principal Clerk                         349\n",
       "Clerk Typist                            347\n",
       "Automotive Service Worker               338\n",
       "Manager IV                              327\n",
       "PUBLIC SERVICE TRAINEE                  327\n",
       "Senior Personnel Analyst                325\n",
       "PS Aide Health Services                 319\n",
       "Counselor, Juvenile Hall                317\n",
       "Electrician                             316\n",
       "LIBRARY PAGE                            308\n",
       "Inspector 3                             306\n",
       "SENIOR ELIGIBILITY WORKER               304\n",
       "Lieutenant 3                            302\n",
       "SENIOR CLERK TYPIST                     298\n",
       "Secretary 2                             298\n",
       "FIRE FIGHTER PARAMEDIC                  298\n",
       "Medical Social Worker                   297\n",
       "Name: JobTitle, dtype: int64"
      ]
     },
     "execution_count": 255,
     "metadata": {},
     "output_type": "execute_result"
    }
   ],
   "source": [
    "k=df['JobTitle'].value_counts()  #500\n",
    "k[50:100]"
   ]
  },
  {
   "cell_type": "code",
   "execution_count": null,
   "metadata": {},
   "outputs": [],
   "source": [
    " mode = \"access\"\n",
    ">>> allowed_modes =[\"access\", \"read\", \"write\"]\n",
    ">>> \n",
    ">>> def f1():\n",
    "...    mode in allowed_modes\n",
    "... \n",
    ">>> def f2():\n",
    "...    any(mode == x for x in allowed_modes)"
   ]
  },
  {
   "cell_type": "code",
   "execution_count": null,
   "metadata": {},
   "outputs": [],
   "source": []
  },
  {
   "cell_type": "code",
   "execution_count": 47,
   "metadata": {
    "scrolled": true
   },
   "outputs": [
    {
     "ename": "ValueError",
     "evalue": "arrays must all be same length",
     "output_type": "error",
     "traceback": [
      "\u001b[1;31m---------------------------------------------------------------------------\u001b[0m",
      "\u001b[1;31mValueError\u001b[0m                                Traceback (most recent call last)",
      "\u001b[1;32m<ipython-input-47-aebe11782030>\u001b[0m in \u001b[0;36m<module>\u001b[1;34m\u001b[0m\n\u001b[0;32m      1\u001b[0m data = pd.DataFrame({'MEDICAL':['PATIENT','PARAMEDIC','MEDICAL','NURSE','MENTAL','HEALTH','PHYSICIAN','PSYCHIATRIC','NURSING','HOSPITAL','PHYSICAL','THERAP','PHARMAC','PSYCHOLOGIST','X-RAY','NUTRITIONIST','DIETITIAN','ANESTHETIST','EPIDEMIOLOGIST','DENTAL','CLINICAL','REHABILITATION','HLTH','PATHOLOGIST','DISEASE','CARE','SURGICAL','DENTIST','MORGUE','REHABILITATION','PATIENT','MED STAFF','EPIDEMIOLOGIST'],\n\u001b[1;32m----> 2\u001b[1;33m                      \u001b[1;34m'POLICE'\u001b[0m\u001b[1;33m:\u001b[0m\u001b[1;33m[\u001b[0m\u001b[1;34m'Sergeant'\u001b[0m\u001b[1;33m,\u001b[0m\u001b[1;34m'OFFICER'\u001b[0m\u001b[1;33m,\u001b[0m\u001b[1;34m'POLICE'\u001b[0m\u001b[1;33m,\u001b[0m\u001b[1;34m'Captain'\u001b[0m\u001b[1;33m,\u001b[0m\u001b[1;34m'Investigator'\u001b[0m\u001b[1;33m,\u001b[0m\u001b[1;34m'ATTORNEY'\u001b[0m\u001b[1;33m,\u001b[0m\u001b[1;34m'Criminalist'\u001b[0m\u001b[1;33m,\u001b[0m\u001b[1;34m'Examiner'\u001b[0m\u001b[1;33m,\u001b[0m\u001b[1;34m'Fingerprint'\u001b[0m\u001b[1;33m,\u001b[0m\u001b[1;34m'RESEARCH'\u001b[0m\u001b[1;33m,\u001b[0m\u001b[1;34m'Inspector'\u001b[0m\u001b[1;33m,\u001b[0m\u001b[1;34m'Fingerprint'\u001b[0m\u001b[1;33m,\u001b[0m\u001b[1;34m'Technician'\u001b[0m\u001b[1;33m,\u001b[0m\u001b[1;34m'Engineering'\u001b[0m\u001b[1;33m,\u001b[0m\u001b[1;34m'Assistant'\u001b[0m\u001b[1;33m,\u001b[0m\u001b[1;34m'Criminal'\u001b[0m\u001b[1;33m,\u001b[0m\u001b[1;34m'COMMISSIONER'\u001b[0m\u001b[1;33m,\u001b[0m\u001b[1;34m'ATTORNEY'\u001b[0m\u001b[1;33m,\u001b[0m\u001b[1;34m'Service'\u001b[0m\u001b[1;33m,\u001b[0m\u001b[1;34m'Witness'\u001b[0m\u001b[1;33m]\u001b[0m\u001b[1;33m\u001b[0m\u001b[1;33m\u001b[0m\u001b[0m\n\u001b[0m\u001b[0;32m      3\u001b[0m                      \u001b[1;31m#'FIRE':['FIRE']\u001b[0m\u001b[1;33m\u001b[0m\u001b[1;33m\u001b[0m\u001b[1;33m\u001b[0m\u001b[0m\n\u001b[0;32m      4\u001b[0m                     })\n\u001b[0;32m      5\u001b[0m \u001b[1;31m#print(data[data['Type'].str.contains('Fruit')])\u001b[0m\u001b[1;33m\u001b[0m\u001b[1;33m\u001b[0m\u001b[1;33m\u001b[0m\u001b[0m\n",
      "\u001b[1;32m~\\anaconda3\\lib\\site-packages\\pandas\\core\\frame.py\u001b[0m in \u001b[0;36m__init__\u001b[1;34m(self, data, index, columns, dtype, copy)\u001b[0m\n\u001b[0;32m    433\u001b[0m             )\n\u001b[0;32m    434\u001b[0m         \u001b[1;32melif\u001b[0m \u001b[0misinstance\u001b[0m\u001b[1;33m(\u001b[0m\u001b[0mdata\u001b[0m\u001b[1;33m,\u001b[0m \u001b[0mdict\u001b[0m\u001b[1;33m)\u001b[0m\u001b[1;33m:\u001b[0m\u001b[1;33m\u001b[0m\u001b[1;33m\u001b[0m\u001b[0m\n\u001b[1;32m--> 435\u001b[1;33m             \u001b[0mmgr\u001b[0m \u001b[1;33m=\u001b[0m \u001b[0minit_dict\u001b[0m\u001b[1;33m(\u001b[0m\u001b[0mdata\u001b[0m\u001b[1;33m,\u001b[0m \u001b[0mindex\u001b[0m\u001b[1;33m,\u001b[0m \u001b[0mcolumns\u001b[0m\u001b[1;33m,\u001b[0m \u001b[0mdtype\u001b[0m\u001b[1;33m=\u001b[0m\u001b[0mdtype\u001b[0m\u001b[1;33m)\u001b[0m\u001b[1;33m\u001b[0m\u001b[1;33m\u001b[0m\u001b[0m\n\u001b[0m\u001b[0;32m    436\u001b[0m         \u001b[1;32melif\u001b[0m \u001b[0misinstance\u001b[0m\u001b[1;33m(\u001b[0m\u001b[0mdata\u001b[0m\u001b[1;33m,\u001b[0m \u001b[0mma\u001b[0m\u001b[1;33m.\u001b[0m\u001b[0mMaskedArray\u001b[0m\u001b[1;33m)\u001b[0m\u001b[1;33m:\u001b[0m\u001b[1;33m\u001b[0m\u001b[1;33m\u001b[0m\u001b[0m\n\u001b[0;32m    437\u001b[0m             \u001b[1;32mimport\u001b[0m \u001b[0mnumpy\u001b[0m\u001b[1;33m.\u001b[0m\u001b[0mma\u001b[0m\u001b[1;33m.\u001b[0m\u001b[0mmrecords\u001b[0m \u001b[1;32mas\u001b[0m \u001b[0mmrecords\u001b[0m\u001b[1;33m\u001b[0m\u001b[1;33m\u001b[0m\u001b[0m\n",
      "\u001b[1;32m~\\anaconda3\\lib\\site-packages\\pandas\\core\\internals\\construction.py\u001b[0m in \u001b[0;36minit_dict\u001b[1;34m(data, index, columns, dtype)\u001b[0m\n\u001b[0;32m    252\u001b[0m             \u001b[0marr\u001b[0m \u001b[1;32mif\u001b[0m \u001b[1;32mnot\u001b[0m \u001b[0mis_datetime64tz_dtype\u001b[0m\u001b[1;33m(\u001b[0m\u001b[0marr\u001b[0m\u001b[1;33m)\u001b[0m \u001b[1;32melse\u001b[0m \u001b[0marr\u001b[0m\u001b[1;33m.\u001b[0m\u001b[0mcopy\u001b[0m\u001b[1;33m(\u001b[0m\u001b[1;33m)\u001b[0m \u001b[1;32mfor\u001b[0m \u001b[0marr\u001b[0m \u001b[1;32min\u001b[0m \u001b[0marrays\u001b[0m\u001b[1;33m\u001b[0m\u001b[1;33m\u001b[0m\u001b[0m\n\u001b[0;32m    253\u001b[0m         ]\n\u001b[1;32m--> 254\u001b[1;33m     \u001b[1;32mreturn\u001b[0m \u001b[0marrays_to_mgr\u001b[0m\u001b[1;33m(\u001b[0m\u001b[0marrays\u001b[0m\u001b[1;33m,\u001b[0m \u001b[0mdata_names\u001b[0m\u001b[1;33m,\u001b[0m \u001b[0mindex\u001b[0m\u001b[1;33m,\u001b[0m \u001b[0mcolumns\u001b[0m\u001b[1;33m,\u001b[0m \u001b[0mdtype\u001b[0m\u001b[1;33m=\u001b[0m\u001b[0mdtype\u001b[0m\u001b[1;33m)\u001b[0m\u001b[1;33m\u001b[0m\u001b[1;33m\u001b[0m\u001b[0m\n\u001b[0m\u001b[0;32m    255\u001b[0m \u001b[1;33m\u001b[0m\u001b[0m\n\u001b[0;32m    256\u001b[0m \u001b[1;33m\u001b[0m\u001b[0m\n",
      "\u001b[1;32m~\\anaconda3\\lib\\site-packages\\pandas\\core\\internals\\construction.py\u001b[0m in \u001b[0;36marrays_to_mgr\u001b[1;34m(arrays, arr_names, index, columns, dtype)\u001b[0m\n\u001b[0;32m     62\u001b[0m     \u001b[1;31m# figure out the index, if necessary\u001b[0m\u001b[1;33m\u001b[0m\u001b[1;33m\u001b[0m\u001b[1;33m\u001b[0m\u001b[0m\n\u001b[0;32m     63\u001b[0m     \u001b[1;32mif\u001b[0m \u001b[0mindex\u001b[0m \u001b[1;32mis\u001b[0m \u001b[1;32mNone\u001b[0m\u001b[1;33m:\u001b[0m\u001b[1;33m\u001b[0m\u001b[1;33m\u001b[0m\u001b[0m\n\u001b[1;32m---> 64\u001b[1;33m         \u001b[0mindex\u001b[0m \u001b[1;33m=\u001b[0m \u001b[0mextract_index\u001b[0m\u001b[1;33m(\u001b[0m\u001b[0marrays\u001b[0m\u001b[1;33m)\u001b[0m\u001b[1;33m\u001b[0m\u001b[1;33m\u001b[0m\u001b[0m\n\u001b[0m\u001b[0;32m     65\u001b[0m     \u001b[1;32melse\u001b[0m\u001b[1;33m:\u001b[0m\u001b[1;33m\u001b[0m\u001b[1;33m\u001b[0m\u001b[0m\n\u001b[0;32m     66\u001b[0m         \u001b[0mindex\u001b[0m \u001b[1;33m=\u001b[0m \u001b[0mensure_index\u001b[0m\u001b[1;33m(\u001b[0m\u001b[0mindex\u001b[0m\u001b[1;33m)\u001b[0m\u001b[1;33m\u001b[0m\u001b[1;33m\u001b[0m\u001b[0m\n",
      "\u001b[1;32m~\\anaconda3\\lib\\site-packages\\pandas\\core\\internals\\construction.py\u001b[0m in \u001b[0;36mextract_index\u001b[1;34m(data)\u001b[0m\n\u001b[0;32m    363\u001b[0m             \u001b[0mlengths\u001b[0m \u001b[1;33m=\u001b[0m \u001b[0mlist\u001b[0m\u001b[1;33m(\u001b[0m\u001b[0mset\u001b[0m\u001b[1;33m(\u001b[0m\u001b[0mraw_lengths\u001b[0m\u001b[1;33m)\u001b[0m\u001b[1;33m)\u001b[0m\u001b[1;33m\u001b[0m\u001b[1;33m\u001b[0m\u001b[0m\n\u001b[0;32m    364\u001b[0m             \u001b[1;32mif\u001b[0m \u001b[0mlen\u001b[0m\u001b[1;33m(\u001b[0m\u001b[0mlengths\u001b[0m\u001b[1;33m)\u001b[0m \u001b[1;33m>\u001b[0m \u001b[1;36m1\u001b[0m\u001b[1;33m:\u001b[0m\u001b[1;33m\u001b[0m\u001b[1;33m\u001b[0m\u001b[0m\n\u001b[1;32m--> 365\u001b[1;33m                 \u001b[1;32mraise\u001b[0m \u001b[0mValueError\u001b[0m\u001b[1;33m(\u001b[0m\u001b[1;34m\"arrays must all be same length\"\u001b[0m\u001b[1;33m)\u001b[0m\u001b[1;33m\u001b[0m\u001b[1;33m\u001b[0m\u001b[0m\n\u001b[0m\u001b[0;32m    366\u001b[0m \u001b[1;33m\u001b[0m\u001b[0m\n\u001b[0;32m    367\u001b[0m             \u001b[1;32mif\u001b[0m \u001b[0mhave_dicts\u001b[0m\u001b[1;33m:\u001b[0m\u001b[1;33m\u001b[0m\u001b[1;33m\u001b[0m\u001b[0m\n",
      "\u001b[1;31mValueError\u001b[0m: arrays must all be same length"
     ]
    }
   ],
   "source": [
    "data = pd.DataFrame({'MEDICAL':['PATIENT','PARAMEDIC','MEDICAL','NURSE','MENTAL','HEALTH','PHYSICIAN','PSYCHIATRIC','NURSING','HOSPITAL','PHYSICAL','THERAP','PHARMAC','PSYCHOLOGIST','X-RAY','NUTRITIONIST','DIETITIAN','ANESTHETIST','EPIDEMIOLOGIST','DENTAL','CLINICAL','REHABILITATION','HLTH','PATHOLOGIST','DISEASE','CARE','SURGICAL','DENTIST','MORGUE','REHABILITATION','PATIENT','MED STAFF','EPIDEMIOLOGIST'],\n",
    "                     'POLICE':['Sergeant','OFFICER','POLICE','Captain','Investigator','ATTORNEY','Criminalist','Examiner','Fingerprint','RESEARCH','Inspector','Fingerprint','Technician','Engineering','Assistant','Criminal','COMMISSIONER','ATTORNEY','Service','Witness'],\n",
    "                     'FIRE':['FIRE']\n",
    "                    })\n",
    "#print(data[data['Type'].str.contains('Fruit')])\n",
    "data"
   ]
  },
  {
   "cell_type": "code",
   "execution_count": null,
   "metadata": {},
   "outputs": [],
   "source": []
  },
  {
   "cell_type": "code",
   "execution_count": null,
   "metadata": {},
   "outputs": [],
   "source": []
  },
  {
   "cell_type": "code",
   "execution_count": null,
   "metadata": {},
   "outputs": [],
   "source": []
  },
  {
   "cell_type": "code",
   "execution_count": null,
   "metadata": {},
   "outputs": [],
   "source": []
  },
  {
   "cell_type": "code",
   "execution_count": 275,
   "metadata": {
    "scrolled": true
   },
   "outputs": [
    {
     "data": {
      "text/plain": [
       "<matplotlib.axes._subplots.AxesSubplot at 0x2886f288>"
      ]
     },
     "execution_count": 275,
     "metadata": {},
     "output_type": "execute_result"
    },
    {
     "data": {
      "image/png": "[encoded data removed]",
      "text/plain": [
       "<Figure size 1080x360 with 1 Axes>"
      ]
     },
     "metadata": {
      "needs_background": "light"
     },
     "output_type": "display_data"
    }
   ],
   "source": [
    "plt.figure(figsize=(15,5))\n",
    "#plt.plot(dk.TotalPay,dk.Year, \"blue\",linewidth=5, label='полиция', alpha=0.5)\n",
    "#plt.plot(df_df.TotalPay, \"red\",linewidth=5, label='пожарные')\n",
    "dk.unstack().plot()\n",
    "#plt.plot(dk.sum,dk.count,linewidth=5, label='медицина',alpha=0.5)"
   ]
  },
  {
   "cell_type": "code",
   "execution_count": null,
   "metadata": {},
   "outputs": [],
   "source": []
  },
  {
   "cell_type": "code",
   "execution_count": null,
   "metadata": {},
   "outputs": [],
   "source": []
  },
  {
   "cell_type": "code",
   "execution_count": null,
   "metadata": {},
   "outputs": [],
   "source": []
  },
  {
   "cell_type": "code",
   "execution_count": null,
   "metadata": {},
   "outputs": [],
   "source": []
  },
  {
   "cell_type": "code",
   "execution_count": null,
   "metadata": {},
   "outputs": [],
   "source": []
  },
  {
   "cell_type": "code",
   "execution_count": null,
   "metadata": {},
   "outputs": [],
   "source": []
  },
  {
   "cell_type": "code",
   "execution_count": null,
   "metadata": {},
   "outputs": [],
   "source": []
  },
  {
   "cell_type": "code",
   "execution_count": null,
   "metadata": {},
   "outputs": [],
   "source": []
  },
  {
   "cell_type": "code",
   "execution_count": null,
   "metadata": {},
   "outputs": [],
   "source": []
  },
  {
   "cell_type": "code",
   "execution_count": null,
   "metadata": {},
   "outputs": [],
   "source": []
  },
  {
   "cell_type": "code",
   "execution_count": null,
   "metadata": {},
   "outputs": [],
   "source": []
  },
  {
   "cell_type": "code",
   "execution_count": null,
   "metadata": {},
   "outputs": [],
   "source": []
  },
  {
   "cell_type": "code",
   "execution_count": null,
   "metadata": {},
   "outputs": [],
   "source": []
  },
  {
   "cell_type": "code",
   "execution_count": null,
   "metadata": {},
   "outputs": [],
   "source": []
  },
  {
   "cell_type": "code",
   "execution_count": null,
   "metadata": {},
   "outputs": [],
   "source": []
  },
  {
   "cell_type": "code",
   "execution_count": null,
   "metadata": {},
   "outputs": [],
   "source": []
  },
  {
   "cell_type": "code",
   "execution_count": null,
   "metadata": {},
   "outputs": [],
   "source": []
  },
  {
   "cell_type": "code",
   "execution_count": 31,
   "metadata": {},
   "outputs": [],
   "source": [
    "del df['Benefits']\n"
   ]
  },
  {
   "cell_type": "code",
   "execution_count": 35,
   "metadata": {},
   "outputs": [],
   "source": [
    "df.drop('Agency', axis=1, inplace=True)"
   ]
  },
  {
   "cell_type": "code",
   "execution_count": 85,
   "metadata": {
    "scrolled": true
   },
   "outputs": [
    {
     "data": {
      "text/html": [
       "<div>\n",
       "<style scoped>\n",
       "    .dataframe tbody tr th:only-of-type {\n",
       "        vertical-align: middle;\n",
       "    }\n",
       "\n",
       "    .dataframe tbody tr th {\n",
       "        vertical-align: top;\n",
       "    }\n",
       "\n",
       "    .dataframe thead th {\n",
       "        text-align: right;\n",
       "    }\n",
       "</style>\n",
       "<table border=\"1\" class=\"dataframe\">\n",
       "  <thead>\n",
       "    <tr style=\"text-align: right;\">\n",
       "      <th></th>\n",
       "      <th>Id</th>\n",
       "      <th>EmployeeName</th>\n",
       "      <th>JobTitle</th>\n",
       "      <th>BasePay</th>\n",
       "      <th>OvertimePay</th>\n",
       "      <th>OtherPay</th>\n",
       "      <th>Benefits</th>\n",
       "      <th>TotalPay</th>\n",
       "      <th>TotalPayBenefits</th>\n",
       "      <th>Year</th>\n",
       "      <th>Agency</th>\n",
       "      <th>Status</th>\n",
       "    </tr>\n",
       "  </thead>\n",
       "  <tbody>\n",
       "    <tr>\n",
       "      <th>0</th>\n",
       "      <td>1</td>\n",
       "      <td>NATHANIEL FORD</td>\n",
       "      <td>GENERAL MANAGER-METROPOLITAN TRANSIT AUTHORITY</td>\n",
       "      <td>167411.18</td>\n",
       "      <td>167411.18</td>\n",
       "      <td>167411.18</td>\n",
       "      <td>65258</td>\n",
       "      <td>567595.43</td>\n",
       "      <td>567595.43</td>\n",
       "      <td>2011</td>\n",
       "      <td>San Francisco</td>\n",
       "      <td>65258</td>\n",
       "    </tr>\n",
       "    <tr>\n",
       "      <th>1</th>\n",
       "      <td>2</td>\n",
       "      <td>GARY JIMENEZ</td>\n",
       "      <td>CAPTAIN III (POLICE DEPARTMENT)</td>\n",
       "      <td>155966.02</td>\n",
       "      <td>155966.02</td>\n",
       "      <td>155966.02</td>\n",
       "      <td>65258</td>\n",
       "      <td>538909.28</td>\n",
       "      <td>538909.28</td>\n",
       "      <td>2011</td>\n",
       "      <td>San Francisco</td>\n",
       "      <td>65258</td>\n",
       "    </tr>\n",
       "    <tr>\n",
       "      <th>2</th>\n",
       "      <td>3</td>\n",
       "      <td>ALBERT PARDINI</td>\n",
       "      <td>CAPTAIN III (POLICE DEPARTMENT)</td>\n",
       "      <td>212739.13</td>\n",
       "      <td>212739.13</td>\n",
       "      <td>212739.13</td>\n",
       "      <td>65258</td>\n",
       "      <td>335279.91</td>\n",
       "      <td>335279.91</td>\n",
       "      <td>2011</td>\n",
       "      <td>San Francisco</td>\n",
       "      <td>65258</td>\n",
       "    </tr>\n",
       "    <tr>\n",
       "      <th>3</th>\n",
       "      <td>4</td>\n",
       "      <td>CHRISTOPHER CHONG</td>\n",
       "      <td>WIRE ROPE CABLE MAINTENANCE MECHANIC</td>\n",
       "      <td>77916.00</td>\n",
       "      <td>77916.00</td>\n",
       "      <td>77916.00</td>\n",
       "      <td>65258</td>\n",
       "      <td>332343.61</td>\n",
       "      <td>332343.61</td>\n",
       "      <td>2011</td>\n",
       "      <td>San Francisco</td>\n",
       "      <td>65258</td>\n",
       "    </tr>\n",
       "    <tr>\n",
       "      <th>4</th>\n",
       "      <td>5</td>\n",
       "      <td>PATRICK GARDNER</td>\n",
       "      <td>DEPUTY CHIEF OF DEPARTMENT,(FIRE DEPARTMENT)</td>\n",
       "      <td>134401.60</td>\n",
       "      <td>134401.60</td>\n",
       "      <td>134401.60</td>\n",
       "      <td>65258</td>\n",
       "      <td>326373.19</td>\n",
       "      <td>326373.19</td>\n",
       "      <td>2011</td>\n",
       "      <td>San Francisco</td>\n",
       "      <td>65258</td>\n",
       "    </tr>\n",
       "    <tr>\n",
       "      <th>...</th>\n",
       "      <td>...</td>\n",
       "      <td>...</td>\n",
       "      <td>...</td>\n",
       "      <td>...</td>\n",
       "      <td>...</td>\n",
       "      <td>...</td>\n",
       "      <td>...</td>\n",
       "      <td>...</td>\n",
       "      <td>...</td>\n",
       "      <td>...</td>\n",
       "      <td>...</td>\n",
       "      <td>...</td>\n",
       "    </tr>\n",
       "    <tr>\n",
       "      <th>148613</th>\n",
       "      <td>148614</td>\n",
       "      <td>Nanette M Lloyd</td>\n",
       "      <td>Special Nurse</td>\n",
       "      <td>19.97</td>\n",
       "      <td>19.97</td>\n",
       "      <td>19.97</td>\n",
       "      <td>4.30</td>\n",
       "      <td>19.97</td>\n",
       "      <td>24.27</td>\n",
       "      <td>2014</td>\n",
       "      <td>San Francisco</td>\n",
       "      <td>PT</td>\n",
       "    </tr>\n",
       "    <tr>\n",
       "      <th>148616</th>\n",
       "      <td>148617</td>\n",
       "      <td>Afakasi O Afakasi</td>\n",
       "      <td>Public Service Trainee</td>\n",
       "      <td>21.48</td>\n",
       "      <td>21.48</td>\n",
       "      <td>21.48</td>\n",
       "      <td>0.22</td>\n",
       "      <td>22.34</td>\n",
       "      <td>22.56</td>\n",
       "      <td>2014</td>\n",
       "      <td>San Francisco</td>\n",
       "      <td>PT</td>\n",
       "    </tr>\n",
       "    <tr>\n",
       "      <th>148617</th>\n",
       "      <td>148618</td>\n",
       "      <td>Charles F Williams Iii</td>\n",
       "      <td>Pool Lifeguard</td>\n",
       "      <td>17.26</td>\n",
       "      <td>17.26</td>\n",
       "      <td>17.26</td>\n",
       "      <td>4.04</td>\n",
       "      <td>17.26</td>\n",
       "      <td>21.30</td>\n",
       "      <td>2014</td>\n",
       "      <td>San Francisco</td>\n",
       "      <td>PT</td>\n",
       "    </tr>\n",
       "    <tr>\n",
       "      <th>148619</th>\n",
       "      <td>148620</td>\n",
       "      <td>Ian V Cameron</td>\n",
       "      <td>IS Program Analyst-Assistant</td>\n",
       "      <td>6.04</td>\n",
       "      <td>6.04</td>\n",
       "      <td>6.04</td>\n",
       "      <td>2.30</td>\n",
       "      <td>16.09</td>\n",
       "      <td>18.39</td>\n",
       "      <td>2014</td>\n",
       "      <td>San Francisco</td>\n",
       "      <td>PT</td>\n",
       "    </tr>\n",
       "    <tr>\n",
       "      <th>148620</th>\n",
       "      <td>148621</td>\n",
       "      <td>India C Sabater</td>\n",
       "      <td>Recreation Leader</td>\n",
       "      <td>15.50</td>\n",
       "      <td>15.50</td>\n",
       "      <td>15.50</td>\n",
       "      <td>0.16</td>\n",
       "      <td>15.50</td>\n",
       "      <td>15.66</td>\n",
       "      <td>2014</td>\n",
       "      <td>San Francisco</td>\n",
       "      <td>PT</td>\n",
       "    </tr>\n",
       "  </tbody>\n",
       "</table>\n",
       "<p>147341 rows × 12 columns</p>\n",
       "</div>"
      ],
      "text/plain": [
       "            Id            EmployeeName  \\\n",
       "0            1          NATHANIEL FORD   \n",
       "1            2            GARY JIMENEZ   \n",
       "2            3          ALBERT PARDINI   \n",
       "3            4       CHRISTOPHER CHONG   \n",
       "4            5         PATRICK GARDNER   \n",
       "...        ...                     ...   \n",
       "148613  148614         Nanette M Lloyd   \n",
       "148616  148617       Afakasi O Afakasi   \n",
       "148617  148618  Charles F Williams Iii   \n",
       "148619  148620           Ian V Cameron   \n",
       "148620  148621         India C Sabater   \n",
       "\n",
       "                                              JobTitle    BasePay  \\\n",
       "0       GENERAL MANAGER-METROPOLITAN TRANSIT AUTHORITY  167411.18   \n",
       "1                      CAPTAIN III (POLICE DEPARTMENT)  155966.02   \n",
       "2                      CAPTAIN III (POLICE DEPARTMENT)  212739.13   \n",
       "3                 WIRE ROPE CABLE MAINTENANCE MECHANIC   77916.00   \n",
       "4         DEPUTY CHIEF OF DEPARTMENT,(FIRE DEPARTMENT)  134401.60   \n",
       "...                                                ...        ...   \n",
       "148613                                   Special Nurse      19.97   \n",
       "148616                          Public Service Trainee      21.48   \n",
       "148617                                  Pool Lifeguard      17.26   \n",
       "148619                    IS Program Analyst-Assistant       6.04   \n",
       "148620                               Recreation Leader      15.50   \n",
       "\n",
       "        OvertimePay   OtherPay Benefits   TotalPay  TotalPayBenefits  Year  \\\n",
       "0         167411.18  167411.18    65258  567595.43         567595.43  2011   \n",
       "1         155966.02  155966.02    65258  538909.28         538909.28  2011   \n",
       "2         212739.13  212739.13    65258  335279.91         335279.91  2011   \n",
       "3          77916.00   77916.00    65258  332343.61         332343.61  2011   \n",
       "4         134401.60  134401.60    65258  326373.19         326373.19  2011   \n",
       "...             ...        ...      ...        ...               ...   ...   \n",
       "148613        19.97      19.97     4.30      19.97             24.27  2014   \n",
       "148616        21.48      21.48     0.22      22.34             22.56  2014   \n",
       "148617        17.26      17.26     4.04      17.26             21.30  2014   \n",
       "148619         6.04       6.04     2.30      16.09             18.39  2014   \n",
       "148620        15.50      15.50     0.16      15.50             15.66  2014   \n",
       "\n",
       "               Agency Status  \n",
       "0       San Francisco  65258  \n",
       "1       San Francisco  65258  \n",
       "2       San Francisco  65258  \n",
       "3       San Francisco  65258  \n",
       "4       San Francisco  65258  \n",
       "...               ...    ...  \n",
       "148613  San Francisco     PT  \n",
       "148616  San Francisco     PT  \n",
       "148617  San Francisco     PT  \n",
       "148619  San Francisco     PT  \n",
       "148620  San Francisco     PT  \n",
       "\n",
       "[147341 rows x 12 columns]"
      ]
     },
     "execution_count": 85,
     "metadata": {},
     "output_type": "execute_result"
    }
   ],
   "source": [
    "df.drop('Notes',axis=1)\n"
   ]
  },
  {
   "cell_type": "code",
   "execution_count": 86,
   "metadata": {
    "scrolled": true
   },
   "outputs": [
    {
     "ename": "NameError",
     "evalue": "name 'df_dd' is not defined",
     "output_type": "error",
     "traceback": [
      "\u001b[1;31m---------------------------------------------------------------------------\u001b[0m",
      "\u001b[1;31mNameError\u001b[0m                                 Traceback (most recent call last)",
      "\u001b[1;32m<ipython-input-86-e0858a064f89>\u001b[0m in \u001b[0;36m<module>\u001b[1;34m\u001b[0m\n\u001b[1;32m----> 1\u001b[1;33m \u001b[0mdf_dd\u001b[0m\u001b[1;33m.\u001b[0m\u001b[0mdrop\u001b[0m\u001b[1;33m(\u001b[0m\u001b[1;34m'Benefits'\u001b[0m\u001b[1;33m,\u001b[0m\u001b[0maxis\u001b[0m\u001b[1;33m=\u001b[0m\u001b[1;36m1\u001b[0m\u001b[1;33m)\u001b[0m \u001b[1;31m# удаление столбцов нулевого значения\u001b[0m\u001b[1;33m\u001b[0m\u001b[1;33m\u001b[0m\u001b[0m\n\u001b[0m\u001b[0;32m      2\u001b[0m \u001b[1;33m\u001b[0m\u001b[0m\n",
      "\u001b[1;31mNameError\u001b[0m: name 'df_dd' is not defined"
     ]
    }
   ],
   "source": [
    "df_dd.drop('Benefits',axis=1) # удаление столбцов нулевого значения\n",
    "\n"
   ]
  },
  {
   "cell_type": "code",
   "execution_count": 26,
   "metadata": {},
   "outputs": [],
   "source": [
    "df_dd=df_d.copy()"
   ]
  },
  {
   "cell_type": "code",
   "execution_count": 118,
   "metadata": {
    "scrolled": true
   },
   "outputs": [
    {
     "data": {
      "image/png": "[encoded data removed]",
      "text/plain": [
       "<Figure size 1080x360 with 1 Axes>"
      ]
     },
     "metadata": {
      "needs_background": "light"
     },
     "output_type": "display_data"
    }
   ],
   "source": [
    "\n",
    "plt.figure(figsize=(15,5))\n",
    "plt.plot(df_d.TotalPay, \"blue\",linewidth=5, label='полиция', alpha=0.5)\n",
    "plt.plot(df_df.TotalPay, \"red\",linewidth=5, label='пожарные')\n",
    "plt.plot(df_dfm.TotalPay, \"green\",linewidth=5, label='медицина')\n",
    "plt.legend(loc='best')\n",
    "plt.show()"
   ]
  },
  {
   "cell_type": "code",
   "execution_count": 26,
   "metadata": {
    "scrolled": true
   },
   "outputs": [
    {
     "data": {
      "text/plain": [
       "JobTitle                                    TotalPay \n",
       "ASSISTANT INSPECTOR (POLICE DEPARTMENT)     188999.20    1\n",
       "ASSISTANT INSPECTOR II (POLICE DEPARTMENT)  129913.87    1\n",
       "                                            142484.42    1\n",
       "                                            143844.45    1\n",
       "                                            149776.31    1\n",
       "                                                        ..\n",
       "SERGEANT III (POLICE DEPARTMENT)            207277.85    1\n",
       "                                            209213.81    1\n",
       "                                            210076.88    1\n",
       "                                            212179.09    1\n",
       "                                            214944.74    1\n",
       "Name: Year, Length: 667, dtype: int64"
      ]
     },
     "execution_count": 26,
     "metadata": {},
     "output_type": "execute_result"
    }
   ],
   "source": [
    "df_d.groupby(['JobTitle','TotalPay'])['Year'].count()"
   ]
  },
  {
   "cell_type": "code",
   "execution_count": 72,
   "metadata": {
    "scrolled": false
   },
   "outputs": [
    {
     "name": "stdout",
     "output_type": "stream",
     "text": [
      "Среднее значение по зп:\n",
      " полиция Year\n",
      "2011    127097.17166\n",
      "Name: TotalPay, dtype: float64\n",
      "\n",
      " пожарные Year\n",
      "2011    62462.845916\n",
      "Name: TotalPay, dtype: float64\n",
      "\n",
      " медицина Year\n",
      "2011    62462.845916\n",
      "Name: TotalPay, dtype: float64\n"
     ]
    }
   ],
   "source": [
    "print('Среднее значение по зп:\\n','полиция',df_d.groupby(['Year'])['TotalPay'].mean());\n",
    "print('\\n','пожарные',df_df.groupby(['Year'])['TotalPay'].mean());\n",
    "print('\\n','медицина',df_dfm.groupby(['Year'])['TotalPay'].mean());"
   ]
  },
  {
   "cell_type": "code",
   "execution_count": 73,
   "metadata": {},
   "outputs": [
    {
     "name": "stdout",
     "output_type": "stream",
     "text": [
      "Среднее значение по зп:\n",
      " полиция Year\n",
      "2011    538909.28\n",
      "Name: TotalPay, dtype: float64\n",
      "\n",
      " пожарные Year\n",
      "2011    278569.21\n",
      "Name: TotalPay, dtype: float64\n",
      "\n",
      " медицина Year\n",
      "2011    278569.21\n",
      "Name: TotalPay, dtype: float64\n"
     ]
    }
   ],
   "source": [
    "print('Максимальное значение по зп:\\n','полиция',df_d.groupby(['Year'])['TotalPay'].max());\n",
    "print('\\n','пожарные',df_df.groupby(['Year'])['TotalPay'].max());\n",
    "print('\\n','медицина',df_dfm.groupby(['Year'])['TotalPay'].max());"
   ]
  },
  {
   "cell_type": "code",
   "execution_count": 74,
   "metadata": {},
   "outputs": [
    {
     "name": "stdout",
     "output_type": "stream",
     "text": [
      "Среднее значение по зп:\n",
      " полиция Year\n",
      "2011    127177.465\n",
      "Name: TotalPay, dtype: float64\n",
      "\n",
      " пожарные Year\n",
      "2011    55376.42\n",
      "Name: TotalPay, dtype: float64\n",
      "\n",
      " медицина Year\n",
      "2011    55376.42\n",
      "Name: TotalPay, dtype: float64\n"
     ]
    }
   ],
   "source": [
    "print('Медиана по зп:\\n','полиция',df_d.groupby(['Year'])['TotalPay'].median());\n",
    "print('\\n','пожарные',df_df.groupby(['Year'])['TotalPay'].median());\n",
    "print('\\n','медицина',df_dfm.groupby(['Year'])['TotalPay'].median());"
   ]
  },
  {
   "cell_type": "code",
   "execution_count": null,
   "metadata": {},
   "outputs": [],
   "source": []
  },
  {
   "cell_type": "code",
   "execution_count": null,
   "metadata": {},
   "outputs": [],
   "source": [
    "#Как распределяются базовая оплата, сверхурочная работа и льготы между разными группами?"
   ]
  },
  {
   "cell_type": "code",
   "execution_count": 86,
   "metadata": {},
   "outputs": [
    {
     "name": "stdout",
     "output_type": "stream",
     "text": [
      "базовая оплата\n",
      " полиция 1        155966\n",
      "2        212739\n",
      "11        99722\n",
      "15       198778\n",
      "25       256470\n",
      "          ...  \n",
      "35131    1006.4\n",
      "35151         0\n",
      "35318         0\n",
      "35671         0\n",
      "35902         0\n",
      "Name: BasePay, Length: 2512, dtype: object \n",
      " пожарные 17       140547\n",
      "19       257511\n",
      "20       257510\n",
      "21       257510\n",
      "36       245124\n",
      "          ...  \n",
      "35392         0\n",
      "35597         0\n",
      "35732     516.4\n",
      "35764         0\n",
      "36115         0\n",
      "Name: BasePay, Length: 431, dtype: object \n",
      " медицина 17       140547\n",
      "19       257511\n",
      "20       257510\n",
      "21       257510\n",
      "36       245124\n",
      "          ...  \n",
      "35392         0\n",
      "35597         0\n",
      "35732     516.4\n",
      "35764         0\n",
      "36115         0\n",
      "Name: BasePay, Length: 431, dtype: object\n",
      "\n",
      " пожарные Year\n",
      "2011    55376.42\n",
      "Name: TotalPay, dtype: float64\n",
      "\n",
      " медицина Year\n",
      "2011    55376.42\n",
      "Name: TotalPay, dtype: float64\n",
      "Среднее значение по зп:\n",
      " полиция Year\n",
      "2011    127177.465\n",
      "Name: TotalPay, dtype: float64\n",
      "\n",
      " пожарные Year\n",
      "2011    55376.42\n",
      "Name: TotalPay, dtype: float64\n",
      "\n",
      " медицина Year\n",
      "2011    55376.42\n",
      "Name: TotalPay, dtype: float64\n",
      "Среднее значение по зп:\n",
      " полиция Year\n",
      "2011    127177.465\n",
      "Name: TotalPay, dtype: float64\n",
      "\n",
      " пожарные Year\n",
      "2011    55376.42\n",
      "Name: TotalPay, dtype: float64\n",
      "\n",
      " медицина Year\n",
      "2011    55376.42\n",
      "Name: TotalPay, dtype: float64\n"
     ]
    }
   ],
   "source": [
    "print('базовая оплата\\n','полиция',df_d.BasePay,'\\n','пожарные',df_df.BasePay,'\\n','медицина',df_dfm.BasePay)\n",
    "      \n",
    "print('\\n','пожарные',df_df.groupby(['Year'])['TotalPay'].median());\n",
    "print('\\n','медицина',df_dfm.groupby(['Year'])['TotalPay'].median());\n",
    "\n",
    "print('Среднее значение по зп:\\n','полиция',df_d.groupby(['Year'])['TotalPay'].median());\n",
    "print('\\n','пожарные',df_df.groupby(['Year'])['TotalPay'].median());\n",
    "print('\\n','медицина',df_dfm.groupby(['Year'])['TotalPay'].median());\n",
    "\n",
    "print('Среднее значение по зп:\\n','полиция',df_d.groupby(['Year'])['TotalPay'].median());\n",
    "print('\\n','пожарные',df_df.groupby(['Year'])['TotalPay'].median());\n",
    "print('\\n','медицина',df_dfm.groupby(['Year'])['TotalPay'].median());"
   ]
  },
  {
   "cell_type": "code",
   "execution_count": 12,
   "metadata": {
    "scrolled": true
   },
   "outputs": [
    {
     "ename": "KeyError",
     "evalue": "'GENERAL MANAGER-METROPOLITAN TRANSIT AUTHORITY'",
     "output_type": "error",
     "traceback": [
      "\u001b[1;31m---------------------------------------------------------------------------\u001b[0m",
      "\u001b[1;31mKeyError\u001b[0m                                  Traceback (most recent call last)",
      "\u001b[1;32m<ipython-input-12-de241311629a>\u001b[0m in \u001b[0;36m<module>\u001b[1;34m\u001b[0m\n\u001b[0;32m      1\u001b[0m \u001b[0mkol\u001b[0m\u001b[1;33m=\u001b[0m\u001b[1;36m0\u001b[0m\u001b[1;33m\u001b[0m\u001b[1;33m\u001b[0m\u001b[0m\n\u001b[0;32m      2\u001b[0m \u001b[1;32mfor\u001b[0m \u001b[0mkol\u001b[0m \u001b[1;32min\u001b[0m \u001b[0mdf\u001b[0m\u001b[1;33m.\u001b[0m\u001b[0mJobTitle\u001b[0m\u001b[1;33m:\u001b[0m\u001b[1;33m\u001b[0m\u001b[1;33m\u001b[0m\u001b[0m\n\u001b[1;32m----> 3\u001b[1;33m     \u001b[0mk\u001b[0m\u001b[1;33m=\u001b[0m\u001b[0mdf\u001b[0m\u001b[1;33m.\u001b[0m\u001b[0mJobTitle\u001b[0m\u001b[1;33m[\u001b[0m\u001b[0mkol\u001b[0m\u001b[1;33m]\u001b[0m\u001b[1;33m\u001b[0m\u001b[1;33m\u001b[0m\u001b[0m\n\u001b[0m\u001b[0;32m      4\u001b[0m     \u001b[0mprint\u001b[0m\u001b[1;33m(\u001b[0m\u001b[0mk\u001b[0m\u001b[1;33m)\u001b[0m\u001b[1;33m\u001b[0m\u001b[1;33m\u001b[0m\u001b[0m\n\u001b[0;32m      5\u001b[0m \u001b[1;33m\u001b[0m\u001b[0m\n",
      "\u001b[1;32m~\\anaconda3\\lib\\site-packages\\pandas\\core\\series.py\u001b[0m in \u001b[0;36m__getitem__\u001b[1;34m(self, key)\u001b[0m\n\u001b[0;32m    869\u001b[0m         \u001b[0mkey\u001b[0m \u001b[1;33m=\u001b[0m \u001b[0mcom\u001b[0m\u001b[1;33m.\u001b[0m\u001b[0mapply_if_callable\u001b[0m\u001b[1;33m(\u001b[0m\u001b[0mkey\u001b[0m\u001b[1;33m,\u001b[0m \u001b[0mself\u001b[0m\u001b[1;33m)\u001b[0m\u001b[1;33m\u001b[0m\u001b[1;33m\u001b[0m\u001b[0m\n\u001b[0;32m    870\u001b[0m         \u001b[1;32mtry\u001b[0m\u001b[1;33m:\u001b[0m\u001b[1;33m\u001b[0m\u001b[1;33m\u001b[0m\u001b[0m\n\u001b[1;32m--> 871\u001b[1;33m             \u001b[0mresult\u001b[0m \u001b[1;33m=\u001b[0m \u001b[0mself\u001b[0m\u001b[1;33m.\u001b[0m\u001b[0mindex\u001b[0m\u001b[1;33m.\u001b[0m\u001b[0mget_value\u001b[0m\u001b[1;33m(\u001b[0m\u001b[0mself\u001b[0m\u001b[1;33m,\u001b[0m \u001b[0mkey\u001b[0m\u001b[1;33m)\u001b[0m\u001b[1;33m\u001b[0m\u001b[1;33m\u001b[0m\u001b[0m\n\u001b[0m\u001b[0;32m    872\u001b[0m \u001b[1;33m\u001b[0m\u001b[0m\n\u001b[0;32m    873\u001b[0m             \u001b[1;32mif\u001b[0m \u001b[1;32mnot\u001b[0m \u001b[0mis_scalar\u001b[0m\u001b[1;33m(\u001b[0m\u001b[0mresult\u001b[0m\u001b[1;33m)\u001b[0m\u001b[1;33m:\u001b[0m\u001b[1;33m\u001b[0m\u001b[1;33m\u001b[0m\u001b[0m\n",
      "\u001b[1;32m~\\anaconda3\\lib\\site-packages\\pandas\\core\\indexes\\base.py\u001b[0m in \u001b[0;36mget_value\u001b[1;34m(self, series, key)\u001b[0m\n\u001b[0;32m   4403\u001b[0m         \u001b[0mk\u001b[0m \u001b[1;33m=\u001b[0m \u001b[0mself\u001b[0m\u001b[1;33m.\u001b[0m\u001b[0m_convert_scalar_indexer\u001b[0m\u001b[1;33m(\u001b[0m\u001b[0mk\u001b[0m\u001b[1;33m,\u001b[0m \u001b[0mkind\u001b[0m\u001b[1;33m=\u001b[0m\u001b[1;34m\"getitem\"\u001b[0m\u001b[1;33m)\u001b[0m\u001b[1;33m\u001b[0m\u001b[1;33m\u001b[0m\u001b[0m\n\u001b[0;32m   4404\u001b[0m         \u001b[1;32mtry\u001b[0m\u001b[1;33m:\u001b[0m\u001b[1;33m\u001b[0m\u001b[1;33m\u001b[0m\u001b[0m\n\u001b[1;32m-> 4405\u001b[1;33m             \u001b[1;32mreturn\u001b[0m \u001b[0mself\u001b[0m\u001b[1;33m.\u001b[0m\u001b[0m_engine\u001b[0m\u001b[1;33m.\u001b[0m\u001b[0mget_value\u001b[0m\u001b[1;33m(\u001b[0m\u001b[0ms\u001b[0m\u001b[1;33m,\u001b[0m \u001b[0mk\u001b[0m\u001b[1;33m,\u001b[0m \u001b[0mtz\u001b[0m\u001b[1;33m=\u001b[0m\u001b[0mgetattr\u001b[0m\u001b[1;33m(\u001b[0m\u001b[0mseries\u001b[0m\u001b[1;33m.\u001b[0m\u001b[0mdtype\u001b[0m\u001b[1;33m,\u001b[0m \u001b[1;34m\"tz\"\u001b[0m\u001b[1;33m,\u001b[0m \u001b[1;32mNone\u001b[0m\u001b[1;33m)\u001b[0m\u001b[1;33m)\u001b[0m\u001b[1;33m\u001b[0m\u001b[1;33m\u001b[0m\u001b[0m\n\u001b[0m\u001b[0;32m   4406\u001b[0m         \u001b[1;32mexcept\u001b[0m \u001b[0mKeyError\u001b[0m \u001b[1;32mas\u001b[0m \u001b[0me1\u001b[0m\u001b[1;33m:\u001b[0m\u001b[1;33m\u001b[0m\u001b[1;33m\u001b[0m\u001b[0m\n\u001b[0;32m   4407\u001b[0m             \u001b[1;32mif\u001b[0m \u001b[0mlen\u001b[0m\u001b[1;33m(\u001b[0m\u001b[0mself\u001b[0m\u001b[1;33m)\u001b[0m \u001b[1;33m>\u001b[0m \u001b[1;36m0\u001b[0m \u001b[1;32mand\u001b[0m \u001b[1;33m(\u001b[0m\u001b[0mself\u001b[0m\u001b[1;33m.\u001b[0m\u001b[0mholds_integer\u001b[0m\u001b[1;33m(\u001b[0m\u001b[1;33m)\u001b[0m \u001b[1;32mor\u001b[0m \u001b[0mself\u001b[0m\u001b[1;33m.\u001b[0m\u001b[0mis_boolean\u001b[0m\u001b[1;33m(\u001b[0m\u001b[1;33m)\u001b[0m\u001b[1;33m)\u001b[0m\u001b[1;33m:\u001b[0m\u001b[1;33m\u001b[0m\u001b[1;33m\u001b[0m\u001b[0m\n",
      "\u001b[1;32mpandas\\_libs\\index.pyx\u001b[0m in \u001b[0;36mpandas._libs.index.IndexEngine.get_value\u001b[1;34m()\u001b[0m\n",
      "\u001b[1;32mpandas\\_libs\\index.pyx\u001b[0m in \u001b[0;36mpandas._libs.index.IndexEngine.get_value\u001b[1;34m()\u001b[0m\n",
      "\u001b[1;32mpandas\\_libs\\index.pyx\u001b[0m in \u001b[0;36mpandas._libs.index.IndexEngine.get_loc\u001b[1;34m()\u001b[0m\n",
      "\u001b[1;32mpandas\\_libs\\index_class_helper.pxi\u001b[0m in \u001b[0;36mpandas._libs.index.Int64Engine._check_type\u001b[1;34m()\u001b[0m\n",
      "\u001b[1;31mKeyError\u001b[0m: 'GENERAL MANAGER-METROPOLITAN TRANSIT AUTHORITY'"
     ]
    }
   ],
   "source": [
    "kol=0\n",
    "for kol in df.JobTitle:\n",
    "    k=df.JobTitle[kol]\n",
    "    print(k)\n",
    "\n",
    "      #url = f'https://api.hh.ru/vacancies?employer_id={sber}&page={page}&per_page={num_per_page}&area={113}'\n",
    "    #res = requests.get(url)\n",
    "    #vacancies = res.json()\n",
    "    snippet_r = ['DEPARTMENT' for el in df.JobTitle] \n",
    "    #snippet_r = [el.get('snippet') for el in vacancies.get('items')] \n",
    "    #for elem in snippet_r:\n",
    "     #   df1=elem.get('requirement')\n",
    "     #   df2=elem.get('responsibility')\n",
    "    \n",
    "\n",
    "#l = df['JobTitle'].str.contains(\"POLICE\").values()#.str.rfind(\"POLICE\") #.upper()\n",
    "#l\n",
    "#print(l)\n",
    "#sub=['%DEPARTMENT%']\n",
    "#long_df[\"Indexes\"] = l.str.rfind(sub)\n",
    "#k= pd.to_numeric(long_df[\"Indexes\"])\n",
    "#print(k)\n",
    "#sd=df[df['JobTitle'].isin(sub)]\n",
    "\n",
    "#zips = ['3012\\d+','152193']\n",
    "#pat = r'\\b(?:{})\\b'.format('|'.join(sub))\n",
    "\n",
    "#sd=df[df['JobTitle'].str.contains(pat)]\n",
    "\n",
    "\n",
    "#if any(df['JobTitle'] in 'DEPARTMENT' for df['JobTitle'] in df):\n",
    "\n",
    "#if k!=1:\n",
    "#    long_df = pd.melt(df, var_name='Item', value_name='Sales',id_vars=['JobTitle', 'BasePay','TotalPay', 'OvertimePay', 'Year', 'Status'])\n",
    "    \n",
    "\n",
    "#sd\n",
    "\n",
    "#print(k1)\n",
    "\n",
    "\n",
    "#if JobTitle=='DEPARTMENT'\n",
    "\n",
    "#long_df = pd.melt(df, var_name='Item', value_name='Sales',\n",
    "#            id_vars=['age', 'gender','ml_balance', 'cl_balance_0m', 'td_balance_0m', 'casa_balance_0m', 'nbi'])\n",
    "#long_df.shape         \n",
    "#long_df.sample(n=5) "
   ]
  },
  {
   "cell_type": "code",
   "execution_count": null,
   "metadata": {},
   "outputs": [],
   "source": [
    "data.dropna(inplace = True) # удаление столбцов нулевого значения\n",
    "\n",
    "# из поля вытаскиваем строки\n",
    "skil=weq.get('skils')\n",
    "weq['skils']=[','.join([y.get('name') for y in x]) for x in skil]\n",
    "tabl_new =pd.DataFrame(weq)\n",
    "tabl_new"
   ]
  },
  {
   "cell_type": "code",
   "execution_count": 22,
   "metadata": {
    "scrolled": true
   },
   "outputs": [
    {
     "data": {
      "text/plain": [
       "JobTitle\n",
       "ACCOUNT CLERK                                         3654960.14\n",
       "ACCOUNTANT                                             237146.34\n",
       "ACCOUNTANT INTERN                                     1393523.66\n",
       "ACPO,JuvP, Juv Prob (SFERS)                             62290.78\n",
       "ACUPUNCTURIST                                           67594.40\n",
       "ADMINISTRATIVE ANALYST                                5947802.68\n",
       "ADMINISTRATIVE ANALYST II                              122994.07\n",
       "ADMINISTRATIVE ANALYST III                             185397.03\n",
       "ADMINISTRATIVE ENGINEER                               1279614.30\n",
       "ADMINISTRATIVE SERVICES MANAGER                        231046.74\n",
       "ADMINISTRATOR, SFGH MEDICAL CENTER                     257124.44\n",
       "AFFIRMATIVE ACTION SPECIALIST                          409283.90\n",
       "AGRICULTURAL INSPECTOR                                 107172.20\n",
       "AIRPORT ASSISTANT DEPUTY DIRECTOR, BUSINESS ADMINI       1927.50\n",
       "AIRPORT ASSISTANT DEPUTY DIRECTOR, OPERATIONS           15420.00\n",
       "AIRPORT COMMUNICATIONS OPERATOR                       2192799.86\n",
       "AIRPORT COMMUNICATIONS SUPERVISOR                      176360.00\n",
       "AIRPORT ECONOMIC PLANNER                              1407442.68\n",
       "AIRPORT ELECTRICIAN                                   1848033.08\n",
       "AIRPORT ELECTRICIAN SUPERVISOR                         234177.52\n",
       "Name: TotalPay, dtype: float64"
      ]
     },
     "execution_count": 22,
     "metadata": {},
     "output_type": "execute_result"
    }
   ],
   "source": [
    "JobTitle_by=df.groupby('JobTitle')['TotalPay'].sum() #  групировка по должностям, \n",
    "JobTitle_by.head(20)"
   ]
  },
  {
   "cell_type": "code",
   "execution_count": 12,
   "metadata": {},
   "outputs": [
    {
     "data": {
      "text/plain": [
       "0         GENERAL MANAGER-METROPOLITAN TRANSIT AUTHORITY\n",
       "1                        CAPTAIN III (POLICE DEPARTMENT)\n",
       "2                        CAPTAIN III (POLICE DEPARTMENT)\n",
       "3                   WIRE ROPE CABLE MAINTENANCE MECHANIC\n",
       "4           DEPUTY CHIEF OF DEPARTMENT,(FIRE DEPARTMENT)\n",
       "                               ...                      \n",
       "148649                                         Custodian\n",
       "148650                                      Not provided\n",
       "148651                                      Not provided\n",
       "148652                                      Not provided\n",
       "148653                        Counselor, Log Cabin Ranch\n",
       "Name: JobTitle, Length: 148654, dtype: object"
      ]
     },
     "execution_count": 12,
     "metadata": {},
     "output_type": "execute_result"
    }
   ],
   "source": [
    "df['JobTitle']"
   ]
  },
  {
   "cell_type": "code",
   "execution_count": null,
   "metadata": {},
   "outputs": [],
   "source": []
  }
 ],
 "metadata": {
  "kernelspec": {
   "display_name": "Python 3",
   "language": "python",
   "name": "python3"
  },
  "language_info": {
   "codemirror_mode": {
    "name": "ipython",
    "version": 3
   },
   "file_extension": ".py",
   "mimetype": "text/x-python",
   "name": "python",
   "nbconvert_exporter": "python",
   "pygments_lexer": "ipython3",
   "version": "3.7.6"
  }
 },
 "nbformat": 4,
 "nbformat_minor": 4
}
