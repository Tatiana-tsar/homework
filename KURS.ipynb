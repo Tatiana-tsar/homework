{
 "cells": [
  {
   "cell_type": "markdown",
   "metadata": {},
   "source": [
    "курсовая работа"
   ]
  },
  {
   "cell_type": "markdown",
   "metadata": {},
   "source": [
    "Зарплаты в San Francisco\n",
    "https://www.kaggle.com/kaggle/sf-salaries?select=Salaries.csv \n",
    "\n",
    "Как со временем менялись зарплаты между разными группами (группировка по Department - fire, medicine, police)? \n",
    "(максимальная, медианная, средняя)\n",
    "Как распределяются базовая оплата, сверхурочная работа и льготы между разными группами? Нужно построить диаграммы по распределению со временем для каждого департамента по базовым, сверхурочным и льготам\n",
    "Как распределяется бюджет на разные группы (department) с течением времени?\n",
    "Какое количество людей в каждом департаменте? \n",
    "Какое количество с разным уровнем дохода? (гистограмма с шагом в 5к) \n",
    "На базе линейной регрессии постройте прогноз по тому, какие будут закупки на следующий год по каждому департаменту\n"
   ]
  },
  {
   "cell_type": "code",
   "execution_count": 151,
   "metadata": {},
   "outputs": [],
   "source": [
    "import pandas as pd\n",
    "import numpy as np\n",
    "import matplotlib.pyplot as plt\n",
    "import scipy.stats as sts\n",
    "import math\n",
    "%matplotlib inline\n",
    "\n",
    "from scipy.stats import cosine\n",
    "import matplotlib.pyplot as plt\n",
    "import csv\n",
    "import sys\n",
    "#from scipy.stats import gausshyper\n",
    "#import pylab\n",
    "#import random\n",
    "\n",
    "import requests"
   ]
  },
  {
   "cell_type": "code",
   "execution_count": 166,
   "metadata": {
    "scrolled": true
   },
   "outputs": [
    {
     "name": "stderr",
     "output_type": "stream",
     "text": [
      "C:\\Users\\user\\anaconda3\\lib\\site-packages\\IPython\\core\\interactiveshell.py:3063: DtypeWarning: Columns (3,4,5,6,12) have mixed types.Specify dtype option on import or set low_memory=False.\n",
      "  interactivity=interactivity, compiler=compiler, result=result)\n"
     ]
    }
   ],
   "source": [
    "#df = list(csv.DictReader(open('Salaries.csv', encoding='utf-8', newline='')))  #telecom_churn.csv\n",
    "#url = f'https://drive.google.com/file/d/1X_drKqoarnU2Sz2har7uSCsgyhh8Xtz8/view?usp=sharing/telecom_churn.csv'\n",
    "#url=f'https://www.kaggle.com/kaggle/sf-salaries?select=Salaries.csv'\n",
    "df = pd.read_csv('Salaries.csv')\n",
    "#df.head(15)\n"
   ]
  },
  {
   "cell_type": "code",
   "execution_count": 165,
   "metadata": {
    "scrolled": true
   },
   "outputs": [
    {
     "ename": "TypeError",
     "evalue": "parser_f() got an unexpected keyword argument 'parse'",
     "output_type": "error",
     "traceback": [
      "\u001b[1;31m---------------------------------------------------------------------------\u001b[0m",
      "\u001b[1;31mTypeError\u001b[0m                                 Traceback (most recent call last)",
      "\u001b[1;32m<ipython-input-165-3580663a1e1c>\u001b[0m in \u001b[0;36m<module>\u001b[1;34m\u001b[0m\n\u001b[1;32m----> 1\u001b[1;33m \u001b[0mdf\u001b[0m \u001b[1;33m=\u001b[0m \u001b[0mpd\u001b[0m\u001b[1;33m.\u001b[0m\u001b[0mread_csv\u001b[0m\u001b[1;33m(\u001b[0m\u001b[0murl\u001b[0m\u001b[1;33m,\u001b[0m\u001b[0mindex_col\u001b[0m\u001b[1;33m=\u001b[0m\u001b[1;36m0\u001b[0m\u001b[1;33m,\u001b[0m\u001b[0mparse\u001b[0m\u001b[1;33m=\u001b[0m\u001b[1;32mTrue\u001b[0m\u001b[1;33m)\u001b[0m\u001b[1;33m\u001b[0m\u001b[1;33m\u001b[0m\u001b[0m\n\u001b[0m\u001b[0;32m      2\u001b[0m \u001b[0mdf\u001b[0m\u001b[1;33m.\u001b[0m\u001b[0mhead\u001b[0m\u001b[1;33m(\u001b[0m\u001b[1;33m)\u001b[0m\u001b[1;33m\u001b[0m\u001b[1;33m\u001b[0m\u001b[0m\n",
      "\u001b[1;31mTypeError\u001b[0m: parser_f() got an unexpected keyword argument 'parse'"
     ]
    }
   ],
   "source": [
    "#df = pd.read_csv(url,index_col=0,parse=True)\n",
    "#df.head()"
   ]
  },
  {
   "cell_type": "code",
   "execution_count": 157,
   "metadata": {},
   "outputs": [
    {
     "data": {
      "text/plain": [
       "(148654, 13)"
      ]
     },
     "execution_count": 157,
     "metadata": {},
     "output_type": "execute_result"
    }
   ],
   "source": [
    "df.shape"
   ]
  },
  {
   "cell_type": "code",
   "execution_count": 78,
   "metadata": {
    "scrolled": false
   },
   "outputs": [
    {
     "data": {
      "text/plain": [
       "Id                  0\n",
       "EmployeeName        0\n",
       "JobTitle            0\n",
       "BasePay             0\n",
       "OvertimePay         0\n",
       "OtherPay            0\n",
       "Benefits            0\n",
       "TotalPay            0\n",
       "TotalPayBenefits    0\n",
       "Year                0\n",
       "Notes               0\n",
       "Agency              0\n",
       "Status              0\n",
       "dtype: int64"
      ]
     },
     "execution_count": 78,
     "metadata": {},
     "output_type": "execute_result"
    }
   ],
   "source": [
    "df.isna().sum()  # Benefits - ПРЕИМУЩЕСТВА ??? прверяем на наличие NaN в общей базе"
   ]
  },
  {
   "cell_type": "code",
   "execution_count": 92,
   "metadata": {},
   "outputs": [
    {
     "data": {
      "text/plain": [
       "0"
      ]
     },
     "execution_count": 92,
     "metadata": {},
     "output_type": "execute_result"
    }
   ],
   "source": [
    "#проверка дублей\n",
    "df.duplicated().sum()"
   ]
  },
  {
   "cell_type": "code",
   "execution_count": 79,
   "metadata": {},
   "outputs": [
    {
     "data": {
      "text/plain": [
       "BasePay\n",
       "14.25      1\n",
       "15.83      3\n",
       "17.48      1\n",
       "18.81      1\n",
       "23.08      1\n",
       "          ..\n",
       "9987.04    1\n",
       "9991.53    1\n",
       "9997.15    1\n",
       "9998.60    1\n",
       "9999.59    1\n",
       "Name: BasePay, Length: 109886, dtype: int64"
      ]
     },
     "execution_count": 79,
     "metadata": {},
     "output_type": "execute_result"
    }
   ],
   "source": [
    "df.groupby(['BasePay'])['BasePay'].count() #проверяю количество нулей, отрицательных значений, и др.\n"
   ]
  },
  {
   "cell_type": "code",
   "execution_count": 67,
   "metadata": {
    "scrolled": true
   },
   "outputs": [],
   "source": [
    "# удаляем Not Provided - не предоставлено\n",
    "df = df.drop(df[df.BasePay =='Not Provided'].index)\n"
   ]
  },
  {
   "cell_type": "code",
   "execution_count": 76,
   "metadata": {
    "scrolled": true
   },
   "outputs": [],
   "source": [
    "# переводим сумму float и удаляем все отрицательные и нулевые суммы\n",
    "df = df.drop(df[df.BasePay.astype(float) <=0.0].index)\n"
   ]
  },
  {
   "cell_type": "code",
   "execution_count": 77,
   "metadata": {
    "scrolled": true
   },
   "outputs": [],
   "source": [
    "# меняем все пустоты NaN на значение медианы \n",
    "df.fillna(df.BasePay.median(),inplace = True) "
   ]
  },
  {
   "cell_type": "code",
   "execution_count": null,
   "metadata": {},
   "outputs": [],
   "source": []
  },
  {
   "cell_type": "code",
   "execution_count": 80,
   "metadata": {
    "scrolled": true
   },
   "outputs": [
    {
     "data": {
      "text/plain": [
       "65258.01    0.0\n",
       "54703.00    0.0\n",
       "55026.0     0.0\n",
       "48472.4     0.0\n",
       "65448.0     0.0\n",
       "             ..\n",
       "118182.11   0.0\n",
       "70429.44    0.0\n",
       "118186.13   0.0\n",
       "118187.5    0.0\n",
       "4830.14     0.0\n",
       "Name: BasePay, Length: 109886, dtype: float64"
      ]
     },
     "execution_count": 80,
     "metadata": {},
     "output_type": "execute_result"
    }
   ],
   "source": [
    "#проверить на корретность полей, базовая оплата базовая оплата - очень маленький %, можно удалить\n",
    "df.BasePay.value_counts(normalize=True) "
   ]
  },
  {
   "cell_type": "code",
   "execution_count": null,
   "metadata": {},
   "outputs": [],
   "source": []
  },
  {
   "cell_type": "code",
   "execution_count": 81,
   "metadata": {},
   "outputs": [
    {
     "data": {
      "text/plain": [
       "0.0        0.4\n",
       "0.00       0.1\n",
       "681.23     0.0\n",
       "10.68      0.0\n",
       "152.13     0.0\n",
       "            ..\n",
       "976.26     0.0\n",
       "571.51     0.0\n",
       "35515.23   0.0\n",
       "302.89     0.0\n",
       "38043.49   0.0\n",
       "Name: OvertimePay, Length: 66484, dtype: float64"
      ]
     },
     "execution_count": 81,
     "metadata": {},
     "output_type": "execute_result"
    }
   ],
   "source": [
    "#проверить на корретность полей, другие значения - Оплата сверхурочной работы -- очень маленький %, можно удалить\n",
    "df.OvertimePay.value_counts(normalize=True) "
   ]
  },
  {
   "cell_type": "code",
   "execution_count": 84,
   "metadata": {
    "scrolled": true
   },
   "outputs": [
    {
     "data": {
      "text/plain": [
       "OvertimePay\n",
       "0.02       1\n",
       "0.52       1\n",
       "0.77       1\n",
       "1.76       1\n",
       "2.87       1\n",
       "          ..\n",
       "996.54     1\n",
       "9968.07    1\n",
       "997.69     1\n",
       "997.76     1\n",
       "9971.17    1\n",
       "Name: OvertimePay, Length: 66481, dtype: int64"
      ]
     },
     "execution_count": 84,
     "metadata": {},
     "output_type": "execute_result"
    }
   ],
   "source": [
    "df.groupby(['OvertimePay'])['OvertimePay'].count() #проверяю количество нулей, отрицательных значений, и др."
   ]
  },
  {
   "cell_type": "code",
   "execution_count": 83,
   "metadata": {},
   "outputs": [],
   "source": [
    "# переводим сумму float и удаляем все отрицательные и нулевые суммы\n",
    "df = df.drop(df[df.OvertimePay.astype(float) <=0.0].index)"
   ]
  },
  {
   "cell_type": "code",
   "execution_count": null,
   "metadata": {},
   "outputs": [],
   "source": []
  },
  {
   "cell_type": "code",
   "execution_count": 87,
   "metadata": {
    "scrolled": true
   },
   "outputs": [
    {
     "data": {
      "text/plain": [
       "624.0      0.0\n",
       "250.0      0.0\n",
       "648.0      0.0\n",
       "874.0      0.0\n",
       "624.00     0.0\n",
       "            ..\n",
       "168.43     0.0\n",
       "11976.62   0.0\n",
       "7830.85    0.0\n",
       "1469.85    0.0\n",
       "2.0        0.0\n",
       "Name: OtherPay, Length: 57864, dtype: float64"
      ]
     },
     "execution_count": 87,
     "metadata": {},
     "output_type": "execute_result"
    }
   ],
   "source": [
    "#проверить на корретность полей, другие значения - другое -- очень маленький %, можно удалить\n",
    "df.OtherPay.value_counts(normalize=True) "
   ]
  },
  {
   "cell_type": "code",
   "execution_count": 86,
   "metadata": {},
   "outputs": [],
   "source": [
    "# переводим сумму float и удаляем все отрицательные и нулевые суммы\n",
    "df = df.drop(df[df.OtherPay.astype(float) <=0.0].index)"
   ]
  },
  {
   "cell_type": "code",
   "execution_count": null,
   "metadata": {},
   "outputs": [],
   "source": []
  },
  {
   "cell_type": "code",
   "execution_count": 99,
   "metadata": {},
   "outputs": [
    {
     "data": {
      "text/plain": [
       "5,562.6     0.0\n",
       "4,312.4     0.0\n",
       "58,446.9    0.0\n",
       "5,505.9     0.0\n",
       "57,886.9    0.0\n",
       "             ..\n",
       "57,828.3    0.0\n",
       "131,182.5   0.0\n",
       "159,097.1   0.0\n",
       "76,026.1    0.0\n",
       "89,528.5    0.0\n",
       "Name: TotalPay, Length: 64010, dtype: float64"
      ]
     },
     "execution_count": 99,
     "metadata": {},
     "output_type": "execute_result"
    }
   ],
   "source": [
    "#проверить на корретность полей, другие значения - другое -- очень маленький %, можно удалить\n",
    "df.TotalPay.value_counts(normalize=True) "
   ]
  },
  {
   "cell_type": "code",
   "execution_count": null,
   "metadata": {},
   "outputs": [],
   "source": []
  },
  {
   "cell_type": "code",
   "execution_count": null,
   "metadata": {},
   "outputs": [],
   "source": []
  },
  {
   "cell_type": "code",
   "execution_count": null,
   "metadata": {},
   "outputs": [],
   "source": []
  },
  {
   "cell_type": "code",
   "execution_count": 101,
   "metadata": {},
   "outputs": [],
   "source": [
    "MEDICAL=['PATIENT','PARAMEDIC','MEDICAL','NURSE','MENTAL','HEALTH','PHYSICIAN','PSYCHIATRIC','NURSING','HOSPITAL','PHYSICAL','THERAP','PHARMAC','PSYCHOLOGIST','X-RAY','NUTRITIONIST','DIETITIAN','ANESTHETIST','EPIDEMIOLOGIST','DENTAL','CLINICAL','REHABILITATION','HLTH','PATHOLOGIST','DISEASE','CARE','SURGICAL','DENTIST','MORGUE','REHABILITATION','PATIENT','MED STAFF','EPIDEMIOLOGIST']\n",
    "df_MEDICAL = pd.DataFrame()\n",
    "for i in MEDICAL:\n",
    "    df_MEDICAL = df_MEDICAL.append(df[df['JobTitle'].str.upper().str.contains(i)])"
   ]
  },
  {
   "cell_type": "code",
   "execution_count": 104,
   "metadata": {},
   "outputs": [
    {
     "data": {
      "text/plain": [
       "(16586, 13)"
      ]
     },
     "execution_count": 104,
     "metadata": {},
     "output_type": "execute_result"
    }
   ],
   "source": [
    "df_MEDICAL.shape"
   ]
  },
  {
   "cell_type": "code",
   "execution_count": 105,
   "metadata": {
    "scrolled": true
   },
   "outputs": [
    {
     "data": {
      "text/plain": [
       "count    16,586.0\n",
       "mean     84,222.0\n",
       "std      43,060.0\n",
       "min         312.2\n",
       "25%      55,250.7\n",
       "50%      74,430.1\n",
       "75%     115,120.4\n",
       "max     337,204.9\n",
       "Name: TotalPay, dtype: float64"
      ]
     },
     "execution_count": 105,
     "metadata": {},
     "output_type": "execute_result"
    }
   ],
   "source": [
    "df_MEDICAL.TotalPay.describe()"
   ]
  },
  {
   "cell_type": "code",
   "execution_count": null,
   "metadata": {},
   "outputs": [],
   "source": [
    "pd.options.display.float_format = '{:,.1f}'.format #чтобы округлял значения до сотых:"
   ]
  },
  {
   "cell_type": "code",
   "execution_count": 167,
   "metadata": {
    "scrolled": true
   },
   "outputs": [
    {
     "data": {
      "text/html": [
       "<div>\n",
       "<style scoped>\n",
       "    .dataframe tbody tr th:only-of-type {\n",
       "        vertical-align: middle;\n",
       "    }\n",
       "\n",
       "    .dataframe tbody tr th {\n",
       "        vertical-align: top;\n",
       "    }\n",
       "\n",
       "    .dataframe thead th {\n",
       "        text-align: right;\n",
       "    }\n",
       "</style>\n",
       "<table border=\"1\" class=\"dataframe\">\n",
       "  <thead>\n",
       "    <tr style=\"text-align: right;\">\n",
       "      <th></th>\n",
       "      <th>median</th>\n",
       "      <th>min</th>\n",
       "      <th>mean</th>\n",
       "      <th>count</th>\n",
       "    </tr>\n",
       "    <tr>\n",
       "      <th>Year</th>\n",
       "      <th></th>\n",
       "      <th></th>\n",
       "      <th></th>\n",
       "      <th></th>\n",
       "    </tr>\n",
       "  </thead>\n",
       "  <tbody>\n",
       "    <tr>\n",
       "      <th>2011</th>\n",
       "      <td>69,178.2</td>\n",
       "      <td>839.6</td>\n",
       "      <td>78,508.0</td>\n",
       "      <td>4327</td>\n",
       "    </tr>\n",
       "    <tr>\n",
       "      <th>2012</th>\n",
       "      <td>73,693.9</td>\n",
       "      <td>312.2</td>\n",
       "      <td>82,982.7</td>\n",
       "      <td>4042</td>\n",
       "    </tr>\n",
       "    <tr>\n",
       "      <th>2013</th>\n",
       "      <td>80,213.1</td>\n",
       "      <td>1,149.8</td>\n",
       "      <td>90,043.7</td>\n",
       "      <td>4000</td>\n",
       "    </tr>\n",
       "    <tr>\n",
       "      <th>2014</th>\n",
       "      <td>75,018.7</td>\n",
       "      <td>1,083.1</td>\n",
       "      <td>85,750.7</td>\n",
       "      <td>4217</td>\n",
       "    </tr>\n",
       "  </tbody>\n",
       "</table>\n",
       "</div>"
      ],
      "text/plain": [
       "       median     min     mean  count\n",
       "Year                                 \n",
       "2011 69,178.2   839.6 78,508.0   4327\n",
       "2012 73,693.9   312.2 82,982.7   4042\n",
       "2013 80,213.1 1,149.8 90,043.7   4000\n",
       "2014 75,018.7 1,083.1 85,750.7   4217"
      ]
     },
     "execution_count": 167,
     "metadata": {},
     "output_type": "execute_result"
    }
   ],
   "source": [
    "dr3=df_MEDICAL.groupby(['Year'])['TotalPay'].agg(['median','min','mean','count']) \n",
    "dr3"
   ]
  },
  {
   "cell_type": "code",
   "execution_count": 173,
   "metadata": {
    "scrolled": true
   },
   "outputs": [
    {
     "data": {
      "image/png": "[encoded data removed]",
      "text/plain": [
       "<Figure size 432x288 with 1 Axes>"
      ]
     },
     "metadata": {
      "needs_background": "light"
     },
     "output_type": "display_data"
    }
   ],
   "source": [
    "dr3.plot();"
   ]
  },
  {
   "cell_type": "code",
   "execution_count": null,
   "metadata": {},
   "outputs": [],
   "source": []
  },
  {
   "cell_type": "code",
   "execution_count": 109,
   "metadata": {},
   "outputs": [],
   "source": [
    "POLICE=['Sergeant','OFFICER','POLICE','Captain','Investigator','ATTORNEY','Criminalist','Examiner','Fingerprint','RESEARCH','Inspector','Fingerprint','Technician','Engineering','Assistant','Criminal','COMMISSIONER','ATTORNEY','Service','Witness']\n",
    "\n",
    "df_POLICE = pd.DataFrame()\n",
    "for i in POLICE:\n",
    "    df_POLICE = df_POLICE.append(df[df['JobTitle'].str.upper().str.contains(i)])"
   ]
  },
  {
   "cell_type": "code",
   "execution_count": 110,
   "metadata": {},
   "outputs": [
    {
     "data": {
      "text/plain": [
       "(14814, 13)"
      ]
     },
     "execution_count": 110,
     "metadata": {},
     "output_type": "execute_result"
    }
   ],
   "source": [
    "df_POLICE.shape"
   ]
  },
  {
   "cell_type": "code",
   "execution_count": 131,
   "metadata": {},
   "outputs": [],
   "source": [
    "dr2=df_POLICE.groupby(['Year'])['TotalPay'].agg(['median','min','max','count']) "
   ]
  },
  {
   "cell_type": "code",
   "execution_count": 113,
   "metadata": {},
   "outputs": [
    {
     "data": {
      "text/plain": [
       "count    14,814.0\n",
       "mean    123,885.6\n",
       "std      35,653.6\n",
       "min       2,084.6\n",
       "25%     108,526.1\n",
       "50%     129,421.0\n",
       "75%     144,234.4\n",
       "max     538,909.3\n",
       "Name: TotalPay, dtype: float64"
      ]
     },
     "execution_count": 113,
     "metadata": {},
     "output_type": "execute_result"
    }
   ],
   "source": [
    "df_POLICE.TotalPay.describe()"
   ]
  },
  {
   "cell_type": "code",
   "execution_count": null,
   "metadata": {},
   "outputs": [],
   "source": []
  },
  {
   "cell_type": "code",
   "execution_count": 115,
   "metadata": {},
   "outputs": [],
   "source": [
    "FIRE=['FIRE']\n",
    "\n",
    "df_FIRE = pd.DataFrame()\n",
    "for i in FIRE:\n",
    "    df_FIRE = df_FIRE.append(df[df['JobTitle'].str.upper().str.contains(i)])"
   ]
  },
  {
   "cell_type": "code",
   "execution_count": 116,
   "metadata": {},
   "outputs": [
    {
     "data": {
      "text/plain": [
       "(5345, 13)"
      ]
     },
     "execution_count": 116,
     "metadata": {},
     "output_type": "execute_result"
    }
   ],
   "source": [
    "df_FIRE.shape"
   ]
  },
  {
   "cell_type": "code",
   "execution_count": 132,
   "metadata": {
    "scrolled": false
   },
   "outputs": [
    {
     "data": {
      "text/html": [
       "<div>\n",
       "<style scoped>\n",
       "    .dataframe tbody tr th:only-of-type {\n",
       "        vertical-align: middle;\n",
       "    }\n",
       "\n",
       "    .dataframe tbody tr th {\n",
       "        vertical-align: top;\n",
       "    }\n",
       "\n",
       "    .dataframe thead th {\n",
       "        text-align: right;\n",
       "    }\n",
       "</style>\n",
       "<table border=\"1\" class=\"dataframe\">\n",
       "  <thead>\n",
       "    <tr style=\"text-align: right;\">\n",
       "      <th></th>\n",
       "      <th>median</th>\n",
       "      <th>min</th>\n",
       "      <th>max</th>\n",
       "      <th>count</th>\n",
       "    </tr>\n",
       "    <tr>\n",
       "      <th>Year</th>\n",
       "      <th></th>\n",
       "      <th></th>\n",
       "      <th></th>\n",
       "      <th></th>\n",
       "    </tr>\n",
       "  </thead>\n",
       "  <tbody>\n",
       "    <tr>\n",
       "      <th>2011</th>\n",
       "      <td>147,765.0</td>\n",
       "      <td>22,239.4</td>\n",
       "      <td>326,373.2</td>\n",
       "      <td>1316</td>\n",
       "    </tr>\n",
       "    <tr>\n",
       "      <th>2012</th>\n",
       "      <td>158,027.6</td>\n",
       "      <td>25,138.3</td>\n",
       "      <td>362,844.7</td>\n",
       "      <td>1325</td>\n",
       "    </tr>\n",
       "    <tr>\n",
       "      <th>2013</th>\n",
       "      <td>165,918.4</td>\n",
       "      <td>19,646.6</td>\n",
       "      <td>347,102.3</td>\n",
       "      <td>1356</td>\n",
       "    </tr>\n",
       "    <tr>\n",
       "      <th>2014</th>\n",
       "      <td>157,963.4</td>\n",
       "      <td>7,870.4</td>\n",
       "      <td>335,485.0</td>\n",
       "      <td>1348</td>\n",
       "    </tr>\n",
       "  </tbody>\n",
       "</table>\n",
       "</div>"
      ],
      "text/plain": [
       "        median      min       max  count\n",
       "Year                                    \n",
       "2011 147,765.0 22,239.4 326,373.2   1316\n",
       "2012 158,027.6 25,138.3 362,844.7   1325\n",
       "2013 165,918.4 19,646.6 347,102.3   1356\n",
       "2014 157,963.4  7,870.4 335,485.0   1348"
      ]
     },
     "execution_count": 132,
     "metadata": {},
     "output_type": "execute_result"
    }
   ],
   "source": [
    "dr1=df_FIRE.groupby(['Year'])['TotalPay'].agg(['median','min','max','count']) \n",
    "dr1"
   ]
  },
  {
   "cell_type": "code",
   "execution_count": 118,
   "metadata": {},
   "outputs": [
    {
     "data": {
      "text/plain": [
       "count     5,345.0\n",
       "mean    158,270.0\n",
       "std      44,743.1\n",
       "min       7,870.4\n",
       "25%     134,747.4\n",
       "50%     157,263.7\n",
       "75%     184,046.1\n",
       "max     362,844.7\n",
       "Name: TotalPay, dtype: float64"
      ]
     },
     "execution_count": 118,
     "metadata": {},
     "output_type": "execute_result"
    }
   ],
   "source": [
    "df_FIRE.TotalPay.describe()"
   ]
  },
  {
   "cell_type": "code",
   "execution_count": null,
   "metadata": {},
   "outputs": [],
   "source": []
  },
  {
   "cell_type": "code",
   "execution_count": 133,
   "metadata": {
    "scrolled": true
   },
   "outputs": [
    {
     "data": {
      "text/html": [
       "<div>\n",
       "<style scoped>\n",
       "    .dataframe tbody tr th:only-of-type {\n",
       "        vertical-align: middle;\n",
       "    }\n",
       "\n",
       "    .dataframe tbody tr th {\n",
       "        vertical-align: top;\n",
       "    }\n",
       "\n",
       "    .dataframe thead th {\n",
       "        text-align: right;\n",
       "    }\n",
       "</style>\n",
       "<table border=\"1\" class=\"dataframe\">\n",
       "  <thead>\n",
       "    <tr style=\"text-align: right;\">\n",
       "      <th></th>\n",
       "      <th>median</th>\n",
       "      <th>min</th>\n",
       "      <th>max</th>\n",
       "      <th>count</th>\n",
       "      <th>median</th>\n",
       "      <th>min</th>\n",
       "      <th>max</th>\n",
       "      <th>count</th>\n",
       "      <th>median</th>\n",
       "      <th>min</th>\n",
       "      <th>max</th>\n",
       "      <th>count</th>\n",
       "    </tr>\n",
       "    <tr>\n",
       "      <th>Year</th>\n",
       "      <th></th>\n",
       "      <th></th>\n",
       "      <th></th>\n",
       "      <th></th>\n",
       "      <th></th>\n",
       "      <th></th>\n",
       "      <th></th>\n",
       "      <th></th>\n",
       "      <th></th>\n",
       "      <th></th>\n",
       "      <th></th>\n",
       "      <th></th>\n",
       "    </tr>\n",
       "  </thead>\n",
       "  <tbody>\n",
       "    <tr>\n",
       "      <th>2011</th>\n",
       "      <td>147,765.0</td>\n",
       "      <td>22,239.4</td>\n",
       "      <td>326,373.2</td>\n",
       "      <td>1316</td>\n",
       "      <td>123,465.9</td>\n",
       "      <td>2,230.0</td>\n",
       "      <td>538,909.3</td>\n",
       "      <td>4246</td>\n",
       "      <td>69,178.2</td>\n",
       "      <td>839.6</td>\n",
       "      <td>278,569.2</td>\n",
       "      <td>4327</td>\n",
       "    </tr>\n",
       "    <tr>\n",
       "      <th>2012</th>\n",
       "      <td>158,027.6</td>\n",
       "      <td>25,138.3</td>\n",
       "      <td>362,844.7</td>\n",
       "      <td>1325</td>\n",
       "      <td>128,955.8</td>\n",
       "      <td>2,084.6</td>\n",
       "      <td>249,667.7</td>\n",
       "      <td>3530</td>\n",
       "      <td>73,693.9</td>\n",
       "      <td>312.2</td>\n",
       "      <td>337,204.9</td>\n",
       "      <td>4042</td>\n",
       "    </tr>\n",
       "    <tr>\n",
       "      <th>2013</th>\n",
       "      <td>165,918.4</td>\n",
       "      <td>19,646.6</td>\n",
       "      <td>347,102.3</td>\n",
       "      <td>1356</td>\n",
       "      <td>136,122.4</td>\n",
       "      <td>10,376.6</td>\n",
       "      <td>262,317.8</td>\n",
       "      <td>3493</td>\n",
       "      <td>80,213.1</td>\n",
       "      <td>1,149.8</td>\n",
       "      <td>286,416.2</td>\n",
       "      <td>4000</td>\n",
       "    </tr>\n",
       "    <tr>\n",
       "      <th>2014</th>\n",
       "      <td>157,963.4</td>\n",
       "      <td>7,870.4</td>\n",
       "      <td>335,485.0</td>\n",
       "      <td>1348</td>\n",
       "      <td>129,709.0</td>\n",
       "      <td>11,888.4</td>\n",
       "      <td>267,902.7</td>\n",
       "      <td>3545</td>\n",
       "      <td>75,018.7</td>\n",
       "      <td>1,083.1</td>\n",
       "      <td>258,571.0</td>\n",
       "      <td>4217</td>\n",
       "    </tr>\n",
       "  </tbody>\n",
       "</table>\n",
       "</div>"
      ],
      "text/plain": [
       "        median      min       max  count    median      min       max  count  \\\n",
       "Year                                                                           \n",
       "2011 147,765.0 22,239.4 326,373.2   1316 123,465.9  2,230.0 538,909.3   4246   \n",
       "2012 158,027.6 25,138.3 362,844.7   1325 128,955.8  2,084.6 249,667.7   3530   \n",
       "2013 165,918.4 19,646.6 347,102.3   1356 136,122.4 10,376.6 262,317.8   3493   \n",
       "2014 157,963.4  7,870.4 335,485.0   1348 129,709.0 11,888.4 267,902.7   3545   \n",
       "\n",
       "       median     min       max  count  \n",
       "Year                                    \n",
       "2011 69,178.2   839.6 278,569.2   4327  \n",
       "2012 73,693.9   312.2 337,204.9   4042  \n",
       "2013 80,213.1 1,149.8 286,416.2   4000  \n",
       "2014 75,018.7 1,083.1 258,571.0   4217  "
      ]
     },
     "execution_count": 133,
     "metadata": {},
     "output_type": "execute_result"
    }
   ],
   "source": [
    "dk=pd.concat([dr1,dr2,dr3],axis=1)\n",
    "\n",
    "\n",
    "dk"
   ]
  },
  {
   "cell_type": "code",
   "execution_count": null,
   "metadata": {},
   "outputs": [],
   "source": []
  },
  {
   "cell_type": "code",
   "execution_count": 185,
   "metadata": {
    "scrolled": true
   },
   "outputs": [
    {
     "data": {
      "text/plain": [
       "<matplotlib.axes._subplots.AxesSubplot at 0x2703fc48>"
      ]
     },
     "execution_count": 185,
     "metadata": {},
     "output_type": "execute_result"
    },
    {
     "data": {
      "image/png": "[encoded data removed]",
      "text/plain": [
       "<Figure size 432x288 with 1 Axes>"
      ]
     },
     "metadata": {
      "needs_background": "light"
     },
     "output_type": "display_data"
    }
   ],
   "source": [
    "dr3['median'].plot() # \"green\",linewidth=5, label='медицина',alpha=0.5);\n",
    "dr2['median'].plot() #\"red\",linewidth=5, label='полиция',alpha=0.5);\n",
    "dr1['median'].plot()#\"blue\",linewidth=5, label='пожарные',alpha=0.5);\n",
    "\n",
    "\n",
    "#plt.figure(figsize=(2,5))\n",
    "\n",
    "#plt.plot(dr1.median, \"blue\",linewidth=5, label='полиция', alpha=0.5)"
   ]
  },
  {
   "cell_type": "code",
   "execution_count": null,
   "metadata": {},
   "outputs": [],
   "source": []
  },
  {
   "cell_type": "code",
   "execution_count": null,
   "metadata": {},
   "outputs": [],
   "source": []
  },
  {
   "cell_type": "code",
   "execution_count": null,
   "metadata": {},
   "outputs": [],
   "source": [
    "ДАЛЬШЕ НЕ ЧИТАТЬ! РАБОЧИЕ МОМЕНТЫ"
   ]
  },
  {
   "cell_type": "code",
   "execution_count": null,
   "metadata": {},
   "outputs": [],
   "source": []
  },
  {
   "cell_type": "code",
   "execution_count": null,
   "metadata": {},
   "outputs": [],
   "source": []
  },
  {
   "cell_type": "code",
   "execution_count": null,
   "metadata": {},
   "outputs": [],
   "source": []
  },
  {
   "cell_type": "code",
   "execution_count": null,
   "metadata": {},
   "outputs": [],
   "source": []
  },
  {
   "cell_type": "code",
   "execution_count": null,
   "metadata": {},
   "outputs": [],
   "source": []
  },
  {
   "cell_type": "code",
   "execution_count": null,
   "metadata": {},
   "outputs": [],
   "source": []
  },
  {
   "cell_type": "code",
   "execution_count": null,
   "metadata": {},
   "outputs": [],
   "source": []
  },
  {
   "cell_type": "code",
   "execution_count": null,
   "metadata": {},
   "outputs": [],
   "source": []
  },
  {
   "cell_type": "code",
   "execution_count": null,
   "metadata": {},
   "outputs": [],
   "source": []
  },
  {
   "cell_type": "code",
   "execution_count": null,
   "metadata": {},
   "outputs": [],
   "source": []
  },
  {
   "cell_type": "code",
   "execution_count": null,
   "metadata": {},
   "outputs": [],
   "source": []
  },
  {
   "cell_type": "code",
   "execution_count": 186,
   "metadata": {
    "scrolled": true
   },
   "outputs": [],
   "source": [
    "k=df['JobTitle'].value_counts()  #500\n",
    "#k[50:100]"
   ]
  },
  {
   "cell_type": "code",
   "execution_count": 129,
   "metadata": {},
   "outputs": [
    {
     "data": {
      "text/plain": [
       "0         GENERAL MANAGER-METROPOLITAN TRANSIT AUTHORITY\n",
       "1                        CAPTAIN III (POLICE DEPARTMENT)\n",
       "2                        CAPTAIN III (POLICE DEPARTMENT)\n",
       "3                   WIRE ROPE CABLE MAINTENANCE MECHANIC\n",
       "4           DEPUTY CHIEF OF DEPARTMENT,(FIRE DEPARTMENT)\n",
       "                               ...                      \n",
       "148649                                         CUSTODIAN\n",
       "148650                                      NOT PROVIDED\n",
       "148651                                      NOT PROVIDED\n",
       "148652                                      NOT PROVIDED\n",
       "148653                        COUNSELOR, LOG CABIN RANCH\n",
       "Name: JobTitle, Length: 148654, dtype: object"
      ]
     },
     "execution_count": 129,
     "metadata": {},
     "output_type": "execute_result"
    }
   ],
   "source": [
    "df['JobTitle'].str.upper()"
   ]
  },
  {
   "cell_type": "code",
   "execution_count": null,
   "metadata": {},
   "outputs": [],
   "source": [
    " mode = \"access\"\n",
    ">>> allowed_modes =[\"access\", \"read\", \"write\"]\n",
    ">>> \n",
    ">>> def f1():\n",
    "...    mode in allowed_modes\n",
    "... \n",
    ">>> def f2():\n",
    "...    any(mode == x for x in allowed_modes)"
   ]
  },
  {
   "cell_type": "code",
   "execution_count": null,
   "metadata": {},
   "outputs": [],
   "source": [
    "'patient|paramedic|medical|nurse|MENTAL|health|physician|psychiatric|nursing|Hospital|Physical|Therap|Pharmac|Psychologist|X-Ray|Nutritionist|Dietitian|Anesthetist|Epidemiologist|Dental|CLINICAL|Rehabilitation|Hlth|Speech Pathologist|Disease|Care|SURGICAL|Dentist|Morgue|Rehabilitation|PATIENT|Med Staff|EPIDEMIOLOGIST'"
   ]
  },
  {
   "cell_type": "code",
   "execution_count": 193,
   "metadata": {
    "scrolled": false
   },
   "outputs": [],
   "source": [
    "#snippet_r = [rfind('DEPARTMENT') for el in df.JobTitle] \n",
    "#sd=df[df['JobTitle'].str.contains(pat)]\n",
    "df_d = df[df['JobTitle'].str.upper().str.contains('MEDICAL|NURSE')]\n",
    "#aa=str.upper.df['JobTitle']\n",
    "\n",
    "\n",
    "#df_d = df[df['JobTitle'].str.upper()==x for x in title] # вытаскиваем MEDICAL с Upper\n",
    "#df_d = df[df['JobTitle'].str.contains.list.title]\n",
    "#df_d"
   ]
  },
  {
   "cell_type": "code",
   "execution_count": null,
   "metadata": {},
   "outputs": [],
   "source": []
  },
  {
   "cell_type": "code",
   "execution_count": 47,
   "metadata": {
    "scrolled": true
   },
   "outputs": [
    {
     "ename": "ValueError",
     "evalue": "arrays must all be same length",
     "output_type": "error",
     "traceback": [
      "\u001b[1;31m---------------------------------------------------------------------------\u001b[0m",
      "\u001b[1;31mValueError\u001b[0m                                Traceback (most recent call last)",
      "\u001b[1;32m<ipython-input-47-aebe11782030>\u001b[0m in \u001b[0;36m<module>\u001b[1;34m\u001b[0m\n\u001b[0;32m      1\u001b[0m data = pd.DataFrame({'MEDICAL':['PATIENT','PARAMEDIC','MEDICAL','NURSE','MENTAL','HEALTH','PHYSICIAN','PSYCHIATRIC','NURSING','HOSPITAL','PHYSICAL','THERAP','PHARMAC','PSYCHOLOGIST','X-RAY','NUTRITIONIST','DIETITIAN','ANESTHETIST','EPIDEMIOLOGIST','DENTAL','CLINICAL','REHABILITATION','HLTH','PATHOLOGIST','DISEASE','CARE','SURGICAL','DENTIST','MORGUE','REHABILITATION','PATIENT','MED STAFF','EPIDEMIOLOGIST'],\n\u001b[1;32m----> 2\u001b[1;33m                      \u001b[1;34m'POLICE'\u001b[0m\u001b[1;33m:\u001b[0m\u001b[1;33m[\u001b[0m\u001b[1;34m'Sergeant'\u001b[0m\u001b[1;33m,\u001b[0m\u001b[1;34m'OFFICER'\u001b[0m\u001b[1;33m,\u001b[0m\u001b[1;34m'POLICE'\u001b[0m\u001b[1;33m,\u001b[0m\u001b[1;34m'Captain'\u001b[0m\u001b[1;33m,\u001b[0m\u001b[1;34m'Investigator'\u001b[0m\u001b[1;33m,\u001b[0m\u001b[1;34m'ATTORNEY'\u001b[0m\u001b[1;33m,\u001b[0m\u001b[1;34m'Criminalist'\u001b[0m\u001b[1;33m,\u001b[0m\u001b[1;34m'Examiner'\u001b[0m\u001b[1;33m,\u001b[0m\u001b[1;34m'Fingerprint'\u001b[0m\u001b[1;33m,\u001b[0m\u001b[1;34m'RESEARCH'\u001b[0m\u001b[1;33m,\u001b[0m\u001b[1;34m'Inspector'\u001b[0m\u001b[1;33m,\u001b[0m\u001b[1;34m'Fingerprint'\u001b[0m\u001b[1;33m,\u001b[0m\u001b[1;34m'Technician'\u001b[0m\u001b[1;33m,\u001b[0m\u001b[1;34m'Engineering'\u001b[0m\u001b[1;33m,\u001b[0m\u001b[1;34m'Assistant'\u001b[0m\u001b[1;33m,\u001b[0m\u001b[1;34m'Criminal'\u001b[0m\u001b[1;33m,\u001b[0m\u001b[1;34m'COMMISSIONER'\u001b[0m\u001b[1;33m,\u001b[0m\u001b[1;34m'ATTORNEY'\u001b[0m\u001b[1;33m,\u001b[0m\u001b[1;34m'Service'\u001b[0m\u001b[1;33m,\u001b[0m\u001b[1;34m'Witness'\u001b[0m\u001b[1;33m]\u001b[0m\u001b[1;33m\u001b[0m\u001b[1;33m\u001b[0m\u001b[0m\n\u001b[0m\u001b[0;32m      3\u001b[0m                      \u001b[1;31m#'FIRE':['FIRE']\u001b[0m\u001b[1;33m\u001b[0m\u001b[1;33m\u001b[0m\u001b[1;33m\u001b[0m\u001b[0m\n\u001b[0;32m      4\u001b[0m                     })\n\u001b[0;32m      5\u001b[0m \u001b[1;31m#print(data[data['Type'].str.contains('Fruit')])\u001b[0m\u001b[1;33m\u001b[0m\u001b[1;33m\u001b[0m\u001b[1;33m\u001b[0m\u001b[0m\n",
      "\u001b[1;32m~\\anaconda3\\lib\\site-packages\\pandas\\core\\frame.py\u001b[0m in \u001b[0;36m__init__\u001b[1;34m(self, data, index, columns, dtype, copy)\u001b[0m\n\u001b[0;32m    433\u001b[0m             )\n\u001b[0;32m    434\u001b[0m         \u001b[1;32melif\u001b[0m \u001b[0misinstance\u001b[0m\u001b[1;33m(\u001b[0m\u001b[0mdata\u001b[0m\u001b[1;33m,\u001b[0m \u001b[0mdict\u001b[0m\u001b[1;33m)\u001b[0m\u001b[1;33m:\u001b[0m\u001b[1;33m\u001b[0m\u001b[1;33m\u001b[0m\u001b[0m\n\u001b[1;32m--> 435\u001b[1;33m             \u001b[0mmgr\u001b[0m \u001b[1;33m=\u001b[0m \u001b[0minit_dict\u001b[0m\u001b[1;33m(\u001b[0m\u001b[0mdata\u001b[0m\u001b[1;33m,\u001b[0m \u001b[0mindex\u001b[0m\u001b[1;33m,\u001b[0m \u001b[0mcolumns\u001b[0m\u001b[1;33m,\u001b[0m \u001b[0mdtype\u001b[0m\u001b[1;33m=\u001b[0m\u001b[0mdtype\u001b[0m\u001b[1;33m)\u001b[0m\u001b[1;33m\u001b[0m\u001b[1;33m\u001b[0m\u001b[0m\n\u001b[0m\u001b[0;32m    436\u001b[0m         \u001b[1;32melif\u001b[0m \u001b[0misinstance\u001b[0m\u001b[1;33m(\u001b[0m\u001b[0mdata\u001b[0m\u001b[1;33m,\u001b[0m \u001b[0mma\u001b[0m\u001b[1;33m.\u001b[0m\u001b[0mMaskedArray\u001b[0m\u001b[1;33m)\u001b[0m\u001b[1;33m:\u001b[0m\u001b[1;33m\u001b[0m\u001b[1;33m\u001b[0m\u001b[0m\n\u001b[0;32m    437\u001b[0m             \u001b[1;32mimport\u001b[0m \u001b[0mnumpy\u001b[0m\u001b[1;33m.\u001b[0m\u001b[0mma\u001b[0m\u001b[1;33m.\u001b[0m\u001b[0mmrecords\u001b[0m \u001b[1;32mas\u001b[0m \u001b[0mmrecords\u001b[0m\u001b[1;33m\u001b[0m\u001b[1;33m\u001b[0m\u001b[0m\n",
      "\u001b[1;32m~\\anaconda3\\lib\\site-packages\\pandas\\core\\internals\\construction.py\u001b[0m in \u001b[0;36minit_dict\u001b[1;34m(data, index, columns, dtype)\u001b[0m\n\u001b[0;32m    252\u001b[0m             \u001b[0marr\u001b[0m \u001b[1;32mif\u001b[0m \u001b[1;32mnot\u001b[0m \u001b[0mis_datetime64tz_dtype\u001b[0m\u001b[1;33m(\u001b[0m\u001b[0marr\u001b[0m\u001b[1;33m)\u001b[0m \u001b[1;32melse\u001b[0m \u001b[0marr\u001b[0m\u001b[1;33m.\u001b[0m\u001b[0mcopy\u001b[0m\u001b[1;33m(\u001b[0m\u001b[1;33m)\u001b[0m \u001b[1;32mfor\u001b[0m \u001b[0marr\u001b[0m \u001b[1;32min\u001b[0m \u001b[0marrays\u001b[0m\u001b[1;33m\u001b[0m\u001b[1;33m\u001b[0m\u001b[0m\n\u001b[0;32m    253\u001b[0m         ]\n\u001b[1;32m--> 254\u001b[1;33m     \u001b[1;32mreturn\u001b[0m \u001b[0marrays_to_mgr\u001b[0m\u001b[1;33m(\u001b[0m\u001b[0marrays\u001b[0m\u001b[1;33m,\u001b[0m \u001b[0mdata_names\u001b[0m\u001b[1;33m,\u001b[0m \u001b[0mindex\u001b[0m\u001b[1;33m,\u001b[0m \u001b[0mcolumns\u001b[0m\u001b[1;33m,\u001b[0m \u001b[0mdtype\u001b[0m\u001b[1;33m=\u001b[0m\u001b[0mdtype\u001b[0m\u001b[1;33m)\u001b[0m\u001b[1;33m\u001b[0m\u001b[1;33m\u001b[0m\u001b[0m\n\u001b[0m\u001b[0;32m    255\u001b[0m \u001b[1;33m\u001b[0m\u001b[0m\n\u001b[0;32m    256\u001b[0m \u001b[1;33m\u001b[0m\u001b[0m\n",
      "\u001b[1;32m~\\anaconda3\\lib\\site-packages\\pandas\\core\\internals\\construction.py\u001b[0m in \u001b[0;36marrays_to_mgr\u001b[1;34m(arrays, arr_names, index, columns, dtype)\u001b[0m\n\u001b[0;32m     62\u001b[0m     \u001b[1;31m# figure out the index, if necessary\u001b[0m\u001b[1;33m\u001b[0m\u001b[1;33m\u001b[0m\u001b[1;33m\u001b[0m\u001b[0m\n\u001b[0;32m     63\u001b[0m     \u001b[1;32mif\u001b[0m \u001b[0mindex\u001b[0m \u001b[1;32mis\u001b[0m \u001b[1;32mNone\u001b[0m\u001b[1;33m:\u001b[0m\u001b[1;33m\u001b[0m\u001b[1;33m\u001b[0m\u001b[0m\n\u001b[1;32m---> 64\u001b[1;33m         \u001b[0mindex\u001b[0m \u001b[1;33m=\u001b[0m \u001b[0mextract_index\u001b[0m\u001b[1;33m(\u001b[0m\u001b[0marrays\u001b[0m\u001b[1;33m)\u001b[0m\u001b[1;33m\u001b[0m\u001b[1;33m\u001b[0m\u001b[0m\n\u001b[0m\u001b[0;32m     65\u001b[0m     \u001b[1;32melse\u001b[0m\u001b[1;33m:\u001b[0m\u001b[1;33m\u001b[0m\u001b[1;33m\u001b[0m\u001b[0m\n\u001b[0;32m     66\u001b[0m         \u001b[0mindex\u001b[0m \u001b[1;33m=\u001b[0m \u001b[0mensure_index\u001b[0m\u001b[1;33m(\u001b[0m\u001b[0mindex\u001b[0m\u001b[1;33m)\u001b[0m\u001b[1;33m\u001b[0m\u001b[1;33m\u001b[0m\u001b[0m\n",
      "\u001b[1;32m~\\anaconda3\\lib\\site-packages\\pandas\\core\\internals\\construction.py\u001b[0m in \u001b[0;36mextract_index\u001b[1;34m(data)\u001b[0m\n\u001b[0;32m    363\u001b[0m             \u001b[0mlengths\u001b[0m \u001b[1;33m=\u001b[0m \u001b[0mlist\u001b[0m\u001b[1;33m(\u001b[0m\u001b[0mset\u001b[0m\u001b[1;33m(\u001b[0m\u001b[0mraw_lengths\u001b[0m\u001b[1;33m)\u001b[0m\u001b[1;33m)\u001b[0m\u001b[1;33m\u001b[0m\u001b[1;33m\u001b[0m\u001b[0m\n\u001b[0;32m    364\u001b[0m             \u001b[1;32mif\u001b[0m \u001b[0mlen\u001b[0m\u001b[1;33m(\u001b[0m\u001b[0mlengths\u001b[0m\u001b[1;33m)\u001b[0m \u001b[1;33m>\u001b[0m \u001b[1;36m1\u001b[0m\u001b[1;33m:\u001b[0m\u001b[1;33m\u001b[0m\u001b[1;33m\u001b[0m\u001b[0m\n\u001b[1;32m--> 365\u001b[1;33m                 \u001b[1;32mraise\u001b[0m \u001b[0mValueError\u001b[0m\u001b[1;33m(\u001b[0m\u001b[1;34m\"arrays must all be same length\"\u001b[0m\u001b[1;33m)\u001b[0m\u001b[1;33m\u001b[0m\u001b[1;33m\u001b[0m\u001b[0m\n\u001b[0m\u001b[0;32m    366\u001b[0m \u001b[1;33m\u001b[0m\u001b[0m\n\u001b[0;32m    367\u001b[0m             \u001b[1;32mif\u001b[0m \u001b[0mhave_dicts\u001b[0m\u001b[1;33m:\u001b[0m\u001b[1;33m\u001b[0m\u001b[1;33m\u001b[0m\u001b[0m\n",
      "\u001b[1;31mValueError\u001b[0m: arrays must all be same length"
     ]
    }
   ],
   "source": [
    "data = pd.DataFrame({'MEDICAL':['PATIENT','PARAMEDIC','MEDICAL','NURSE','MENTAL','HEALTH','PHYSICIAN','PSYCHIATRIC','NURSING','HOSPITAL','PHYSICAL','THERAP','PHARMAC','PSYCHOLOGIST','X-RAY','NUTRITIONIST','DIETITIAN','ANESTHETIST','EPIDEMIOLOGIST','DENTAL','CLINICAL','REHABILITATION','HLTH','PATHOLOGIST','DISEASE','CARE','SURGICAL','DENTIST','MORGUE','REHABILITATION','PATIENT','MED STAFF','EPIDEMIOLOGIST'],\n",
    "                     'POLICE':['Sergeant','OFFICER','POLICE','Captain','Investigator','ATTORNEY','Criminalist','Examiner','Fingerprint','RESEARCH','Inspector','Fingerprint','Technician','Engineering','Assistant','Criminal','COMMISSIONER','ATTORNEY','Service','Witness'],\n",
    "                     'FIRE':['FIRE']\n",
    "                    })\n",
    "#print(data[data['Type'].str.contains('Fruit')])\n",
    "data"
   ]
  },
  {
   "cell_type": "code",
   "execution_count": null,
   "metadata": {},
   "outputs": [],
   "source": []
  },
  {
   "cell_type": "code",
   "execution_count": null,
   "metadata": {},
   "outputs": [],
   "source": []
  },
  {
   "cell_type": "code",
   "execution_count": null,
   "metadata": {},
   "outputs": [],
   "source": []
  },
  {
   "cell_type": "code",
   "execution_count": null,
   "metadata": {},
   "outputs": [],
   "source": []
  },
  {
   "cell_type": "code",
   "execution_count": 37,
   "metadata": {
    "scrolled": true
   },
   "outputs": [
    {
     "data": {
      "text/plain": [
       "Year\n",
       "2011   69,178.2\n",
       "2012   73,693.9\n",
       "2013   80,213.1\n",
       "2014   54,920.2\n",
       "Name: TotalPay, dtype: float64"
      ]
     },
     "execution_count": 37,
     "metadata": {},
     "output_type": "execute_result"
    }
   ],
   "source": [
    "pd.options.display.float_format = '{:,.1f}'.format #чтобы округлял значения до сотых:\n",
    "#dk=df1.groupby(['Year'])['TotalPay'].agg(['sum', 'count']) \n",
    "dk_median=df1.groupby(['Year'])['TotalPay'].median() \n",
    "#dk.plot()\n",
    "dk_median\n",
    "#orders.groupby(['ship_mode', 'order_date'])['sales'].agg(['sum', 'count'])                    sum  count\n",
    "\n"
   ]
  },
  {
   "cell_type": "code",
   "execution_count": 35,
   "metadata": {
    "scrolled": true
   },
   "outputs": [
    {
     "data": {
      "text/plain": [
       "Year\n",
       "2011     839.6\n",
       "2012     312.2\n",
       "2013   1,149.8\n",
       "2014       6.0\n",
       "Name: TotalPay, dtype: float64"
      ]
     },
     "execution_count": 35,
     "metadata": {},
     "output_type": "execute_result"
    }
   ],
   "source": [
    "dk_min=df1.groupby(['Year'])['TotalPay'].min() \n",
    "dk_min"
   ]
  },
  {
   "cell_type": "code",
   "execution_count": 36,
   "metadata": {},
   "outputs": [
    {
     "data": {
      "text/plain": [
       "Year\n",
       "2011   278,569.2\n",
       "2012   337,204.9\n",
       "2013   286,416.2\n",
       "2014   258,571.0\n",
       "Name: TotalPay, dtype: float64"
      ]
     },
     "execution_count": 36,
     "metadata": {},
     "output_type": "execute_result"
    }
   ],
   "source": [
    "dk_max=df1.groupby(['Year'])['TotalPay'].max() \n",
    "dk_max"
   ]
  },
  {
   "cell_type": "code",
   "execution_count": null,
   "metadata": {},
   "outputs": [],
   "source": []
  },
  {
   "cell_type": "code",
   "execution_count": 248,
   "metadata": {
    "scrolled": true
   },
   "outputs": [
    {
     "name": "stdout",
     "output_type": "stream",
     "text": [
      "<class 'pandas.core.frame.DataFrame'>\n",
      "Int64Index: 4 entries, 2011 to 2014\n",
      "Data columns (total 2 columns):\n",
      " #   Column  Non-Null Count  Dtype  \n",
      "---  ------  --------------  -----  \n",
      " 0   sum     4 non-null      float64\n",
      " 1   count   4 non-null      int64  \n",
      "dtypes: float64(1), int64(1)\n",
      "memory usage: 96.0 bytes\n"
     ]
    }
   ],
   "source": [
    "dk.info()"
   ]
  },
  {
   "cell_type": "code",
   "execution_count": 38,
   "metadata": {
    "scrolled": true
   },
   "outputs": [
    {
     "data": {
      "text/plain": [
       "count    19,644.0\n",
       "mean     74,975.4\n",
       "std      45,918.4\n",
       "min           6.0\n",
       "25%      44,791.9\n",
       "50%      67,054.4\n",
       "75%     104,708.1\n",
       "max     337,204.9\n",
       "Name: TotalPay, dtype: float64"
      ]
     },
     "execution_count": 38,
     "metadata": {},
     "output_type": "execute_result"
    }
   ],
   "source": [
    "df1.TotalPay.describe()"
   ]
  },
  {
   "cell_type": "code",
   "execution_count": 275,
   "metadata": {
    "scrolled": true
   },
   "outputs": [
    {
     "data": {
      "text/plain": [
       "<matplotlib.axes._subplots.AxesSubplot at 0x2886f288>"
      ]
     },
     "execution_count": 275,
     "metadata": {},
     "output_type": "execute_result"
    },
    {
     "data": {
      "image/png": "[encoded data removed]",
      "text/plain": [
       "<Figure size 1080x360 with 1 Axes>"
      ]
     },
     "metadata": {
      "needs_background": "light"
     },
     "output_type": "display_data"
    }
   ],
   "source": [
    "plt.figure(figsize=(15,5))\n",
    "#plt.plot(dk.TotalPay,dk.Year, \"blue\",linewidth=5, label='полиция', alpha=0.5)\n",
    "#plt.plot(df_df.TotalPay, \"red\",linewidth=5, label='пожарные')\n",
    "dk.unstack().plot()\n",
    "#plt.plot(dk.sum,dk.count,linewidth=5, label='медицина',alpha=0.5)"
   ]
  },
  {
   "cell_type": "code",
   "execution_count": null,
   "metadata": {},
   "outputs": [],
   "source": []
  },
  {
   "cell_type": "code",
   "execution_count": null,
   "metadata": {},
   "outputs": [],
   "source": []
  },
  {
   "cell_type": "code",
   "execution_count": null,
   "metadata": {},
   "outputs": [],
   "source": []
  },
  {
   "cell_type": "code",
   "execution_count": null,
   "metadata": {},
   "outputs": [],
   "source": []
  },
  {
   "cell_type": "code",
   "execution_count": null,
   "metadata": {},
   "outputs": [],
   "source": []
  },
  {
   "cell_type": "code",
   "execution_count": null,
   "metadata": {},
   "outputs": [],
   "source": []
  },
  {
   "cell_type": "code",
   "execution_count": null,
   "metadata": {},
   "outputs": [],
   "source": []
  },
  {
   "cell_type": "code",
   "execution_count": null,
   "metadata": {},
   "outputs": [],
   "source": []
  },
  {
   "cell_type": "code",
   "execution_count": null,
   "metadata": {},
   "outputs": [],
   "source": []
  },
  {
   "cell_type": "code",
   "execution_count": null,
   "metadata": {},
   "outputs": [],
   "source": []
  },
  {
   "cell_type": "code",
   "execution_count": null,
   "metadata": {},
   "outputs": [],
   "source": []
  },
  {
   "cell_type": "code",
   "execution_count": null,
   "metadata": {},
   "outputs": [],
   "source": []
  },
  {
   "cell_type": "code",
   "execution_count": null,
   "metadata": {},
   "outputs": [],
   "source": []
  },
  {
   "cell_type": "code",
   "execution_count": null,
   "metadata": {},
   "outputs": [],
   "source": []
  },
  {
   "cell_type": "code",
   "execution_count": null,
   "metadata": {},
   "outputs": [],
   "source": []
  },
  {
   "cell_type": "code",
   "execution_count": null,
   "metadata": {},
   "outputs": [],
   "source": []
  },
  {
   "cell_type": "code",
   "execution_count": null,
   "metadata": {},
   "outputs": [],
   "source": []
  },
  {
   "cell_type": "code",
   "execution_count": 31,
   "metadata": {},
   "outputs": [],
   "source": [
    "del df['Benefits']\n"
   ]
  },
  {
   "cell_type": "code",
   "execution_count": 35,
   "metadata": {},
   "outputs": [],
   "source": [
    "df.drop('Agency', axis=1, inplace=True)"
   ]
  },
  {
   "cell_type": "code",
   "execution_count": 36,
   "metadata": {},
   "outputs": [
    {
     "data": {
      "text/html": [
       "<div>\n",
       "<style scoped>\n",
       "    .dataframe tbody tr th:only-of-type {\n",
       "        vertical-align: middle;\n",
       "    }\n",
       "\n",
       "    .dataframe tbody tr th {\n",
       "        vertical-align: top;\n",
       "    }\n",
       "\n",
       "    .dataframe thead th {\n",
       "        text-align: right;\n",
       "    }\n",
       "</style>\n",
       "<table border=\"1\" class=\"dataframe\">\n",
       "  <thead>\n",
       "    <tr style=\"text-align: right;\">\n",
       "      <th></th>\n",
       "      <th>Id</th>\n",
       "      <th>EmployeeName</th>\n",
       "      <th>JobTitle</th>\n",
       "      <th>BasePay</th>\n",
       "      <th>OvertimePay</th>\n",
       "      <th>OtherPay</th>\n",
       "      <th>TotalPay</th>\n",
       "      <th>TotalPayBenefits</th>\n",
       "      <th>Year</th>\n",
       "    </tr>\n",
       "  </thead>\n",
       "  <tbody>\n",
       "    <tr>\n",
       "      <th>0</th>\n",
       "      <td>1</td>\n",
       "      <td>NATHANIEL FORD</td>\n",
       "      <td>GENERAL MANAGER-METROPOLITAN TRANSIT AUTHORITY</td>\n",
       "      <td>167411</td>\n",
       "      <td>0</td>\n",
       "      <td>400184</td>\n",
       "      <td>567595.43</td>\n",
       "      <td>567595.43</td>\n",
       "      <td>2011</td>\n",
       "    </tr>\n",
       "    <tr>\n",
       "      <th>1</th>\n",
       "      <td>2</td>\n",
       "      <td>GARY JIMENEZ</td>\n",
       "      <td>CAPTAIN III (POLICE DEPARTMENT)</td>\n",
       "      <td>155966</td>\n",
       "      <td>245132</td>\n",
       "      <td>137811</td>\n",
       "      <td>538909.28</td>\n",
       "      <td>538909.28</td>\n",
       "      <td>2011</td>\n",
       "    </tr>\n",
       "    <tr>\n",
       "      <th>2</th>\n",
       "      <td>3</td>\n",
       "      <td>ALBERT PARDINI</td>\n",
       "      <td>CAPTAIN III (POLICE DEPARTMENT)</td>\n",
       "      <td>212739</td>\n",
       "      <td>106088</td>\n",
       "      <td>16452.6</td>\n",
       "      <td>335279.91</td>\n",
       "      <td>335279.91</td>\n",
       "      <td>2011</td>\n",
       "    </tr>\n",
       "    <tr>\n",
       "      <th>3</th>\n",
       "      <td>4</td>\n",
       "      <td>CHRISTOPHER CHONG</td>\n",
       "      <td>WIRE ROPE CABLE MAINTENANCE MECHANIC</td>\n",
       "      <td>77916</td>\n",
       "      <td>56120.7</td>\n",
       "      <td>198307</td>\n",
       "      <td>332343.61</td>\n",
       "      <td>332343.61</td>\n",
       "      <td>2011</td>\n",
       "    </tr>\n",
       "    <tr>\n",
       "      <th>4</th>\n",
       "      <td>5</td>\n",
       "      <td>PATRICK GARDNER</td>\n",
       "      <td>DEPUTY CHIEF OF DEPARTMENT,(FIRE DEPARTMENT)</td>\n",
       "      <td>134402</td>\n",
       "      <td>9737</td>\n",
       "      <td>182235</td>\n",
       "      <td>326373.19</td>\n",
       "      <td>326373.19</td>\n",
       "      <td>2011</td>\n",
       "    </tr>\n",
       "    <tr>\n",
       "      <th>...</th>\n",
       "      <td>...</td>\n",
       "      <td>...</td>\n",
       "      <td>...</td>\n",
       "      <td>...</td>\n",
       "      <td>...</td>\n",
       "      <td>...</td>\n",
       "      <td>...</td>\n",
       "      <td>...</td>\n",
       "      <td>...</td>\n",
       "    </tr>\n",
       "    <tr>\n",
       "      <th>148649</th>\n",
       "      <td>148650</td>\n",
       "      <td>Roy I Tillery</td>\n",
       "      <td>Custodian</td>\n",
       "      <td>0.00</td>\n",
       "      <td>0.00</td>\n",
       "      <td>0.00</td>\n",
       "      <td>0.00</td>\n",
       "      <td>0.00</td>\n",
       "      <td>2014</td>\n",
       "    </tr>\n",
       "    <tr>\n",
       "      <th>148650</th>\n",
       "      <td>148651</td>\n",
       "      <td>Not provided</td>\n",
       "      <td>Not provided</td>\n",
       "      <td>Not Provided</td>\n",
       "      <td>Not Provided</td>\n",
       "      <td>Not Provided</td>\n",
       "      <td>0.00</td>\n",
       "      <td>0.00</td>\n",
       "      <td>2014</td>\n",
       "    </tr>\n",
       "    <tr>\n",
       "      <th>148651</th>\n",
       "      <td>148652</td>\n",
       "      <td>Not provided</td>\n",
       "      <td>Not provided</td>\n",
       "      <td>Not Provided</td>\n",
       "      <td>Not Provided</td>\n",
       "      <td>Not Provided</td>\n",
       "      <td>0.00</td>\n",
       "      <td>0.00</td>\n",
       "      <td>2014</td>\n",
       "    </tr>\n",
       "    <tr>\n",
       "      <th>148652</th>\n",
       "      <td>148653</td>\n",
       "      <td>Not provided</td>\n",
       "      <td>Not provided</td>\n",
       "      <td>Not Provided</td>\n",
       "      <td>Not Provided</td>\n",
       "      <td>Not Provided</td>\n",
       "      <td>0.00</td>\n",
       "      <td>0.00</td>\n",
       "      <td>2014</td>\n",
       "    </tr>\n",
       "    <tr>\n",
       "      <th>148653</th>\n",
       "      <td>148654</td>\n",
       "      <td>Joe Lopez</td>\n",
       "      <td>Counselor, Log Cabin Ranch</td>\n",
       "      <td>0.00</td>\n",
       "      <td>0.00</td>\n",
       "      <td>-618.13</td>\n",
       "      <td>-618.13</td>\n",
       "      <td>-618.13</td>\n",
       "      <td>2014</td>\n",
       "    </tr>\n",
       "  </tbody>\n",
       "</table>\n",
       "<p>148654 rows × 9 columns</p>\n",
       "</div>"
      ],
      "text/plain": [
       "            Id       EmployeeName  \\\n",
       "0            1     NATHANIEL FORD   \n",
       "1            2       GARY JIMENEZ   \n",
       "2            3     ALBERT PARDINI   \n",
       "3            4  CHRISTOPHER CHONG   \n",
       "4            5    PATRICK GARDNER   \n",
       "...        ...                ...   \n",
       "148649  148650      Roy I Tillery   \n",
       "148650  148651       Not provided   \n",
       "148651  148652       Not provided   \n",
       "148652  148653       Not provided   \n",
       "148653  148654          Joe Lopez   \n",
       "\n",
       "                                              JobTitle       BasePay  \\\n",
       "0       GENERAL MANAGER-METROPOLITAN TRANSIT AUTHORITY        167411   \n",
       "1                      CAPTAIN III (POLICE DEPARTMENT)        155966   \n",
       "2                      CAPTAIN III (POLICE DEPARTMENT)        212739   \n",
       "3                 WIRE ROPE CABLE MAINTENANCE MECHANIC         77916   \n",
       "4         DEPUTY CHIEF OF DEPARTMENT,(FIRE DEPARTMENT)        134402   \n",
       "...                                                ...           ...   \n",
       "148649                                       Custodian          0.00   \n",
       "148650                                    Not provided  Not Provided   \n",
       "148651                                    Not provided  Not Provided   \n",
       "148652                                    Not provided  Not Provided   \n",
       "148653                      Counselor, Log Cabin Ranch          0.00   \n",
       "\n",
       "         OvertimePay      OtherPay   TotalPay  TotalPayBenefits  Year  \n",
       "0                  0        400184  567595.43         567595.43  2011  \n",
       "1             245132        137811  538909.28         538909.28  2011  \n",
       "2             106088       16452.6  335279.91         335279.91  2011  \n",
       "3            56120.7        198307  332343.61         332343.61  2011  \n",
       "4               9737        182235  326373.19         326373.19  2011  \n",
       "...              ...           ...        ...               ...   ...  \n",
       "148649          0.00          0.00       0.00              0.00  2014  \n",
       "148650  Not Provided  Not Provided       0.00              0.00  2014  \n",
       "148651  Not Provided  Not Provided       0.00              0.00  2014  \n",
       "148652  Not Provided  Not Provided       0.00              0.00  2014  \n",
       "148653          0.00       -618.13    -618.13           -618.13  2014  \n",
       "\n",
       "[148654 rows x 9 columns]"
      ]
     },
     "execution_count": 36,
     "metadata": {},
     "output_type": "execute_result"
    }
   ],
   "source": [
    "df"
   ]
  },
  {
   "cell_type": "code",
   "execution_count": 25,
   "metadata": {
    "scrolled": true
   },
   "outputs": [
    {
     "data": {
      "text/html": [
       "<div>\n",
       "<style scoped>\n",
       "    .dataframe tbody tr th:only-of-type {\n",
       "        vertical-align: middle;\n",
       "    }\n",
       "\n",
       "    .dataframe tbody tr th {\n",
       "        vertical-align: top;\n",
       "    }\n",
       "\n",
       "    .dataframe thead th {\n",
       "        text-align: right;\n",
       "    }\n",
       "</style>\n",
       "<table border=\"1\" class=\"dataframe\">\n",
       "  <thead>\n",
       "    <tr style=\"text-align: right;\">\n",
       "      <th></th>\n",
       "      <th>Id</th>\n",
       "      <th>EmployeeName</th>\n",
       "      <th>JobTitle</th>\n",
       "      <th>BasePay</th>\n",
       "      <th>OvertimePay</th>\n",
       "      <th>OtherPay</th>\n",
       "      <th>Benefits</th>\n",
       "      <th>TotalPay</th>\n",
       "      <th>TotalPayBenefits</th>\n",
       "      <th>Year</th>\n",
       "      <th>Notes</th>\n",
       "      <th>Agency</th>\n",
       "      <th>Status</th>\n",
       "    </tr>\n",
       "  </thead>\n",
       "  <tbody>\n",
       "    <tr>\n",
       "      <th>0</th>\n",
       "      <td>1</td>\n",
       "      <td>NATHANIEL FORD</td>\n",
       "      <td>GENERAL MANAGER-METROPOLITAN TRANSIT AUTHORITY</td>\n",
       "      <td>167411</td>\n",
       "      <td>0</td>\n",
       "      <td>400184</td>\n",
       "      <td>NaN</td>\n",
       "      <td>567595.43</td>\n",
       "      <td>567595.43</td>\n",
       "      <td>2011</td>\n",
       "      <td>NaN</td>\n",
       "      <td>San Francisco</td>\n",
       "      <td>NaN</td>\n",
       "    </tr>\n",
       "    <tr>\n",
       "      <th>1</th>\n",
       "      <td>2</td>\n",
       "      <td>GARY JIMENEZ</td>\n",
       "      <td>CAPTAIN III (POLICE DEPARTMENT)</td>\n",
       "      <td>155966</td>\n",
       "      <td>245132</td>\n",
       "      <td>137811</td>\n",
       "      <td>NaN</td>\n",
       "      <td>538909.28</td>\n",
       "      <td>538909.28</td>\n",
       "      <td>2011</td>\n",
       "      <td>NaN</td>\n",
       "      <td>San Francisco</td>\n",
       "      <td>NaN</td>\n",
       "    </tr>\n",
       "    <tr>\n",
       "      <th>2</th>\n",
       "      <td>3</td>\n",
       "      <td>ALBERT PARDINI</td>\n",
       "      <td>CAPTAIN III (POLICE DEPARTMENT)</td>\n",
       "      <td>212739</td>\n",
       "      <td>106088</td>\n",
       "      <td>16452.6</td>\n",
       "      <td>NaN</td>\n",
       "      <td>335279.91</td>\n",
       "      <td>335279.91</td>\n",
       "      <td>2011</td>\n",
       "      <td>NaN</td>\n",
       "      <td>San Francisco</td>\n",
       "      <td>NaN</td>\n",
       "    </tr>\n",
       "    <tr>\n",
       "      <th>3</th>\n",
       "      <td>4</td>\n",
       "      <td>CHRISTOPHER CHONG</td>\n",
       "      <td>WIRE ROPE CABLE MAINTENANCE MECHANIC</td>\n",
       "      <td>77916</td>\n",
       "      <td>56120.7</td>\n",
       "      <td>198307</td>\n",
       "      <td>NaN</td>\n",
       "      <td>332343.61</td>\n",
       "      <td>332343.61</td>\n",
       "      <td>2011</td>\n",
       "      <td>NaN</td>\n",
       "      <td>San Francisco</td>\n",
       "      <td>NaN</td>\n",
       "    </tr>\n",
       "    <tr>\n",
       "      <th>4</th>\n",
       "      <td>5</td>\n",
       "      <td>PATRICK GARDNER</td>\n",
       "      <td>DEPUTY CHIEF OF DEPARTMENT,(FIRE DEPARTMENT)</td>\n",
       "      <td>134402</td>\n",
       "      <td>9737</td>\n",
       "      <td>182235</td>\n",
       "      <td>NaN</td>\n",
       "      <td>326373.19</td>\n",
       "      <td>326373.19</td>\n",
       "      <td>2011</td>\n",
       "      <td>NaN</td>\n",
       "      <td>San Francisco</td>\n",
       "      <td>NaN</td>\n",
       "    </tr>\n",
       "    <tr>\n",
       "      <th>...</th>\n",
       "      <td>...</td>\n",
       "      <td>...</td>\n",
       "      <td>...</td>\n",
       "      <td>...</td>\n",
       "      <td>...</td>\n",
       "      <td>...</td>\n",
       "      <td>...</td>\n",
       "      <td>...</td>\n",
       "      <td>...</td>\n",
       "      <td>...</td>\n",
       "      <td>...</td>\n",
       "      <td>...</td>\n",
       "      <td>...</td>\n",
       "    </tr>\n",
       "    <tr>\n",
       "      <th>148649</th>\n",
       "      <td>148650</td>\n",
       "      <td>Roy I Tillery</td>\n",
       "      <td>Custodian</td>\n",
       "      <td>0.00</td>\n",
       "      <td>0.00</td>\n",
       "      <td>0.00</td>\n",
       "      <td>0.00</td>\n",
       "      <td>0.00</td>\n",
       "      <td>0.00</td>\n",
       "      <td>2014</td>\n",
       "      <td>NaN</td>\n",
       "      <td>San Francisco</td>\n",
       "      <td>PT</td>\n",
       "    </tr>\n",
       "    <tr>\n",
       "      <th>148650</th>\n",
       "      <td>148651</td>\n",
       "      <td>Not provided</td>\n",
       "      <td>Not provided</td>\n",
       "      <td>Not Provided</td>\n",
       "      <td>Not Provided</td>\n",
       "      <td>Not Provided</td>\n",
       "      <td>Not Provided</td>\n",
       "      <td>0.00</td>\n",
       "      <td>0.00</td>\n",
       "      <td>2014</td>\n",
       "      <td>NaN</td>\n",
       "      <td>San Francisco</td>\n",
       "      <td>NaN</td>\n",
       "    </tr>\n",
       "    <tr>\n",
       "      <th>148651</th>\n",
       "      <td>148652</td>\n",
       "      <td>Not provided</td>\n",
       "      <td>Not provided</td>\n",
       "      <td>Not Provided</td>\n",
       "      <td>Not Provided</td>\n",
       "      <td>Not Provided</td>\n",
       "      <td>Not Provided</td>\n",
       "      <td>0.00</td>\n",
       "      <td>0.00</td>\n",
       "      <td>2014</td>\n",
       "      <td>NaN</td>\n",
       "      <td>San Francisco</td>\n",
       "      <td>NaN</td>\n",
       "    </tr>\n",
       "    <tr>\n",
       "      <th>148652</th>\n",
       "      <td>148653</td>\n",
       "      <td>Not provided</td>\n",
       "      <td>Not provided</td>\n",
       "      <td>Not Provided</td>\n",
       "      <td>Not Provided</td>\n",
       "      <td>Not Provided</td>\n",
       "      <td>Not Provided</td>\n",
       "      <td>0.00</td>\n",
       "      <td>0.00</td>\n",
       "      <td>2014</td>\n",
       "      <td>NaN</td>\n",
       "      <td>San Francisco</td>\n",
       "      <td>NaN</td>\n",
       "    </tr>\n",
       "    <tr>\n",
       "      <th>148653</th>\n",
       "      <td>148654</td>\n",
       "      <td>Joe Lopez</td>\n",
       "      <td>Counselor, Log Cabin Ranch</td>\n",
       "      <td>0.00</td>\n",
       "      <td>0.00</td>\n",
       "      <td>-618.13</td>\n",
       "      <td>0.00</td>\n",
       "      <td>-618.13</td>\n",
       "      <td>-618.13</td>\n",
       "      <td>2014</td>\n",
       "      <td>NaN</td>\n",
       "      <td>San Francisco</td>\n",
       "      <td>PT</td>\n",
       "    </tr>\n",
       "  </tbody>\n",
       "</table>\n",
       "<p>148654 rows × 13 columns</p>\n",
       "</div>"
      ],
      "text/plain": [
       "            Id       EmployeeName  \\\n",
       "0            1     NATHANIEL FORD   \n",
       "1            2       GARY JIMENEZ   \n",
       "2            3     ALBERT PARDINI   \n",
       "3            4  CHRISTOPHER CHONG   \n",
       "4            5    PATRICK GARDNER   \n",
       "...        ...                ...   \n",
       "148649  148650      Roy I Tillery   \n",
       "148650  148651       Not provided   \n",
       "148651  148652       Not provided   \n",
       "148652  148653       Not provided   \n",
       "148653  148654          Joe Lopez   \n",
       "\n",
       "                                              JobTitle       BasePay  \\\n",
       "0       GENERAL MANAGER-METROPOLITAN TRANSIT AUTHORITY        167411   \n",
       "1                      CAPTAIN III (POLICE DEPARTMENT)        155966   \n",
       "2                      CAPTAIN III (POLICE DEPARTMENT)        212739   \n",
       "3                 WIRE ROPE CABLE MAINTENANCE MECHANIC         77916   \n",
       "4         DEPUTY CHIEF OF DEPARTMENT,(FIRE DEPARTMENT)        134402   \n",
       "...                                                ...           ...   \n",
       "148649                                       Custodian          0.00   \n",
       "148650                                    Not provided  Not Provided   \n",
       "148651                                    Not provided  Not Provided   \n",
       "148652                                    Not provided  Not Provided   \n",
       "148653                      Counselor, Log Cabin Ranch          0.00   \n",
       "\n",
       "         OvertimePay      OtherPay      Benefits   TotalPay  TotalPayBenefits  \\\n",
       "0                  0        400184           NaN  567595.43         567595.43   \n",
       "1             245132        137811           NaN  538909.28         538909.28   \n",
       "2             106088       16452.6           NaN  335279.91         335279.91   \n",
       "3            56120.7        198307           NaN  332343.61         332343.61   \n",
       "4               9737        182235           NaN  326373.19         326373.19   \n",
       "...              ...           ...           ...        ...               ...   \n",
       "148649          0.00          0.00          0.00       0.00              0.00   \n",
       "148650  Not Provided  Not Provided  Not Provided       0.00              0.00   \n",
       "148651  Not Provided  Not Provided  Not Provided       0.00              0.00   \n",
       "148652  Not Provided  Not Provided  Not Provided       0.00              0.00   \n",
       "148653          0.00       -618.13          0.00    -618.13           -618.13   \n",
       "\n",
       "        Year  Notes         Agency Status  \n",
       "0       2011    NaN  San Francisco    NaN  \n",
       "1       2011    NaN  San Francisco    NaN  \n",
       "2       2011    NaN  San Francisco    NaN  \n",
       "3       2011    NaN  San Francisco    NaN  \n",
       "4       2011    NaN  San Francisco    NaN  \n",
       "...      ...    ...            ...    ...  \n",
       "148649  2014    NaN  San Francisco     PT  \n",
       "148650  2014    NaN  San Francisco    NaN  \n",
       "148651  2014    NaN  San Francisco    NaN  \n",
       "148652  2014    NaN  San Francisco    NaN  \n",
       "148653  2014    NaN  San Francisco     PT  \n",
       "\n",
       "[148654 rows x 13 columns]"
      ]
     },
     "execution_count": 25,
     "metadata": {},
     "output_type": "execute_result"
    }
   ],
   "source": [
    "df.drop('Notes',axis=1)\n",
    "df"
   ]
  },
  {
   "cell_type": "code",
   "execution_count": 28,
   "metadata": {
    "scrolled": true
   },
   "outputs": [
    {
     "data": {
      "text/html": [
       "<div>\n",
       "<style scoped>\n",
       "    .dataframe tbody tr th:only-of-type {\n",
       "        vertical-align: middle;\n",
       "    }\n",
       "\n",
       "    .dataframe tbody tr th {\n",
       "        vertical-align: top;\n",
       "    }\n",
       "\n",
       "    .dataframe thead th {\n",
       "        text-align: right;\n",
       "    }\n",
       "</style>\n",
       "<table border=\"1\" class=\"dataframe\">\n",
       "  <thead>\n",
       "    <tr style=\"text-align: right;\">\n",
       "      <th></th>\n",
       "      <th>Id</th>\n",
       "      <th>EmployeeName</th>\n",
       "      <th>JobTitle</th>\n",
       "      <th>BasePay</th>\n",
       "      <th>OvertimePay</th>\n",
       "      <th>OtherPay</th>\n",
       "      <th>Benefits</th>\n",
       "      <th>TotalPay</th>\n",
       "      <th>TotalPayBenefits</th>\n",
       "      <th>Year</th>\n",
       "      <th>Notes</th>\n",
       "      <th>Agency</th>\n",
       "      <th>Status</th>\n",
       "    </tr>\n",
       "  </thead>\n",
       "  <tbody>\n",
       "    <tr>\n",
       "      <th>1</th>\n",
       "      <td>2</td>\n",
       "      <td>GARY JIMENEZ</td>\n",
       "      <td>CAPTAIN III (POLICE DEPARTMENT)</td>\n",
       "      <td>155966</td>\n",
       "      <td>245132</td>\n",
       "      <td>137811</td>\n",
       "      <td>NaN</td>\n",
       "      <td>538909.28</td>\n",
       "      <td>538909.28</td>\n",
       "      <td>2011</td>\n",
       "      <td>NaN</td>\n",
       "      <td>San Francisco</td>\n",
       "      <td>NaN</td>\n",
       "    </tr>\n",
       "    <tr>\n",
       "      <th>2</th>\n",
       "      <td>3</td>\n",
       "      <td>ALBERT PARDINI</td>\n",
       "      <td>CAPTAIN III (POLICE DEPARTMENT)</td>\n",
       "      <td>212739</td>\n",
       "      <td>106088</td>\n",
       "      <td>16452.6</td>\n",
       "      <td>NaN</td>\n",
       "      <td>335279.91</td>\n",
       "      <td>335279.91</td>\n",
       "      <td>2011</td>\n",
       "      <td>NaN</td>\n",
       "      <td>San Francisco</td>\n",
       "      <td>NaN</td>\n",
       "    </tr>\n",
       "    <tr>\n",
       "      <th>11</th>\n",
       "      <td>12</td>\n",
       "      <td>PATRICIA JACKSON</td>\n",
       "      <td>CAPTAIN III (POLICE DEPARTMENT)</td>\n",
       "      <td>99722</td>\n",
       "      <td>87082.6</td>\n",
       "      <td>110804</td>\n",
       "      <td>NaN</td>\n",
       "      <td>297608.92</td>\n",
       "      <td>297608.92</td>\n",
       "      <td>2011</td>\n",
       "      <td>NaN</td>\n",
       "      <td>San Francisco</td>\n",
       "      <td>NaN</td>\n",
       "    </tr>\n",
       "    <tr>\n",
       "      <th>15</th>\n",
       "      <td>16</td>\n",
       "      <td>RICHARD CORRIEA</td>\n",
       "      <td>COMMANDER III, (POLICE DEPARTMENT)</td>\n",
       "      <td>198778</td>\n",
       "      <td>73478.2</td>\n",
       "      <td>13957.6</td>\n",
       "      <td>NaN</td>\n",
       "      <td>286213.86</td>\n",
       "      <td>286213.86</td>\n",
       "      <td>2011</td>\n",
       "      <td>NaN</td>\n",
       "      <td>San Francisco</td>\n",
       "      <td>NaN</td>\n",
       "    </tr>\n",
       "    <tr>\n",
       "      <th>25</th>\n",
       "      <td>26</td>\n",
       "      <td>GREGORY SUHR</td>\n",
       "      <td>CHIEF OF POLICE</td>\n",
       "      <td>256470</td>\n",
       "      <td>0</td>\n",
       "      <td>11522.2</td>\n",
       "      <td>NaN</td>\n",
       "      <td>267992.59</td>\n",
       "      <td>267992.59</td>\n",
       "      <td>2011</td>\n",
       "      <td>NaN</td>\n",
       "      <td>San Francisco</td>\n",
       "      <td>NaN</td>\n",
       "    </tr>\n",
       "    <tr>\n",
       "      <th>...</th>\n",
       "      <td>...</td>\n",
       "      <td>...</td>\n",
       "      <td>...</td>\n",
       "      <td>...</td>\n",
       "      <td>...</td>\n",
       "      <td>...</td>\n",
       "      <td>...</td>\n",
       "      <td>...</td>\n",
       "      <td>...</td>\n",
       "      <td>...</td>\n",
       "      <td>...</td>\n",
       "      <td>...</td>\n",
       "      <td>...</td>\n",
       "    </tr>\n",
       "    <tr>\n",
       "      <th>35131</th>\n",
       "      <td>35132</td>\n",
       "      <td>CYNTHIA HAYNES-EPPERSON</td>\n",
       "      <td>SENIOR POLICE COMMUNICATIONS DISPATCHER</td>\n",
       "      <td>1006.4</td>\n",
       "      <td>0</td>\n",
       "      <td>361.82</td>\n",
       "      <td>NaN</td>\n",
       "      <td>1368.22</td>\n",
       "      <td>1368.22</td>\n",
       "      <td>2011</td>\n",
       "      <td>NaN</td>\n",
       "      <td>San Francisco</td>\n",
       "      <td>NaN</td>\n",
       "    </tr>\n",
       "    <tr>\n",
       "      <th>35151</th>\n",
       "      <td>35152</td>\n",
       "      <td>LYNN BLOOM</td>\n",
       "      <td>POLICE SERVICES AIDE</td>\n",
       "      <td>0</td>\n",
       "      <td>0</td>\n",
       "      <td>1324.8</td>\n",
       "      <td>NaN</td>\n",
       "      <td>1324.80</td>\n",
       "      <td>1324.80</td>\n",
       "      <td>2011</td>\n",
       "      <td>NaN</td>\n",
       "      <td>San Francisco</td>\n",
       "      <td>NaN</td>\n",
       "    </tr>\n",
       "    <tr>\n",
       "      <th>35318</th>\n",
       "      <td>35319</td>\n",
       "      <td>ROBERT CHAPMAN</td>\n",
       "      <td>POLICE OFFICER III</td>\n",
       "      <td>0</td>\n",
       "      <td>0</td>\n",
       "      <td>1088</td>\n",
       "      <td>NaN</td>\n",
       "      <td>1088.00</td>\n",
       "      <td>1088.00</td>\n",
       "      <td>2011</td>\n",
       "      <td>NaN</td>\n",
       "      <td>San Francisco</td>\n",
       "      <td>NaN</td>\n",
       "    </tr>\n",
       "    <tr>\n",
       "      <th>35671</th>\n",
       "      <td>35672</td>\n",
       "      <td>RUSSELL MATLI</td>\n",
       "      <td>POLICE OFFICER III</td>\n",
       "      <td>0</td>\n",
       "      <td>0</td>\n",
       "      <td>597.31</td>\n",
       "      <td>NaN</td>\n",
       "      <td>597.31</td>\n",
       "      <td>597.31</td>\n",
       "      <td>2011</td>\n",
       "      <td>NaN</td>\n",
       "      <td>San Francisco</td>\n",
       "      <td>NaN</td>\n",
       "    </tr>\n",
       "    <tr>\n",
       "      <th>35902</th>\n",
       "      <td>35903</td>\n",
       "      <td>SUSAN ROTH</td>\n",
       "      <td>SERGEANT III (POLICE DEPARTMENT)</td>\n",
       "      <td>0</td>\n",
       "      <td>0</td>\n",
       "      <td>283.86</td>\n",
       "      <td>NaN</td>\n",
       "      <td>283.86</td>\n",
       "      <td>283.86</td>\n",
       "      <td>2011</td>\n",
       "      <td>NaN</td>\n",
       "      <td>San Francisco</td>\n",
       "      <td>NaN</td>\n",
       "    </tr>\n",
       "  </tbody>\n",
       "</table>\n",
       "<p>2512 rows × 13 columns</p>\n",
       "</div>"
      ],
      "text/plain": [
       "          Id             EmployeeName  \\\n",
       "1          2             GARY JIMENEZ   \n",
       "2          3           ALBERT PARDINI   \n",
       "11        12         PATRICIA JACKSON   \n",
       "15        16          RICHARD CORRIEA   \n",
       "25        26             GREGORY SUHR   \n",
       "...      ...                      ...   \n",
       "35131  35132  CYNTHIA HAYNES-EPPERSON   \n",
       "35151  35152               LYNN BLOOM   \n",
       "35318  35319           ROBERT CHAPMAN   \n",
       "35671  35672            RUSSELL MATLI   \n",
       "35902  35903               SUSAN ROTH   \n",
       "\n",
       "                                      JobTitle BasePay OvertimePay OtherPay  \\\n",
       "1              CAPTAIN III (POLICE DEPARTMENT)  155966      245132   137811   \n",
       "2              CAPTAIN III (POLICE DEPARTMENT)  212739      106088  16452.6   \n",
       "11             CAPTAIN III (POLICE DEPARTMENT)   99722     87082.6   110804   \n",
       "15          COMMANDER III, (POLICE DEPARTMENT)  198778     73478.2  13957.6   \n",
       "25                             CHIEF OF POLICE  256470           0  11522.2   \n",
       "...                                        ...     ...         ...      ...   \n",
       "35131  SENIOR POLICE COMMUNICATIONS DISPATCHER  1006.4           0   361.82   \n",
       "35151                     POLICE SERVICES AIDE       0           0   1324.8   \n",
       "35318                       POLICE OFFICER III       0           0     1088   \n",
       "35671                       POLICE OFFICER III       0           0   597.31   \n",
       "35902         SERGEANT III (POLICE DEPARTMENT)       0           0   283.86   \n",
       "\n",
       "      Benefits   TotalPay  TotalPayBenefits  Year  Notes         Agency Status  \n",
       "1          NaN  538909.28         538909.28  2011    NaN  San Francisco    NaN  \n",
       "2          NaN  335279.91         335279.91  2011    NaN  San Francisco    NaN  \n",
       "11         NaN  297608.92         297608.92  2011    NaN  San Francisco    NaN  \n",
       "15         NaN  286213.86         286213.86  2011    NaN  San Francisco    NaN  \n",
       "25         NaN  267992.59         267992.59  2011    NaN  San Francisco    NaN  \n",
       "...        ...        ...               ...   ...    ...            ...    ...  \n",
       "35131      NaN    1368.22           1368.22  2011    NaN  San Francisco    NaN  \n",
       "35151      NaN    1324.80           1324.80  2011    NaN  San Francisco    NaN  \n",
       "35318      NaN    1088.00           1088.00  2011    NaN  San Francisco    NaN  \n",
       "35671      NaN     597.31            597.31  2011    NaN  San Francisco    NaN  \n",
       "35902      NaN     283.86            283.86  2011    NaN  San Francisco    NaN  \n",
       "\n",
       "[2512 rows x 13 columns]"
      ]
     },
     "execution_count": 28,
     "metadata": {},
     "output_type": "execute_result"
    }
   ],
   "source": [
    "df_dd.drop('Benefits',axis=1) # удаление столбцов нулевого значения\n",
    "df_dd\n",
    "\n"
   ]
  },
  {
   "cell_type": "code",
   "execution_count": 26,
   "metadata": {},
   "outputs": [],
   "source": [
    "df_dd=df_d.copy()"
   ]
  },
  {
   "cell_type": "code",
   "execution_count": 27,
   "metadata": {},
   "outputs": [
    {
     "data": {
      "text/html": [
       "<div>\n",
       "<style scoped>\n",
       "    .dataframe tbody tr th:only-of-type {\n",
       "        vertical-align: middle;\n",
       "    }\n",
       "\n",
       "    .dataframe tbody tr th {\n",
       "        vertical-align: top;\n",
       "    }\n",
       "\n",
       "    .dataframe thead th {\n",
       "        text-align: right;\n",
       "    }\n",
       "</style>\n",
       "<table border=\"1\" class=\"dataframe\">\n",
       "  <thead>\n",
       "    <tr style=\"text-align: right;\">\n",
       "      <th></th>\n",
       "      <th>Id</th>\n",
       "      <th>EmployeeName</th>\n",
       "      <th>JobTitle</th>\n",
       "      <th>BasePay</th>\n",
       "      <th>OvertimePay</th>\n",
       "      <th>OtherPay</th>\n",
       "      <th>Benefits</th>\n",
       "      <th>TotalPay</th>\n",
       "      <th>TotalPayBenefits</th>\n",
       "      <th>Year</th>\n",
       "      <th>Notes</th>\n",
       "      <th>Agency</th>\n",
       "      <th>Status</th>\n",
       "    </tr>\n",
       "  </thead>\n",
       "  <tbody>\n",
       "    <tr>\n",
       "      <th>1</th>\n",
       "      <td>2</td>\n",
       "      <td>GARY JIMENEZ</td>\n",
       "      <td>CAPTAIN III (POLICE DEPARTMENT)</td>\n",
       "      <td>155966</td>\n",
       "      <td>245132</td>\n",
       "      <td>137811</td>\n",
       "      <td>NaN</td>\n",
       "      <td>538909.28</td>\n",
       "      <td>538909.28</td>\n",
       "      <td>2011</td>\n",
       "      <td>NaN</td>\n",
       "      <td>San Francisco</td>\n",
       "      <td>NaN</td>\n",
       "    </tr>\n",
       "    <tr>\n",
       "      <th>2</th>\n",
       "      <td>3</td>\n",
       "      <td>ALBERT PARDINI</td>\n",
       "      <td>CAPTAIN III (POLICE DEPARTMENT)</td>\n",
       "      <td>212739</td>\n",
       "      <td>106088</td>\n",
       "      <td>16452.6</td>\n",
       "      <td>NaN</td>\n",
       "      <td>335279.91</td>\n",
       "      <td>335279.91</td>\n",
       "      <td>2011</td>\n",
       "      <td>NaN</td>\n",
       "      <td>San Francisco</td>\n",
       "      <td>NaN</td>\n",
       "    </tr>\n",
       "    <tr>\n",
       "      <th>11</th>\n",
       "      <td>12</td>\n",
       "      <td>PATRICIA JACKSON</td>\n",
       "      <td>CAPTAIN III (POLICE DEPARTMENT)</td>\n",
       "      <td>99722</td>\n",
       "      <td>87082.6</td>\n",
       "      <td>110804</td>\n",
       "      <td>NaN</td>\n",
       "      <td>297608.92</td>\n",
       "      <td>297608.92</td>\n",
       "      <td>2011</td>\n",
       "      <td>NaN</td>\n",
       "      <td>San Francisco</td>\n",
       "      <td>NaN</td>\n",
       "    </tr>\n",
       "    <tr>\n",
       "      <th>15</th>\n",
       "      <td>16</td>\n",
       "      <td>RICHARD CORRIEA</td>\n",
       "      <td>COMMANDER III, (POLICE DEPARTMENT)</td>\n",
       "      <td>198778</td>\n",
       "      <td>73478.2</td>\n",
       "      <td>13957.6</td>\n",
       "      <td>NaN</td>\n",
       "      <td>286213.86</td>\n",
       "      <td>286213.86</td>\n",
       "      <td>2011</td>\n",
       "      <td>NaN</td>\n",
       "      <td>San Francisco</td>\n",
       "      <td>NaN</td>\n",
       "    </tr>\n",
       "    <tr>\n",
       "      <th>25</th>\n",
       "      <td>26</td>\n",
       "      <td>GREGORY SUHR</td>\n",
       "      <td>CHIEF OF POLICE</td>\n",
       "      <td>256470</td>\n",
       "      <td>0</td>\n",
       "      <td>11522.2</td>\n",
       "      <td>NaN</td>\n",
       "      <td>267992.59</td>\n",
       "      <td>267992.59</td>\n",
       "      <td>2011</td>\n",
       "      <td>NaN</td>\n",
       "      <td>San Francisco</td>\n",
       "      <td>NaN</td>\n",
       "    </tr>\n",
       "    <tr>\n",
       "      <th>...</th>\n",
       "      <td>...</td>\n",
       "      <td>...</td>\n",
       "      <td>...</td>\n",
       "      <td>...</td>\n",
       "      <td>...</td>\n",
       "      <td>...</td>\n",
       "      <td>...</td>\n",
       "      <td>...</td>\n",
       "      <td>...</td>\n",
       "      <td>...</td>\n",
       "      <td>...</td>\n",
       "      <td>...</td>\n",
       "      <td>...</td>\n",
       "    </tr>\n",
       "    <tr>\n",
       "      <th>35131</th>\n",
       "      <td>35132</td>\n",
       "      <td>CYNTHIA HAYNES-EPPERSON</td>\n",
       "      <td>SENIOR POLICE COMMUNICATIONS DISPATCHER</td>\n",
       "      <td>1006.4</td>\n",
       "      <td>0</td>\n",
       "      <td>361.82</td>\n",
       "      <td>NaN</td>\n",
       "      <td>1368.22</td>\n",
       "      <td>1368.22</td>\n",
       "      <td>2011</td>\n",
       "      <td>NaN</td>\n",
       "      <td>San Francisco</td>\n",
       "      <td>NaN</td>\n",
       "    </tr>\n",
       "    <tr>\n",
       "      <th>35151</th>\n",
       "      <td>35152</td>\n",
       "      <td>LYNN BLOOM</td>\n",
       "      <td>POLICE SERVICES AIDE</td>\n",
       "      <td>0</td>\n",
       "      <td>0</td>\n",
       "      <td>1324.8</td>\n",
       "      <td>NaN</td>\n",
       "      <td>1324.80</td>\n",
       "      <td>1324.80</td>\n",
       "      <td>2011</td>\n",
       "      <td>NaN</td>\n",
       "      <td>San Francisco</td>\n",
       "      <td>NaN</td>\n",
       "    </tr>\n",
       "    <tr>\n",
       "      <th>35318</th>\n",
       "      <td>35319</td>\n",
       "      <td>ROBERT CHAPMAN</td>\n",
       "      <td>POLICE OFFICER III</td>\n",
       "      <td>0</td>\n",
       "      <td>0</td>\n",
       "      <td>1088</td>\n",
       "      <td>NaN</td>\n",
       "      <td>1088.00</td>\n",
       "      <td>1088.00</td>\n",
       "      <td>2011</td>\n",
       "      <td>NaN</td>\n",
       "      <td>San Francisco</td>\n",
       "      <td>NaN</td>\n",
       "    </tr>\n",
       "    <tr>\n",
       "      <th>35671</th>\n",
       "      <td>35672</td>\n",
       "      <td>RUSSELL MATLI</td>\n",
       "      <td>POLICE OFFICER III</td>\n",
       "      <td>0</td>\n",
       "      <td>0</td>\n",
       "      <td>597.31</td>\n",
       "      <td>NaN</td>\n",
       "      <td>597.31</td>\n",
       "      <td>597.31</td>\n",
       "      <td>2011</td>\n",
       "      <td>NaN</td>\n",
       "      <td>San Francisco</td>\n",
       "      <td>NaN</td>\n",
       "    </tr>\n",
       "    <tr>\n",
       "      <th>35902</th>\n",
       "      <td>35903</td>\n",
       "      <td>SUSAN ROTH</td>\n",
       "      <td>SERGEANT III (POLICE DEPARTMENT)</td>\n",
       "      <td>0</td>\n",
       "      <td>0</td>\n",
       "      <td>283.86</td>\n",
       "      <td>NaN</td>\n",
       "      <td>283.86</td>\n",
       "      <td>283.86</td>\n",
       "      <td>2011</td>\n",
       "      <td>NaN</td>\n",
       "      <td>San Francisco</td>\n",
       "      <td>NaN</td>\n",
       "    </tr>\n",
       "  </tbody>\n",
       "</table>\n",
       "<p>2512 rows × 13 columns</p>\n",
       "</div>"
      ],
      "text/plain": [
       "          Id             EmployeeName  \\\n",
       "1          2             GARY JIMENEZ   \n",
       "2          3           ALBERT PARDINI   \n",
       "11        12         PATRICIA JACKSON   \n",
       "15        16          RICHARD CORRIEA   \n",
       "25        26             GREGORY SUHR   \n",
       "...      ...                      ...   \n",
       "35131  35132  CYNTHIA HAYNES-EPPERSON   \n",
       "35151  35152               LYNN BLOOM   \n",
       "35318  35319           ROBERT CHAPMAN   \n",
       "35671  35672            RUSSELL MATLI   \n",
       "35902  35903               SUSAN ROTH   \n",
       "\n",
       "                                      JobTitle BasePay OvertimePay OtherPay  \\\n",
       "1              CAPTAIN III (POLICE DEPARTMENT)  155966      245132   137811   \n",
       "2              CAPTAIN III (POLICE DEPARTMENT)  212739      106088  16452.6   \n",
       "11             CAPTAIN III (POLICE DEPARTMENT)   99722     87082.6   110804   \n",
       "15          COMMANDER III, (POLICE DEPARTMENT)  198778     73478.2  13957.6   \n",
       "25                             CHIEF OF POLICE  256470           0  11522.2   \n",
       "...                                        ...     ...         ...      ...   \n",
       "35131  SENIOR POLICE COMMUNICATIONS DISPATCHER  1006.4           0   361.82   \n",
       "35151                     POLICE SERVICES AIDE       0           0   1324.8   \n",
       "35318                       POLICE OFFICER III       0           0     1088   \n",
       "35671                       POLICE OFFICER III       0           0   597.31   \n",
       "35902         SERGEANT III (POLICE DEPARTMENT)       0           0   283.86   \n",
       "\n",
       "      Benefits   TotalPay  TotalPayBenefits  Year  Notes         Agency Status  \n",
       "1          NaN  538909.28         538909.28  2011    NaN  San Francisco    NaN  \n",
       "2          NaN  335279.91         335279.91  2011    NaN  San Francisco    NaN  \n",
       "11         NaN  297608.92         297608.92  2011    NaN  San Francisco    NaN  \n",
       "15         NaN  286213.86         286213.86  2011    NaN  San Francisco    NaN  \n",
       "25         NaN  267992.59         267992.59  2011    NaN  San Francisco    NaN  \n",
       "...        ...        ...               ...   ...    ...            ...    ...  \n",
       "35131      NaN    1368.22           1368.22  2011    NaN  San Francisco    NaN  \n",
       "35151      NaN    1324.80           1324.80  2011    NaN  San Francisco    NaN  \n",
       "35318      NaN    1088.00           1088.00  2011    NaN  San Francisco    NaN  \n",
       "35671      NaN     597.31            597.31  2011    NaN  San Francisco    NaN  \n",
       "35902      NaN     283.86            283.86  2011    NaN  San Francisco    NaN  \n",
       "\n",
       "[2512 rows x 13 columns]"
      ]
     },
     "execution_count": 27,
     "metadata": {},
     "output_type": "execute_result"
    }
   ],
   "source": [
    "df_dd"
   ]
  },
  {
   "cell_type": "code",
   "execution_count": 118,
   "metadata": {
    "scrolled": true
   },
   "outputs": [
    {
     "data": {
      "image/png": "[encoded data removed]",
      "text/plain": [
       "<Figure size 1080x360 with 1 Axes>"
      ]
     },
     "metadata": {
      "needs_background": "light"
     },
     "output_type": "display_data"
    }
   ],
   "source": [
    "\n",
    "plt.figure(figsize=(15,5))\n",
    "plt.plot(df_d.TotalPay, \"blue\",linewidth=5, label='полиция', alpha=0.5)\n",
    "plt.plot(df_df.TotalPay, \"red\",linewidth=5, label='пожарные')\n",
    "plt.plot(df_dfm.TotalPay, \"green\",linewidth=5, label='медицина')\n",
    "plt.legend(loc='best')\n",
    "plt.show()"
   ]
  },
  {
   "cell_type": "code",
   "execution_count": 26,
   "metadata": {
    "scrolled": true
   },
   "outputs": [
    {
     "data": {
      "text/plain": [
       "JobTitle                                    TotalPay \n",
       "ASSISTANT INSPECTOR (POLICE DEPARTMENT)     188999.20    1\n",
       "ASSISTANT INSPECTOR II (POLICE DEPARTMENT)  129913.87    1\n",
       "                                            142484.42    1\n",
       "                                            143844.45    1\n",
       "                                            149776.31    1\n",
       "                                                        ..\n",
       "SERGEANT III (POLICE DEPARTMENT)            207277.85    1\n",
       "                                            209213.81    1\n",
       "                                            210076.88    1\n",
       "                                            212179.09    1\n",
       "                                            214944.74    1\n",
       "Name: Year, Length: 667, dtype: int64"
      ]
     },
     "execution_count": 26,
     "metadata": {},
     "output_type": "execute_result"
    }
   ],
   "source": [
    "df_d.groupby(['JobTitle','TotalPay'])['Year'].count()"
   ]
  },
  {
   "cell_type": "code",
   "execution_count": 82,
   "metadata": {},
   "outputs": [
    {
     "data": {
      "text/plain": [
       "Year\n",
       "2011    2512\n",
       "Name: Year, dtype: int64"
      ]
     },
     "execution_count": 82,
     "metadata": {},
     "output_type": "execute_result"
    }
   ],
   "source": [
    "df_d.groupby(['Year'])['Year'].count()"
   ]
  },
  {
   "cell_type": "code",
   "execution_count": 99,
   "metadata": {
    "scrolled": true
   },
   "outputs": [
    {
     "data": {
      "text/plain": [
       "Year\n",
       "2011    126704.417933\n",
       "Name: TotalPay, dtype: float64"
      ]
     },
     "execution_count": 99,
     "metadata": {},
     "output_type": "execute_result"
    }
   ],
   "source": [
    "df_d.groupby(['Year'])['TotalPay'].mean()"
   ]
  },
  {
   "cell_type": "code",
   "execution_count": 31,
   "metadata": {},
   "outputs": [
    {
     "data": {
      "text/plain": [
       "(667, 13)"
      ]
     },
     "execution_count": 31,
     "metadata": {},
     "output_type": "execute_result"
    }
   ],
   "source": [
    "df_d.shape #  количество строк, столбцов полиция"
   ]
  },
  {
   "cell_type": "code",
   "execution_count": 29,
   "metadata": {},
   "outputs": [
    {
     "data": {
      "text/plain": [
       "152379.47"
      ]
     },
     "execution_count": 29,
     "metadata": {},
     "output_type": "execute_result"
    }
   ],
   "source": [
    "df_d.TotalPay.median() # медиана"
   ]
  },
  {
   "cell_type": "code",
   "execution_count": 97,
   "metadata": {
    "scrolled": true
   },
   "outputs": [
    {
     "name": "stderr",
     "output_type": "stream",
     "text": [
      "C:\\Users\\user\\anaconda3\\lib\\site-packages\\numpy\\lib\\nanfunctions.py:1113: RuntimeWarning: Mean of empty slice\n",
      "  return np.nanmean(a, axis, out=out, keepdims=keepdims)\n"
     ]
    },
    {
     "data": {
      "text/plain": [
       "Id                    4594.000\n",
       "BasePay             111976.140\n",
       "OvertimePay           6376.980\n",
       "OtherPay              7764.400\n",
       "Benefits                   NaN\n",
       "TotalPay            127177.465\n",
       "TotalPayBenefits    127177.465\n",
       "Year                  2011.000\n",
       "Notes                      NaN\n",
       "Status                     NaN\n",
       "dtype: float64"
      ]
     },
     "execution_count": 97,
     "metadata": {},
     "output_type": "execute_result"
    }
   ],
   "source": [
    "(df[df['JobTitle'].str.contains('POLICE')]).median()"
   ]
  },
  {
   "cell_type": "code",
   "execution_count": 98,
   "metadata": {},
   "outputs": [
    {
     "data": {
      "text/html": [
       "<div>\n",
       "<style scoped>\n",
       "    .dataframe tbody tr th:only-of-type {\n",
       "        vertical-align: middle;\n",
       "    }\n",
       "\n",
       "    .dataframe tbody tr th {\n",
       "        vertical-align: top;\n",
       "    }\n",
       "\n",
       "    .dataframe thead th {\n",
       "        text-align: right;\n",
       "    }\n",
       "</style>\n",
       "<table border=\"1\" class=\"dataframe\">\n",
       "  <thead>\n",
       "    <tr style=\"text-align: right;\">\n",
       "      <th></th>\n",
       "      <th>Id</th>\n",
       "      <th>TotalPay</th>\n",
       "      <th>TotalPayBenefits</th>\n",
       "      <th>Year</th>\n",
       "      <th>Notes</th>\n",
       "    </tr>\n",
       "  </thead>\n",
       "  <tbody>\n",
       "    <tr>\n",
       "      <th>count</th>\n",
       "      <td>2512.000000</td>\n",
       "      <td>2512.00000</td>\n",
       "      <td>2512.00000</td>\n",
       "      <td>2512.0</td>\n",
       "      <td>0.0</td>\n",
       "    </tr>\n",
       "    <tr>\n",
       "      <th>mean</th>\n",
       "      <td>6246.502787</td>\n",
       "      <td>127097.17166</td>\n",
       "      <td>127097.17166</td>\n",
       "      <td>2011.0</td>\n",
       "      <td>NaN</td>\n",
       "    </tr>\n",
       "    <tr>\n",
       "      <th>std</th>\n",
       "      <td>6222.568916</td>\n",
       "      <td>36595.75152</td>\n",
       "      <td>36595.75152</td>\n",
       "      <td>0.0</td>\n",
       "      <td>NaN</td>\n",
       "    </tr>\n",
       "    <tr>\n",
       "      <th>min</th>\n",
       "      <td>2.000000</td>\n",
       "      <td>283.86000</td>\n",
       "      <td>283.86000</td>\n",
       "      <td>2011.0</td>\n",
       "      <td>NaN</td>\n",
       "    </tr>\n",
       "    <tr>\n",
       "      <th>25%</th>\n",
       "      <td>2519.250000</td>\n",
       "      <td>114148.38250</td>\n",
       "      <td>114148.38250</td>\n",
       "      <td>2011.0</td>\n",
       "      <td>NaN</td>\n",
       "    </tr>\n",
       "    <tr>\n",
       "      <th>50%</th>\n",
       "      <td>4594.000000</td>\n",
       "      <td>127177.46500</td>\n",
       "      <td>127177.46500</td>\n",
       "      <td>2011.0</td>\n",
       "      <td>NaN</td>\n",
       "    </tr>\n",
       "    <tr>\n",
       "      <th>75%</th>\n",
       "      <td>6867.500000</td>\n",
       "      <td>146340.08750</td>\n",
       "      <td>146340.08750</td>\n",
       "      <td>2011.0</td>\n",
       "      <td>NaN</td>\n",
       "    </tr>\n",
       "    <tr>\n",
       "      <th>max</th>\n",
       "      <td>35903.000000</td>\n",
       "      <td>538909.28000</td>\n",
       "      <td>538909.28000</td>\n",
       "      <td>2011.0</td>\n",
       "      <td>NaN</td>\n",
       "    </tr>\n",
       "  </tbody>\n",
       "</table>\n",
       "</div>"
      ],
      "text/plain": [
       "                 Id      TotalPay  TotalPayBenefits    Year  Notes\n",
       "count   2512.000000    2512.00000        2512.00000  2512.0    0.0\n",
       "mean    6246.502787  127097.17166      127097.17166  2011.0    NaN\n",
       "std     6222.568916   36595.75152       36595.75152     0.0    NaN\n",
       "min        2.000000     283.86000         283.86000  2011.0    NaN\n",
       "25%     2519.250000  114148.38250      114148.38250  2011.0    NaN\n",
       "50%     4594.000000  127177.46500      127177.46500  2011.0    NaN\n",
       "75%     6867.500000  146340.08750      146340.08750  2011.0    NaN\n",
       "max    35903.000000  538909.28000      538909.28000  2011.0    NaN"
      ]
     },
     "execution_count": 98,
     "metadata": {},
     "output_type": "execute_result"
    }
   ],
   "source": [
    "(df[df['JobTitle'].str.contains('POLICE')]).describe()"
   ]
  },
  {
   "cell_type": "code",
   "execution_count": 30,
   "metadata": {
    "scrolled": true
   },
   "outputs": [
    {
     "data": {
      "text/html": [
       "<div>\n",
       "<style scoped>\n",
       "    .dataframe tbody tr th:only-of-type {\n",
       "        vertical-align: middle;\n",
       "    }\n",
       "\n",
       "    .dataframe tbody tr th {\n",
       "        vertical-align: top;\n",
       "    }\n",
       "\n",
       "    .dataframe thead th {\n",
       "        text-align: right;\n",
       "    }\n",
       "</style>\n",
       "<table border=\"1\" class=\"dataframe\">\n",
       "  <thead>\n",
       "    <tr style=\"text-align: right;\">\n",
       "      <th></th>\n",
       "      <th>Id</th>\n",
       "      <th>TotalPay</th>\n",
       "      <th>TotalPayBenefits</th>\n",
       "      <th>Year</th>\n",
       "      <th>Notes</th>\n",
       "    </tr>\n",
       "  </thead>\n",
       "  <tbody>\n",
       "    <tr>\n",
       "      <th>count</th>\n",
       "      <td>667.000000</td>\n",
       "      <td>667.000000</td>\n",
       "      <td>667.000000</td>\n",
       "      <td>667.0</td>\n",
       "      <td>0.0</td>\n",
       "    </tr>\n",
       "    <tr>\n",
       "      <th>mean</th>\n",
       "      <td>2197.863568</td>\n",
       "      <td>158810.073568</td>\n",
       "      <td>158810.073568</td>\n",
       "      <td>2011.0</td>\n",
       "      <td>NaN</td>\n",
       "    </tr>\n",
       "    <tr>\n",
       "      <th>std</th>\n",
       "      <td>2150.428932</td>\n",
       "      <td>31092.000146</td>\n",
       "      <td>31092.000146</td>\n",
       "      <td>0.0</td>\n",
       "      <td>NaN</td>\n",
       "    </tr>\n",
       "    <tr>\n",
       "      <th>min</th>\n",
       "      <td>2.000000</td>\n",
       "      <td>283.860000</td>\n",
       "      <td>283.860000</td>\n",
       "      <td>2011.0</td>\n",
       "      <td>NaN</td>\n",
       "    </tr>\n",
       "    <tr>\n",
       "      <th>25%</th>\n",
       "      <td>1044.500000</td>\n",
       "      <td>142386.050000</td>\n",
       "      <td>142386.050000</td>\n",
       "      <td>2011.0</td>\n",
       "      <td>NaN</td>\n",
       "    </tr>\n",
       "    <tr>\n",
       "      <th>50%</th>\n",
       "      <td>2084.000000</td>\n",
       "      <td>152379.470000</td>\n",
       "      <td>152379.470000</td>\n",
       "      <td>2011.0</td>\n",
       "      <td>NaN</td>\n",
       "    </tr>\n",
       "    <tr>\n",
       "      <th>75%</th>\n",
       "      <td>2884.000000</td>\n",
       "      <td>168241.215000</td>\n",
       "      <td>168241.215000</td>\n",
       "      <td>2011.0</td>\n",
       "      <td>NaN</td>\n",
       "    </tr>\n",
       "    <tr>\n",
       "      <th>max</th>\n",
       "      <td>35903.000000</td>\n",
       "      <td>538909.280000</td>\n",
       "      <td>538909.280000</td>\n",
       "      <td>2011.0</td>\n",
       "      <td>NaN</td>\n",
       "    </tr>\n",
       "  </tbody>\n",
       "</table>\n",
       "</div>"
      ],
      "text/plain": [
       "                 Id       TotalPay  TotalPayBenefits    Year  Notes\n",
       "count    667.000000     667.000000        667.000000   667.0    0.0\n",
       "mean    2197.863568  158810.073568     158810.073568  2011.0    NaN\n",
       "std     2150.428932   31092.000146      31092.000146     0.0    NaN\n",
       "min        2.000000     283.860000        283.860000  2011.0    NaN\n",
       "25%     1044.500000  142386.050000     142386.050000  2011.0    NaN\n",
       "50%     2084.000000  152379.470000     152379.470000  2011.0    NaN\n",
       "75%     2884.000000  168241.215000     168241.215000  2011.0    NaN\n",
       "max    35903.000000  538909.280000     538909.280000  2011.0    NaN"
      ]
     },
     "execution_count": 30,
     "metadata": {},
     "output_type": "execute_result"
    }
   ],
   "source": [
    "df_d.describe() # количество, средеее, стандартное, минимальное\n"
   ]
  },
  {
   "cell_type": "code",
   "execution_count": 112,
   "metadata": {
    "scrolled": false
   },
   "outputs": [
    {
     "data": {
      "text/html": [
       "<div>\n",
       "<style scoped>\n",
       "    .dataframe tbody tr th:only-of-type {\n",
       "        vertical-align: middle;\n",
       "    }\n",
       "\n",
       "    .dataframe tbody tr th {\n",
       "        vertical-align: top;\n",
       "    }\n",
       "\n",
       "    .dataframe thead th {\n",
       "        text-align: right;\n",
       "    }\n",
       "</style>\n",
       "<table border=\"1\" class=\"dataframe\">\n",
       "  <thead>\n",
       "    <tr style=\"text-align: right;\">\n",
       "      <th></th>\n",
       "      <th>Id</th>\n",
       "      <th>EmployeeName</th>\n",
       "      <th>JobTitle</th>\n",
       "      <th>BasePay</th>\n",
       "      <th>OvertimePay</th>\n",
       "      <th>OtherPay</th>\n",
       "      <th>Benefits</th>\n",
       "      <th>TotalPay</th>\n",
       "      <th>TotalPayBenefits</th>\n",
       "      <th>Year</th>\n",
       "      <th>Notes</th>\n",
       "      <th>Agency</th>\n",
       "      <th>Status</th>\n",
       "    </tr>\n",
       "  </thead>\n",
       "  <tbody>\n",
       "    <tr>\n",
       "      <th>4</th>\n",
       "      <td>5</td>\n",
       "      <td>PATRICK GARDNER</td>\n",
       "      <td>DEPUTY CHIEF OF DEPARTMENT,(FIRE DEPARTMENT)</td>\n",
       "      <td>134402</td>\n",
       "      <td>9737</td>\n",
       "      <td>182235</td>\n",
       "      <td>NaN</td>\n",
       "      <td>326373.19</td>\n",
       "      <td>326373.19</td>\n",
       "      <td>2011</td>\n",
       "      <td>NaN</td>\n",
       "      <td>San Francisco</td>\n",
       "      <td>NaN</td>\n",
       "    </tr>\n",
       "    <tr>\n",
       "      <th>6</th>\n",
       "      <td>7</td>\n",
       "      <td>ALSON LEE</td>\n",
       "      <td>BATTALION CHIEF, (FIRE DEPARTMENT)</td>\n",
       "      <td>92492</td>\n",
       "      <td>89062.9</td>\n",
       "      <td>134426</td>\n",
       "      <td>NaN</td>\n",
       "      <td>315981.05</td>\n",
       "      <td>315981.05</td>\n",
       "      <td>2011</td>\n",
       "      <td>NaN</td>\n",
       "      <td>San Francisco</td>\n",
       "      <td>NaN</td>\n",
       "    </tr>\n",
       "    <tr>\n",
       "      <th>8</th>\n",
       "      <td>9</td>\n",
       "      <td>MICHAEL MORRIS</td>\n",
       "      <td>BATTALION CHIEF, (FIRE DEPARTMENT)</td>\n",
       "      <td>176933</td>\n",
       "      <td>86362.7</td>\n",
       "      <td>40132.2</td>\n",
       "      <td>NaN</td>\n",
       "      <td>303427.55</td>\n",
       "      <td>303427.55</td>\n",
       "      <td>2011</td>\n",
       "      <td>NaN</td>\n",
       "      <td>San Francisco</td>\n",
       "      <td>NaN</td>\n",
       "    </tr>\n",
       "    <tr>\n",
       "      <th>9</th>\n",
       "      <td>10</td>\n",
       "      <td>JOANNE HAYES-WHITE</td>\n",
       "      <td>CHIEF OF DEPARTMENT, (FIRE DEPARTMENT)</td>\n",
       "      <td>285262</td>\n",
       "      <td>0</td>\n",
       "      <td>17115.7</td>\n",
       "      <td>NaN</td>\n",
       "      <td>302377.73</td>\n",
       "      <td>302377.73</td>\n",
       "      <td>2011</td>\n",
       "      <td>NaN</td>\n",
       "      <td>San Francisco</td>\n",
       "      <td>NaN</td>\n",
       "    </tr>\n",
       "    <tr>\n",
       "      <th>10</th>\n",
       "      <td>11</td>\n",
       "      <td>ARTHUR KENNEY</td>\n",
       "      <td>ASSISTANT CHIEF OF DEPARTMENT, (FIRE DEPARTMENT)</td>\n",
       "      <td>194999</td>\n",
       "      <td>71344.9</td>\n",
       "      <td>33149.9</td>\n",
       "      <td>NaN</td>\n",
       "      <td>299494.17</td>\n",
       "      <td>299494.17</td>\n",
       "      <td>2011</td>\n",
       "      <td>NaN</td>\n",
       "      <td>San Francisco</td>\n",
       "      <td>NaN</td>\n",
       "    </tr>\n",
       "    <tr>\n",
       "      <th>...</th>\n",
       "      <td>...</td>\n",
       "      <td>...</td>\n",
       "      <td>...</td>\n",
       "      <td>...</td>\n",
       "      <td>...</td>\n",
       "      <td>...</td>\n",
       "      <td>...</td>\n",
       "      <td>...</td>\n",
       "      <td>...</td>\n",
       "      <td>...</td>\n",
       "      <td>...</td>\n",
       "      <td>...</td>\n",
       "      <td>...</td>\n",
       "    </tr>\n",
       "    <tr>\n",
       "      <th>34790</th>\n",
       "      <td>34791</td>\n",
       "      <td>CHARLES JOHNSON</td>\n",
       "      <td>FIREFIGHTER</td>\n",
       "      <td>0</td>\n",
       "      <td>0</td>\n",
       "      <td>1966.11</td>\n",
       "      <td>NaN</td>\n",
       "      <td>1966.11</td>\n",
       "      <td>1966.11</td>\n",
       "      <td>2011</td>\n",
       "      <td>NaN</td>\n",
       "      <td>San Francisco</td>\n",
       "      <td>NaN</td>\n",
       "    </tr>\n",
       "    <tr>\n",
       "      <th>34927</th>\n",
       "      <td>34928</td>\n",
       "      <td>THOMAS LEEPER</td>\n",
       "      <td>FIRE FIGHTER PARAMEDIC</td>\n",
       "      <td>0</td>\n",
       "      <td>11.21</td>\n",
       "      <td>1707.63</td>\n",
       "      <td>NaN</td>\n",
       "      <td>1718.84</td>\n",
       "      <td>1718.84</td>\n",
       "      <td>2011</td>\n",
       "      <td>NaN</td>\n",
       "      <td>San Francisco</td>\n",
       "      <td>NaN</td>\n",
       "    </tr>\n",
       "    <tr>\n",
       "      <th>35811</th>\n",
       "      <td>35812</td>\n",
       "      <td>ROBERTO LUCHA</td>\n",
       "      <td>FIREFIGHTER</td>\n",
       "      <td>0</td>\n",
       "      <td>217.1</td>\n",
       "      <td>185.07</td>\n",
       "      <td>NaN</td>\n",
       "      <td>402.17</td>\n",
       "      <td>402.17</td>\n",
       "      <td>2011</td>\n",
       "      <td>NaN</td>\n",
       "      <td>San Francisco</td>\n",
       "      <td>NaN</td>\n",
       "    </tr>\n",
       "    <tr>\n",
       "      <th>36076</th>\n",
       "      <td>36077</td>\n",
       "      <td>DEBRA TANIS</td>\n",
       "      <td>FIRE RESCUE PARAMEDIC</td>\n",
       "      <td>0</td>\n",
       "      <td>0</td>\n",
       "      <td>92.21</td>\n",
       "      <td>NaN</td>\n",
       "      <td>92.21</td>\n",
       "      <td>92.21</td>\n",
       "      <td>2011</td>\n",
       "      <td>NaN</td>\n",
       "      <td>San Francisco</td>\n",
       "      <td>NaN</td>\n",
       "    </tr>\n",
       "    <tr>\n",
       "      <th>36153</th>\n",
       "      <td>36154</td>\n",
       "      <td>ROCK CRAWFORD</td>\n",
       "      <td>FIREFIGHTER</td>\n",
       "      <td>0</td>\n",
       "      <td>0</td>\n",
       "      <td>5.8</td>\n",
       "      <td>NaN</td>\n",
       "      <td>5.80</td>\n",
       "      <td>5.80</td>\n",
       "      <td>2011</td>\n",
       "      <td>NaN</td>\n",
       "      <td>San Francisco</td>\n",
       "      <td>NaN</td>\n",
       "    </tr>\n",
       "  </tbody>\n",
       "</table>\n",
       "<p>1459 rows × 13 columns</p>\n",
       "</div>"
      ],
      "text/plain": [
       "          Id        EmployeeName  \\\n",
       "4          5     PATRICK GARDNER   \n",
       "6          7           ALSON LEE   \n",
       "8          9      MICHAEL MORRIS   \n",
       "9         10  JOANNE HAYES-WHITE   \n",
       "10        11       ARTHUR KENNEY   \n",
       "...      ...                 ...   \n",
       "34790  34791     CHARLES JOHNSON   \n",
       "34927  34928       THOMAS LEEPER   \n",
       "35811  35812       ROBERTO LUCHA   \n",
       "36076  36077         DEBRA TANIS   \n",
       "36153  36154       ROCK CRAWFORD   \n",
       "\n",
       "                                               JobTitle BasePay OvertimePay  \\\n",
       "4          DEPUTY CHIEF OF DEPARTMENT,(FIRE DEPARTMENT)  134402        9737   \n",
       "6                    BATTALION CHIEF, (FIRE DEPARTMENT)   92492     89062.9   \n",
       "8                    BATTALION CHIEF, (FIRE DEPARTMENT)  176933     86362.7   \n",
       "9                CHIEF OF DEPARTMENT, (FIRE DEPARTMENT)  285262           0   \n",
       "10     ASSISTANT CHIEF OF DEPARTMENT, (FIRE DEPARTMENT)  194999     71344.9   \n",
       "...                                                 ...     ...         ...   \n",
       "34790                                       FIREFIGHTER       0           0   \n",
       "34927                            FIRE FIGHTER PARAMEDIC       0       11.21   \n",
       "35811                                       FIREFIGHTER       0       217.1   \n",
       "36076                             FIRE RESCUE PARAMEDIC       0           0   \n",
       "36153                                       FIREFIGHTER       0           0   \n",
       "\n",
       "      OtherPay Benefits   TotalPay  TotalPayBenefits  Year  Notes  \\\n",
       "4       182235      NaN  326373.19         326373.19  2011    NaN   \n",
       "6       134426      NaN  315981.05         315981.05  2011    NaN   \n",
       "8      40132.2      NaN  303427.55         303427.55  2011    NaN   \n",
       "9      17115.7      NaN  302377.73         302377.73  2011    NaN   \n",
       "10     33149.9      NaN  299494.17         299494.17  2011    NaN   \n",
       "...        ...      ...        ...               ...   ...    ...   \n",
       "34790  1966.11      NaN    1966.11           1966.11  2011    NaN   \n",
       "34927  1707.63      NaN    1718.84           1718.84  2011    NaN   \n",
       "35811   185.07      NaN     402.17            402.17  2011    NaN   \n",
       "36076    92.21      NaN      92.21             92.21  2011    NaN   \n",
       "36153      5.8      NaN       5.80              5.80  2011    NaN   \n",
       "\n",
       "              Agency Status  \n",
       "4      San Francisco    NaN  \n",
       "6      San Francisco    NaN  \n",
       "8      San Francisco    NaN  \n",
       "9      San Francisco    NaN  \n",
       "10     San Francisco    NaN  \n",
       "...              ...    ...  \n",
       "34790  San Francisco    NaN  \n",
       "34927  San Francisco    NaN  \n",
       "35811  San Francisco    NaN  \n",
       "36076  San Francisco    NaN  \n",
       "36153  San Francisco    NaN  \n",
       "\n",
       "[1459 rows x 13 columns]"
      ]
     },
     "execution_count": 112,
     "metadata": {},
     "output_type": "execute_result"
    }
   ],
   "source": [
    "df_df = df[df['JobTitle'].str.contains(\"FIRE\")]\n",
    "df_df"
   ]
  },
  {
   "cell_type": "code",
   "execution_count": 34,
   "metadata": {},
   "outputs": [
    {
     "data": {
      "text/plain": [
       "(222, 13)"
      ]
     },
     "execution_count": 34,
     "metadata": {},
     "output_type": "execute_result"
    }
   ],
   "source": [
    "df_df.shape # количество строк, столбцов пожарные"
   ]
  },
  {
   "cell_type": "code",
   "execution_count": 62,
   "metadata": {
    "scrolled": true
   },
   "outputs": [
    {
     "data": {
      "text/plain": [
       "Year\n",
       "2011    62462.845916\n",
       "Name: TotalPay, dtype: float64"
      ]
     },
     "execution_count": 62,
     "metadata": {},
     "output_type": "execute_result"
    }
   ],
   "source": [
    "df_df.groupby(['Year'])['TotalPay'].mean()"
   ]
  },
  {
   "cell_type": "code",
   "execution_count": 35,
   "metadata": {},
   "outputs": [
    {
     "data": {
      "text/plain": [
       "168722.32"
      ]
     },
     "execution_count": 35,
     "metadata": {},
     "output_type": "execute_result"
    }
   ],
   "source": [
    "df_df.TotalPay.median() # медиана"
   ]
  },
  {
   "cell_type": "code",
   "execution_count": 36,
   "metadata": {},
   "outputs": [
    {
     "data": {
      "text/html": [
       "<div>\n",
       "<style scoped>\n",
       "    .dataframe tbody tr th:only-of-type {\n",
       "        vertical-align: middle;\n",
       "    }\n",
       "\n",
       "    .dataframe tbody tr th {\n",
       "        vertical-align: top;\n",
       "    }\n",
       "\n",
       "    .dataframe thead th {\n",
       "        text-align: right;\n",
       "    }\n",
       "</style>\n",
       "<table border=\"1\" class=\"dataframe\">\n",
       "  <thead>\n",
       "    <tr style=\"text-align: right;\">\n",
       "      <th></th>\n",
       "      <th>Id</th>\n",
       "      <th>TotalPay</th>\n",
       "      <th>TotalPayBenefits</th>\n",
       "      <th>Year</th>\n",
       "      <th>Notes</th>\n",
       "    </tr>\n",
       "  </thead>\n",
       "  <tbody>\n",
       "    <tr>\n",
       "      <th>count</th>\n",
       "      <td>222.000000</td>\n",
       "      <td>222.000000</td>\n",
       "      <td>222.000000</td>\n",
       "      <td>222.0</td>\n",
       "      <td>0.0</td>\n",
       "    </tr>\n",
       "    <tr>\n",
       "      <th>mean</th>\n",
       "      <td>1619.711712</td>\n",
       "      <td>177504.265135</td>\n",
       "      <td>177504.265135</td>\n",
       "      <td>2011.0</td>\n",
       "      <td>NaN</td>\n",
       "    </tr>\n",
       "    <tr>\n",
       "      <th>std</th>\n",
       "      <td>2650.054188</td>\n",
       "      <td>41920.667294</td>\n",
       "      <td>41920.667294</td>\n",
       "      <td>0.0</td>\n",
       "      <td>NaN</td>\n",
       "    </tr>\n",
       "    <tr>\n",
       "      <th>min</th>\n",
       "      <td>5.000000</td>\n",
       "      <td>7093.370000</td>\n",
       "      <td>7093.370000</td>\n",
       "      <td>2011.0</td>\n",
       "      <td>NaN</td>\n",
       "    </tr>\n",
       "    <tr>\n",
       "      <th>25%</th>\n",
       "      <td>312.250000</td>\n",
       "      <td>148055.222500</td>\n",
       "      <td>148055.222500</td>\n",
       "      <td>2011.0</td>\n",
       "      <td>NaN</td>\n",
       "    </tr>\n",
       "    <tr>\n",
       "      <th>50%</th>\n",
       "      <td>1028.000000</td>\n",
       "      <td>168722.320000</td>\n",
       "      <td>168722.320000</td>\n",
       "      <td>2011.0</td>\n",
       "      <td>NaN</td>\n",
       "    </tr>\n",
       "    <tr>\n",
       "      <th>75%</th>\n",
       "      <td>2355.250000</td>\n",
       "      <td>196081.595000</td>\n",
       "      <td>196081.595000</td>\n",
       "      <td>2011.0</td>\n",
       "      <td>NaN</td>\n",
       "    </tr>\n",
       "    <tr>\n",
       "      <th>max</th>\n",
       "      <td>32624.000000</td>\n",
       "      <td>326373.190000</td>\n",
       "      <td>326373.190000</td>\n",
       "      <td>2011.0</td>\n",
       "      <td>NaN</td>\n",
       "    </tr>\n",
       "  </tbody>\n",
       "</table>\n",
       "</div>"
      ],
      "text/plain": [
       "                 Id       TotalPay  TotalPayBenefits    Year  Notes\n",
       "count    222.000000     222.000000        222.000000   222.0    0.0\n",
       "mean    1619.711712  177504.265135     177504.265135  2011.0    NaN\n",
       "std     2650.054188   41920.667294      41920.667294     0.0    NaN\n",
       "min        5.000000    7093.370000       7093.370000  2011.0    NaN\n",
       "25%      312.250000  148055.222500     148055.222500  2011.0    NaN\n",
       "50%     1028.000000  168722.320000     168722.320000  2011.0    NaN\n",
       "75%     2355.250000  196081.595000     196081.595000  2011.0    NaN\n",
       "max    32624.000000  326373.190000     326373.190000  2011.0    NaN"
      ]
     },
     "execution_count": 36,
     "metadata": {},
     "output_type": "execute_result"
    }
   ],
   "source": [
    "df_df.describe() # количество, средеее, стандартное, минимальное"
   ]
  },
  {
   "cell_type": "code",
   "execution_count": null,
   "metadata": {},
   "outputs": [],
   "source": []
  },
  {
   "cell_type": "code",
   "execution_count": 113,
   "metadata": {
    "scrolled": true
   },
   "outputs": [
    {
     "data": {
      "text/html": [
       "<div>\n",
       "<style scoped>\n",
       "    .dataframe tbody tr th:only-of-type {\n",
       "        vertical-align: middle;\n",
       "    }\n",
       "\n",
       "    .dataframe tbody tr th {\n",
       "        vertical-align: top;\n",
       "    }\n",
       "\n",
       "    .dataframe thead th {\n",
       "        text-align: right;\n",
       "    }\n",
       "</style>\n",
       "<table border=\"1\" class=\"dataframe\">\n",
       "  <thead>\n",
       "    <tr style=\"text-align: right;\">\n",
       "      <th></th>\n",
       "      <th>Id</th>\n",
       "      <th>EmployeeName</th>\n",
       "      <th>JobTitle</th>\n",
       "      <th>BasePay</th>\n",
       "      <th>OvertimePay</th>\n",
       "      <th>OtherPay</th>\n",
       "      <th>Benefits</th>\n",
       "      <th>TotalPay</th>\n",
       "      <th>TotalPayBenefits</th>\n",
       "      <th>Year</th>\n",
       "      <th>Notes</th>\n",
       "      <th>Agency</th>\n",
       "      <th>Status</th>\n",
       "    </tr>\n",
       "  </thead>\n",
       "  <tbody>\n",
       "    <tr>\n",
       "      <th>17</th>\n",
       "      <td>18</td>\n",
       "      <td>SEBASTIAN WONG</td>\n",
       "      <td>CAPTAIN, EMERGENCYCY MEDICAL SERVICES</td>\n",
       "      <td>140547</td>\n",
       "      <td>119397</td>\n",
       "      <td>18625.1</td>\n",
       "      <td>NaN</td>\n",
       "      <td>278569.21</td>\n",
       "      <td>278569.21</td>\n",
       "      <td>2011</td>\n",
       "      <td>NaN</td>\n",
       "      <td>San Francisco</td>\n",
       "      <td>NaN</td>\n",
       "    </tr>\n",
       "    <tr>\n",
       "      <th>19</th>\n",
       "      <td>20</td>\n",
       "      <td>ELLEN MOFFATT</td>\n",
       "      <td>ASSISTANT MEDICAL EXAMINER</td>\n",
       "      <td>257511</td>\n",
       "      <td>880.16</td>\n",
       "      <td>16159.5</td>\n",
       "      <td>NaN</td>\n",
       "      <td>274550.25</td>\n",
       "      <td>274550.25</td>\n",
       "      <td>2011</td>\n",
       "      <td>NaN</td>\n",
       "      <td>San Francisco</td>\n",
       "      <td>NaN</td>\n",
       "    </tr>\n",
       "    <tr>\n",
       "      <th>20</th>\n",
       "      <td>21</td>\n",
       "      <td>VENUS AZAR</td>\n",
       "      <td>ASSISTANT MEDICAL EXAMINER</td>\n",
       "      <td>257510</td>\n",
       "      <td>0</td>\n",
       "      <td>16679.8</td>\n",
       "      <td>NaN</td>\n",
       "      <td>274190.27</td>\n",
       "      <td>274190.27</td>\n",
       "      <td>2011</td>\n",
       "      <td>NaN</td>\n",
       "      <td>San Francisco</td>\n",
       "      <td>NaN</td>\n",
       "    </tr>\n",
       "    <tr>\n",
       "      <th>21</th>\n",
       "      <td>22</td>\n",
       "      <td>JUDY MELINEK</td>\n",
       "      <td>ASSISTANT MEDICAL EXAMINER</td>\n",
       "      <td>257510</td>\n",
       "      <td>377.21</td>\n",
       "      <td>15883.6</td>\n",
       "      <td>NaN</td>\n",
       "      <td>273771.21</td>\n",
       "      <td>273771.21</td>\n",
       "      <td>2011</td>\n",
       "      <td>NaN</td>\n",
       "      <td>San Francisco</td>\n",
       "      <td>NaN</td>\n",
       "    </tr>\n",
       "    <tr>\n",
       "      <th>36</th>\n",
       "      <td>37</td>\n",
       "      <td>SUSAN CURRIN</td>\n",
       "      <td>ADMINISTRATOR, SFGH MEDICAL CENTER</td>\n",
       "      <td>245124</td>\n",
       "      <td>0</td>\n",
       "      <td>12000</td>\n",
       "      <td>NaN</td>\n",
       "      <td>257124.44</td>\n",
       "      <td>257124.44</td>\n",
       "      <td>2011</td>\n",
       "      <td>NaN</td>\n",
       "      <td>San Francisco</td>\n",
       "      <td>NaN</td>\n",
       "    </tr>\n",
       "    <tr>\n",
       "      <th>...</th>\n",
       "      <td>...</td>\n",
       "      <td>...</td>\n",
       "      <td>...</td>\n",
       "      <td>...</td>\n",
       "      <td>...</td>\n",
       "      <td>...</td>\n",
       "      <td>...</td>\n",
       "      <td>...</td>\n",
       "      <td>...</td>\n",
       "      <td>...</td>\n",
       "      <td>...</td>\n",
       "      <td>...</td>\n",
       "      <td>...</td>\n",
       "    </tr>\n",
       "    <tr>\n",
       "      <th>35392</th>\n",
       "      <td>35393</td>\n",
       "      <td>KATANYA HENRY</td>\n",
       "      <td>MEDICAL EVALUATIONS ASSISTANT</td>\n",
       "      <td>0</td>\n",
       "      <td>0</td>\n",
       "      <td>952.23</td>\n",
       "      <td>NaN</td>\n",
       "      <td>952.23</td>\n",
       "      <td>952.23</td>\n",
       "      <td>2011</td>\n",
       "      <td>NaN</td>\n",
       "      <td>San Francisco</td>\n",
       "      <td>NaN</td>\n",
       "    </tr>\n",
       "    <tr>\n",
       "      <th>35597</th>\n",
       "      <td>35598</td>\n",
       "      <td>JOHN CORTEZ</td>\n",
       "      <td>MEDICAL SOCIAL WORKER</td>\n",
       "      <td>0</td>\n",
       "      <td>0</td>\n",
       "      <td>672.04</td>\n",
       "      <td>NaN</td>\n",
       "      <td>672.04</td>\n",
       "      <td>672.04</td>\n",
       "      <td>2011</td>\n",
       "      <td>NaN</td>\n",
       "      <td>San Francisco</td>\n",
       "      <td>NaN</td>\n",
       "    </tr>\n",
       "    <tr>\n",
       "      <th>35732</th>\n",
       "      <td>35733</td>\n",
       "      <td>NICOLE BARTOLINI</td>\n",
       "      <td>MEDICAL SOCIAL WORKER</td>\n",
       "      <td>516.4</td>\n",
       "      <td>0</td>\n",
       "      <td>20.66</td>\n",
       "      <td>NaN</td>\n",
       "      <td>537.06</td>\n",
       "      <td>537.06</td>\n",
       "      <td>2011</td>\n",
       "      <td>NaN</td>\n",
       "      <td>San Francisco</td>\n",
       "      <td>NaN</td>\n",
       "    </tr>\n",
       "    <tr>\n",
       "      <th>35764</th>\n",
       "      <td>35765</td>\n",
       "      <td>CRAIG STROOPE</td>\n",
       "      <td>MEDICAL EXAMINER'S INVESTIGATOR I</td>\n",
       "      <td>0</td>\n",
       "      <td>0</td>\n",
       "      <td>481.02</td>\n",
       "      <td>NaN</td>\n",
       "      <td>481.02</td>\n",
       "      <td>481.02</td>\n",
       "      <td>2011</td>\n",
       "      <td>NaN</td>\n",
       "      <td>San Francisco</td>\n",
       "      <td>NaN</td>\n",
       "    </tr>\n",
       "    <tr>\n",
       "      <th>36115</th>\n",
       "      <td>36116</td>\n",
       "      <td>ANTOINETTE GIBSON</td>\n",
       "      <td>MEDICAL EVALUATIONS ASSISTANT</td>\n",
       "      <td>0</td>\n",
       "      <td>0</td>\n",
       "      <td>42.02</td>\n",
       "      <td>NaN</td>\n",
       "      <td>42.02</td>\n",
       "      <td>42.02</td>\n",
       "      <td>2011</td>\n",
       "      <td>NaN</td>\n",
       "      <td>San Francisco</td>\n",
       "      <td>NaN</td>\n",
       "    </tr>\n",
       "  </tbody>\n",
       "</table>\n",
       "<p>431 rows × 13 columns</p>\n",
       "</div>"
      ],
      "text/plain": [
       "          Id       EmployeeName                               JobTitle  \\\n",
       "17        18     SEBASTIAN WONG  CAPTAIN, EMERGENCYCY MEDICAL SERVICES   \n",
       "19        20      ELLEN MOFFATT             ASSISTANT MEDICAL EXAMINER   \n",
       "20        21         VENUS AZAR             ASSISTANT MEDICAL EXAMINER   \n",
       "21        22       JUDY MELINEK             ASSISTANT MEDICAL EXAMINER   \n",
       "36        37       SUSAN CURRIN     ADMINISTRATOR, SFGH MEDICAL CENTER   \n",
       "...      ...                ...                                    ...   \n",
       "35392  35393      KATANYA HENRY          MEDICAL EVALUATIONS ASSISTANT   \n",
       "35597  35598        JOHN CORTEZ                  MEDICAL SOCIAL WORKER   \n",
       "35732  35733   NICOLE BARTOLINI                  MEDICAL SOCIAL WORKER   \n",
       "35764  35765      CRAIG STROOPE      MEDICAL EXAMINER'S INVESTIGATOR I   \n",
       "36115  36116  ANTOINETTE GIBSON          MEDICAL EVALUATIONS ASSISTANT   \n",
       "\n",
       "      BasePay OvertimePay OtherPay Benefits   TotalPay  TotalPayBenefits  \\\n",
       "17     140547      119397  18625.1      NaN  278569.21         278569.21   \n",
       "19     257511      880.16  16159.5      NaN  274550.25         274550.25   \n",
       "20     257510           0  16679.8      NaN  274190.27         274190.27   \n",
       "21     257510      377.21  15883.6      NaN  273771.21         273771.21   \n",
       "36     245124           0    12000      NaN  257124.44         257124.44   \n",
       "...       ...         ...      ...      ...        ...               ...   \n",
       "35392       0           0   952.23      NaN     952.23            952.23   \n",
       "35597       0           0   672.04      NaN     672.04            672.04   \n",
       "35732   516.4           0    20.66      NaN     537.06            537.06   \n",
       "35764       0           0   481.02      NaN     481.02            481.02   \n",
       "36115       0           0    42.02      NaN      42.02             42.02   \n",
       "\n",
       "       Year  Notes         Agency Status  \n",
       "17     2011    NaN  San Francisco    NaN  \n",
       "19     2011    NaN  San Francisco    NaN  \n",
       "20     2011    NaN  San Francisco    NaN  \n",
       "21     2011    NaN  San Francisco    NaN  \n",
       "36     2011    NaN  San Francisco    NaN  \n",
       "...     ...    ...            ...    ...  \n",
       "35392  2011    NaN  San Francisco    NaN  \n",
       "35597  2011    NaN  San Francisco    NaN  \n",
       "35732  2011    NaN  San Francisco    NaN  \n",
       "35764  2011    NaN  San Francisco    NaN  \n",
       "36115  2011    NaN  San Francisco    NaN  \n",
       "\n",
       "[431 rows x 13 columns]"
      ]
     },
     "execution_count": 113,
     "metadata": {},
     "output_type": "execute_result"
    }
   ],
   "source": [
    "df_dfm = df[df['JobTitle'].str.contains(\"MEDICAL\")]   #DEPARTMENT\n",
    "df_dfm"
   ]
  },
  {
   "cell_type": "code",
   "execution_count": 53,
   "metadata": {},
   "outputs": [
    {
     "data": {
      "text/plain": [
       "55376.42"
      ]
     },
     "execution_count": 53,
     "metadata": {},
     "output_type": "execute_result"
    }
   ],
   "source": [
    "df_dfm.TotalPay.median() # медиана"
   ]
  },
  {
   "cell_type": "code",
   "execution_count": 63,
   "metadata": {},
   "outputs": [
    {
     "data": {
      "text/plain": [
       "Year\n",
       "2011    62462.845916\n",
       "Name: TotalPay, dtype: float64"
      ]
     },
     "execution_count": 63,
     "metadata": {},
     "output_type": "execute_result"
    }
   ],
   "source": [
    "df_dfm.groupby(['Year'])['TotalPay'].mean()"
   ]
  },
  {
   "cell_type": "code",
   "execution_count": 54,
   "metadata": {
    "scrolled": false
   },
   "outputs": [
    {
     "data": {
      "text/html": [
       "<div>\n",
       "<style scoped>\n",
       "    .dataframe tbody tr th:only-of-type {\n",
       "        vertical-align: middle;\n",
       "    }\n",
       "\n",
       "    .dataframe tbody tr th {\n",
       "        vertical-align: top;\n",
       "    }\n",
       "\n",
       "    .dataframe thead th {\n",
       "        text-align: right;\n",
       "    }\n",
       "</style>\n",
       "<table border=\"1\" class=\"dataframe\">\n",
       "  <thead>\n",
       "    <tr style=\"text-align: right;\">\n",
       "      <th></th>\n",
       "      <th>Id</th>\n",
       "      <th>TotalPay</th>\n",
       "      <th>TotalPayBenefits</th>\n",
       "      <th>Year</th>\n",
       "      <th>Notes</th>\n",
       "    </tr>\n",
       "  </thead>\n",
       "  <tbody>\n",
       "    <tr>\n",
       "      <th>count</th>\n",
       "      <td>431.000000</td>\n",
       "      <td>431.000000</td>\n",
       "      <td>431.000000</td>\n",
       "      <td>431.0</td>\n",
       "      <td>0.0</td>\n",
       "    </tr>\n",
       "    <tr>\n",
       "      <th>mean</th>\n",
       "      <td>21038.812065</td>\n",
       "      <td>62462.845916</td>\n",
       "      <td>62462.845916</td>\n",
       "      <td>2011.0</td>\n",
       "      <td>NaN</td>\n",
       "    </tr>\n",
       "    <tr>\n",
       "      <th>std</th>\n",
       "      <td>7847.508912</td>\n",
       "      <td>43012.876176</td>\n",
       "      <td>43012.876176</td>\n",
       "      <td>0.0</td>\n",
       "      <td>NaN</td>\n",
       "    </tr>\n",
       "    <tr>\n",
       "      <th>min</th>\n",
       "      <td>18.000000</td>\n",
       "      <td>42.020000</td>\n",
       "      <td>42.020000</td>\n",
       "      <td>2011.0</td>\n",
       "      <td>NaN</td>\n",
       "    </tr>\n",
       "    <tr>\n",
       "      <th>25%</th>\n",
       "      <td>15745.500000</td>\n",
       "      <td>45185.780000</td>\n",
       "      <td>45185.780000</td>\n",
       "      <td>2011.0</td>\n",
       "      <td>NaN</td>\n",
       "    </tr>\n",
       "    <tr>\n",
       "      <th>50%</th>\n",
       "      <td>22742.000000</td>\n",
       "      <td>55376.420000</td>\n",
       "      <td>55376.420000</td>\n",
       "      <td>2011.0</td>\n",
       "      <td>NaN</td>\n",
       "    </tr>\n",
       "    <tr>\n",
       "      <th>75%</th>\n",
       "      <td>25951.500000</td>\n",
       "      <td>75045.760000</td>\n",
       "      <td>75045.760000</td>\n",
       "      <td>2011.0</td>\n",
       "      <td>NaN</td>\n",
       "    </tr>\n",
       "    <tr>\n",
       "      <th>max</th>\n",
       "      <td>36116.000000</td>\n",
       "      <td>278569.210000</td>\n",
       "      <td>278569.210000</td>\n",
       "      <td>2011.0</td>\n",
       "      <td>NaN</td>\n",
       "    </tr>\n",
       "  </tbody>\n",
       "</table>\n",
       "</div>"
      ],
      "text/plain": [
       "                 Id       TotalPay  TotalPayBenefits    Year  Notes\n",
       "count    431.000000     431.000000        431.000000   431.0    0.0\n",
       "mean   21038.812065   62462.845916      62462.845916  2011.0    NaN\n",
       "std     7847.508912   43012.876176      43012.876176     0.0    NaN\n",
       "min       18.000000      42.020000         42.020000  2011.0    NaN\n",
       "25%    15745.500000   45185.780000      45185.780000  2011.0    NaN\n",
       "50%    22742.000000   55376.420000      55376.420000  2011.0    NaN\n",
       "75%    25951.500000   75045.760000      75045.760000  2011.0    NaN\n",
       "max    36116.000000  278569.210000     278569.210000  2011.0    NaN"
      ]
     },
     "execution_count": 54,
     "metadata": {},
     "output_type": "execute_result"
    }
   ],
   "source": [
    "df_dfm.describe() # количество, средеее, стандартное, минимальное"
   ]
  },
  {
   "cell_type": "code",
   "execution_count": 56,
   "metadata": {},
   "outputs": [
    {
     "name": "stdout",
     "output_type": "stream",
     "text": [
      "2512 431 431\n"
     ]
    }
   ],
   "source": [
    "print('Количество df_d.TotalPay.count(),df_df.TotalPay.count(),df_dfm.TotalPay.count())"
   ]
  },
  {
   "cell_type": "code",
   "execution_count": 72,
   "metadata": {
    "scrolled": false
   },
   "outputs": [
    {
     "name": "stdout",
     "output_type": "stream",
     "text": [
      "Среднее значение по зп:\n",
      " полиция Year\n",
      "2011    127097.17166\n",
      "Name: TotalPay, dtype: float64\n",
      "\n",
      " пожарные Year\n",
      "2011    62462.845916\n",
      "Name: TotalPay, dtype: float64\n",
      "\n",
      " медицина Year\n",
      "2011    62462.845916\n",
      "Name: TotalPay, dtype: float64\n"
     ]
    }
   ],
   "source": [
    "print('Среднее значение по зп:\\n','полиция',df_d.groupby(['Year'])['TotalPay'].mean());\n",
    "print('\\n','пожарные',df_df.groupby(['Year'])['TotalPay'].mean());\n",
    "print('\\n','медицина',df_dfm.groupby(['Year'])['TotalPay'].mean());"
   ]
  },
  {
   "cell_type": "code",
   "execution_count": 73,
   "metadata": {},
   "outputs": [
    {
     "name": "stdout",
     "output_type": "stream",
     "text": [
      "Среднее значение по зп:\n",
      " полиция Year\n",
      "2011    538909.28\n",
      "Name: TotalPay, dtype: float64\n",
      "\n",
      " пожарные Year\n",
      "2011    278569.21\n",
      "Name: TotalPay, dtype: float64\n",
      "\n",
      " медицина Year\n",
      "2011    278569.21\n",
      "Name: TotalPay, dtype: float64\n"
     ]
    }
   ],
   "source": [
    "print('Максимальное значение по зп:\\n','полиция',df_d.groupby(['Year'])['TotalPay'].max());\n",
    "print('\\n','пожарные',df_df.groupby(['Year'])['TotalPay'].max());\n",
    "print('\\n','медицина',df_dfm.groupby(['Year'])['TotalPay'].max());"
   ]
  },
  {
   "cell_type": "code",
   "execution_count": 74,
   "metadata": {},
   "outputs": [
    {
     "name": "stdout",
     "output_type": "stream",
     "text": [
      "Среднее значение по зп:\n",
      " полиция Year\n",
      "2011    127177.465\n",
      "Name: TotalPay, dtype: float64\n",
      "\n",
      " пожарные Year\n",
      "2011    55376.42\n",
      "Name: TotalPay, dtype: float64\n",
      "\n",
      " медицина Year\n",
      "2011    55376.42\n",
      "Name: TotalPay, dtype: float64\n"
     ]
    }
   ],
   "source": [
    "print('Медиана по зп:\\n','полиция',df_d.groupby(['Year'])['TotalPay'].median());\n",
    "print('\\n','пожарные',df_df.groupby(['Year'])['TotalPay'].median());\n",
    "print('\\n','медицина',df_dfm.groupby(['Year'])['TotalPay'].median());"
   ]
  },
  {
   "cell_type": "code",
   "execution_count": null,
   "metadata": {},
   "outputs": [],
   "source": []
  },
  {
   "cell_type": "code",
   "execution_count": null,
   "metadata": {},
   "outputs": [],
   "source": [
    "#Как распределяются базовая оплата, сверхурочная работа и льготы между разными группами?"
   ]
  },
  {
   "cell_type": "code",
   "execution_count": 86,
   "metadata": {},
   "outputs": [
    {
     "name": "stdout",
     "output_type": "stream",
     "text": [
      "базовая оплата\n",
      " полиция 1        155966\n",
      "2        212739\n",
      "11        99722\n",
      "15       198778\n",
      "25       256470\n",
      "          ...  \n",
      "35131    1006.4\n",
      "35151         0\n",
      "35318         0\n",
      "35671         0\n",
      "35902         0\n",
      "Name: BasePay, Length: 2512, dtype: object \n",
      " пожарные 17       140547\n",
      "19       257511\n",
      "20       257510\n",
      "21       257510\n",
      "36       245124\n",
      "          ...  \n",
      "35392         0\n",
      "35597         0\n",
      "35732     516.4\n",
      "35764         0\n",
      "36115         0\n",
      "Name: BasePay, Length: 431, dtype: object \n",
      " медицина 17       140547\n",
      "19       257511\n",
      "20       257510\n",
      "21       257510\n",
      "36       245124\n",
      "          ...  \n",
      "35392         0\n",
      "35597         0\n",
      "35732     516.4\n",
      "35764         0\n",
      "36115         0\n",
      "Name: BasePay, Length: 431, dtype: object\n",
      "\n",
      " пожарные Year\n",
      "2011    55376.42\n",
      "Name: TotalPay, dtype: float64\n",
      "\n",
      " медицина Year\n",
      "2011    55376.42\n",
      "Name: TotalPay, dtype: float64\n",
      "Среднее значение по зп:\n",
      " полиция Year\n",
      "2011    127177.465\n",
      "Name: TotalPay, dtype: float64\n",
      "\n",
      " пожарные Year\n",
      "2011    55376.42\n",
      "Name: TotalPay, dtype: float64\n",
      "\n",
      " медицина Year\n",
      "2011    55376.42\n",
      "Name: TotalPay, dtype: float64\n",
      "Среднее значение по зп:\n",
      " полиция Year\n",
      "2011    127177.465\n",
      "Name: TotalPay, dtype: float64\n",
      "\n",
      " пожарные Year\n",
      "2011    55376.42\n",
      "Name: TotalPay, dtype: float64\n",
      "\n",
      " медицина Year\n",
      "2011    55376.42\n",
      "Name: TotalPay, dtype: float64\n"
     ]
    }
   ],
   "source": [
    "print('базовая оплата\\n','полиция',df_d.BasePay,'\\n','пожарные',df_df.BasePay,'\\n','медицина',df_dfm.BasePay)\n",
    "      \n",
    "print('\\n','пожарные',df_df.groupby(['Year'])['TotalPay'].median());\n",
    "print('\\n','медицина',df_dfm.groupby(['Year'])['TotalPay'].median());\n",
    "\n",
    "print('Среднее значение по зп:\\n','полиция',df_d.groupby(['Year'])['TotalPay'].median());\n",
    "print('\\n','пожарные',df_df.groupby(['Year'])['TotalPay'].median());\n",
    "print('\\n','медицина',df_dfm.groupby(['Year'])['TotalPay'].median());\n",
    "\n",
    "print('Среднее значение по зп:\\n','полиция',df_d.groupby(['Year'])['TotalPay'].median());\n",
    "print('\\n','пожарные',df_df.groupby(['Year'])['TotalPay'].median());\n",
    "print('\\n','медицина',df_dfm.groupby(['Year'])['TotalPay'].median());"
   ]
  },
  {
   "cell_type": "code",
   "execution_count": 12,
   "metadata": {
    "scrolled": true
   },
   "outputs": [
    {
     "ename": "KeyError",
     "evalue": "'GENERAL MANAGER-METROPOLITAN TRANSIT AUTHORITY'",
     "output_type": "error",
     "traceback": [
      "\u001b[1;31m---------------------------------------------------------------------------\u001b[0m",
      "\u001b[1;31mKeyError\u001b[0m                                  Traceback (most recent call last)",
      "\u001b[1;32m<ipython-input-12-de241311629a>\u001b[0m in \u001b[0;36m<module>\u001b[1;34m\u001b[0m\n\u001b[0;32m      1\u001b[0m \u001b[0mkol\u001b[0m\u001b[1;33m=\u001b[0m\u001b[1;36m0\u001b[0m\u001b[1;33m\u001b[0m\u001b[1;33m\u001b[0m\u001b[0m\n\u001b[0;32m      2\u001b[0m \u001b[1;32mfor\u001b[0m \u001b[0mkol\u001b[0m \u001b[1;32min\u001b[0m \u001b[0mdf\u001b[0m\u001b[1;33m.\u001b[0m\u001b[0mJobTitle\u001b[0m\u001b[1;33m:\u001b[0m\u001b[1;33m\u001b[0m\u001b[1;33m\u001b[0m\u001b[0m\n\u001b[1;32m----> 3\u001b[1;33m     \u001b[0mk\u001b[0m\u001b[1;33m=\u001b[0m\u001b[0mdf\u001b[0m\u001b[1;33m.\u001b[0m\u001b[0mJobTitle\u001b[0m\u001b[1;33m[\u001b[0m\u001b[0mkol\u001b[0m\u001b[1;33m]\u001b[0m\u001b[1;33m\u001b[0m\u001b[1;33m\u001b[0m\u001b[0m\n\u001b[0m\u001b[0;32m      4\u001b[0m     \u001b[0mprint\u001b[0m\u001b[1;33m(\u001b[0m\u001b[0mk\u001b[0m\u001b[1;33m)\u001b[0m\u001b[1;33m\u001b[0m\u001b[1;33m\u001b[0m\u001b[0m\n\u001b[0;32m      5\u001b[0m \u001b[1;33m\u001b[0m\u001b[0m\n",
      "\u001b[1;32m~\\anaconda3\\lib\\site-packages\\pandas\\core\\series.py\u001b[0m in \u001b[0;36m__getitem__\u001b[1;34m(self, key)\u001b[0m\n\u001b[0;32m    869\u001b[0m         \u001b[0mkey\u001b[0m \u001b[1;33m=\u001b[0m \u001b[0mcom\u001b[0m\u001b[1;33m.\u001b[0m\u001b[0mapply_if_callable\u001b[0m\u001b[1;33m(\u001b[0m\u001b[0mkey\u001b[0m\u001b[1;33m,\u001b[0m \u001b[0mself\u001b[0m\u001b[1;33m)\u001b[0m\u001b[1;33m\u001b[0m\u001b[1;33m\u001b[0m\u001b[0m\n\u001b[0;32m    870\u001b[0m         \u001b[1;32mtry\u001b[0m\u001b[1;33m:\u001b[0m\u001b[1;33m\u001b[0m\u001b[1;33m\u001b[0m\u001b[0m\n\u001b[1;32m--> 871\u001b[1;33m             \u001b[0mresult\u001b[0m \u001b[1;33m=\u001b[0m \u001b[0mself\u001b[0m\u001b[1;33m.\u001b[0m\u001b[0mindex\u001b[0m\u001b[1;33m.\u001b[0m\u001b[0mget_value\u001b[0m\u001b[1;33m(\u001b[0m\u001b[0mself\u001b[0m\u001b[1;33m,\u001b[0m \u001b[0mkey\u001b[0m\u001b[1;33m)\u001b[0m\u001b[1;33m\u001b[0m\u001b[1;33m\u001b[0m\u001b[0m\n\u001b[0m\u001b[0;32m    872\u001b[0m \u001b[1;33m\u001b[0m\u001b[0m\n\u001b[0;32m    873\u001b[0m             \u001b[1;32mif\u001b[0m \u001b[1;32mnot\u001b[0m \u001b[0mis_scalar\u001b[0m\u001b[1;33m(\u001b[0m\u001b[0mresult\u001b[0m\u001b[1;33m)\u001b[0m\u001b[1;33m:\u001b[0m\u001b[1;33m\u001b[0m\u001b[1;33m\u001b[0m\u001b[0m\n",
      "\u001b[1;32m~\\anaconda3\\lib\\site-packages\\pandas\\core\\indexes\\base.py\u001b[0m in \u001b[0;36mget_value\u001b[1;34m(self, series, key)\u001b[0m\n\u001b[0;32m   4403\u001b[0m         \u001b[0mk\u001b[0m \u001b[1;33m=\u001b[0m \u001b[0mself\u001b[0m\u001b[1;33m.\u001b[0m\u001b[0m_convert_scalar_indexer\u001b[0m\u001b[1;33m(\u001b[0m\u001b[0mk\u001b[0m\u001b[1;33m,\u001b[0m \u001b[0mkind\u001b[0m\u001b[1;33m=\u001b[0m\u001b[1;34m\"getitem\"\u001b[0m\u001b[1;33m)\u001b[0m\u001b[1;33m\u001b[0m\u001b[1;33m\u001b[0m\u001b[0m\n\u001b[0;32m   4404\u001b[0m         \u001b[1;32mtry\u001b[0m\u001b[1;33m:\u001b[0m\u001b[1;33m\u001b[0m\u001b[1;33m\u001b[0m\u001b[0m\n\u001b[1;32m-> 4405\u001b[1;33m             \u001b[1;32mreturn\u001b[0m \u001b[0mself\u001b[0m\u001b[1;33m.\u001b[0m\u001b[0m_engine\u001b[0m\u001b[1;33m.\u001b[0m\u001b[0mget_value\u001b[0m\u001b[1;33m(\u001b[0m\u001b[0ms\u001b[0m\u001b[1;33m,\u001b[0m \u001b[0mk\u001b[0m\u001b[1;33m,\u001b[0m \u001b[0mtz\u001b[0m\u001b[1;33m=\u001b[0m\u001b[0mgetattr\u001b[0m\u001b[1;33m(\u001b[0m\u001b[0mseries\u001b[0m\u001b[1;33m.\u001b[0m\u001b[0mdtype\u001b[0m\u001b[1;33m,\u001b[0m \u001b[1;34m\"tz\"\u001b[0m\u001b[1;33m,\u001b[0m \u001b[1;32mNone\u001b[0m\u001b[1;33m)\u001b[0m\u001b[1;33m)\u001b[0m\u001b[1;33m\u001b[0m\u001b[1;33m\u001b[0m\u001b[0m\n\u001b[0m\u001b[0;32m   4406\u001b[0m         \u001b[1;32mexcept\u001b[0m \u001b[0mKeyError\u001b[0m \u001b[1;32mas\u001b[0m \u001b[0me1\u001b[0m\u001b[1;33m:\u001b[0m\u001b[1;33m\u001b[0m\u001b[1;33m\u001b[0m\u001b[0m\n\u001b[0;32m   4407\u001b[0m             \u001b[1;32mif\u001b[0m \u001b[0mlen\u001b[0m\u001b[1;33m(\u001b[0m\u001b[0mself\u001b[0m\u001b[1;33m)\u001b[0m \u001b[1;33m>\u001b[0m \u001b[1;36m0\u001b[0m \u001b[1;32mand\u001b[0m \u001b[1;33m(\u001b[0m\u001b[0mself\u001b[0m\u001b[1;33m.\u001b[0m\u001b[0mholds_integer\u001b[0m\u001b[1;33m(\u001b[0m\u001b[1;33m)\u001b[0m \u001b[1;32mor\u001b[0m \u001b[0mself\u001b[0m\u001b[1;33m.\u001b[0m\u001b[0mis_boolean\u001b[0m\u001b[1;33m(\u001b[0m\u001b[1;33m)\u001b[0m\u001b[1;33m)\u001b[0m\u001b[1;33m:\u001b[0m\u001b[1;33m\u001b[0m\u001b[1;33m\u001b[0m\u001b[0m\n",
      "\u001b[1;32mpandas\\_libs\\index.pyx\u001b[0m in \u001b[0;36mpandas._libs.index.IndexEngine.get_value\u001b[1;34m()\u001b[0m\n",
      "\u001b[1;32mpandas\\_libs\\index.pyx\u001b[0m in \u001b[0;36mpandas._libs.index.IndexEngine.get_value\u001b[1;34m()\u001b[0m\n",
      "\u001b[1;32mpandas\\_libs\\index.pyx\u001b[0m in \u001b[0;36mpandas._libs.index.IndexEngine.get_loc\u001b[1;34m()\u001b[0m\n",
      "\u001b[1;32mpandas\\_libs\\index_class_helper.pxi\u001b[0m in \u001b[0;36mpandas._libs.index.Int64Engine._check_type\u001b[1;34m()\u001b[0m\n",
      "\u001b[1;31mKeyError\u001b[0m: 'GENERAL MANAGER-METROPOLITAN TRANSIT AUTHORITY'"
     ]
    }
   ],
   "source": [
    "kol=0\n",
    "for kol in df.JobTitle:\n",
    "    k=df.JobTitle[kol]\n",
    "    print(k)\n",
    "\n",
    "      #url = f'https://api.hh.ru/vacancies?employer_id={sber}&page={page}&per_page={num_per_page}&area={113}'\n",
    "    #res = requests.get(url)\n",
    "    #vacancies = res.json()\n",
    "    snippet_r = ['DEPARTMENT' for el in df.JobTitle] \n",
    "    #snippet_r = [el.get('snippet') for el in vacancies.get('items')] \n",
    "    #for elem in snippet_r:\n",
    "     #   df1=elem.get('requirement')\n",
    "     #   df2=elem.get('responsibility')\n",
    "    \n",
    "\n",
    "#l = df['JobTitle'].str.contains(\"POLICE\").values()#.str.rfind(\"POLICE\") #.upper()\n",
    "#l\n",
    "#print(l)\n",
    "#sub=['%DEPARTMENT%']\n",
    "#long_df[\"Indexes\"] = l.str.rfind(sub)\n",
    "#k= pd.to_numeric(long_df[\"Indexes\"])\n",
    "#print(k)\n",
    "#sd=df[df['JobTitle'].isin(sub)]\n",
    "\n",
    "#zips = ['3012\\d+','152193']\n",
    "#pat = r'\\b(?:{})\\b'.format('|'.join(sub))\n",
    "\n",
    "#sd=df[df['JobTitle'].str.contains(pat)]\n",
    "\n",
    "\n",
    "#if any(df['JobTitle'] in 'DEPARTMENT' for df['JobTitle'] in df):\n",
    "\n",
    "#if k!=1:\n",
    "#    long_df = pd.melt(df, var_name='Item', value_name='Sales',id_vars=['JobTitle', 'BasePay','TotalPay', 'OvertimePay', 'Year', 'Status'])\n",
    "    \n",
    "\n",
    "#sd\n",
    "\n",
    "#print(k1)\n",
    "\n",
    "\n",
    "#if JobTitle=='DEPARTMENT'\n",
    "\n",
    "#long_df = pd.melt(df, var_name='Item', value_name='Sales',\n",
    "#            id_vars=['age', 'gender','ml_balance', 'cl_balance_0m', 'td_balance_0m', 'casa_balance_0m', 'nbi'])\n",
    "#long_df.shape         \n",
    "#long_df.sample(n=5) "
   ]
  },
  {
   "cell_type": "code",
   "execution_count": null,
   "metadata": {},
   "outputs": [],
   "source": [
    "data.dropna(inplace = True) # удаление столбцов нулевого значения\n",
    "\n",
    "# из поля вытаскиваем строки\n",
    "skil=weq.get('skils')\n",
    "weq['skils']=[','.join([y.get('name') for y in x]) for x in skil]\n",
    "tabl_new =pd.DataFrame(weq)\n",
    "tabl_new"
   ]
  },
  {
   "cell_type": "code",
   "execution_count": 22,
   "metadata": {
    "scrolled": true
   },
   "outputs": [
    {
     "data": {
      "text/plain": [
       "JobTitle\n",
       "ACCOUNT CLERK                                         3654960.14\n",
       "ACCOUNTANT                                             237146.34\n",
       "ACCOUNTANT INTERN                                     1393523.66\n",
       "ACPO,JuvP, Juv Prob (SFERS)                             62290.78\n",
       "ACUPUNCTURIST                                           67594.40\n",
       "ADMINISTRATIVE ANALYST                                5947802.68\n",
       "ADMINISTRATIVE ANALYST II                              122994.07\n",
       "ADMINISTRATIVE ANALYST III                             185397.03\n",
       "ADMINISTRATIVE ENGINEER                               1279614.30\n",
       "ADMINISTRATIVE SERVICES MANAGER                        231046.74\n",
       "ADMINISTRATOR, SFGH MEDICAL CENTER                     257124.44\n",
       "AFFIRMATIVE ACTION SPECIALIST                          409283.90\n",
       "AGRICULTURAL INSPECTOR                                 107172.20\n",
       "AIRPORT ASSISTANT DEPUTY DIRECTOR, BUSINESS ADMINI       1927.50\n",
       "AIRPORT ASSISTANT DEPUTY DIRECTOR, OPERATIONS           15420.00\n",
       "AIRPORT COMMUNICATIONS OPERATOR                       2192799.86\n",
       "AIRPORT COMMUNICATIONS SUPERVISOR                      176360.00\n",
       "AIRPORT ECONOMIC PLANNER                              1407442.68\n",
       "AIRPORT ELECTRICIAN                                   1848033.08\n",
       "AIRPORT ELECTRICIAN SUPERVISOR                         234177.52\n",
       "Name: TotalPay, dtype: float64"
      ]
     },
     "execution_count": 22,
     "metadata": {},
     "output_type": "execute_result"
    }
   ],
   "source": [
    "JobTitle_by=df.groupby('JobTitle')['TotalPay'].sum() #  групировка по должностям, \n",
    "JobTitle_by.head(20)"
   ]
  },
  {
   "cell_type": "code",
   "execution_count": 12,
   "metadata": {},
   "outputs": [
    {
     "data": {
      "text/plain": [
       "0         GENERAL MANAGER-METROPOLITAN TRANSIT AUTHORITY\n",
       "1                        CAPTAIN III (POLICE DEPARTMENT)\n",
       "2                        CAPTAIN III (POLICE DEPARTMENT)\n",
       "3                   WIRE ROPE CABLE MAINTENANCE MECHANIC\n",
       "4           DEPUTY CHIEF OF DEPARTMENT,(FIRE DEPARTMENT)\n",
       "                               ...                      \n",
       "148649                                         Custodian\n",
       "148650                                      Not provided\n",
       "148651                                      Not provided\n",
       "148652                                      Not provided\n",
       "148653                        Counselor, Log Cabin Ranch\n",
       "Name: JobTitle, Length: 148654, dtype: object"
      ]
     },
     "execution_count": 12,
     "metadata": {},
     "output_type": "execute_result"
    }
   ],
   "source": [
    "df['JobTitle']"
   ]
  },
  {
   "cell_type": "code",
   "execution_count": null,
   "metadata": {},
   "outputs": [],
   "source": []
  }
 ],
 "metadata": {
  "kernelspec": {
   "display_name": "Python 3",
   "language": "python",
   "name": "python3"
  },
  "language_info": {
   "codemirror_mode": {
    "name": "ipython",
    "version": 3
   },
   "file_extension": ".py",
   "mimetype": "text/x-python",
   "name": "python",
   "nbconvert_exporter": "python",
   "pygments_lexer": "ipython3",
   "version": "3.7.6"
  }
 },
 "nbformat": 4,
 "nbformat_minor": 4
}
