{
 "cells": [
  {
   "cell_type": "markdown",
   "metadata": {},
   "source": [
    "# курсовая работа"
   ]
  },
  {
   "cell_type": "markdown",
   "metadata": {},
   "source": [
    "Зарплаты в San Francisco\n",
    "https://www.kaggle.com/kaggle/sf-salaries?select=Salaries.csv \n",
    "\n",
    "задача:\n",
    "Как со временем менялись зарплаты между разными группами (группировка по Department - fire, medicine, police)? \n",
    "(максимальная, медианная, средняя)\n",
    "Как распределяются базовая оплата, сверхурочная работа и льготы между разными группами? Нужно построить диаграммы по распределению со временем для каждого департамента по базовым, сверхурочным и льготам\n",
    "Как распределяется бюджет на разные группы (department) с течением времени?\n",
    "Какое количество людей в каждом департаменте? \n",
    "Какое количество с разным уровнем дохода? (гистограмма с шагом в 5к) \n",
    "На базе линейной регрессии постройте прогноз по тому, какие будут закупки на следующий год по каждому департаменту\n"
   ]
  },
  {
   "cell_type": "markdown",
   "metadata": {},
   "source": [
    "Цель моей работы провести анализ путем выбора инструмента зарплат сотрудников различных департаметов. \n",
    "Наглядно продемонстрировать и показать на графиках, в таблицах в коэффициэнтах.\n",
    "-Рассмотерть базовую сумму- - оклад, по ряду позиций.\n",
    "-Динамику изменения зарплаты по разным категориям в сравнении с предыдущими периодами\n",
    "-политику организаций в области льгот\n",
    "-провести анализ по должности за разные периоды\n",
    "\n",
    "Для анализа используются величины:\n",
    "- медиана - значение зп, расположенное в середине изучаемого массива, упорядоченное по возрастанию\n",
    "(актуально использовать т.к не чувствительна к влиянию экстремальных значений)\n",
    "- ниже рынка- значение, ниже которого в упорядоченном по возрастанию массиве находится четверть (25%) данных по зарплатам.\n",
    "- выше рынка -  значение, выше которого в упорядоченном по возрастанию массиве находится четверть (25%) данных о зп.\n",
    "- Среднее арифметическое -  сумма всех значений, деленная на количество заработных плат (при использовании стоит учитывать, \n",
    "что данная величина довольно чувствительна к влиянию экстремальных значений (слишком малые и слишком большие зарплаты), \n",
    "поэтому ориентироваться на данный показатель в случае большого разброса данных не стоит.\n",
    "\n"
   ]
  },
  {
   "cell_type": "code",
   "execution_count": 737,
   "metadata": {},
   "outputs": [],
   "source": [
    "import pandas as pd\n",
    "import numpy as np\n",
    "import matplotlib.pyplot as plt\n",
    "import scipy.stats as sts\n",
    "import math\n",
    "%matplotlib inline\n",
    "\n",
    "from scipy.stats import cosine\n",
    "#import csv\n",
    "#import sys\n",
    "\n",
    "import requests\n",
    "\n",
    "import seaborn as sns\n",
    "from scipy import stats"
   ]
  },
  {
   "cell_type": "code",
   "execution_count": 738,
   "metadata": {
    "scrolled": true
   },
   "outputs": [
    {
     "name": "stderr",
     "output_type": "stream",
     "text": [
      "C:\\Users\\user\\anaconda3\\lib\\site-packages\\IPython\\core\\interactiveshell.py:3063: DtypeWarning:\n",
      "\n",
      "Columns (3,4,5,6,12) have mixed types.Specify dtype option on import or set low_memory=False.\n",
      "\n"
     ]
    },
    {
     "data": {
      "text/html": [
       "<div>\n",
       "<style scoped>\n",
       "    .dataframe tbody tr th:only-of-type {\n",
       "        vertical-align: middle;\n",
       "    }\n",
       "\n",
       "    .dataframe tbody tr th {\n",
       "        vertical-align: top;\n",
       "    }\n",
       "\n",
       "    .dataframe thead th {\n",
       "        text-align: right;\n",
       "    }\n",
       "</style>\n",
       "<table border=\"1\" class=\"dataframe\">\n",
       "  <thead>\n",
       "    <tr style=\"text-align: right;\">\n",
       "      <th></th>\n",
       "      <th>Id</th>\n",
       "      <th>EmployeeName</th>\n",
       "      <th>JobTitle</th>\n",
       "      <th>BasePay</th>\n",
       "      <th>OvertimePay</th>\n",
       "      <th>OtherPay</th>\n",
       "      <th>Benefits</th>\n",
       "      <th>TotalPay</th>\n",
       "      <th>TotalPayBenefits</th>\n",
       "      <th>Year</th>\n",
       "      <th>Notes</th>\n",
       "      <th>Agency</th>\n",
       "      <th>Status</th>\n",
       "    </tr>\n",
       "  </thead>\n",
       "  <tbody>\n",
       "    <tr>\n",
       "      <th>0</th>\n",
       "      <td>1</td>\n",
       "      <td>NATHANIEL FORD</td>\n",
       "      <td>GENERAL MANAGER-METROPOLITAN TRANSIT AUTHORITY</td>\n",
       "      <td>167,411.2</td>\n",
       "      <td>0.0</td>\n",
       "      <td>400,184.2</td>\n",
       "      <td>NaN</td>\n",
       "      <td>567,595.4</td>\n",
       "      <td>567,595.4</td>\n",
       "      <td>2011</td>\n",
       "      <td>nan</td>\n",
       "      <td>San Francisco</td>\n",
       "      <td>NaN</td>\n",
       "    </tr>\n",
       "    <tr>\n",
       "      <th>1</th>\n",
       "      <td>2</td>\n",
       "      <td>GARY JIMENEZ</td>\n",
       "      <td>CAPTAIN III (POLICE DEPARTMENT)</td>\n",
       "      <td>155,966.0</td>\n",
       "      <td>245,131.9</td>\n",
       "      <td>137,811.4</td>\n",
       "      <td>NaN</td>\n",
       "      <td>538,909.3</td>\n",
       "      <td>538,909.3</td>\n",
       "      <td>2011</td>\n",
       "      <td>nan</td>\n",
       "      <td>San Francisco</td>\n",
       "      <td>NaN</td>\n",
       "    </tr>\n",
       "    <tr>\n",
       "      <th>2</th>\n",
       "      <td>3</td>\n",
       "      <td>ALBERT PARDINI</td>\n",
       "      <td>CAPTAIN III (POLICE DEPARTMENT)</td>\n",
       "      <td>212,739.1</td>\n",
       "      <td>106,088.2</td>\n",
       "      <td>16,452.6</td>\n",
       "      <td>NaN</td>\n",
       "      <td>335,279.9</td>\n",
       "      <td>335,279.9</td>\n",
       "      <td>2011</td>\n",
       "      <td>nan</td>\n",
       "      <td>San Francisco</td>\n",
       "      <td>NaN</td>\n",
       "    </tr>\n",
       "    <tr>\n",
       "      <th>3</th>\n",
       "      <td>4</td>\n",
       "      <td>CHRISTOPHER CHONG</td>\n",
       "      <td>WIRE ROPE CABLE MAINTENANCE MECHANIC</td>\n",
       "      <td>77,916.0</td>\n",
       "      <td>56,120.7</td>\n",
       "      <td>198,306.9</td>\n",
       "      <td>NaN</td>\n",
       "      <td>332,343.6</td>\n",
       "      <td>332,343.6</td>\n",
       "      <td>2011</td>\n",
       "      <td>nan</td>\n",
       "      <td>San Francisco</td>\n",
       "      <td>NaN</td>\n",
       "    </tr>\n",
       "    <tr>\n",
       "      <th>4</th>\n",
       "      <td>5</td>\n",
       "      <td>PATRICK GARDNER</td>\n",
       "      <td>DEPUTY CHIEF OF DEPARTMENT,(FIRE DEPARTMENT)</td>\n",
       "      <td>134,401.6</td>\n",
       "      <td>9,737.0</td>\n",
       "      <td>182,234.6</td>\n",
       "      <td>NaN</td>\n",
       "      <td>326,373.2</td>\n",
       "      <td>326,373.2</td>\n",
       "      <td>2011</td>\n",
       "      <td>nan</td>\n",
       "      <td>San Francisco</td>\n",
       "      <td>NaN</td>\n",
       "    </tr>\n",
       "    <tr>\n",
       "      <th>5</th>\n",
       "      <td>6</td>\n",
       "      <td>DAVID SULLIVAN</td>\n",
       "      <td>ASSISTANT DEPUTY CHIEF II</td>\n",
       "      <td>118,602.0</td>\n",
       "      <td>8,601.0</td>\n",
       "      <td>189,082.7</td>\n",
       "      <td>NaN</td>\n",
       "      <td>316,285.7</td>\n",
       "      <td>316,285.7</td>\n",
       "      <td>2011</td>\n",
       "      <td>nan</td>\n",
       "      <td>San Francisco</td>\n",
       "      <td>NaN</td>\n",
       "    </tr>\n",
       "    <tr>\n",
       "      <th>6</th>\n",
       "      <td>7</td>\n",
       "      <td>ALSON LEE</td>\n",
       "      <td>BATTALION CHIEF, (FIRE DEPARTMENT)</td>\n",
       "      <td>92,492.0</td>\n",
       "      <td>89,062.9</td>\n",
       "      <td>134,426.1</td>\n",
       "      <td>NaN</td>\n",
       "      <td>315,981.0</td>\n",
       "      <td>315,981.0</td>\n",
       "      <td>2011</td>\n",
       "      <td>nan</td>\n",
       "      <td>San Francisco</td>\n",
       "      <td>NaN</td>\n",
       "    </tr>\n",
       "    <tr>\n",
       "      <th>7</th>\n",
       "      <td>8</td>\n",
       "      <td>DAVID KUSHNER</td>\n",
       "      <td>DEPUTY DIRECTOR OF INVESTMENTS</td>\n",
       "      <td>256,577.0</td>\n",
       "      <td>0.0</td>\n",
       "      <td>51,322.5</td>\n",
       "      <td>NaN</td>\n",
       "      <td>307,899.5</td>\n",
       "      <td>307,899.5</td>\n",
       "      <td>2011</td>\n",
       "      <td>nan</td>\n",
       "      <td>San Francisco</td>\n",
       "      <td>NaN</td>\n",
       "    </tr>\n",
       "    <tr>\n",
       "      <th>8</th>\n",
       "      <td>9</td>\n",
       "      <td>MICHAEL MORRIS</td>\n",
       "      <td>BATTALION CHIEF, (FIRE DEPARTMENT)</td>\n",
       "      <td>176,932.6</td>\n",
       "      <td>86,362.7</td>\n",
       "      <td>40,132.2</td>\n",
       "      <td>NaN</td>\n",
       "      <td>303,427.5</td>\n",
       "      <td>303,427.5</td>\n",
       "      <td>2011</td>\n",
       "      <td>nan</td>\n",
       "      <td>San Francisco</td>\n",
       "      <td>NaN</td>\n",
       "    </tr>\n",
       "    <tr>\n",
       "      <th>9</th>\n",
       "      <td>10</td>\n",
       "      <td>JOANNE HAYES-WHITE</td>\n",
       "      <td>CHIEF OF DEPARTMENT, (FIRE DEPARTMENT)</td>\n",
       "      <td>285,262.0</td>\n",
       "      <td>0.0</td>\n",
       "      <td>17,115.7</td>\n",
       "      <td>NaN</td>\n",
       "      <td>302,377.7</td>\n",
       "      <td>302,377.7</td>\n",
       "      <td>2011</td>\n",
       "      <td>nan</td>\n",
       "      <td>San Francisco</td>\n",
       "      <td>NaN</td>\n",
       "    </tr>\n",
       "    <tr>\n",
       "      <th>10</th>\n",
       "      <td>11</td>\n",
       "      <td>ARTHUR KENNEY</td>\n",
       "      <td>ASSISTANT CHIEF OF DEPARTMENT, (FIRE DEPARTMENT)</td>\n",
       "      <td>194,999.4</td>\n",
       "      <td>71,344.9</td>\n",
       "      <td>33,149.9</td>\n",
       "      <td>NaN</td>\n",
       "      <td>299,494.2</td>\n",
       "      <td>299,494.2</td>\n",
       "      <td>2011</td>\n",
       "      <td>nan</td>\n",
       "      <td>San Francisco</td>\n",
       "      <td>NaN</td>\n",
       "    </tr>\n",
       "    <tr>\n",
       "      <th>11</th>\n",
       "      <td>12</td>\n",
       "      <td>PATRICIA JACKSON</td>\n",
       "      <td>CAPTAIN III (POLICE DEPARTMENT)</td>\n",
       "      <td>99,722.0</td>\n",
       "      <td>87,082.6</td>\n",
       "      <td>110,804.3</td>\n",
       "      <td>NaN</td>\n",
       "      <td>297,608.9</td>\n",
       "      <td>297,608.9</td>\n",
       "      <td>2011</td>\n",
       "      <td>nan</td>\n",
       "      <td>San Francisco</td>\n",
       "      <td>NaN</td>\n",
       "    </tr>\n",
       "    <tr>\n",
       "      <th>12</th>\n",
       "      <td>13</td>\n",
       "      <td>EDWARD HARRINGTON</td>\n",
       "      <td>EXECUTIVE CONTRACT EMPLOYEE</td>\n",
       "      <td>294,580.0</td>\n",
       "      <td>0.0</td>\n",
       "      <td>0.0</td>\n",
       "      <td>NaN</td>\n",
       "      <td>294,580.0</td>\n",
       "      <td>294,580.0</td>\n",
       "      <td>2011</td>\n",
       "      <td>nan</td>\n",
       "      <td>San Francisco</td>\n",
       "      <td>NaN</td>\n",
       "    </tr>\n",
       "    <tr>\n",
       "      <th>13</th>\n",
       "      <td>14</td>\n",
       "      <td>JOHN MARTIN</td>\n",
       "      <td>DEPARTMENT HEAD V</td>\n",
       "      <td>271,329.0</td>\n",
       "      <td>0.0</td>\n",
       "      <td>21,342.6</td>\n",
       "      <td>NaN</td>\n",
       "      <td>292,671.6</td>\n",
       "      <td>292,671.6</td>\n",
       "      <td>2011</td>\n",
       "      <td>nan</td>\n",
       "      <td>San Francisco</td>\n",
       "      <td>NaN</td>\n",
       "    </tr>\n",
       "    <tr>\n",
       "      <th>14</th>\n",
       "      <td>15</td>\n",
       "      <td>DAVID FRANKLIN</td>\n",
       "      <td>BATTALION CHIEF, (FIRE DEPARTMENT)</td>\n",
       "      <td>174,872.6</td>\n",
       "      <td>74,050.3</td>\n",
       "      <td>37,424.1</td>\n",
       "      <td>NaN</td>\n",
       "      <td>286,347.0</td>\n",
       "      <td>286,347.0</td>\n",
       "      <td>2011</td>\n",
       "      <td>nan</td>\n",
       "      <td>San Francisco</td>\n",
       "      <td>NaN</td>\n",
       "    </tr>\n",
       "  </tbody>\n",
       "</table>\n",
       "</div>"
      ],
      "text/plain": [
       "    Id        EmployeeName                                          JobTitle  \\\n",
       "0    1      NATHANIEL FORD    GENERAL MANAGER-METROPOLITAN TRANSIT AUTHORITY   \n",
       "1    2        GARY JIMENEZ                   CAPTAIN III (POLICE DEPARTMENT)   \n",
       "2    3      ALBERT PARDINI                   CAPTAIN III (POLICE DEPARTMENT)   \n",
       "3    4   CHRISTOPHER CHONG              WIRE ROPE CABLE MAINTENANCE MECHANIC   \n",
       "4    5     PATRICK GARDNER      DEPUTY CHIEF OF DEPARTMENT,(FIRE DEPARTMENT)   \n",
       "5    6      DAVID SULLIVAN                         ASSISTANT DEPUTY CHIEF II   \n",
       "6    7           ALSON LEE                BATTALION CHIEF, (FIRE DEPARTMENT)   \n",
       "7    8       DAVID KUSHNER                    DEPUTY DIRECTOR OF INVESTMENTS   \n",
       "8    9      MICHAEL MORRIS                BATTALION CHIEF, (FIRE DEPARTMENT)   \n",
       "9   10  JOANNE HAYES-WHITE            CHIEF OF DEPARTMENT, (FIRE DEPARTMENT)   \n",
       "10  11       ARTHUR KENNEY  ASSISTANT CHIEF OF DEPARTMENT, (FIRE DEPARTMENT)   \n",
       "11  12    PATRICIA JACKSON                   CAPTAIN III (POLICE DEPARTMENT)   \n",
       "12  13   EDWARD HARRINGTON                       EXECUTIVE CONTRACT EMPLOYEE   \n",
       "13  14         JOHN MARTIN                                 DEPARTMENT HEAD V   \n",
       "14  15      DAVID FRANKLIN                BATTALION CHIEF, (FIRE DEPARTMENT)   \n",
       "\n",
       "     BasePay OvertimePay  OtherPay Benefits  TotalPay  TotalPayBenefits  Year  \\\n",
       "0  167,411.2         0.0 400,184.2      NaN 567,595.4         567,595.4  2011   \n",
       "1  155,966.0   245,131.9 137,811.4      NaN 538,909.3         538,909.3  2011   \n",
       "2  212,739.1   106,088.2  16,452.6      NaN 335,279.9         335,279.9  2011   \n",
       "3   77,916.0    56,120.7 198,306.9      NaN 332,343.6         332,343.6  2011   \n",
       "4  134,401.6     9,737.0 182,234.6      NaN 326,373.2         326,373.2  2011   \n",
       "5  118,602.0     8,601.0 189,082.7      NaN 316,285.7         316,285.7  2011   \n",
       "6   92,492.0    89,062.9 134,426.1      NaN 315,981.0         315,981.0  2011   \n",
       "7  256,577.0         0.0  51,322.5      NaN 307,899.5         307,899.5  2011   \n",
       "8  176,932.6    86,362.7  40,132.2      NaN 303,427.5         303,427.5  2011   \n",
       "9  285,262.0         0.0  17,115.7      NaN 302,377.7         302,377.7  2011   \n",
       "10 194,999.4    71,344.9  33,149.9      NaN 299,494.2         299,494.2  2011   \n",
       "11  99,722.0    87,082.6 110,804.3      NaN 297,608.9         297,608.9  2011   \n",
       "12 294,580.0         0.0       0.0      NaN 294,580.0         294,580.0  2011   \n",
       "13 271,329.0         0.0  21,342.6      NaN 292,671.6         292,671.6  2011   \n",
       "14 174,872.6    74,050.3  37,424.1      NaN 286,347.0         286,347.0  2011   \n",
       "\n",
       "    Notes         Agency Status  \n",
       "0     nan  San Francisco    NaN  \n",
       "1     nan  San Francisco    NaN  \n",
       "2     nan  San Francisco    NaN  \n",
       "3     nan  San Francisco    NaN  \n",
       "4     nan  San Francisco    NaN  \n",
       "5     nan  San Francisco    NaN  \n",
       "6     nan  San Francisco    NaN  \n",
       "7     nan  San Francisco    NaN  \n",
       "8     nan  San Francisco    NaN  \n",
       "9     nan  San Francisco    NaN  \n",
       "10    nan  San Francisco    NaN  \n",
       "11    nan  San Francisco    NaN  \n",
       "12    nan  San Francisco    NaN  \n",
       "13    nan  San Francisco    NaN  \n",
       "14    nan  San Francisco    NaN  "
      ]
     },
     "execution_count": 738,
     "metadata": {},
     "output_type": "execute_result"
    }
   ],
   "source": [
    "#df = list(csv.DictReader(open('Salaries.csv', encoding='utf-8', newline='')))  #telecom_churn.csv\n",
    "#url = f'https://drive.google.com/file/d/1X_drKqoarnU2Sz2har7uSCsgyhh8Xtz8/view?usp=sharing/telecom_churn.csv'\n",
    "#url=f'https://www.kaggle.com/kaggle/sf-salaries?select=Salaries.csv'\n",
    "df = pd.read_csv('Salaries.csv')\n",
    "df.head(15)\n"
   ]
  },
  {
   "cell_type": "code",
   "execution_count": 596,
   "metadata": {
    "scrolled": true
   },
   "outputs": [
    {
     "data": {
      "text/plain": [
       "(148654, 13)"
      ]
     },
     "execution_count": 596,
     "metadata": {},
     "output_type": "execute_result"
    }
   ],
   "source": [
    "df.shape  # количество элементов (строк, столбцов)"
   ]
  },
  {
   "cell_type": "markdown",
   "metadata": {},
   "source": [
    "# проведем анализ нужных нам параметров находящихся в файле"
   ]
  },
  {
   "cell_type": "code",
   "execution_count": 739,
   "metadata": {},
   "outputs": [],
   "source": [
    "#сделаем корректировку поля Status и переведем в 1 и 0\n",
    "def check_Status(df):\n",
    "    if df.Status=='FT':  #part time  частичный рабочий день\n",
    "        return 1\n",
    "    if df.Status=='PT':  #full time полный рабочий день\n",
    "        return 0"
   ]
  },
  {
   "cell_type": "code",
   "execution_count": 740,
   "metadata": {
    "scrolled": true
   },
   "outputs": [],
   "source": [
    "df['Status'] = df.apply(check_Status,axis=1) # заменила на 0 или 1 и внесла в основной файл"
   ]
  },
  {
   "cell_type": "code",
   "execution_count": 489,
   "metadata": {
    "scrolled": false
   },
   "outputs": [
    {
     "data": {
      "text/plain": [
       "Id                       0\n",
       "EmployeeName             0\n",
       "JobTitle                 0\n",
       "BasePay                605\n",
       "OvertimePay              0\n",
       "OtherPay                 0\n",
       "Benefits             36159\n",
       "TotalPay                 0\n",
       "TotalPayBenefits         0\n",
       "Year                     0\n",
       "Notes               148654\n",
       "Agency                   0\n",
       "Status              110535\n",
       "dtype: int64"
      ]
     },
     "execution_count": 489,
     "metadata": {},
     "output_type": "execute_result"
    }
   ],
   "source": [
    "df.isna().sum()  # проверяем на наличие NaN в общей базе"
   ]
  },
  {
   "cell_type": "code",
   "execution_count": null,
   "metadata": {},
   "outputs": [],
   "source": []
  },
  {
   "cell_type": "code",
   "execution_count": 314,
   "metadata": {
    "scrolled": true
   },
   "outputs": [
    {
     "data": {
      "text/html": [
       "<div>\n",
       "<style scoped>\n",
       "    .dataframe tbody tr th:only-of-type {\n",
       "        vertical-align: middle;\n",
       "    }\n",
       "\n",
       "    .dataframe tbody tr th {\n",
       "        vertical-align: top;\n",
       "    }\n",
       "\n",
       "    .dataframe thead th {\n",
       "        text-align: right;\n",
       "    }\n",
       "</style>\n",
       "<table border=\"1\" class=\"dataframe\">\n",
       "  <thead>\n",
       "    <tr style=\"text-align: right;\">\n",
       "      <th></th>\n",
       "      <th>Id</th>\n",
       "      <th>EmployeeName</th>\n",
       "      <th>JobTitle</th>\n",
       "      <th>BasePay</th>\n",
       "      <th>OvertimePay</th>\n",
       "      <th>OtherPay</th>\n",
       "      <th>Benefits</th>\n",
       "      <th>TotalPay</th>\n",
       "      <th>TotalPayBenefits</th>\n",
       "      <th>Year</th>\n",
       "      <th>Notes</th>\n",
       "      <th>Agency</th>\n",
       "      <th>Status</th>\n",
       "    </tr>\n",
       "  </thead>\n",
       "  <tbody>\n",
       "    <tr>\n",
       "      <th>81391</th>\n",
       "      <td>81392</td>\n",
       "      <td>Kevin P Cashman</td>\n",
       "      <td>Deputy Chief 3</td>\n",
       "      <td>NaN</td>\n",
       "      <td>0.0</td>\n",
       "      <td>149,934.1</td>\n",
       "      <td>0.0</td>\n",
       "      <td>149,934.1</td>\n",
       "      <td>149,934.1</td>\n",
       "      <td>2013</td>\n",
       "      <td>nan</td>\n",
       "      <td>San Francisco</td>\n",
       "      <td>nan</td>\n",
       "    </tr>\n",
       "    <tr>\n",
       "      <th>84506</th>\n",
       "      <td>84507</td>\n",
       "      <td>Demetrya  Mullens</td>\n",
       "      <td>Licensed Vocational Nurse</td>\n",
       "      <td>NaN</td>\n",
       "      <td>0.0</td>\n",
       "      <td>110,485.4</td>\n",
       "      <td>20,779.0</td>\n",
       "      <td>110,485.4</td>\n",
       "      <td>131,264.4</td>\n",
       "      <td>2013</td>\n",
       "      <td>nan</td>\n",
       "      <td>San Francisco</td>\n",
       "      <td>nan</td>\n",
       "    </tr>\n",
       "    <tr>\n",
       "      <th>84960</th>\n",
       "      <td>84961</td>\n",
       "      <td>Michael M Horan</td>\n",
       "      <td>Park Patrol Officer</td>\n",
       "      <td>NaN</td>\n",
       "      <td>0.0</td>\n",
       "      <td>120,000.0</td>\n",
       "      <td>8,841.5</td>\n",
       "      <td>120,000.0</td>\n",
       "      <td>128,841.5</td>\n",
       "      <td>2013</td>\n",
       "      <td>nan</td>\n",
       "      <td>San Francisco</td>\n",
       "      <td>nan</td>\n",
       "    </tr>\n",
       "    <tr>\n",
       "      <th>90525</th>\n",
       "      <td>90526</td>\n",
       "      <td>Thomas  Tang</td>\n",
       "      <td>Police Officer 3</td>\n",
       "      <td>NaN</td>\n",
       "      <td>0.0</td>\n",
       "      <td>106,079.3</td>\n",
       "      <td>0.0</td>\n",
       "      <td>106,079.3</td>\n",
       "      <td>106,079.3</td>\n",
       "      <td>2013</td>\n",
       "      <td>nan</td>\n",
       "      <td>San Francisco</td>\n",
       "      <td>nan</td>\n",
       "    </tr>\n",
       "    <tr>\n",
       "      <th>90786</th>\n",
       "      <td>90787</td>\n",
       "      <td>Michael C Hill</td>\n",
       "      <td>Deputy Sheriff</td>\n",
       "      <td>NaN</td>\n",
       "      <td>0.0</td>\n",
       "      <td>81,299.0</td>\n",
       "      <td>23,877.5</td>\n",
       "      <td>81,299.0</td>\n",
       "      <td>105,176.6</td>\n",
       "      <td>2013</td>\n",
       "      <td>nan</td>\n",
       "      <td>San Francisco</td>\n",
       "      <td>nan</td>\n",
       "    </tr>\n",
       "    <tr>\n",
       "      <th>...</th>\n",
       "      <td>...</td>\n",
       "      <td>...</td>\n",
       "      <td>...</td>\n",
       "      <td>...</td>\n",
       "      <td>...</td>\n",
       "      <td>...</td>\n",
       "      <td>...</td>\n",
       "      <td>...</td>\n",
       "      <td>...</td>\n",
       "      <td>...</td>\n",
       "      <td>...</td>\n",
       "      <td>...</td>\n",
       "      <td>...</td>\n",
       "    </tr>\n",
       "    <tr>\n",
       "      <th>110526</th>\n",
       "      <td>110527</td>\n",
       "      <td>Arthur L Curry</td>\n",
       "      <td>PS Aide Health Services</td>\n",
       "      <td>NaN</td>\n",
       "      <td>0.0</td>\n",
       "      <td>10.7</td>\n",
       "      <td>0.0</td>\n",
       "      <td>10.7</td>\n",
       "      <td>10.7</td>\n",
       "      <td>2013</td>\n",
       "      <td>nan</td>\n",
       "      <td>San Francisco</td>\n",
       "      <td>nan</td>\n",
       "    </tr>\n",
       "    <tr>\n",
       "      <th>110527</th>\n",
       "      <td>110528</td>\n",
       "      <td>Nereida  Vega</td>\n",
       "      <td>Senior Clerk</td>\n",
       "      <td>NaN</td>\n",
       "      <td>0.0</td>\n",
       "      <td>5.6</td>\n",
       "      <td>0.0</td>\n",
       "      <td>5.6</td>\n",
       "      <td>5.6</td>\n",
       "      <td>2013</td>\n",
       "      <td>nan</td>\n",
       "      <td>San Francisco</td>\n",
       "      <td>nan</td>\n",
       "    </tr>\n",
       "    <tr>\n",
       "      <th>110528</th>\n",
       "      <td>110529</td>\n",
       "      <td>Timothy E Gibson</td>\n",
       "      <td>Police Officer 3</td>\n",
       "      <td>NaN</td>\n",
       "      <td>0.0</td>\n",
       "      <td>0.0</td>\n",
       "      <td>-2.7</td>\n",
       "      <td>0.0</td>\n",
       "      <td>-2.7</td>\n",
       "      <td>2013</td>\n",
       "      <td>nan</td>\n",
       "      <td>San Francisco</td>\n",
       "      <td>nan</td>\n",
       "    </tr>\n",
       "    <tr>\n",
       "      <th>110529</th>\n",
       "      <td>110530</td>\n",
       "      <td>Mark E Laherty</td>\n",
       "      <td>Police Officer 3</td>\n",
       "      <td>NaN</td>\n",
       "      <td>0.0</td>\n",
       "      <td>0.0</td>\n",
       "      <td>-8.2</td>\n",
       "      <td>0.0</td>\n",
       "      <td>-8.2</td>\n",
       "      <td>2013</td>\n",
       "      <td>nan</td>\n",
       "      <td>San Francisco</td>\n",
       "      <td>nan</td>\n",
       "    </tr>\n",
       "    <tr>\n",
       "      <th>110530</th>\n",
       "      <td>110531</td>\n",
       "      <td>David P Kucia</td>\n",
       "      <td>Police Officer 3</td>\n",
       "      <td>NaN</td>\n",
       "      <td>0.0</td>\n",
       "      <td>0.0</td>\n",
       "      <td>-33.9</td>\n",
       "      <td>0.0</td>\n",
       "      <td>-33.9</td>\n",
       "      <td>2013</td>\n",
       "      <td>nan</td>\n",
       "      <td>San Francisco</td>\n",
       "      <td>nan</td>\n",
       "    </tr>\n",
       "  </tbody>\n",
       "</table>\n",
       "<p>605 rows × 13 columns</p>\n",
       "</div>"
      ],
      "text/plain": [
       "            Id       EmployeeName                   JobTitle BasePay  \\\n",
       "81391    81392    Kevin P Cashman             Deputy Chief 3     NaN   \n",
       "84506    84507  Demetrya  Mullens  Licensed Vocational Nurse     NaN   \n",
       "84960    84961    Michael M Horan        Park Patrol Officer     NaN   \n",
       "90525    90526       Thomas  Tang           Police Officer 3     NaN   \n",
       "90786    90787     Michael C Hill             Deputy Sheriff     NaN   \n",
       "...        ...                ...                        ...     ...   \n",
       "110526  110527     Arthur L Curry    PS Aide Health Services     NaN   \n",
       "110527  110528      Nereida  Vega               Senior Clerk     NaN   \n",
       "110528  110529   Timothy E Gibson           Police Officer 3     NaN   \n",
       "110529  110530     Mark E Laherty           Police Officer 3     NaN   \n",
       "110530  110531      David P Kucia           Police Officer 3     NaN   \n",
       "\n",
       "       OvertimePay  OtherPay Benefits  TotalPay  TotalPayBenefits  Year  \\\n",
       "81391          0.0 149,934.1      0.0 149,934.1         149,934.1  2013   \n",
       "84506          0.0 110,485.4 20,779.0 110,485.4         131,264.4  2013   \n",
       "84960          0.0 120,000.0  8,841.5 120,000.0         128,841.5  2013   \n",
       "90525          0.0 106,079.3      0.0 106,079.3         106,079.3  2013   \n",
       "90786          0.0  81,299.0 23,877.5  81,299.0         105,176.6  2013   \n",
       "...            ...       ...      ...       ...               ...   ...   \n",
       "110526         0.0      10.7      0.0      10.7              10.7  2013   \n",
       "110527         0.0       5.6      0.0       5.6               5.6  2013   \n",
       "110528         0.0       0.0     -2.7       0.0              -2.7  2013   \n",
       "110529         0.0       0.0     -8.2       0.0              -8.2  2013   \n",
       "110530         0.0       0.0    -33.9       0.0             -33.9  2013   \n",
       "\n",
       "        Notes         Agency  Status  \n",
       "81391     nan  San Francisco     nan  \n",
       "84506     nan  San Francisco     nan  \n",
       "84960     nan  San Francisco     nan  \n",
       "90525     nan  San Francisco     nan  \n",
       "90786     nan  San Francisco     nan  \n",
       "...       ...            ...     ...  \n",
       "110526    nan  San Francisco     nan  \n",
       "110527    nan  San Francisco     nan  \n",
       "110528    nan  San Francisco     nan  \n",
       "110529    nan  San Francisco     nan  \n",
       "110530    nan  San Francisco     nan  \n",
       "\n",
       "[605 rows x 13 columns]"
      ]
     },
     "execution_count": 314,
     "metadata": {},
     "output_type": "execute_result"
    }
   ],
   "source": [
    "df[df.BasePay.isna()] #выводим данные с NaN по полю BasePay  \n"
   ]
  },
  {
   "cell_type": "code",
   "execution_count": 393,
   "metadata": {
    "scrolled": true
   },
   "outputs": [
    {
     "data": {
      "text/plain": [
       "1.0   0.6\n",
       "0.0   0.4\n",
       "Name: Status, dtype: float64"
      ]
     },
     "execution_count": 393,
     "metadata": {},
     "output_type": "execute_result"
    }
   ],
   "source": [
    "df.Status.value_counts(normalize=True) #  проверяю состояние поля, из каких значений он состоит"
   ]
  },
  {
   "cell_type": "code",
   "execution_count": 316,
   "metadata": {
    "scrolled": true
   },
   "outputs": [
    {
     "data": {
      "text/plain": [
       "BasePay\n",
       "-166.01         1\n",
       "-121.63         1\n",
       "-109.22         1\n",
       "-106.6          1\n",
       "-101.88         1\n",
       "               ..\n",
       "9991.53         1\n",
       "9997.15         1\n",
       "9998.60         1\n",
       "9999.59         1\n",
       "Not Provided    4\n",
       "Name: BasePay, Length: 109900, dtype: int64"
      ]
     },
     "execution_count": 316,
     "metadata": {},
     "output_type": "execute_result"
    }
   ],
   "source": [
    "df.groupby(['BasePay'])['BasePay'].count() #проверяю количество нулей, отрицательных значений, и др зачения BasePay.\n"
   ]
  },
  {
   "cell_type": "code",
   "execution_count": 741,
   "metadata": {
    "scrolled": true
   },
   "outputs": [],
   "source": [
    "# удаляем Not Provided - не предоставлено \n",
    "df = df.drop(df[df.BasePay =='Not Provided'].index)\n"
   ]
  },
  {
   "cell_type": "code",
   "execution_count": 742,
   "metadata": {
    "scrolled": true
   },
   "outputs": [],
   "source": [
    "# переводим сумму float и удаляем все отрицательные и нулевые суммы\n",
    "df = df.drop(df[df.BasePay.astype(float) <=0.0].index)\n"
   ]
  },
  {
   "cell_type": "code",
   "execution_count": 743,
   "metadata": {
    "scrolled": true
   },
   "outputs": [
    {
     "name": "stdout",
     "output_type": "stream",
     "text": [
      "<class 'pandas.core.frame.DataFrame'>\n",
      "Int64Index: 147341 entries, 0 to 148620\n",
      "Data columns (total 13 columns):\n",
      " #   Column            Non-Null Count   Dtype  \n",
      "---  ------            --------------   -----  \n",
      " 0   Id                147341 non-null  int64  \n",
      " 1   EmployeeName      147341 non-null  object \n",
      " 2   JobTitle          147341 non-null  object \n",
      " 3   BasePay           146736 non-null  object \n",
      " 4   OvertimePay       147341 non-null  object \n",
      " 5   OtherPay          147341 non-null  object \n",
      " 6   Benefits          111634 non-null  object \n",
      " 7   TotalPay          147341 non-null  float64\n",
      " 8   TotalPayBenefits  147341 non-null  float64\n",
      " 9   Year              147341 non-null  int64  \n",
      " 10  Notes             0 non-null       float64\n",
      " 11  Agency            147341 non-null  object \n",
      " 12  Status            37693 non-null   float64\n",
      "dtypes: float64(4), int64(2), object(7)\n",
      "memory usage: 15.7+ MB\n"
     ]
    }
   ],
   "source": [
    "df.info() #необходимые мне значения имеют тип object "
   ]
  },
  {
   "cell_type": "code",
   "execution_count": 744,
   "metadata": {},
   "outputs": [],
   "source": [
    "#переведу тип переменных object  в float64\n",
    "df['BasePay']=df.BasePay.astype(float)\n",
    "df['OvertimePay']=df.OvertimePay.astype(float)\n",
    "df['OtherPay']=df.OtherPay.astype(float)"
   ]
  },
  {
   "cell_type": "code",
   "execution_count": 745,
   "metadata": {
    "scrolled": false
   },
   "outputs": [],
   "source": [
    "# меняем все пустоты NaN на значение медианы \n",
    "df.fillna(df.BasePay.median(),inplace = True) \n",
    "#df['BasePay']=df['BasePay'].fillna(df.BasePay.median(),inplace=True)"
   ]
  },
  {
   "cell_type": "code",
   "execution_count": null,
   "metadata": {},
   "outputs": [],
   "source": []
  },
  {
   "cell_type": "markdown",
   "metadata": {},
   "source": [
    "df['BasePay'] = df['BasePay'].str.replace('%','').astype(np.float64)\n",
    "df['OvertimePay'] = df['OvertimePay'].str.replace('%','').astype(np.float64)\n",
    "df['OtherPay'] = df['OtherPay'].str.replace('%','').astype(np.float64)\n"
   ]
  },
  {
   "cell_type": "code",
   "execution_count": 496,
   "metadata": {
    "scrolled": false
   },
   "outputs": [
    {
     "data": {
      "text/plain": [
       "65,258.0   0.0\n",
       "54,703.0   0.0\n",
       "55,026.0   0.0\n",
       "48,472.4   0.0\n",
       "65,448.0   0.0\n",
       "            ..\n",
       "48,249.9   0.0\n",
       "20,487.1   0.0\n",
       "53,546.0   0.0\n",
       "1,607.0    0.0\n",
       "7,611.7    0.0\n",
       "Name: BasePay, Length: 109477, dtype: float64"
      ]
     },
     "execution_count": 496,
     "metadata": {},
     "output_type": "execute_result"
    }
   ],
   "source": [
    "#проверить на корретность полей, базовая оплата нулевые знечения - очень маленький %, можно удалить\n",
    "df.BasePay.value_counts(normalize=True) "
   ]
  },
  {
   "cell_type": "code",
   "execution_count": null,
   "metadata": {},
   "outputs": [],
   "source": []
  },
  {
   "cell_type": "code",
   "execution_count": 323,
   "metadata": {
    "scrolled": true
   },
   "outputs": [
    {
     "data": {
      "text/plain": [
       "0.0        0.5\n",
       "10.7       0.0\n",
       "681.2      0.0\n",
       "152.1      0.0\n",
       "1,314.8    0.0\n",
       "            ..\n",
       "1,629.8    0.0\n",
       "22,136.4   0.0\n",
       "19,597.1   0.0\n",
       "2,924.2    0.0\n",
       "4,195.4    0.0\n",
       "Name: OvertimePay, Length: 65930, dtype: float64"
      ]
     },
     "execution_count": 323,
     "metadata": {},
     "output_type": "execute_result"
    }
   ],
   "source": [
    "#проверить на корретность полей, другие значения - Оплата сверхурочной работы -- очень маленький %, можно удалить\n",
    "df.OvertimePay.value_counts(normalize=True) "
   ]
  },
  {
   "cell_type": "code",
   "execution_count": 117,
   "metadata": {
    "scrolled": false
   },
   "outputs": [
    {
     "data": {
      "text/plain": [
       "OvertimePay\n",
       "-0.0             1\n",
       "0.0          76096\n",
       "0.0              1\n",
       "0.5              1\n",
       "0.8              1\n",
       "             ...  \n",
       "173,547.7        1\n",
       "192,424.5        1\n",
       "196,689.2        1\n",
       "220,909.5        1\n",
       "245,131.9        1\n",
       "Name: OvertimePay, Length: 65930, dtype: int64"
      ]
     },
     "execution_count": 117,
     "metadata": {},
     "output_type": "execute_result"
    }
   ],
   "source": [
    "df.groupby(['OvertimePay'])['OvertimePay'].count() #проверяю количество нулей, отрицательных значений, и др."
   ]
  },
  {
   "cell_type": "code",
   "execution_count": 746,
   "metadata": {},
   "outputs": [],
   "source": [
    "# переводим сумму float и удаляем все отрицательные и нулевые суммы\n",
    "df = df.drop(df[df.OvertimePay.astype(float) <=0.0].index)"
   ]
  },
  {
   "cell_type": "code",
   "execution_count": null,
   "metadata": {},
   "outputs": [],
   "source": []
  },
  {
   "cell_type": "code",
   "execution_count": 498,
   "metadata": {
    "scrolled": false
   },
   "outputs": [
    {
     "data": {
      "text/plain": [
       "0.0        0.1\n",
       "624.0      0.0\n",
       "250.0      0.0\n",
       "648.0      0.0\n",
       "874.0      0.0\n",
       "            ..\n",
       "8,572.5    0.0\n",
       "19,581.5   0.0\n",
       "557.5      0.0\n",
       "242.1      0.0\n",
       "3,769.8    0.0\n",
       "Name: OtherPay, Length: 57401, dtype: float64"
      ]
     },
     "execution_count": 498,
     "metadata": {},
     "output_type": "execute_result"
    }
   ],
   "source": [
    "#проверить на корретность полей, другие значения - другое - льготы-- очень маленький %, можно удалить\n",
    "df.OtherPay.value_counts(normalize=True) "
   ]
  },
  {
   "cell_type": "code",
   "execution_count": 747,
   "metadata": {},
   "outputs": [],
   "source": [
    "# переводим сумму float и удаляем все отрицательные и нулевые суммы\n",
    "df = df.drop(df[df.OtherPay.astype(float) <=0.0].index)"
   ]
  },
  {
   "cell_type": "code",
   "execution_count": null,
   "metadata": {},
   "outputs": [],
   "source": []
  },
  {
   "cell_type": "markdown",
   "metadata": {},
   "source": [
    "#база подготогвлена для работы, \n",
    "проведу группировку по Department - fire, medicine, police"
   ]
  },
  {
   "cell_type": "markdown",
   "metadata": {},
   "source": [
    "# МЕДИЦИНА"
   ]
  },
  {
   "cell_type": "code",
   "execution_count": 748,
   "metadata": {},
   "outputs": [],
   "source": [
    "# группирую по ключевым словам относяшимся к департаменту - медицина\n",
    "MEDICAL=['PATIENT','PARAMEDIC','MEDICAL','NURSE','MENTAL','HEALTH','PHYSICIAN','PSYCHIATRIC','NURSING','HOSPITAL','PHYSICAL','THERAP','PHARMAC','PSYCHOLOGIST','X-RAY','NUTRITIONIST','DIETITIAN','ANESTHETIST','EPIDEMIOLOGIST','DENTAL','CLINICAL','REHABILITATION','HLTH','PATHOLOGIST','DISEASE','CARE','SURGICAL','DENTIST','MORGUE','REHABILITATION','PATIENT','MED STAFF','EPIDEMIOLOGIST']\n",
    "df_MEDICAL = pd.DataFrame()\n",
    "for i in MEDICAL:\n",
    "    df_MEDICAL = df_MEDICAL.append(df[df['JobTitle'].str.upper().str.contains(i)])\n"
   ]
  },
  {
   "cell_type": "code",
   "execution_count": 712,
   "metadata": {
    "scrolled": true
   },
   "outputs": [
    {
     "data": {
      "text/plain": [
       "(16586, 13)"
      ]
     },
     "execution_count": 712,
     "metadata": {},
     "output_type": "execute_result"
    }
   ],
   "source": [
    "df_MEDICAL.shape"
   ]
  },
  {
   "cell_type": "code",
   "execution_count": null,
   "metadata": {},
   "outputs": [],
   "source": []
  },
  {
   "cell_type": "code",
   "execution_count": 749,
   "metadata": {
    "scrolled": true
   },
   "outputs": [
    {
     "data": {
      "text/plain": [
       "count    16,586.0\n",
       "mean     84,222.0\n",
       "std      43,060.0\n",
       "min         312.2\n",
       "25%      55,250.7\n",
       "50%      74,430.1\n",
       "75%     115,120.4\n",
       "max     337,204.9\n",
       "Name: TotalPay, dtype: float64"
      ]
     },
     "execution_count": 749,
     "metadata": {},
     "output_type": "execute_result"
    }
   ],
   "source": [
    "# TotalPay=BasePay+OvertimePay+OtherPay  общая сумма =основная+сверхурочная+льготы\n",
    "# находим параметры по TotalPay \n",
    "df_MEDICAL.TotalPay.describe() "
   ]
  },
  {
   "cell_type": "code",
   "execution_count": 750,
   "metadata": {
    "scrolled": false
   },
   "outputs": [
    {
     "data": {
      "text/plain": [
       "74430.11"
      ]
     },
     "execution_count": 750,
     "metadata": {},
     "output_type": "execute_result"
    }
   ],
   "source": [
    "df_MEDICAL.sort_values(\"TotalPay\") #сортирвка в порядке возрастания\n",
    "df_MEDICAL.TotalPay.median()  # находим медиану \n"
   ]
  },
  {
   "cell_type": "code",
   "execution_count": 751,
   "metadata": {},
   "outputs": [],
   "source": [
    "pd.options.display.float_format = '{:,.1f}'.format #чтобы округлял значения до сотых:"
   ]
  },
  {
   "cell_type": "code",
   "execution_count": 752,
   "metadata": {
    "scrolled": false
   },
   "outputs": [
    {
     "data": {
      "text/html": [
       "<div>\n",
       "<style scoped>\n",
       "    .dataframe tbody tr th:only-of-type {\n",
       "        vertical-align: middle;\n",
       "    }\n",
       "\n",
       "    .dataframe tbody tr th {\n",
       "        vertical-align: top;\n",
       "    }\n",
       "\n",
       "    .dataframe thead th {\n",
       "        text-align: right;\n",
       "    }\n",
       "</style>\n",
       "<table border=\"1\" class=\"dataframe\">\n",
       "  <thead>\n",
       "    <tr style=\"text-align: right;\">\n",
       "      <th></th>\n",
       "      <th>median</th>\n",
       "      <th>max</th>\n",
       "      <th>mean</th>\n",
       "      <th>count</th>\n",
       "    </tr>\n",
       "    <tr>\n",
       "      <th>Year</th>\n",
       "      <th></th>\n",
       "      <th></th>\n",
       "      <th></th>\n",
       "      <th></th>\n",
       "    </tr>\n",
       "  </thead>\n",
       "  <tbody>\n",
       "    <tr>\n",
       "      <th>2011</th>\n",
       "      <td>69,178.2</td>\n",
       "      <td>278,569.2</td>\n",
       "      <td>78,508.0</td>\n",
       "      <td>4327</td>\n",
       "    </tr>\n",
       "    <tr>\n",
       "      <th>2012</th>\n",
       "      <td>73,693.9</td>\n",
       "      <td>337,204.9</td>\n",
       "      <td>82,982.7</td>\n",
       "      <td>4042</td>\n",
       "    </tr>\n",
       "    <tr>\n",
       "      <th>2013</th>\n",
       "      <td>80,213.1</td>\n",
       "      <td>286,416.2</td>\n",
       "      <td>90,043.7</td>\n",
       "      <td>4000</td>\n",
       "    </tr>\n",
       "    <tr>\n",
       "      <th>2014</th>\n",
       "      <td>75,018.7</td>\n",
       "      <td>258,571.0</td>\n",
       "      <td>85,750.7</td>\n",
       "      <td>4217</td>\n",
       "    </tr>\n",
       "  </tbody>\n",
       "</table>\n",
       "</div>"
      ],
      "text/plain": [
       "       median       max     mean  count\n",
       "Year                                   \n",
       "2011 69,178.2 278,569.2 78,508.0   4327\n",
       "2012 73,693.9 337,204.9 82,982.7   4042\n",
       "2013 80,213.1 286,416.2 90,043.7   4000\n",
       "2014 75,018.7 258,571.0 85,750.7   4217"
      ]
     },
     "execution_count": 752,
     "metadata": {},
     "output_type": "execute_result"
    }
   ],
   "source": [
    "# группируем TotalPay с разбивкой по годам\n",
    "dr3=df_MEDICAL.groupby(['Year'])['TotalPay'].agg(['median','max','mean','count']) \n",
    "dr3"
   ]
  },
  {
   "cell_type": "code",
   "execution_count": 610,
   "metadata": {
    "scrolled": false
   },
   "outputs": [
    {
     "data": {
      "image/png": "[encoded data removed]",
      "text/plain": [
       "<Figure size 432x288 with 1 Axes>"
      ]
     },
     "metadata": {
      "needs_background": "light"
     },
     "output_type": "display_data"
    }
   ],
   "source": [
    "dr3.plot(); # график данных общей суммы TotalPay в виде линий"
   ]
  },
  {
   "cell_type": "code",
   "execution_count": null,
   "metadata": {},
   "outputs": [],
   "source": []
  },
  {
   "cell_type": "code",
   "execution_count": 611,
   "metadata": {
    "scrolled": false
   },
   "outputs": [
    {
     "data": {
      "image/png": "[encoded data removed]",
      "text/plain": [
       "<Figure size 432x288 with 1 Axes>"
      ]
     },
     "metadata": {
      "needs_background": "light"
     },
     "output_type": "display_data"
    },
    {
     "data": {
      "text/plain": [
       "<Figure size 432x288 with 0 Axes>"
      ]
     },
     "metadata": {},
     "output_type": "display_data"
    }
   ],
   "source": [
    "# график данных общей суммы TotalPay - в виде диаграммы\n",
    "MED = df_MEDICAL.groupby('Year').median()\n",
    "MED.reset_index(inplace=True)\n",
    "sns.barplot(x = 'Year', y='TotalPay' , data = MED)\n",
    "plt.figure();"
   ]
  },
  {
   "cell_type": "markdown",
   "metadata": {},
   "source": [
    "# ПОЛИЦИЯ"
   ]
  },
  {
   "cell_type": "code",
   "execution_count": 753,
   "metadata": {},
   "outputs": [],
   "source": [
    "# группирую по ключевым словам относяшимся к департаменту - полиция\n",
    "POLICE=['Sergeant','OFFICER','POLICE','Captain','Investigator','ATTORNEY','Criminalist','Examiner','Fingerprint','RESEARCH','Inspector','Fingerprint','Technician','Engineering','Assistant','Criminal','COMMISSIONER','ATTORNEY','Service','Witness']\n",
    "\n",
    "df_POLICE = pd.DataFrame()\n",
    "for i in POLICE:\n",
    "    df_POLICE = df_POLICE.append(df[df['JobTitle'].str.upper().str.contains(i)])"
   ]
  },
  {
   "cell_type": "code",
   "execution_count": 754,
   "metadata": {
    "scrolled": true
   },
   "outputs": [
    {
     "data": {
      "text/plain": [
       "(14814, 13)"
      ]
     },
     "execution_count": 754,
     "metadata": {},
     "output_type": "execute_result"
    }
   ],
   "source": [
    "df_POLICE.shape"
   ]
  },
  {
   "cell_type": "code",
   "execution_count": 755,
   "metadata": {
    "scrolled": false
   },
   "outputs": [
    {
     "data": {
      "text/html": [
       "<div>\n",
       "<style scoped>\n",
       "    .dataframe tbody tr th:only-of-type {\n",
       "        vertical-align: middle;\n",
       "    }\n",
       "\n",
       "    .dataframe tbody tr th {\n",
       "        vertical-align: top;\n",
       "    }\n",
       "\n",
       "    .dataframe thead th {\n",
       "        text-align: right;\n",
       "    }\n",
       "</style>\n",
       "<table border=\"1\" class=\"dataframe\">\n",
       "  <thead>\n",
       "    <tr style=\"text-align: right;\">\n",
       "      <th></th>\n",
       "      <th>median</th>\n",
       "      <th>mean</th>\n",
       "      <th>max</th>\n",
       "      <th>count</th>\n",
       "    </tr>\n",
       "    <tr>\n",
       "      <th>Year</th>\n",
       "      <th></th>\n",
       "      <th></th>\n",
       "      <th></th>\n",
       "      <th></th>\n",
       "    </tr>\n",
       "  </thead>\n",
       "  <tbody>\n",
       "    <tr>\n",
       "      <th>2011</th>\n",
       "      <td>123,465.9</td>\n",
       "      <td>121,853.2</td>\n",
       "      <td>538,909.3</td>\n",
       "      <td>4246</td>\n",
       "    </tr>\n",
       "    <tr>\n",
       "      <th>2012</th>\n",
       "      <td>128,955.8</td>\n",
       "      <td>123,566.4</td>\n",
       "      <td>249,667.7</td>\n",
       "      <td>3530</td>\n",
       "    </tr>\n",
       "    <tr>\n",
       "      <th>2013</th>\n",
       "      <td>136,122.4</td>\n",
       "      <td>128,153.8</td>\n",
       "      <td>262,317.8</td>\n",
       "      <td>3493</td>\n",
       "    </tr>\n",
       "    <tr>\n",
       "      <th>2014</th>\n",
       "      <td>129,709.0</td>\n",
       "      <td>122,432.2</td>\n",
       "      <td>267,902.7</td>\n",
       "      <td>3545</td>\n",
       "    </tr>\n",
       "  </tbody>\n",
       "</table>\n",
       "</div>"
      ],
      "text/plain": [
       "        median      mean       max  count\n",
       "Year                                     \n",
       "2011 123,465.9 121,853.2 538,909.3   4246\n",
       "2012 128,955.8 123,566.4 249,667.7   3530\n",
       "2013 136,122.4 128,153.8 262,317.8   3493\n",
       "2014 129,709.0 122,432.2 267,902.7   3545"
      ]
     },
     "execution_count": 755,
     "metadata": {},
     "output_type": "execute_result"
    }
   ],
   "source": [
    "#РАЗБИВКА  общей суммы по годам \n",
    "dr2=df_POLICE.groupby(['Year'])['TotalPay'].agg(['median','mean','max','count']) \n",
    "dr2"
   ]
  },
  {
   "cell_type": "code",
   "execution_count": 175,
   "metadata": {},
   "outputs": [],
   "source": [
    "df_POLICE = df_POLICE.drop(df_POLICE[df_POLICE.TotalPay.astype(float) >=538000.0].index)"
   ]
  },
  {
   "cell_type": "code",
   "execution_count": 677,
   "metadata": {},
   "outputs": [
    {
     "data": {
      "text/plain": [
       "count    14,814.0\n",
       "mean    123,885.6\n",
       "std      35,653.6\n",
       "min       2,084.6\n",
       "25%     108,526.1\n",
       "50%     129,421.0\n",
       "75%     144,234.4\n",
       "max     538,909.3\n",
       "Name: TotalPay, dtype: float64"
      ]
     },
     "execution_count": 677,
     "metadata": {},
     "output_type": "execute_result"
    }
   ],
   "source": [
    "df_POLICE.TotalPay.describe()"
   ]
  },
  {
   "cell_type": "code",
   "execution_count": 232,
   "metadata": {},
   "outputs": [
    {
     "data": {
      "text/plain": [
       "TotalPay\n",
       "2,084.6      1\n",
       "2,230.0      2\n",
       "3,235.7      1\n",
       "3,794.3      1\n",
       "5,138.1      1\n",
       "            ..\n",
       "267,902.7    2\n",
       "286,213.9    1\n",
       "297,608.9    1\n",
       "335,279.9    1\n",
       "538,909.3    1\n",
       "Name: TotalPay, Length: 8842, dtype: int64"
      ]
     },
     "execution_count": 232,
     "metadata": {},
     "output_type": "execute_result"
    }
   ],
   "source": [
    "df_POLICE.groupby(['TotalPay'])['TotalPay'].count()"
   ]
  },
  {
   "cell_type": "markdown",
   "metadata": {},
   "source": [
    "# ПОЖАРНЫЕ"
   ]
  },
  {
   "cell_type": "code",
   "execution_count": 756,
   "metadata": {
    "scrolled": true
   },
   "outputs": [],
   "source": [
    "# группирую по ключевым словам относяшимся к департаменту - пожарные\n",
    "FIRE=['FIRE']\n",
    "\n",
    "df_FIRE = pd.DataFrame()\n",
    "for i in FIRE:\n",
    "    df_FIRE = df_FIRE.append(df[df['JobTitle'].str.upper().str.contains(i)])"
   ]
  },
  {
   "cell_type": "code",
   "execution_count": 719,
   "metadata": {},
   "outputs": [
    {
     "data": {
      "text/plain": [
       "(5345, 13)"
      ]
     },
     "execution_count": 719,
     "metadata": {},
     "output_type": "execute_result"
    }
   ],
   "source": [
    "df_FIRE.shape"
   ]
  },
  {
   "cell_type": "code",
   "execution_count": 757,
   "metadata": {
    "scrolled": false
   },
   "outputs": [
    {
     "data": {
      "text/html": [
       "<div>\n",
       "<style scoped>\n",
       "    .dataframe tbody tr th:only-of-type {\n",
       "        vertical-align: middle;\n",
       "    }\n",
       "\n",
       "    .dataframe tbody tr th {\n",
       "        vertical-align: top;\n",
       "    }\n",
       "\n",
       "    .dataframe thead th {\n",
       "        text-align: right;\n",
       "    }\n",
       "</style>\n",
       "<table border=\"1\" class=\"dataframe\">\n",
       "  <thead>\n",
       "    <tr style=\"text-align: right;\">\n",
       "      <th></th>\n",
       "      <th>median</th>\n",
       "      <th>mean</th>\n",
       "      <th>max</th>\n",
       "      <th>count</th>\n",
       "    </tr>\n",
       "    <tr>\n",
       "      <th>Year</th>\n",
       "      <th></th>\n",
       "      <th></th>\n",
       "      <th></th>\n",
       "      <th></th>\n",
       "    </tr>\n",
       "  </thead>\n",
       "  <tbody>\n",
       "    <tr>\n",
       "      <th>2011</th>\n",
       "      <td>147,765.0</td>\n",
       "      <td>149,351.3</td>\n",
       "      <td>326,373.2</td>\n",
       "      <td>1316</td>\n",
       "    </tr>\n",
       "    <tr>\n",
       "      <th>2012</th>\n",
       "      <td>158,027.6</td>\n",
       "      <td>160,006.6</td>\n",
       "      <td>362,844.7</td>\n",
       "      <td>1325</td>\n",
       "    </tr>\n",
       "    <tr>\n",
       "      <th>2013</th>\n",
       "      <td>165,918.4</td>\n",
       "      <td>167,185.8</td>\n",
       "      <td>347,102.3</td>\n",
       "      <td>1356</td>\n",
       "    </tr>\n",
       "    <tr>\n",
       "      <th>2014</th>\n",
       "      <td>157,963.4</td>\n",
       "      <td>156,301.4</td>\n",
       "      <td>335,485.0</td>\n",
       "      <td>1348</td>\n",
       "    </tr>\n",
       "  </tbody>\n",
       "</table>\n",
       "</div>"
      ],
      "text/plain": [
       "        median      mean       max  count\n",
       "Year                                     \n",
       "2011 147,765.0 149,351.3 326,373.2   1316\n",
       "2012 158,027.6 160,006.6 362,844.7   1325\n",
       "2013 165,918.4 167,185.8 347,102.3   1356\n",
       "2014 157,963.4 156,301.4 335,485.0   1348"
      ]
     },
     "execution_count": 757,
     "metadata": {},
     "output_type": "execute_result"
    }
   ],
   "source": [
    "#РАЗБИВКА общей суммы по годам\n",
    "dr1=df_FIRE.groupby(['Year'])['TotalPay'].agg(['median','mean','max','count']) \n",
    "dr1"
   ]
  },
  {
   "cell_type": "code",
   "execution_count": 138,
   "metadata": {},
   "outputs": [
    {
     "data": {
      "text/plain": [
       "count     5,345.0\n",
       "mean    158,270.0\n",
       "std      44,743.1\n",
       "min       7,870.4\n",
       "25%     134,747.4\n",
       "50%     157,263.7\n",
       "75%     184,046.1\n",
       "max     362,844.7\n",
       "Name: TotalPay, dtype: float64"
      ]
     },
     "execution_count": 138,
     "metadata": {},
     "output_type": "execute_result"
    }
   ],
   "source": [
    "df_FIRE.TotalPay.describe()"
   ]
  },
  {
   "cell_type": "code",
   "execution_count": null,
   "metadata": {},
   "outputs": [],
   "source": []
  },
  {
   "cell_type": "markdown",
   "metadata": {},
   "source": [
    "# проверим СКОЛЬКО СОТРУДНИКОВ В КАЖДОМ ДЕПАРТАМЕНТЕ\n",
    "проверка на дубли, дубли удалю"
   ]
  },
  {
   "cell_type": "code",
   "execution_count": 680,
   "metadata": {
    "scrolled": true
   },
   "outputs": [
    {
     "name": "stdout",
     "output_type": "stream",
     "text": [
      "количество сотрудников относящихся к департаменту - пожарные 4745.5\n",
      "количество сотрудников относящихся к департаменту - полиция 10942.0\n",
      "количество сотрудников относящихся к департаменту - медицина 12917.5\n"
     ]
    }
   ],
   "source": [
    "#группировка по фио сотрудников в каждом департаменте, где дубликаты - False.\n",
    "dk=df_FIRE.groupby(df_FIRE.EmployeeName.duplicated()==False).count()\n",
    "\n",
    "#количество сотрудников относящихся к департаменту - пожарные\n",
    "print('количество сотрудников относящихся к департаменту - пожарные',(dk.Id[1]+dk.Id[0]/2))\n",
    "rr=(dk.Id[1]+dk.Id[0]/2)\n",
    "\n",
    "dk=df_POLICE.groupby(df_POLICE.EmployeeName.duplicated()==False).count()\n",
    "\n",
    "#количество сотрудников относящихся к департаменту - пожарные\n",
    "print('количество сотрудников относящихся к департаменту - полиция',(dk.Id[1]+dk.Id[0]/2))\n",
    "tt=(dk.Id[1]+dk.Id[0]/2)\n",
    "\n",
    "dk=df_MEDICAL.groupby(df_MEDICAL.EmployeeName.duplicated()==False).count()\n",
    "\n",
    "#количество сотрудников относящихся к департаменту - пожарные\n",
    "print('количество сотрудников относящихся к департаменту - медицина',(dk.Id[1]+dk.Id[0]/2))\n",
    "uu=(dk.Id[1]+dk.Id[0]/2)"
   ]
  },
  {
   "cell_type": "code",
   "execution_count": 681,
   "metadata": {
    "scrolled": false
   },
   "outputs": [
    {
     "data": {
      "text/plain": [
       "<matplotlib.axes._subplots.AxesSubplot at 0x50955cc8>"
      ]
     },
     "execution_count": 681,
     "metadata": {},
     "output_type": "execute_result"
    },
    {
     "data": {
      "image/png": "[encoded data removed]",
      "text/plain": [
       "<Figure size 432x288 with 1 Axes>"
      ]
     },
     "metadata": {
      "needs_background": "light"
     },
     "output_type": "display_data"
    }
   ],
   "source": [
    "rtu=pd.DataFrame()\n",
    "rtu = pd.DataFrame({'department': ['medical','poloce','fire'], 'kol': [rr,tt,uu]})\n",
    "plt.title('Количество сотрудников по департаментам', fontsize=15)\n",
    "sns.barplot(x = 'department', y='kol' , data = rtu)\n",
    "#rtu.hist()"
   ]
  },
  {
   "cell_type": "code",
   "execution_count": 140,
   "metadata": {
    "scrolled": false
   },
   "outputs": [
    {
     "data": {
      "text/html": [
       "<div>\n",
       "<style scoped>\n",
       "    .dataframe tbody tr th:only-of-type {\n",
       "        vertical-align: middle;\n",
       "    }\n",
       "\n",
       "    .dataframe tbody tr th {\n",
       "        vertical-align: top;\n",
       "    }\n",
       "\n",
       "    .dataframe thead th {\n",
       "        text-align: right;\n",
       "    }\n",
       "</style>\n",
       "<table border=\"1\" class=\"dataframe\">\n",
       "  <thead>\n",
       "    <tr style=\"text-align: right;\">\n",
       "      <th></th>\n",
       "      <th>Id</th>\n",
       "      <th>EmployeeName</th>\n",
       "      <th>JobTitle</th>\n",
       "      <th>BasePay</th>\n",
       "      <th>OvertimePay</th>\n",
       "      <th>OtherPay</th>\n",
       "      <th>Benefits</th>\n",
       "      <th>TotalPay</th>\n",
       "      <th>TotalPayBenefits</th>\n",
       "      <th>Year</th>\n",
       "      <th>Notes</th>\n",
       "      <th>Agency</th>\n",
       "      <th>Status</th>\n",
       "    </tr>\n",
       "    <tr>\n",
       "      <th>EmployeeName</th>\n",
       "      <th></th>\n",
       "      <th></th>\n",
       "      <th></th>\n",
       "      <th></th>\n",
       "      <th></th>\n",
       "      <th></th>\n",
       "      <th></th>\n",
       "      <th></th>\n",
       "      <th></th>\n",
       "      <th></th>\n",
       "      <th></th>\n",
       "      <th></th>\n",
       "      <th></th>\n",
       "    </tr>\n",
       "  </thead>\n",
       "  <tbody>\n",
       "    <tr>\n",
       "      <th>False</th>\n",
       "      <td>7744</td>\n",
       "      <td>7744</td>\n",
       "      <td>7744</td>\n",
       "      <td>7744</td>\n",
       "      <td>7744</td>\n",
       "      <td>7744</td>\n",
       "      <td>7744</td>\n",
       "      <td>7744</td>\n",
       "      <td>7744</td>\n",
       "      <td>7744</td>\n",
       "      <td>7744</td>\n",
       "      <td>7744</td>\n",
       "      <td>7744</td>\n",
       "    </tr>\n",
       "    <tr>\n",
       "      <th>True</th>\n",
       "      <td>7070</td>\n",
       "      <td>7070</td>\n",
       "      <td>7070</td>\n",
       "      <td>7070</td>\n",
       "      <td>7070</td>\n",
       "      <td>7070</td>\n",
       "      <td>7070</td>\n",
       "      <td>7070</td>\n",
       "      <td>7070</td>\n",
       "      <td>7070</td>\n",
       "      <td>7070</td>\n",
       "      <td>7070</td>\n",
       "      <td>7070</td>\n",
       "    </tr>\n",
       "  </tbody>\n",
       "</table>\n",
       "</div>"
      ],
      "text/plain": [
       "                Id  EmployeeName  JobTitle  BasePay  OvertimePay  OtherPay  \\\n",
       "EmployeeName                                                                 \n",
       "False         7744          7744      7744     7744         7744      7744   \n",
       "True          7070          7070      7070     7070         7070      7070   \n",
       "\n",
       "              Benefits  TotalPay  TotalPayBenefits  Year  Notes  Agency  \\\n",
       "EmployeeName                                                              \n",
       "False             7744      7744              7744  7744   7744    7744   \n",
       "True              7070      7070              7070  7070   7070    7070   \n",
       "\n",
       "              Status  \n",
       "EmployeeName          \n",
       "False           7744  \n",
       "True            7070  "
      ]
     },
     "execution_count": 140,
     "metadata": {},
     "output_type": "execute_result"
    }
   ],
   "source": [
    "dk=df_POLICE.groupby(df_POLICE.EmployeeName.duplicated()==False).count()\n",
    "dk"
   ]
  },
  {
   "cell_type": "code",
   "execution_count": null,
   "metadata": {},
   "outputs": [],
   "source": []
  },
  {
   "cell_type": "markdown",
   "metadata": {},
   "source": [
    "# сравним КАК ВЕДУТ СЕБЯ ЗНАЧЕНИЯ МЕЖДУ ДЕПАРТАМЕНТАМИ\n",
    "медиана, средняя зарплата, максимальная"
   ]
  },
  {
   "cell_type": "code",
   "execution_count": 758,
   "metadata": {
    "scrolled": false
   },
   "outputs": [
    {
     "data": {
      "image/png": "[encoded data removed]",
      "text/plain": [
       "<Figure size 432x288 with 1 Axes>"
      ]
     },
     "metadata": {
      "needs_background": "light"
     },
     "output_type": "display_data"
    }
   ],
   "source": [
    "plt.title('Медиана', fontsize=15)\n",
    "dr3['median'].plot(color='green',linewidth=5,label='медицина')\n",
    "dr2['median'].plot(color='blue',linewidth=5, label='полиция')\n",
    "dr1['median'].plot(color='red',linewidth=5, label='пожарные')\n",
    "plt.legend(loc='best')\n",
    "plt.show();\n"
   ]
  },
  {
   "cell_type": "code",
   "execution_count": null,
   "metadata": {},
   "outputs": [],
   "source": []
  },
  {
   "cell_type": "code",
   "execution_count": 759,
   "metadata": {
    "scrolled": true
   },
   "outputs": [
    {
     "data": {
      "image/png": "[encoded data removed]",
      "text/plain": [
       "<Figure size 432x288 with 1 Axes>"
      ]
     },
     "metadata": {
      "needs_background": "light"
     },
     "output_type": "display_data"
    }
   ],
   "source": [
    "plt.title('Среднее значение зп', fontsize=15)\n",
    "dr3['mean'].plot(color='green',linewidth=5, label='медицина')\n",
    "dr2['mean'].plot(color='blue',linewidth=5, label='полиция')\n",
    "dr1['mean'].plot(color='red',linewidth=5, label='пожарные')\n",
    "plt.legend(loc='best')\n",
    "plt.show();"
   ]
  },
  {
   "cell_type": "code",
   "execution_count": null,
   "metadata": {},
   "outputs": [],
   "source": [
    "MED = df_MEDICAL.groupby('Year').median()\n",
    "MED.reset_index(inplace=True)\n",
    "sns.barplot(x = 'Year', y='TotalPay' , data = MED)\n",
    "plt.figure();"
   ]
  },
  {
   "cell_type": "code",
   "execution_count": null,
   "metadata": {},
   "outputs": [],
   "source": []
  },
  {
   "cell_type": "code",
   "execution_count": 760,
   "metadata": {
    "scrolled": true
   },
   "outputs": [
    {
     "data": {
      "image/png": "[encoded data removed]",
      "text/plain": [
       "<Figure size 432x288 with 1 Axes>"
      ]
     },
     "metadata": {
      "needs_background": "light"
     },
     "output_type": "display_data"
    }
   ],
   "source": [
    "plt.title('Максимальное значение зп', fontsize=15)\n",
    "dr3['max'].plot(color='green',linewidth=5,label='медицина')\n",
    "dr2['max'].plot(color='blue',linewidth=5, label='полиция')\n",
    "dr1['max'].plot(color='red',linewidth=5, label='пожарные')\n",
    "plt.legend(loc='best')\n",
    "plt.show();"
   ]
  },
  {
   "cell_type": "markdown",
   "metadata": {},
   "source": [
    "\n",
    "При сравнении медианы, среднего и максимального значений зп у сотрудников департаментов - сотрудники депортамента пожарных самые стабильные самые большие\n",
    "Несколько сотрудников полиции получили большие суммы, за счет них выросла максимальная зп сотрудников полиции, \n",
    "затем резко ушла вниз к 2012 года. Поэтому по графику максимальных сумм нельзя сказать ничего определенного.\n",
    "По графикам медианы и среднего значения можно сказать, что за период с 2011 - 2014 зп за 2013 год была наибольшей.\n",
    "Посмотрим дальше связано ли это с инфляцией\n",
    "\n",
    "\n",
    "\n"
   ]
  },
  {
   "cell_type": "code",
   "execution_count": null,
   "metadata": {},
   "outputs": [],
   "source": []
  },
  {
   "cell_type": "markdown",
   "metadata": {},
   "source": [
    "# ИНФЛЯЦИЯ\n",
    "посмотрим как инфляция связана с зарплатой сотрудников "
   ]
  },
  {
   "cell_type": "markdown",
   "metadata": {},
   "source": [
    "Уровень инфляции в США в 2019 году составил 1,81%, что на 0,63% меньше, чем в 2018 году. \n",
    "Уровень инфляции в США в 2018 году составил 2,44%, что на 0,31% больше, чем в 2017 году.\n",
    "Уровень инфляции в США в 2017 году составил 2,13%, что на 0,87% больше, чем в 2016 году.\n",
    "Уровень инфляции в США в 2016 году составил 1,26%, что на 1,14% больше, чем в 2015 году. \n",
    "2014\t1.62%\t0.16%\n",
    "2013\t1.46%\t-0.60%\n",
    "2012\t2.07%\t-1.09%\n",
    "2011\t3.16%\t1.52%\n",
    "2015- 0.12"
   ]
  },
  {
   "cell_type": "code",
   "execution_count": 510,
   "metadata": {},
   "outputs": [],
   "source": [
    "# нас интересует период с 2011- 2014, данные по инфляции за необходимые года внесла в DataFrame, год и коэффициет инфляции\n",
    "inf=pd.DataFrame()\n",
    "inf = pd.DataFrame({'YEAR': ['2011', '2012', '2013','2014'], 'Inflation Rate (%)': [3.16, 2.07, 1.46,1.62]})\n"
   ]
  },
  {
   "cell_type": "code",
   "execution_count": 480,
   "metadata": {
    "scrolled": true
   },
   "outputs": [
    {
     "data": {
      "text/html": [
       "<div>\n",
       "<style scoped>\n",
       "    .dataframe tbody tr th:only-of-type {\n",
       "        vertical-align: middle;\n",
       "    }\n",
       "\n",
       "    .dataframe tbody tr th {\n",
       "        vertical-align: top;\n",
       "    }\n",
       "\n",
       "    .dataframe thead th {\n",
       "        text-align: right;\n",
       "    }\n",
       "</style>\n",
       "<table border=\"1\" class=\"dataframe\">\n",
       "  <thead>\n",
       "    <tr style=\"text-align: right;\">\n",
       "      <th></th>\n",
       "      <th>YEAR</th>\n",
       "      <th>Inflation Rate (%)</th>\n",
       "    </tr>\n",
       "  </thead>\n",
       "  <tbody>\n",
       "    <tr>\n",
       "      <th>0</th>\n",
       "      <td>2011</td>\n",
       "      <td>3.2</td>\n",
       "    </tr>\n",
       "    <tr>\n",
       "      <th>1</th>\n",
       "      <td>2012</td>\n",
       "      <td>2.1</td>\n",
       "    </tr>\n",
       "    <tr>\n",
       "      <th>2</th>\n",
       "      <td>2013</td>\n",
       "      <td>1.5</td>\n",
       "    </tr>\n",
       "    <tr>\n",
       "      <th>3</th>\n",
       "      <td>2014</td>\n",
       "      <td>1.6</td>\n",
       "    </tr>\n",
       "  </tbody>\n",
       "</table>\n",
       "</div>"
      ],
      "text/plain": [
       "   YEAR  Inflation Rate (%)\n",
       "0  2011                 3.2\n",
       "1  2012                 2.1\n",
       "2  2013                 1.5\n",
       "3  2014                 1.6"
      ]
     },
     "execution_count": 480,
     "metadata": {},
     "output_type": "execute_result"
    }
   ],
   "source": [
    "inf"
   ]
  },
  {
   "cell_type": "code",
   "execution_count": 761,
   "metadata": {
    "scrolled": false
   },
   "outputs": [
    {
     "data": {
      "text/plain": [
       "Year\n",
       "2011   60,082.5\n",
       "2012   63,995.0\n",
       "2013   68,391.0\n",
       "2014   66,676.3\n",
       "Name: BasePay, dtype: float64"
      ]
     },
     "execution_count": 761,
     "metadata": {},
     "output_type": "execute_result"
    }
   ],
   "source": [
    "# сгруппируем по базовой сумме  и построим графики с инфляцией \n",
    "df_FIRE.sort_values(\"BasePay\") #сортирвка в порядке возрастания\n",
    "df_POLICE.sort_values(\"BasePay\") #сортирвка в порядке возрастания\n",
    "df_MEDICAL.sort_values(\"BasePay\") #сортирвка в порядке возрастания\n",
    "dr1=df_FIRE.groupby(['Year'])['BasePay'].median() \n",
    "dr2=df_POLICE.groupby(['Year'])['BasePay'].median() \n",
    "dr3=df_MEDICAL.groupby(['Year'])['BasePay'].median() \n",
    "dr3\n"
   ]
  },
  {
   "cell_type": "code",
   "execution_count": null,
   "metadata": {},
   "outputs": [],
   "source": []
  },
  {
   "cell_type": "code",
   "execution_count": 519,
   "metadata": {
    "scrolled": false
   },
   "outputs": [
    {
     "data": {
      "image/png": "[encoded data removed]",
      "text/plain": [
       "<Figure size 432x288 with 1 Axes>"
      ]
     },
     "metadata": {},
     "output_type": "display_data"
    }
   ],
   "source": [
    "#или график инфляции изобразим в виде круговой диаграммы\n",
    "colors = ['yellow','green','red','blue']\n",
    "values = [3.16, 2.07, 1.46,1.62]\n",
    "plt.pie(values,labels=inf.YEAR,colors=colors,autopct='%.1f%%')\n",
    "plt.axis('equal')\n",
    "plt.show()\n",
    "\n"
   ]
  },
  {
   "cell_type": "code",
   "execution_count": 526,
   "metadata": {},
   "outputs": [
    {
     "data": {
      "image/png": "[encoded data removed]",
      "text/plain": [
       "<Figure size 432x288 with 1 Axes>"
      ]
     },
     "metadata": {
      "needs_background": "light"
     },
     "output_type": "display_data"
    }
   ],
   "source": [
    "# рассмотрю на основной сумме (медиана)\n",
    "plt.title('Базовая оплата +инфляция', fontsize=15)\n",
    "dr3.plot(color='green',linewidth=5, label='медицина')\n",
    "dr2.plot(color='blue',linewidth=5, label='полиция',linestyle='-.')\n",
    "dr1.plot(color='red',linewidth=5, label='пожарные',linestyle='--')\n",
    "\n",
    "plt.show()    "
   ]
  },
  {
   "cell_type": "markdown",
   "metadata": {},
   "source": [
    "\n",
    "Из графиков видно - что коэффициент инфляции в 2013 году самый низкий, а зп -самые большие (см. график выше)\n",
    "следовательно зп не понижали, а были увеличены. \n"
   ]
  },
  {
   "cell_type": "markdown",
   "metadata": {},
   "source": [
    "Можно сделать вывод -\n",
    "на 2015 год коэффициент инфляции сильно уменьшился - на 1.50%, соответственно зп должны уменьшиться\n",
    "НО!!! судя из предыдущего вывода, зп должны возрасти\n"
   ]
  },
  {
   "cell_type": "code",
   "execution_count": null,
   "metadata": {},
   "outputs": [],
   "source": []
  },
  {
   "cell_type": "markdown",
   "metadata": {},
   "source": [
    "\n",
    "Рассмотрели общую сумму заработной платы и можно сделать вывод- что зп пожарных и полиции больше чем медрабтников.\n",
    "Общая сумма состоит базовой оплаты,сверхурочной работы, льгот.\n",
    "Посмотрим как распределяются базовая оплата, сверхурочная работа и льготы между разными группами\n",
    "'BasePay','OvertimePay','OtherPay' и на каком моменте медицина теряет в зп.\n",
    "Псмтри с помщью диаграммы\n",
    "\n",
    "\n"
   ]
  },
  {
   "cell_type": "code",
   "execution_count": 254,
   "metadata": {
    "scrolled": true
   },
   "outputs": [
    {
     "data": {
      "text/plain": [
       "count      5345.000000\n",
       "mean     113261.198614\n",
       "std       26067.148122\n",
       "min        6192.190000\n",
       "25%      105934.660000\n",
       "50%      112703.730000\n",
       "75%      127456.920000\n",
       "max      252423.600000\n",
       "Name: BasePay, dtype: float64"
      ]
     },
     "execution_count": 254,
     "metadata": {},
     "output_type": "execute_result"
    }
   ],
   "source": [
    "df_FIRE['BasePay'].describe()"
   ]
  },
  {
   "cell_type": "code",
   "execution_count": 67,
   "metadata": {},
   "outputs": [],
   "source": [
    "# чтобы было лучше видно на графике, разделим на 1000\n",
    "df_FIRE['BasePay1']=df_FIRE['BasePay']/1000\n",
    "df_POLICE['BasePay1']=df_POLICE['BasePay']/1000\n",
    "df_MEDICAL['BasePay1']=df_MEDICAL['BasePay']/1000"
   ]
  },
  {
   "cell_type": "code",
   "execution_count": 68,
   "metadata": {
    "scrolled": false
   },
   "outputs": [
    {
     "data": {
      "image/png": "[encoded data removed]",
      "text/plain": [
       "<Figure size 1440x360 with 3 Axes>"
      ]
     },
     "metadata": {
      "needs_background": "light"
     },
     "output_type": "display_data"
    }
   ],
   "source": [
    "fig, axes =plt.subplots(1,3)\n",
    "\n",
    "#  Заголовок области Figure:\n",
    "fig.suptitle('Базовая оплата',\n",
    "             y = 1.2,\n",
    "             fontsize = 30)\n",
    "\n",
    "axes[0].set_title('Пожарные',\n",
    "                fontfamily = 'serif',\n",
    "                fontstyle = 'italic',\n",
    "                fontsize = 15)\n",
    "axes[0].hist(df_FIRE['BasePay1'])\n",
    "\n",
    "axes[1].set_title('Полиция',\n",
    "                fontfamily = 'fantasy',\n",
    "                fontstyle = 'oblique',\n",
    "                fontsize = 15)\n",
    "axes[1].hist(df_POLICE['BasePay1'])\n",
    "\n",
    "axes[2].set_title('Медицина',\n",
    "                fontfamily = 'monospace',\n",
    "                fontstyle = 'normal',\n",
    "                fontsize = 15)\n",
    "axes[2].hist(df_MEDICAL['BasePay1'])\n",
    "\n",
    "\n",
    "\n",
    "fig.set_figheight(5)\n",
    "fig.set_figwidth(20)\n",
    "\n",
    "plt.show()\n",
    "\n"
   ]
  },
  {
   "cell_type": "markdown",
   "metadata": {},
   "source": [
    "\n",
    "базовая сумма пожарных и полиции находится в промежутке от 100000 до 150000, а медицина ориентировочно от 30000- 70000\n"
   ]
  },
  {
   "cell_type": "code",
   "execution_count": 69,
   "metadata": {},
   "outputs": [
    {
     "name": "stdout",
     "output_type": "stream",
     "text": [
      "4         9.7\n",
      "6        89.1\n",
      "8        86.4\n",
      "10       71.3\n",
      "14       74.1\n",
      "         ... \n",
      "139153    0.4\n",
      "141081    0.2\n",
      "142509    0.8\n",
      "142710    1.9\n",
      "144801    0.7\n",
      "Name: OvertimePay1, Length: 5345, dtype: float64\n"
     ]
    }
   ],
   "source": [
    "# чтобы было лучше видно на графике, разделим на 1000\n",
    "df_FIRE['OvertimePay1']=df_FIRE['OvertimePay']/1000\n",
    "df_POLICE['OvertimePay1']=df_POLICE['OvertimePay']/1000\n",
    "df_MEDICAL['OvertimePay1']=df_MEDICAL['OvertimePay']/1000\n",
    "\n",
    "print(df_FIRE['OvertimePay1'])"
   ]
  },
  {
   "cell_type": "code",
   "execution_count": 317,
   "metadata": {
    "scrolled": true
   },
   "outputs": [
    {
     "data": {
      "text/plain": [
       "count    5849.000000\n",
       "mean      110.395201\n",
       "std        31.289141\n",
       "min         0.073330\n",
       "25%       105.934650\n",
       "50%       112.190000\n",
       "75%       127.124120\n",
       "max       313.686010\n",
       "Name: OvertimePay1, dtype: float64"
      ]
     },
     "execution_count": 317,
     "metadata": {},
     "output_type": "execute_result"
    }
   ],
   "source": [
    "df_FIRE['OvertimePay1'].describe()"
   ]
  },
  {
   "cell_type": "code",
   "execution_count": 70,
   "metadata": {},
   "outputs": [
    {
     "data": {
      "image/png": "[encoded data removed]",
      "text/plain": [
       "<Figure size 1440x360 with 3 Axes>"
      ]
     },
     "metadata": {
      "needs_background": "light"
     },
     "output_type": "display_data"
    }
   ],
   "source": [
    "fig, axes =plt.subplots(1,3)\n",
    "\n",
    "\n",
    "#  Заголовок области Figure:\n",
    "fig.suptitle('Оплата сверхурочной работы',\n",
    "             y = 1.2,\n",
    "             fontsize = 30)\n",
    "\n",
    "axes[0].set_title('Пожарные',\n",
    "                fontfamily = 'serif',\n",
    "                fontstyle = 'italic',\n",
    "                fontsize = 15)\n",
    "axes[0].hist(df_FIRE['OvertimePay1'],range=(0,250))\n",
    "\n",
    "axes[1].set_title('Полиция',\n",
    "                fontfamily = 'fantasy',\n",
    "                fontstyle = 'oblique',\n",
    "                fontsize = 15)\n",
    "axes[1].hist(df_POLICE['OvertimePay1'])\n",
    "\n",
    "axes[2].set_title('Медицина',\n",
    "                fontfamily = 'monospace',\n",
    "                fontstyle = 'normal',\n",
    "                fontsize = 15)\n",
    "axes[2].hist(df_MEDICAL['OvertimePay1'])\n",
    "\n",
    "\n",
    "\n",
    "fig.set_figheight(5)\n",
    "fig.set_figwidth(20)\n",
    "\n",
    "plt.show()\n"
   ]
  },
  {
   "cell_type": "markdown",
   "metadata": {},
   "source": [
    "\n",
    "оплата за сверхурочную работу у пожарных самая высокая, у сотрудникв полиции (некоторой категории) чуть больше чем у медиков\n",
    "\n"
   ]
  },
  {
   "cell_type": "code",
   "execution_count": 71,
   "metadata": {},
   "outputs": [],
   "source": [
    "# чтобы было лучше видно на графике, разделим на 1000\n",
    "df_FIRE['OtherPay1']=df_FIRE['OtherPay']/1000\n",
    "df_POLICE['OtherPay1']=df_POLICE['OtherPay']/1000\n",
    "df_MEDICAL['OtherPay1']=df_MEDICAL['OtherPay']/1000"
   ]
  },
  {
   "cell_type": "code",
   "execution_count": 72,
   "metadata": {
    "scrolled": true
   },
   "outputs": [
    {
     "data": {
      "text/plain": [
       "16169.54"
      ]
     },
     "execution_count": 72,
     "metadata": {},
     "output_type": "execute_result"
    }
   ],
   "source": [
    "df_FIRE['OtherPay'].median()  #describe()"
   ]
  },
  {
   "cell_type": "code",
   "execution_count": 73,
   "metadata": {
    "scrolled": true
   },
   "outputs": [
    {
     "data": {
      "image/png": "[encoded data removed]",
      "text/plain": [
       "<Figure size 1440x360 with 3 Axes>"
      ]
     },
     "metadata": {
      "needs_background": "light"
     },
     "output_type": "display_data"
    }
   ],
   "source": [
    "fig, axes =plt.subplots(1,3)\n",
    "\n",
    "#  Заголовок области Figure:\n",
    "fig.suptitle('Льготы',\n",
    "             y = 1.2,\n",
    "             fontsize = 30)\n",
    "\n",
    "axes[0].set_title('Пожарные',\n",
    "                fontfamily = 'serif',\n",
    "                fontstyle = 'italic',\n",
    "                fontsize = 15)\n",
    "axes[0].hist(df_FIRE['OtherPay1'],range=(0,250))\n",
    "\n",
    "axes[1].set_title('Полиция',\n",
    "                fontfamily = 'fantasy',\n",
    "                fontstyle = 'oblique',\n",
    "                fontsize = 15)\n",
    "axes[1].hist(df_POLICE['OtherPay1'])\n",
    "\n",
    "axes[2].set_title('Медицина',\n",
    "                fontfamily = 'monospace',\n",
    "                fontstyle = 'normal',\n",
    "                fontsize = 15)\n",
    "axes[2].hist(df_MEDICAL['OtherPay1'])\n",
    "\n",
    "\n",
    "\n",
    "fig.set_figheight(5)\n",
    "fig.set_figwidth(20)\n",
    "\n",
    "plt.show()\n"
   ]
  },
  {
   "cell_type": "markdown",
   "metadata": {},
   "source": [
    "\n",
    "\n",
    "\n",
    "По льготам в зп опять преимущества у пожарных, далее полиция и медики - наименьшая\n",
    "ИЗ всего можно сделать вывод, что медработники получают минимальную зп из данных категорий (основное отличие в базовой сумме), \n",
    "далее (намного больше) идут сотрудники полиции и чуть выше сотрудники пожарного департамента\n"
   ]
  },
  {
   "cell_type": "code",
   "execution_count": null,
   "metadata": {},
   "outputs": [],
   "source": []
  },
  {
   "cell_type": "code",
   "execution_count": null,
   "metadata": {},
   "outputs": [],
   "source": []
  },
  {
   "cell_type": "code",
   "execution_count": null,
   "metadata": {},
   "outputs": [],
   "source": []
  },
  {
   "cell_type": "markdown",
   "metadata": {},
   "source": [
    "# Посмотрим какое количество с разным уровнем дохода? (с помощью гистограммы с шагом в 5к) \n",
    "расмотрим на базовой сумме"
   ]
  },
  {
   "cell_type": "code",
   "execution_count": 774,
   "metadata": {},
   "outputs": [],
   "source": [
    "import plotly.graph_objects as go"
   ]
  },
  {
   "cell_type": "code",
   "execution_count": 775,
   "metadata": {},
   "outputs": [
    {
     "data": {
      "application/vnd.plotly.v1+json": {
       "config": {
        "plotlyServerURL": "https://plot.ly"
       },
       "data": [
        {
         "name": "Group A",
         "type": "bar",
         "x": [
          "0.0 - 5000.0",
          "10000.0 - 15000.0",
          "100000.0 - 105000.0",
          "105000.0 - 110000.0",
          "110000.0 - 115000.0",
          "115000.0 - 120000.0",
          "120000.0 - 125000.0",
          "125000.0 - 130000.0",
          "130000.0 - 135000.0",
          "135000.0 - 140000.0",
          "140000.0 - 145000.0",
          "145000.0 - 150000.0",
          "15000.0 - 20000.0",
          "150000.0 - 155000.0",
          "155000.0 - 160000.0",
          "160000.0 - 165000.0",
          "165000.0 - 170000.0",
          "170000.0 - 175000.0",
          "175000.0 - 180000.0",
          "180000.0 - 185000.0",
          "185000.0 - 190000.0",
          "190000.0 - 195000.0",
          "195000.0 - 200000.0",
          "20000.0 - 25000.0",
          "200000.0 - 205000.0",
          "205000.0 - 210000.0",
          "210000.0 - 215000.0",
          "215000.0 - 220000.0",
          "220000.0 - 225000.0",
          "225000.0 - 230000.0",
          "230000.0 - 235000.0",
          "235000.0 - 240000.0",
          "240000.0 - 245000.0",
          "25000.0 - 30000.0",
          "250000.0 - 255000.0",
          "255000.0 - 260000.0",
          "260000.0 - 265000.0",
          "270000.0 - 275000.0",
          "30000.0 - 35000.0",
          "315000.0 - 320000.0",
          "35000.0 - 40000.0",
          "40000.0 - 45000.0",
          "45000.0 - 50000.0",
          "5000.0 - 10000.0",
          "50000.0 - 55000.0",
          "55000.0 - 60000.0",
          "60000.0 - 65000.0",
          "65000.0 - 70000.0",
          "70000.0 - 75000.0",
          "75000.0 - 80000.0",
          "80000.0 - 85000.0",
          "85000.0 - 90000.0",
          "90000.0 - 95000.0",
          "95000.0 - 100000.0"
         ],
         "y": [
          558,
          755,
          1601,
          2728,
          3206,
          2891,
          1712,
          1035,
          1104,
          1188,
          632,
          374,
          899,
          116,
          207,
          123,
          57,
          49,
          78,
          21,
          48,
          16,
          26,
          1107,
          11,
          28,
          11,
          6,
          6,
          3,
          4,
          2,
          2,
          987,
          1,
          2,
          2,
          2,
          1166,
          1,
          1299,
          1677,
          2752,
          768,
          3850,
          4557,
          5671,
          5867,
          2891,
          2873,
          2215,
          2665,
          2311,
          2151
         ]
        }
       ],
       "layout": {
        "template": {
         "data": {
          "bar": [
           {
            "error_x": {
             "color": "#2a3f5f"
            },
            "error_y": {
             "color": "#2a3f5f"
            },
            "marker": {
             "line": {
              "color": "#E5ECF6",
              "width": 0.5
             }
            },
            "type": "bar"
           }
          ],
          "barpolar": [
           {
            "marker": {
             "line": {
              "color": "#E5ECF6",
              "width": 0.5
             }
            },
            "type": "barpolar"
           }
          ],
          "carpet": [
           {
            "aaxis": {
             "endlinecolor": "#2a3f5f",
             "gridcolor": "white",
             "linecolor": "white",
             "minorgridcolor": "white",
             "startlinecolor": "#2a3f5f"
            },
            "baxis": {
             "endlinecolor": "#2a3f5f",
             "gridcolor": "white",
             "linecolor": "white",
             "minorgridcolor": "white",
             "startlinecolor": "#2a3f5f"
            },
            "type": "carpet"
           }
          ],
          "choropleth": [
           {
            "colorbar": {
             "outlinewidth": 0,
             "ticks": ""
            },
            "type": "choropleth"
           }
          ],
          "contour": [
           {
            "colorbar": {
             "outlinewidth": 0,
             "ticks": ""
            },
            "colorscale": [
             [
              0,
              "#0d0887"
             ],
             [
              0.1111111111111111,
              "#46039f"
             ],
             [
              0.2222222222222222,
              "#7201a8"
             ],
             [
              0.3333333333333333,
              "#9c179e"
             ],
             [
              0.4444444444444444,
              "#bd3786"
             ],
             [
              0.5555555555555556,
              "#d8576b"
             ],
             [
              0.6666666666666666,
              "#ed7953"
             ],
             [
              0.7777777777777778,
              "#fb9f3a"
             ],
             [
              0.8888888888888888,
              "#fdca26"
             ],
             [
              1,
              "#f0f921"
             ]
            ],
            "type": "contour"
           }
          ],
          "contourcarpet": [
           {
            "colorbar": {
             "outlinewidth": 0,
             "ticks": ""
            },
            "type": "contourcarpet"
           }
          ],
          "heatmap": [
           {
            "colorbar": {
             "outlinewidth": 0,
             "ticks": ""
            },
            "colorscale": [
             [
              0,
              "#0d0887"
             ],
             [
              0.1111111111111111,
              "#46039f"
             ],
             [
              0.2222222222222222,
              "#7201a8"
             ],
             [
              0.3333333333333333,
              "#9c179e"
             ],
             [
              0.4444444444444444,
              "#bd3786"
             ],
             [
              0.5555555555555556,
              "#d8576b"
             ],
             [
              0.6666666666666666,
              "#ed7953"
             ],
             [
              0.7777777777777778,
              "#fb9f3a"
             ],
             [
              0.8888888888888888,
              "#fdca26"
             ],
             [
              1,
              "#f0f921"
             ]
            ],
            "type": "heatmap"
           }
          ],
          "heatmapgl": [
           {
            "colorbar": {
             "outlinewidth": 0,
             "ticks": ""
            },
            "colorscale": [
             [
              0,
              "#0d0887"
             ],
             [
              0.1111111111111111,
              "#46039f"
             ],
             [
              0.2222222222222222,
              "#7201a8"
             ],
             [
              0.3333333333333333,
              "#9c179e"
             ],
             [
              0.4444444444444444,
              "#bd3786"
             ],
             [
              0.5555555555555556,
              "#d8576b"
             ],
             [
              0.6666666666666666,
              "#ed7953"
             ],
             [
              0.7777777777777778,
              "#fb9f3a"
             ],
             [
              0.8888888888888888,
              "#fdca26"
             ],
             [
              1,
              "#f0f921"
             ]
            ],
            "type": "heatmapgl"
           }
          ],
          "histogram": [
           {
            "marker": {
             "colorbar": {
              "outlinewidth": 0,
              "ticks": ""
             }
            },
            "type": "histogram"
           }
          ],
          "histogram2d": [
           {
            "colorbar": {
             "outlinewidth": 0,
             "ticks": ""
            },
            "colorscale": [
             [
              0,
              "#0d0887"
             ],
             [
              0.1111111111111111,
              "#46039f"
             ],
             [
              0.2222222222222222,
              "#7201a8"
             ],
             [
              0.3333333333333333,
              "#9c179e"
             ],
             [
              0.4444444444444444,
              "#bd3786"
             ],
             [
              0.5555555555555556,
              "#d8576b"
             ],
             [
              0.6666666666666666,
              "#ed7953"
             ],
             [
              0.7777777777777778,
              "#fb9f3a"
             ],
             [
              0.8888888888888888,
              "#fdca26"
             ],
             [
              1,
              "#f0f921"
             ]
            ],
            "type": "histogram2d"
           }
          ],
          "histogram2dcontour": [
           {
            "colorbar": {
             "outlinewidth": 0,
             "ticks": ""
            },
            "colorscale": [
             [
              0,
              "#0d0887"
             ],
             [
              0.1111111111111111,
              "#46039f"
             ],
             [
              0.2222222222222222,
              "#7201a8"
             ],
             [
              0.3333333333333333,
              "#9c179e"
             ],
             [
              0.4444444444444444,
              "#bd3786"
             ],
             [
              0.5555555555555556,
              "#d8576b"
             ],
             [
              0.6666666666666666,
              "#ed7953"
             ],
             [
              0.7777777777777778,
              "#fb9f3a"
             ],
             [
              0.8888888888888888,
              "#fdca26"
             ],
             [
              1,
              "#f0f921"
             ]
            ],
            "type": "histogram2dcontour"
           }
          ],
          "mesh3d": [
           {
            "colorbar": {
             "outlinewidth": 0,
             "ticks": ""
            },
            "type": "mesh3d"
           }
          ],
          "parcoords": [
           {
            "line": {
             "colorbar": {
              "outlinewidth": 0,
              "ticks": ""
             }
            },
            "type": "parcoords"
           }
          ],
          "pie": [
           {
            "automargin": true,
            "type": "pie"
           }
          ],
          "scatter": [
           {
            "marker": {
             "colorbar": {
              "outlinewidth": 0,
              "ticks": ""
             }
            },
            "type": "scatter"
           }
          ],
          "scatter3d": [
           {
            "line": {
             "colorbar": {
              "outlinewidth": 0,
              "ticks": ""
             }
            },
            "marker": {
             "colorbar": {
              "outlinewidth": 0,
              "ticks": ""
             }
            },
            "type": "scatter3d"
           }
          ],
          "scattercarpet": [
           {
            "marker": {
             "colorbar": {
              "outlinewidth": 0,
              "ticks": ""
             }
            },
            "type": "scattercarpet"
           }
          ],
          "scattergeo": [
           {
            "marker": {
             "colorbar": {
              "outlinewidth": 0,
              "ticks": ""
             }
            },
            "type": "scattergeo"
           }
          ],
          "scattergl": [
           {
            "marker": {
             "colorbar": {
              "outlinewidth": 0,
              "ticks": ""
             }
            },
            "type": "scattergl"
           }
          ],
          "scattermapbox": [
           {
            "marker": {
             "colorbar": {
              "outlinewidth": 0,
              "ticks": ""
             }
            },
            "type": "scattermapbox"
           }
          ],
          "scatterpolar": [
           {
            "marker": {
             "colorbar": {
              "outlinewidth": 0,
              "ticks": ""
             }
            },
            "type": "scatterpolar"
           }
          ],
          "scatterpolargl": [
           {
            "marker": {
             "colorbar": {
              "outlinewidth": 0,
              "ticks": ""
             }
            },
            "type": "scatterpolargl"
           }
          ],
          "scatterternary": [
           {
            "marker": {
             "colorbar": {
              "outlinewidth": 0,
              "ticks": ""
             }
            },
            "type": "scatterternary"
           }
          ],
          "surface": [
           {
            "colorbar": {
             "outlinewidth": 0,
             "ticks": ""
            },
            "colorscale": [
             [
              0,
              "#0d0887"
             ],
             [
              0.1111111111111111,
              "#46039f"
             ],
             [
              0.2222222222222222,
              "#7201a8"
             ],
             [
              0.3333333333333333,
              "#9c179e"
             ],
             [
              0.4444444444444444,
              "#bd3786"
             ],
             [
              0.5555555555555556,
              "#d8576b"
             ],
             [
              0.6666666666666666,
              "#ed7953"
             ],
             [
              0.7777777777777778,
              "#fb9f3a"
             ],
             [
              0.8888888888888888,
              "#fdca26"
             ],
             [
              1,
              "#f0f921"
             ]
            ],
            "type": "surface"
           }
          ],
          "table": [
           {
            "cells": {
             "fill": {
              "color": "#EBF0F8"
             },
             "line": {
              "color": "white"
             }
            },
            "header": {
             "fill": {
              "color": "#C8D4E3"
             },
             "line": {
              "color": "white"
             }
            },
            "type": "table"
           }
          ]
         },
         "layout": {
          "annotationdefaults": {
           "arrowcolor": "#2a3f5f",
           "arrowhead": 0,
           "arrowwidth": 1
          },
          "autotypenumbers": "strict",
          "coloraxis": {
           "colorbar": {
            "outlinewidth": 0,
            "ticks": ""
           }
          },
          "colorscale": {
           "diverging": [
            [
             0,
             "#8e0152"
            ],
            [
             0.1,
             "#c51b7d"
            ],
            [
             0.2,
             "#de77ae"
            ],
            [
             0.3,
             "#f1b6da"
            ],
            [
             0.4,
             "#fde0ef"
            ],
            [
             0.5,
             "#f7f7f7"
            ],
            [
             0.6,
             "#e6f5d0"
            ],
            [
             0.7,
             "#b8e186"
            ],
            [
             0.8,
             "#7fbc41"
            ],
            [
             0.9,
             "#4d9221"
            ],
            [
             1,
             "#276419"
            ]
           ],
           "sequential": [
            [
             0,
             "#0d0887"
            ],
            [
             0.1111111111111111,
             "#46039f"
            ],
            [
             0.2222222222222222,
             "#7201a8"
            ],
            [
             0.3333333333333333,
             "#9c179e"
            ],
            [
             0.4444444444444444,
             "#bd3786"
            ],
            [
             0.5555555555555556,
             "#d8576b"
            ],
            [
             0.6666666666666666,
             "#ed7953"
            ],
            [
             0.7777777777777778,
             "#fb9f3a"
            ],
            [
             0.8888888888888888,
             "#fdca26"
            ],
            [
             1,
             "#f0f921"
            ]
           ],
           "sequentialminus": [
            [
             0,
             "#0d0887"
            ],
            [
             0.1111111111111111,
             "#46039f"
            ],
            [
             0.2222222222222222,
             "#7201a8"
            ],
            [
             0.3333333333333333,
             "#9c179e"
            ],
            [
             0.4444444444444444,
             "#bd3786"
            ],
            [
             0.5555555555555556,
             "#d8576b"
            ],
            [
             0.6666666666666666,
             "#ed7953"
            ],
            [
             0.7777777777777778,
             "#fb9f3a"
            ],
            [
             0.8888888888888888,
             "#fdca26"
            ],
            [
             1,
             "#f0f921"
            ]
           ]
          },
          "colorway": [
           "#636efa",
           "#EF553B",
           "#00cc96",
           "#ab63fa",
           "#FFA15A",
           "#19d3f3",
           "#FF6692",
           "#B6E880",
           "#FF97FF",
           "#FECB52"
          ],
          "font": {
           "color": "#2a3f5f"
          },
          "geo": {
           "bgcolor": "white",
           "lakecolor": "white",
           "landcolor": "#E5ECF6",
           "showlakes": true,
           "showland": true,
           "subunitcolor": "white"
          },
          "hoverlabel": {
           "align": "left"
          },
          "hovermode": "closest",
          "mapbox": {
           "style": "light"
          },
          "paper_bgcolor": "white",
          "plot_bgcolor": "#E5ECF6",
          "polar": {
           "angularaxis": {
            "gridcolor": "white",
            "linecolor": "white",
            "ticks": ""
           },
           "bgcolor": "#E5ECF6",
           "radialaxis": {
            "gridcolor": "white",
            "linecolor": "white",
            "ticks": ""
           }
          },
          "scene": {
           "xaxis": {
            "backgroundcolor": "#E5ECF6",
            "gridcolor": "white",
            "gridwidth": 2,
            "linecolor": "white",
            "showbackground": true,
            "ticks": "",
            "zerolinecolor": "white"
           },
           "yaxis": {
            "backgroundcolor": "#E5ECF6",
            "gridcolor": "white",
            "gridwidth": 2,
            "linecolor": "white",
            "showbackground": true,
            "ticks": "",
            "zerolinecolor": "white"
           },
           "zaxis": {
            "backgroundcolor": "#E5ECF6",
            "gridcolor": "white",
            "gridwidth": 2,
            "linecolor": "white",
            "showbackground": true,
            "ticks": "",
            "zerolinecolor": "white"
           }
          },
          "shapedefaults": {
           "line": {
            "color": "#2a3f5f"
           }
          },
          "ternary": {
           "aaxis": {
            "gridcolor": "white",
            "linecolor": "white",
            "ticks": ""
           },
           "baxis": {
            "gridcolor": "white",
            "linecolor": "white",
            "ticks": ""
           },
           "bgcolor": "#E5ECF6",
           "caxis": {
            "gridcolor": "white",
            "linecolor": "white",
            "ticks": ""
           }
          },
          "title": {
           "x": 0.05
          },
          "xaxis": {
           "automargin": true,
           "gridcolor": "white",
           "linecolor": "white",
           "ticks": "",
           "title": {
            "standoff": 15
           },
           "zerolinecolor": "white",
           "zerolinewidth": 2
          },
          "yaxis": {
           "automargin": true,
           "gridcolor": "white",
           "linecolor": "white",
           "ticks": "",
           "title": {
            "standoff": 15
           },
           "zerolinecolor": "white",
           "zerolinewidth": 2
          }
         }
        }
       }
      },
      "text/html": [
       "<div>                            <div id=\"e1e9e165-740c-4086-bd46-1a2803828811\" class=\"plotly-graph-div\" style=\"height:525px; width:100%;\"></div>            <script type=\"text/javascript\">                require([\"plotly\"], function(Plotly) {                    window.PLOTLYENV=window.PLOTLYENV || {};                                    if (document.getElementById(\"e1e9e165-740c-4086-bd46-1a2803828811\")) {                    Plotly.newPlot(                        \"e1e9e165-740c-4086-bd46-1a2803828811\",                        [{\"name\": \"Group A\", \"type\": \"bar\", \"x\": [\"0.0 - 5000.0\", \"10000.0 - 15000.0\", \"100000.0 - 105000.0\", \"105000.0 - 110000.0\", \"110000.0 - 115000.0\", \"115000.0 - 120000.0\", \"120000.0 - 125000.0\", \"125000.0 - 130000.0\", \"130000.0 - 135000.0\", \"135000.0 - 140000.0\", \"140000.0 - 145000.0\", \"145000.0 - 150000.0\", \"15000.0 - 20000.0\", \"150000.0 - 155000.0\", \"155000.0 - 160000.0\", \"160000.0 - 165000.0\", \"165000.0 - 170000.0\", \"170000.0 - 175000.0\", \"175000.0 - 180000.0\", \"180000.0 - 185000.0\", \"185000.0 - 190000.0\", \"190000.0 - 195000.0\", \"195000.0 - 200000.0\", \"20000.0 - 25000.0\", \"200000.0 - 205000.0\", \"205000.0 - 210000.0\", \"210000.0 - 215000.0\", \"215000.0 - 220000.0\", \"220000.0 - 225000.0\", \"225000.0 - 230000.0\", \"230000.0 - 235000.0\", \"235000.0 - 240000.0\", \"240000.0 - 245000.0\", \"25000.0 - 30000.0\", \"250000.0 - 255000.0\", \"255000.0 - 260000.0\", \"260000.0 - 265000.0\", \"270000.0 - 275000.0\", \"30000.0 - 35000.0\", \"315000.0 - 320000.0\", \"35000.0 - 40000.0\", \"40000.0 - 45000.0\", \"45000.0 - 50000.0\", \"5000.0 - 10000.0\", \"50000.0 - 55000.0\", \"55000.0 - 60000.0\", \"60000.0 - 65000.0\", \"65000.0 - 70000.0\", \"70000.0 - 75000.0\", \"75000.0 - 80000.0\", \"80000.0 - 85000.0\", \"85000.0 - 90000.0\", \"90000.0 - 95000.0\", \"95000.0 - 100000.0\"], \"y\": [558, 755, 1601, 2728, 3206, 2891, 1712, 1035, 1104, 1188, 632, 374, 899, 116, 207, 123, 57, 49, 78, 21, 48, 16, 26, 1107, 11, 28, 11, 6, 6, 3, 4, 2, 2, 987, 1, 2, 2, 2, 1166, 1, 1299, 1677, 2752, 768, 3850, 4557, 5671, 5867, 2891, 2873, 2215, 2665, 2311, 2151]}],                        {\"template\": {\"data\": {\"bar\": [{\"error_x\": {\"color\": \"#2a3f5f\"}, \"error_y\": {\"color\": \"#2a3f5f\"}, \"marker\": {\"line\": {\"color\": \"#E5ECF6\", \"width\": 0.5}}, \"type\": \"bar\"}], \"barpolar\": [{\"marker\": {\"line\": {\"color\": \"#E5ECF6\", \"width\": 0.5}}, \"type\": \"barpolar\"}], \"carpet\": [{\"aaxis\": {\"endlinecolor\": \"#2a3f5f\", \"gridcolor\": \"white\", \"linecolor\": \"white\", \"minorgridcolor\": \"white\", \"startlinecolor\": \"#2a3f5f\"}, \"baxis\": {\"endlinecolor\": \"#2a3f5f\", \"gridcolor\": \"white\", \"linecolor\": \"white\", \"minorgridcolor\": \"white\", \"startlinecolor\": \"#2a3f5f\"}, \"type\": \"carpet\"}], \"choropleth\": [{\"colorbar\": {\"outlinewidth\": 0, \"ticks\": \"\"}, \"type\": \"choropleth\"}], \"contour\": [{\"colorbar\": {\"outlinewidth\": 0, \"ticks\": \"\"}, \"colorscale\": [[0.0, \"#0d0887\"], [0.1111111111111111, \"#46039f\"], [0.2222222222222222, \"#7201a8\"], [0.3333333333333333, \"#9c179e\"], [0.4444444444444444, \"#bd3786\"], [0.5555555555555556, \"#d8576b\"], [0.6666666666666666, \"#ed7953\"], [0.7777777777777778, \"#fb9f3a\"], [0.8888888888888888, \"#fdca26\"], [1.0, \"#f0f921\"]], \"type\": \"contour\"}], \"contourcarpet\": [{\"colorbar\": {\"outlinewidth\": 0, \"ticks\": \"\"}, \"type\": \"contourcarpet\"}], \"heatmap\": [{\"colorbar\": {\"outlinewidth\": 0, \"ticks\": \"\"}, \"colorscale\": [[0.0, \"#0d0887\"], [0.1111111111111111, \"#46039f\"], [0.2222222222222222, \"#7201a8\"], [0.3333333333333333, \"#9c179e\"], [0.4444444444444444, \"#bd3786\"], [0.5555555555555556, \"#d8576b\"], [0.6666666666666666, \"#ed7953\"], [0.7777777777777778, \"#fb9f3a\"], [0.8888888888888888, \"#fdca26\"], [1.0, \"#f0f921\"]], \"type\": \"heatmap\"}], \"heatmapgl\": [{\"colorbar\": {\"outlinewidth\": 0, \"ticks\": \"\"}, \"colorscale\": [[0.0, \"#0d0887\"], [0.1111111111111111, \"#46039f\"], [0.2222222222222222, \"#7201a8\"], [0.3333333333333333, \"#9c179e\"], [0.4444444444444444, \"#bd3786\"], [0.5555555555555556, \"#d8576b\"], [0.6666666666666666, \"#ed7953\"], [0.7777777777777778, \"#fb9f3a\"], [0.8888888888888888, \"#fdca26\"], [1.0, \"#f0f921\"]], \"type\": \"heatmapgl\"}], \"histogram\": [{\"marker\": {\"colorbar\": {\"outlinewidth\": 0, \"ticks\": \"\"}}, \"type\": \"histogram\"}], \"histogram2d\": [{\"colorbar\": {\"outlinewidth\": 0, \"ticks\": \"\"}, \"colorscale\": [[0.0, \"#0d0887\"], [0.1111111111111111, \"#46039f\"], [0.2222222222222222, \"#7201a8\"], [0.3333333333333333, \"#9c179e\"], [0.4444444444444444, \"#bd3786\"], [0.5555555555555556, \"#d8576b\"], [0.6666666666666666, \"#ed7953\"], [0.7777777777777778, \"#fb9f3a\"], [0.8888888888888888, \"#fdca26\"], [1.0, \"#f0f921\"]], \"type\": \"histogram2d\"}], \"histogram2dcontour\": [{\"colorbar\": {\"outlinewidth\": 0, \"ticks\": \"\"}, \"colorscale\": [[0.0, \"#0d0887\"], [0.1111111111111111, \"#46039f\"], [0.2222222222222222, \"#7201a8\"], [0.3333333333333333, \"#9c179e\"], [0.4444444444444444, \"#bd3786\"], [0.5555555555555556, \"#d8576b\"], [0.6666666666666666, \"#ed7953\"], [0.7777777777777778, \"#fb9f3a\"], [0.8888888888888888, \"#fdca26\"], [1.0, \"#f0f921\"]], \"type\": \"histogram2dcontour\"}], \"mesh3d\": [{\"colorbar\": {\"outlinewidth\": 0, \"ticks\": \"\"}, \"type\": \"mesh3d\"}], \"parcoords\": [{\"line\": {\"colorbar\": {\"outlinewidth\": 0, \"ticks\": \"\"}}, \"type\": \"parcoords\"}], \"pie\": [{\"automargin\": true, \"type\": \"pie\"}], \"scatter\": [{\"marker\": {\"colorbar\": {\"outlinewidth\": 0, \"ticks\": \"\"}}, \"type\": \"scatter\"}], \"scatter3d\": [{\"line\": {\"colorbar\": {\"outlinewidth\": 0, \"ticks\": \"\"}}, \"marker\": {\"colorbar\": {\"outlinewidth\": 0, \"ticks\": \"\"}}, \"type\": \"scatter3d\"}], \"scattercarpet\": [{\"marker\": {\"colorbar\": {\"outlinewidth\": 0, \"ticks\": \"\"}}, \"type\": \"scattercarpet\"}], \"scattergeo\": [{\"marker\": {\"colorbar\": {\"outlinewidth\": 0, \"ticks\": \"\"}}, \"type\": \"scattergeo\"}], \"scattergl\": [{\"marker\": {\"colorbar\": {\"outlinewidth\": 0, \"ticks\": \"\"}}, \"type\": \"scattergl\"}], \"scattermapbox\": [{\"marker\": {\"colorbar\": {\"outlinewidth\": 0, \"ticks\": \"\"}}, \"type\": \"scattermapbox\"}], \"scatterpolar\": [{\"marker\": {\"colorbar\": {\"outlinewidth\": 0, \"ticks\": \"\"}}, \"type\": \"scatterpolar\"}], \"scatterpolargl\": [{\"marker\": {\"colorbar\": {\"outlinewidth\": 0, \"ticks\": \"\"}}, \"type\": \"scatterpolargl\"}], \"scatterternary\": [{\"marker\": {\"colorbar\": {\"outlinewidth\": 0, \"ticks\": \"\"}}, \"type\": \"scatterternary\"}], \"surface\": [{\"colorbar\": {\"outlinewidth\": 0, \"ticks\": \"\"}, \"colorscale\": [[0.0, \"#0d0887\"], [0.1111111111111111, \"#46039f\"], [0.2222222222222222, \"#7201a8\"], [0.3333333333333333, \"#9c179e\"], [0.4444444444444444, \"#bd3786\"], [0.5555555555555556, \"#d8576b\"], [0.6666666666666666, \"#ed7953\"], [0.7777777777777778, \"#fb9f3a\"], [0.8888888888888888, \"#fdca26\"], [1.0, \"#f0f921\"]], \"type\": \"surface\"}], \"table\": [{\"cells\": {\"fill\": {\"color\": \"#EBF0F8\"}, \"line\": {\"color\": \"white\"}}, \"header\": {\"fill\": {\"color\": \"#C8D4E3\"}, \"line\": {\"color\": \"white\"}}, \"type\": \"table\"}]}, \"layout\": {\"annotationdefaults\": {\"arrowcolor\": \"#2a3f5f\", \"arrowhead\": 0, \"arrowwidth\": 1}, \"autotypenumbers\": \"strict\", \"coloraxis\": {\"colorbar\": {\"outlinewidth\": 0, \"ticks\": \"\"}}, \"colorscale\": {\"diverging\": [[0, \"#8e0152\"], [0.1, \"#c51b7d\"], [0.2, \"#de77ae\"], [0.3, \"#f1b6da\"], [0.4, \"#fde0ef\"], [0.5, \"#f7f7f7\"], [0.6, \"#e6f5d0\"], [0.7, \"#b8e186\"], [0.8, \"#7fbc41\"], [0.9, \"#4d9221\"], [1, \"#276419\"]], \"sequential\": [[0.0, \"#0d0887\"], [0.1111111111111111, \"#46039f\"], [0.2222222222222222, \"#7201a8\"], [0.3333333333333333, \"#9c179e\"], [0.4444444444444444, \"#bd3786\"], [0.5555555555555556, \"#d8576b\"], [0.6666666666666666, \"#ed7953\"], [0.7777777777777778, \"#fb9f3a\"], [0.8888888888888888, \"#fdca26\"], [1.0, \"#f0f921\"]], \"sequentialminus\": [[0.0, \"#0d0887\"], [0.1111111111111111, \"#46039f\"], [0.2222222222222222, \"#7201a8\"], [0.3333333333333333, \"#9c179e\"], [0.4444444444444444, \"#bd3786\"], [0.5555555555555556, \"#d8576b\"], [0.6666666666666666, \"#ed7953\"], [0.7777777777777778, \"#fb9f3a\"], [0.8888888888888888, \"#fdca26\"], [1.0, \"#f0f921\"]]}, \"colorway\": [\"#636efa\", \"#EF553B\", \"#00cc96\", \"#ab63fa\", \"#FFA15A\", \"#19d3f3\", \"#FF6692\", \"#B6E880\", \"#FF97FF\", \"#FECB52\"], \"font\": {\"color\": \"#2a3f5f\"}, \"geo\": {\"bgcolor\": \"white\", \"lakecolor\": \"white\", \"landcolor\": \"#E5ECF6\", \"showlakes\": true, \"showland\": true, \"subunitcolor\": \"white\"}, \"hoverlabel\": {\"align\": \"left\"}, \"hovermode\": \"closest\", \"mapbox\": {\"style\": \"light\"}, \"paper_bgcolor\": \"white\", \"plot_bgcolor\": \"#E5ECF6\", \"polar\": {\"angularaxis\": {\"gridcolor\": \"white\", \"linecolor\": \"white\", \"ticks\": \"\"}, \"bgcolor\": \"#E5ECF6\", \"radialaxis\": {\"gridcolor\": \"white\", \"linecolor\": \"white\", \"ticks\": \"\"}}, \"scene\": {\"xaxis\": {\"backgroundcolor\": \"#E5ECF6\", \"gridcolor\": \"white\", \"gridwidth\": 2, \"linecolor\": \"white\", \"showbackground\": true, \"ticks\": \"\", \"zerolinecolor\": \"white\"}, \"yaxis\": {\"backgroundcolor\": \"#E5ECF6\", \"gridcolor\": \"white\", \"gridwidth\": 2, \"linecolor\": \"white\", \"showbackground\": true, \"ticks\": \"\", \"zerolinecolor\": \"white\"}, \"zaxis\": {\"backgroundcolor\": \"#E5ECF6\", \"gridcolor\": \"white\", \"gridwidth\": 2, \"linecolor\": \"white\", \"showbackground\": true, \"ticks\": \"\", \"zerolinecolor\": \"white\"}}, \"shapedefaults\": {\"line\": {\"color\": \"#2a3f5f\"}}, \"ternary\": {\"aaxis\": {\"gridcolor\": \"white\", \"linecolor\": \"white\", \"ticks\": \"\"}, \"baxis\": {\"gridcolor\": \"white\", \"linecolor\": \"white\", \"ticks\": \"\"}, \"bgcolor\": \"#E5ECF6\", \"caxis\": {\"gridcolor\": \"white\", \"linecolor\": \"white\", \"ticks\": \"\"}}, \"title\": {\"x\": 0.05}, \"xaxis\": {\"automargin\": true, \"gridcolor\": \"white\", \"linecolor\": \"white\", \"ticks\": \"\", \"title\": {\"standoff\": 15}, \"zerolinecolor\": \"white\", \"zerolinewidth\": 2}, \"yaxis\": {\"automargin\": true, \"gridcolor\": \"white\", \"linecolor\": \"white\", \"ticks\": \"\", \"title\": {\"standoff\": 15}, \"zerolinecolor\": \"white\", \"zerolinewidth\": 2}}}},                        {\"responsive\": true}                    ).then(function(){\n",
       "                            \n",
       "var gd = document.getElementById('e1e9e165-740c-4086-bd46-1a2803828811');\n",
       "var x = new MutationObserver(function (mutations, observer) {{\n",
       "        var display = window.getComputedStyle(gd).display;\n",
       "        if (!display || display === 'none') {{\n",
       "            console.log([gd, 'removed!']);\n",
       "            Plotly.purge(gd);\n",
       "            observer.disconnect();\n",
       "        }}\n",
       "}});\n",
       "\n",
       "// Listen for the removal of the full notebook cells\n",
       "var notebookContainer = gd.closest('#notebook-container');\n",
       "if (notebookContainer) {{\n",
       "    x.observe(notebookContainer, {childList: true});\n",
       "}}\n",
       "\n",
       "// Listen for the clearing of the current output cell\n",
       "var outputEl = gd.closest('.output');\n",
       "if (outputEl) {{\n",
       "    x.observe(outputEl, {childList: true});\n",
       "}}\n",
       "\n",
       "                        })                };                });            </script>        </div>"
      ]
     },
     "metadata": {},
     "output_type": "display_data"
    }
   ],
   "source": [
    "# разбиваем сумму на периоды и записываем ее в новую переменную (новый столбец)\n",
    "\n",
    "df['BasePay1'] = (df['BasePay'] // 5000)  * 5000\n",
    "#формируем через функцию\n",
    "df['BasePay1'] = df['BasePay1'].map(lambda x: str(x) +' - '+ str((x + 5000)))\n",
    "\n",
    "dfh = df.groupby('BasePay1').count()  # группировка по периодам\n",
    "dfh = dfh.reset_index() #  суммы на периоды с шагом 5000 \n",
    "\n",
    "# график \n",
    "fig = go.Figure(data = [go.Bar( name = 'Group A',x = dfh['BasePay1'].tolist(), y = dfh['BasePay'].tolist())])\n",
    "\n",
    "fig.show()\n",
    "\n",
    "\n",
    "\n"
   ]
  },
  {
   "cell_type": "markdown",
   "metadata": {},
   "source": [
    "\n",
    "На базе линейной регрессии посмотрим прогноз по должности CLINICAL NURSE SPECIALIST - медсестра департамента медицины\n",
    "\n"
   ]
  },
  {
   "cell_type": "code",
   "execution_count": 763,
   "metadata": {
    "scrolled": true
   },
   "outputs": [],
   "source": [
    "#выведу в DataFrame все данные по данной должности\n",
    "df_NURSE = pd.DataFrame()\n",
    "df_NURSE = df_NURSE.append(df[df['JobTitle'].str.upper().str.contains('CLINICAL NURSE SPECIALIST')])"
   ]
  },
  {
   "cell_type": "code",
   "execution_count": 764,
   "metadata": {
    "scrolled": false
   },
   "outputs": [
    {
     "data": {
      "text/html": [
       "<div>\n",
       "<style scoped>\n",
       "    .dataframe tbody tr th:only-of-type {\n",
       "        vertical-align: middle;\n",
       "    }\n",
       "\n",
       "    .dataframe tbody tr th {\n",
       "        vertical-align: top;\n",
       "    }\n",
       "\n",
       "    .dataframe thead th {\n",
       "        text-align: right;\n",
       "    }\n",
       "</style>\n",
       "<table border=\"1\" class=\"dataframe\">\n",
       "  <thead>\n",
       "    <tr style=\"text-align: right;\">\n",
       "      <th></th>\n",
       "      <th>median</th>\n",
       "      <th>count</th>\n",
       "    </tr>\n",
       "    <tr>\n",
       "      <th>Year</th>\n",
       "      <th></th>\n",
       "      <th></th>\n",
       "    </tr>\n",
       "  </thead>\n",
       "  <tbody>\n",
       "    <tr>\n",
       "      <th>2011</th>\n",
       "      <td>136,049.1</td>\n",
       "      <td>5</td>\n",
       "    </tr>\n",
       "    <tr>\n",
       "      <th>2012</th>\n",
       "      <td>168,143.3</td>\n",
       "      <td>3</td>\n",
       "    </tr>\n",
       "    <tr>\n",
       "      <th>2013</th>\n",
       "      <td>184,312.0</td>\n",
       "      <td>4</td>\n",
       "    </tr>\n",
       "    <tr>\n",
       "      <th>2014</th>\n",
       "      <td>177,426.5</td>\n",
       "      <td>5</td>\n",
       "    </tr>\n",
       "  </tbody>\n",
       "</table>\n",
       "</div>"
      ],
      "text/plain": [
       "        median  count\n",
       "Year                 \n",
       "2011 136,049.1      5\n",
       "2012 168,143.3      3\n",
       "2013 184,312.0      4\n",
       "2014 177,426.5      5"
      ]
     },
     "execution_count": 764,
     "metadata": {},
     "output_type": "execute_result"
    }
   ],
   "source": [
    "# группирвка по базовой сумме по годам. Посмотрим как менялась зп за период с 2011 по 2014 года, использую величину -медиана\n",
    "\n",
    "dd=df_NURSE.groupby(['Year'])['BasePay'].agg(['median','count']) \n",
    "dd"
   ]
  },
  {
   "cell_type": "code",
   "execution_count": 765,
   "metadata": {
    "scrolled": false
   },
   "outputs": [
    {
     "data": {
      "text/plain": [
       "array([[<matplotlib.axes._subplots.AxesSubplot object at 0x000000005A9A0E08>,\n",
       "        <matplotlib.axes._subplots.AxesSubplot object at 0x000000006302EF48>]],\n",
       "      dtype=object)"
      ]
     },
     "execution_count": 765,
     "metadata": {},
     "output_type": "execute_result"
    },
    {
     "data": {
      "image/png": "[encoded data removed]",
      "text/plain": [
       "<Figure size 432x288 with 2 Axes>"
      ]
     },
     "metadata": {
      "needs_background": "light"
     },
     "output_type": "display_data"
    }
   ],
   "source": [
    "dd.hist(color='turquoise',linewidth=5)\n",
    "#go.Figure(data = [go.Bar( name = 'Group A',x = dfh['BasePay1'].tolist(), y = dfh['BasePay'].tolist())])"
   ]
  },
  {
   "cell_type": "code",
   "execution_count": 767,
   "metadata": {},
   "outputs": [
    {
     "ename": "KeyError",
     "evalue": "\"['Benefits'] not found in axis\"",
     "output_type": "error",
     "traceback": [
      "\u001b[1;31m---------------------------------------------------------------------------\u001b[0m",
      "\u001b[1;31mKeyError\u001b[0m                                  Traceback (most recent call last)",
      "\u001b[1;32m<ipython-input-767-65c91e7e088d>\u001b[0m in \u001b[0;36m<module>\u001b[1;34m\u001b[0m\n\u001b[1;32m----> 1\u001b[1;33m \u001b[0mdf_NURSE\u001b[0m\u001b[1;33m.\u001b[0m\u001b[0mdrop\u001b[0m\u001b[1;33m(\u001b[0m\u001b[1;34m'Benefits'\u001b[0m\u001b[1;33m,\u001b[0m \u001b[0maxis\u001b[0m\u001b[1;33m=\u001b[0m\u001b[1;36m1\u001b[0m\u001b[1;33m,\u001b[0m \u001b[0minplace\u001b[0m\u001b[1;33m=\u001b[0m\u001b[1;32mTrue\u001b[0m\u001b[1;33m)\u001b[0m\u001b[1;33m\u001b[0m\u001b[1;33m\u001b[0m\u001b[0m\n\u001b[0m\u001b[0;32m      2\u001b[0m \u001b[0mdf_NURSE\u001b[0m\u001b[1;33m.\u001b[0m\u001b[0mdrop\u001b[0m\u001b[1;33m(\u001b[0m\u001b[1;34m'Notes'\u001b[0m\u001b[1;33m,\u001b[0m \u001b[0maxis\u001b[0m\u001b[1;33m=\u001b[0m\u001b[1;36m1\u001b[0m\u001b[1;33m,\u001b[0m \u001b[0minplace\u001b[0m\u001b[1;33m=\u001b[0m\u001b[1;32mTrue\u001b[0m\u001b[1;33m)\u001b[0m\u001b[1;33m\u001b[0m\u001b[1;33m\u001b[0m\u001b[0m\n\u001b[0;32m      3\u001b[0m \u001b[0mdf_NURSE\u001b[0m\u001b[1;33m.\u001b[0m\u001b[0mdrop\u001b[0m\u001b[1;33m(\u001b[0m\u001b[1;34m'Status'\u001b[0m\u001b[1;33m,\u001b[0m \u001b[0maxis\u001b[0m\u001b[1;33m=\u001b[0m\u001b[1;36m1\u001b[0m\u001b[1;33m,\u001b[0m \u001b[0minplace\u001b[0m\u001b[1;33m=\u001b[0m\u001b[1;32mTrue\u001b[0m\u001b[1;33m)\u001b[0m\u001b[1;33m\u001b[0m\u001b[1;33m\u001b[0m\u001b[0m\n\u001b[0;32m      4\u001b[0m \u001b[0mdf_NURSE\u001b[0m\u001b[1;33m.\u001b[0m\u001b[0mdrop\u001b[0m\u001b[1;33m(\u001b[0m\u001b[1;34m'Agency'\u001b[0m\u001b[1;33m,\u001b[0m \u001b[0maxis\u001b[0m\u001b[1;33m=\u001b[0m\u001b[1;36m1\u001b[0m\u001b[1;33m,\u001b[0m \u001b[0minplace\u001b[0m\u001b[1;33m=\u001b[0m\u001b[1;32mTrue\u001b[0m\u001b[1;33m)\u001b[0m\u001b[1;33m\u001b[0m\u001b[1;33m\u001b[0m\u001b[0m\n\u001b[0;32m      5\u001b[0m \u001b[1;31m#df_NURSE.drop('BasePay1', axis=1, inplace=True)\u001b[0m\u001b[1;33m\u001b[0m\u001b[1;33m\u001b[0m\u001b[1;33m\u001b[0m\u001b[0m\n",
      "\u001b[1;32m~\\anaconda3\\lib\\site-packages\\pandas\\core\\frame.py\u001b[0m in \u001b[0;36mdrop\u001b[1;34m(self, labels, axis, index, columns, level, inplace, errors)\u001b[0m\n\u001b[0;32m   3995\u001b[0m             \u001b[0mlevel\u001b[0m\u001b[1;33m=\u001b[0m\u001b[0mlevel\u001b[0m\u001b[1;33m,\u001b[0m\u001b[1;33m\u001b[0m\u001b[1;33m\u001b[0m\u001b[0m\n\u001b[0;32m   3996\u001b[0m             \u001b[0minplace\u001b[0m\u001b[1;33m=\u001b[0m\u001b[0minplace\u001b[0m\u001b[1;33m,\u001b[0m\u001b[1;33m\u001b[0m\u001b[1;33m\u001b[0m\u001b[0m\n\u001b[1;32m-> 3997\u001b[1;33m             \u001b[0merrors\u001b[0m\u001b[1;33m=\u001b[0m\u001b[0merrors\u001b[0m\u001b[1;33m,\u001b[0m\u001b[1;33m\u001b[0m\u001b[1;33m\u001b[0m\u001b[0m\n\u001b[0m\u001b[0;32m   3998\u001b[0m         )\n\u001b[0;32m   3999\u001b[0m \u001b[1;33m\u001b[0m\u001b[0m\n",
      "\u001b[1;32m~\\anaconda3\\lib\\site-packages\\pandas\\core\\generic.py\u001b[0m in \u001b[0;36mdrop\u001b[1;34m(self, labels, axis, index, columns, level, inplace, errors)\u001b[0m\n\u001b[0;32m   3934\u001b[0m         \u001b[1;32mfor\u001b[0m \u001b[0maxis\u001b[0m\u001b[1;33m,\u001b[0m \u001b[0mlabels\u001b[0m \u001b[1;32min\u001b[0m \u001b[0maxes\u001b[0m\u001b[1;33m.\u001b[0m\u001b[0mitems\u001b[0m\u001b[1;33m(\u001b[0m\u001b[1;33m)\u001b[0m\u001b[1;33m:\u001b[0m\u001b[1;33m\u001b[0m\u001b[1;33m\u001b[0m\u001b[0m\n\u001b[0;32m   3935\u001b[0m             \u001b[1;32mif\u001b[0m \u001b[0mlabels\u001b[0m \u001b[1;32mis\u001b[0m \u001b[1;32mnot\u001b[0m \u001b[1;32mNone\u001b[0m\u001b[1;33m:\u001b[0m\u001b[1;33m\u001b[0m\u001b[1;33m\u001b[0m\u001b[0m\n\u001b[1;32m-> 3936\u001b[1;33m                 \u001b[0mobj\u001b[0m \u001b[1;33m=\u001b[0m \u001b[0mobj\u001b[0m\u001b[1;33m.\u001b[0m\u001b[0m_drop_axis\u001b[0m\u001b[1;33m(\u001b[0m\u001b[0mlabels\u001b[0m\u001b[1;33m,\u001b[0m \u001b[0maxis\u001b[0m\u001b[1;33m,\u001b[0m \u001b[0mlevel\u001b[0m\u001b[1;33m=\u001b[0m\u001b[0mlevel\u001b[0m\u001b[1;33m,\u001b[0m \u001b[0merrors\u001b[0m\u001b[1;33m=\u001b[0m\u001b[0merrors\u001b[0m\u001b[1;33m)\u001b[0m\u001b[1;33m\u001b[0m\u001b[1;33m\u001b[0m\u001b[0m\n\u001b[0m\u001b[0;32m   3937\u001b[0m \u001b[1;33m\u001b[0m\u001b[0m\n\u001b[0;32m   3938\u001b[0m         \u001b[1;32mif\u001b[0m \u001b[0minplace\u001b[0m\u001b[1;33m:\u001b[0m\u001b[1;33m\u001b[0m\u001b[1;33m\u001b[0m\u001b[0m\n",
      "\u001b[1;32m~\\anaconda3\\lib\\site-packages\\pandas\\core\\generic.py\u001b[0m in \u001b[0;36m_drop_axis\u001b[1;34m(self, labels, axis, level, errors)\u001b[0m\n\u001b[0;32m   3968\u001b[0m                 \u001b[0mnew_axis\u001b[0m \u001b[1;33m=\u001b[0m \u001b[0maxis\u001b[0m\u001b[1;33m.\u001b[0m\u001b[0mdrop\u001b[0m\u001b[1;33m(\u001b[0m\u001b[0mlabels\u001b[0m\u001b[1;33m,\u001b[0m \u001b[0mlevel\u001b[0m\u001b[1;33m=\u001b[0m\u001b[0mlevel\u001b[0m\u001b[1;33m,\u001b[0m \u001b[0merrors\u001b[0m\u001b[1;33m=\u001b[0m\u001b[0merrors\u001b[0m\u001b[1;33m)\u001b[0m\u001b[1;33m\u001b[0m\u001b[1;33m\u001b[0m\u001b[0m\n\u001b[0;32m   3969\u001b[0m             \u001b[1;32melse\u001b[0m\u001b[1;33m:\u001b[0m\u001b[1;33m\u001b[0m\u001b[1;33m\u001b[0m\u001b[0m\n\u001b[1;32m-> 3970\u001b[1;33m                 \u001b[0mnew_axis\u001b[0m \u001b[1;33m=\u001b[0m \u001b[0maxis\u001b[0m\u001b[1;33m.\u001b[0m\u001b[0mdrop\u001b[0m\u001b[1;33m(\u001b[0m\u001b[0mlabels\u001b[0m\u001b[1;33m,\u001b[0m \u001b[0merrors\u001b[0m\u001b[1;33m=\u001b[0m\u001b[0merrors\u001b[0m\u001b[1;33m)\u001b[0m\u001b[1;33m\u001b[0m\u001b[1;33m\u001b[0m\u001b[0m\n\u001b[0m\u001b[0;32m   3971\u001b[0m             \u001b[0mresult\u001b[0m \u001b[1;33m=\u001b[0m \u001b[0mself\u001b[0m\u001b[1;33m.\u001b[0m\u001b[0mreindex\u001b[0m\u001b[1;33m(\u001b[0m\u001b[1;33m**\u001b[0m\u001b[1;33m{\u001b[0m\u001b[0maxis_name\u001b[0m\u001b[1;33m:\u001b[0m \u001b[0mnew_axis\u001b[0m\u001b[1;33m}\u001b[0m\u001b[1;33m)\u001b[0m\u001b[1;33m\u001b[0m\u001b[1;33m\u001b[0m\u001b[0m\n\u001b[0;32m   3972\u001b[0m \u001b[1;33m\u001b[0m\u001b[0m\n",
      "\u001b[1;32m~\\anaconda3\\lib\\site-packages\\pandas\\core\\indexes\\base.py\u001b[0m in \u001b[0;36mdrop\u001b[1;34m(self, labels, errors)\u001b[0m\n\u001b[0;32m   5016\u001b[0m         \u001b[1;32mif\u001b[0m \u001b[0mmask\u001b[0m\u001b[1;33m.\u001b[0m\u001b[0many\u001b[0m\u001b[1;33m(\u001b[0m\u001b[1;33m)\u001b[0m\u001b[1;33m:\u001b[0m\u001b[1;33m\u001b[0m\u001b[1;33m\u001b[0m\u001b[0m\n\u001b[0;32m   5017\u001b[0m             \u001b[1;32mif\u001b[0m \u001b[0merrors\u001b[0m \u001b[1;33m!=\u001b[0m \u001b[1;34m\"ignore\"\u001b[0m\u001b[1;33m:\u001b[0m\u001b[1;33m\u001b[0m\u001b[1;33m\u001b[0m\u001b[0m\n\u001b[1;32m-> 5018\u001b[1;33m                 \u001b[1;32mraise\u001b[0m \u001b[0mKeyError\u001b[0m\u001b[1;33m(\u001b[0m\u001b[1;34mf\"{labels[mask]} not found in axis\"\u001b[0m\u001b[1;33m)\u001b[0m\u001b[1;33m\u001b[0m\u001b[1;33m\u001b[0m\u001b[0m\n\u001b[0m\u001b[0;32m   5019\u001b[0m             \u001b[0mindexer\u001b[0m \u001b[1;33m=\u001b[0m \u001b[0mindexer\u001b[0m\u001b[1;33m[\u001b[0m\u001b[1;33m~\u001b[0m\u001b[0mmask\u001b[0m\u001b[1;33m]\u001b[0m\u001b[1;33m\u001b[0m\u001b[1;33m\u001b[0m\u001b[0m\n\u001b[0;32m   5020\u001b[0m         \u001b[1;32mreturn\u001b[0m \u001b[0mself\u001b[0m\u001b[1;33m.\u001b[0m\u001b[0mdelete\u001b[0m\u001b[1;33m(\u001b[0m\u001b[0mindexer\u001b[0m\u001b[1;33m)\u001b[0m\u001b[1;33m\u001b[0m\u001b[1;33m\u001b[0m\u001b[0m\n",
      "\u001b[1;31mKeyError\u001b[0m: \"['Benefits'] not found in axis\""
     ]
    }
   ],
   "source": [
    "df_NURSE.drop('Benefits', axis=1, inplace=True)\n",
    "df_NURSE.drop('Notes', axis=1, inplace=True)\n",
    "df_NURSE.drop('Status', axis=1, inplace=True)\n",
    "df_NURSE.drop('Agency', axis=1, inplace=True)\n",
    "#df_NURSE.drop('BasePay1', axis=1, inplace=True)"
   ]
  },
  {
   "cell_type": "code",
   "execution_count": 768,
   "metadata": {},
   "outputs": [],
   "source": [
    "df_NURSE.drop('JobTitle', axis=1, inplace=True)\n",
    "df_NURSE.drop('EmployeeName', axis=1, inplace=True)"
   ]
  },
  {
   "cell_type": "code",
   "execution_count": 769,
   "metadata": {},
   "outputs": [],
   "source": [
    "from sklearn.model_selection import train_test_split\n",
    "from sklearn.linear_model import LinearRegression\n",
    "from sklearn.metrics import mean_squared_error"
   ]
  },
  {
   "cell_type": "code",
   "execution_count": 770,
   "metadata": {
    "scrolled": true
   },
   "outputs": [
    {
     "data": {
      "text/html": [
       "<div>\n",
       "<style scoped>\n",
       "    .dataframe tbody tr th:only-of-type {\n",
       "        vertical-align: middle;\n",
       "    }\n",
       "\n",
       "    .dataframe tbody tr th {\n",
       "        vertical-align: top;\n",
       "    }\n",
       "\n",
       "    .dataframe thead th {\n",
       "        text-align: right;\n",
       "    }\n",
       "</style>\n",
       "<table border=\"1\" class=\"dataframe\">\n",
       "  <thead>\n",
       "    <tr style=\"text-align: right;\">\n",
       "      <th></th>\n",
       "      <th>Id</th>\n",
       "      <th>BasePay</th>\n",
       "      <th>OvertimePay</th>\n",
       "      <th>OtherPay</th>\n",
       "      <th>TotalPay</th>\n",
       "      <th>TotalPayBenefits</th>\n",
       "      <th>Year</th>\n",
       "    </tr>\n",
       "  </thead>\n",
       "  <tbody>\n",
       "    <tr>\n",
       "      <th>1175</th>\n",
       "      <td>1176</td>\n",
       "      <td>164,372.0</td>\n",
       "      <td>948.3</td>\n",
       "      <td>250.0</td>\n",
       "      <td>165,570.3</td>\n",
       "      <td>165,570.3</td>\n",
       "      <td>2011</td>\n",
       "    </tr>\n",
       "    <tr>\n",
       "      <th>1525</th>\n",
       "      <td>1526</td>\n",
       "      <td>156,306.9</td>\n",
       "      <td>502.0</td>\n",
       "      <td>3,859.6</td>\n",
       "      <td>160,668.5</td>\n",
       "      <td>160,668.5</td>\n",
       "      <td>2011</td>\n",
       "    </tr>\n",
       "    <tr>\n",
       "      <th>3402</th>\n",
       "      <td>3403</td>\n",
       "      <td>136,049.1</td>\n",
       "      <td>500.3</td>\n",
       "      <td>250.0</td>\n",
       "      <td>136,799.5</td>\n",
       "      <td>136,799.5</td>\n",
       "      <td>2011</td>\n",
       "    </tr>\n",
       "    <tr>\n",
       "      <th>4528</th>\n",
       "      <td>4529</td>\n",
       "      <td>121,528.7</td>\n",
       "      <td>3,242.5</td>\n",
       "      <td>2,848.8</td>\n",
       "      <td>127,620.0</td>\n",
       "      <td>127,620.0</td>\n",
       "      <td>2011</td>\n",
       "    </tr>\n",
       "    <tr>\n",
       "      <th>28179</th>\n",
       "      <td>28180</td>\n",
       "      <td>9,196.5</td>\n",
       "      <td>38.3</td>\n",
       "      <td>19,170.1</td>\n",
       "      <td>28,405.0</td>\n",
       "      <td>28,405.0</td>\n",
       "      <td>2011</td>\n",
       "    </tr>\n",
       "    <tr>\n",
       "      <th>36680</th>\n",
       "      <td>36681</td>\n",
       "      <td>178,968.0</td>\n",
       "      <td>2,113.2</td>\n",
       "      <td>250.0</td>\n",
       "      <td>181,331.2</td>\n",
       "      <td>244,198.0</td>\n",
       "      <td>2012</td>\n",
       "    </tr>\n",
       "    <tr>\n",
       "      <th>36896</th>\n",
       "      <td>36897</td>\n",
       "      <td>168,143.3</td>\n",
       "      <td>1,632.5</td>\n",
       "      <td>4,215.4</td>\n",
       "      <td>173,991.2</td>\n",
       "      <td>235,665.3</td>\n",
       "      <td>2012</td>\n",
       "    </tr>\n",
       "    <tr>\n",
       "      <th>42029</th>\n",
       "      <td>42030</td>\n",
       "      <td>94,440.0</td>\n",
       "      <td>1,798.9</td>\n",
       "      <td>26,616.3</td>\n",
       "      <td>122,855.2</td>\n",
       "      <td>164,514.2</td>\n",
       "      <td>2012</td>\n",
       "    </tr>\n",
       "    <tr>\n",
       "      <th>73658</th>\n",
       "      <td>73659</td>\n",
       "      <td>190,188.0</td>\n",
       "      <td>1,056.6</td>\n",
       "      <td>250.0</td>\n",
       "      <td>191,494.6</td>\n",
       "      <td>246,596.4</td>\n",
       "      <td>2013</td>\n",
       "    </tr>\n",
       "    <tr>\n",
       "      <th>73668</th>\n",
       "      <td>73669</td>\n",
       "      <td>190,188.0</td>\n",
       "      <td>1,056.6</td>\n",
       "      <td>487.8</td>\n",
       "      <td>191,732.4</td>\n",
       "      <td>246,324.6</td>\n",
       "      <td>2013</td>\n",
       "    </tr>\n",
       "    <tr>\n",
       "      <th>73817</th>\n",
       "      <td>73818</td>\n",
       "      <td>178,436.0</td>\n",
       "      <td>3,165.7</td>\n",
       "      <td>4,281.8</td>\n",
       "      <td>185,883.5</td>\n",
       "      <td>239,263.8</td>\n",
       "      <td>2013</td>\n",
       "    </tr>\n",
       "    <tr>\n",
       "      <th>90012</th>\n",
       "      <td>90013</td>\n",
       "      <td>78,175.3</td>\n",
       "      <td>339.8</td>\n",
       "      <td>2,736.1</td>\n",
       "      <td>81,251.2</td>\n",
       "      <td>107,724.9</td>\n",
       "      <td>2013</td>\n",
       "    </tr>\n",
       "    <tr>\n",
       "      <th>111316</th>\n",
       "      <td>111317</td>\n",
       "      <td>183,148.0</td>\n",
       "      <td>2,079.2</td>\n",
       "      <td>250.0</td>\n",
       "      <td>185,477.1</td>\n",
       "      <td>242,124.5</td>\n",
       "      <td>2014</td>\n",
       "    </tr>\n",
       "    <tr>\n",
       "      <th>111563</th>\n",
       "      <td>111564</td>\n",
       "      <td>177,426.5</td>\n",
       "      <td>1,792.7</td>\n",
       "      <td>1,149.3</td>\n",
       "      <td>180,368.4</td>\n",
       "      <td>235,866.1</td>\n",
       "      <td>2014</td>\n",
       "    </tr>\n",
       "    <tr>\n",
       "      <th>111629</th>\n",
       "      <td>111630</td>\n",
       "      <td>177,597.0</td>\n",
       "      <td>496.6</td>\n",
       "      <td>250.0</td>\n",
       "      <td>178,343.6</td>\n",
       "      <td>233,694.2</td>\n",
       "      <td>2014</td>\n",
       "    </tr>\n",
       "    <tr>\n",
       "      <th>112206</th>\n",
       "      <td>112207</td>\n",
       "      <td>165,981.0</td>\n",
       "      <td>1,022.4</td>\n",
       "      <td>1,641.9</td>\n",
       "      <td>168,645.3</td>\n",
       "      <td>219,536.7</td>\n",
       "      <td>2014</td>\n",
       "    </tr>\n",
       "    <tr>\n",
       "      <th>115119</th>\n",
       "      <td>115120</td>\n",
       "      <td>131,152.0</td>\n",
       "      <td>2,064.4</td>\n",
       "      <td>491.6</td>\n",
       "      <td>133,708.1</td>\n",
       "      <td>179,603.3</td>\n",
       "      <td>2014</td>\n",
       "    </tr>\n",
       "  </tbody>\n",
       "</table>\n",
       "</div>"
      ],
      "text/plain": [
       "            Id   BasePay  OvertimePay  OtherPay  TotalPay  TotalPayBenefits  \\\n",
       "1175      1176 164,372.0        948.3     250.0 165,570.3         165,570.3   \n",
       "1525      1526 156,306.9        502.0   3,859.6 160,668.5         160,668.5   \n",
       "3402      3403 136,049.1        500.3     250.0 136,799.5         136,799.5   \n",
       "4528      4529 121,528.7      3,242.5   2,848.8 127,620.0         127,620.0   \n",
       "28179    28180   9,196.5         38.3  19,170.1  28,405.0          28,405.0   \n",
       "36680    36681 178,968.0      2,113.2     250.0 181,331.2         244,198.0   \n",
       "36896    36897 168,143.3      1,632.5   4,215.4 173,991.2         235,665.3   \n",
       "42029    42030  94,440.0      1,798.9  26,616.3 122,855.2         164,514.2   \n",
       "73658    73659 190,188.0      1,056.6     250.0 191,494.6         246,596.4   \n",
       "73668    73669 190,188.0      1,056.6     487.8 191,732.4         246,324.6   \n",
       "73817    73818 178,436.0      3,165.7   4,281.8 185,883.5         239,263.8   \n",
       "90012    90013  78,175.3        339.8   2,736.1  81,251.2         107,724.9   \n",
       "111316  111317 183,148.0      2,079.2     250.0 185,477.1         242,124.5   \n",
       "111563  111564 177,426.5      1,792.7   1,149.3 180,368.4         235,866.1   \n",
       "111629  111630 177,597.0        496.6     250.0 178,343.6         233,694.2   \n",
       "112206  112207 165,981.0      1,022.4   1,641.9 168,645.3         219,536.7   \n",
       "115119  115120 131,152.0      2,064.4     491.6 133,708.1         179,603.3   \n",
       "\n",
       "        Year  \n",
       "1175    2011  \n",
       "1525    2011  \n",
       "3402    2011  \n",
       "4528    2011  \n",
       "28179   2011  \n",
       "36680   2012  \n",
       "36896   2012  \n",
       "42029   2012  \n",
       "73658   2013  \n",
       "73668   2013  \n",
       "73817   2013  \n",
       "90012   2013  \n",
       "111316  2014  \n",
       "111563  2014  \n",
       "111629  2014  \n",
       "112206  2014  \n",
       "115119  2014  "
      ]
     },
     "execution_count": 770,
     "metadata": {},
     "output_type": "execute_result"
    }
   ],
   "source": [
    "df_NURSE\n"
   ]
  },
  {
   "cell_type": "code",
   "execution_count": 771,
   "metadata": {},
   "outputs": [],
   "source": [
    "# удалим общую сумму TotalPay , разобью базу на тестовую и учебную  на 25 и 75%\n",
    "X_train, X_test, y_train, y_test = train_test_split(df_NURSE.drop('TotalPay',axis=1), df_NURSE['TotalPay'], test_size=0.25, random_state=42)"
   ]
  },
  {
   "cell_type": "code",
   "execution_count": 772,
   "metadata": {
    "scrolled": true
   },
   "outputs": [
    {
     "name": "stdout",
     "output_type": "stream",
     "text": [
      "3.938703204732497e-21\n"
     ]
    }
   ],
   "source": [
    "# линейная регрессия\n",
    "reg = LinearRegression().fit(X_train, y_train)  # создаем модель\n",
    "pred = reg.predict(X_test)   # предсказание\n",
    "\n",
    "print(mean_squared_error(y_test, pred, squared=True))  # что было - True и что стало, находим среднеквадратичное \n",
    "# метод mean_squared_error"
   ]
  },
  {
   "cell_type": "code",
   "execution_count": 773,
   "metadata": {
    "scrolled": true
   },
   "outputs": [
    {
     "data": {
      "image/png": "[encoded data removed]",
      "text/plain": [
       "<Figure size 720x360 with 1 Axes>"
      ]
     },
     "metadata": {
      "needs_background": "light"
     },
     "output_type": "display_data"
    }
   ],
   "source": [
    "# посмотрим насколько идеальна модель -  совпадает\n",
    "plt.figure(figsize=(10,5))\n",
    "plt.plot(y_test.values, \"blue\",linewidth=5, label='Реальные значения', alpha=0.5)\n",
    "plt.plot(pred, \"red\",linewidth=5, label='Предсказание')\n",
    "plt.legend(loc='best')\n",
    "plt.show()"
   ]
  },
  {
   "cell_type": "markdown",
   "metadata": {},
   "source": [
    "в моем случае получается графики совпали - предположение - мало данных"
   ]
  },
  {
   "cell_type": "markdown",
   "metadata": {},
   "source": [
    "# рассмотрим вариант когда взяты в работу значения - зп сотрудников за полный рабочий день\n",
    "взята общая зп (с учетом сверхурочных часов и льгот)"
   ]
  },
  {
   "cell_type": "code",
   "execution_count": 656,
   "metadata": {},
   "outputs": [],
   "source": [
    "pd.options.display.float_format = '{:,.1f}'.format #чтобы округлял значения до сотых:"
   ]
  },
  {
   "cell_type": "code",
   "execution_count": 662,
   "metadata": {},
   "outputs": [],
   "source": [
    "# группирую по ключевым словам относяшимся к департаменту - медицина\n",
    "MEDICAL=['PATIENT','PARAMEDIC','MEDICAL','NURSE','MENTAL','HEALTH','PHYSICIAN','PSYCHIATRIC','NURSING','HOSPITAL','PHYSICAL','THERAP','PHARMAC','PSYCHOLOGIST','X-RAY','NUTRITIONIST','DIETITIAN','ANESTHETIST','EPIDEMIOLOGIST','DENTAL','CLINICAL','REHABILITATION','HLTH','PATHOLOGIST','DISEASE','CARE','SURGICAL','DENTIST','MORGUE','REHABILITATION','PATIENT','MED STAFF','EPIDEMIOLOGIST']\n",
    "df_MEDICAL = pd.DataFrame()\n",
    "for i in MEDICAL:\n",
    "    df_MEDICAL = df_MEDICAL.append(df[df['JobTitle'].str.upper().str.contains(i)&(df['Status']==1)])\n",
    "\n",
    "\n",
    "# группируем TotalPay с разбивкой по годам\n",
    "dr3=df_MEDICAL.groupby(['Year'])['TotalPay'].median()\n",
    "k3=round(dr3.median(),2)\n"
   ]
  },
  {
   "cell_type": "code",
   "execution_count": 587,
   "metadata": {
    "scrolled": true
   },
   "outputs": [],
   "source": [
    "# группирую по ключевым словам относяшимся к департаменту - полиция\n",
    "POLICE=['Sergeant','OFFICER','POLICE','Captain','Investigator','ATTORNEY','Criminalist','Examiner','Fingerprint','RESEARCH','Inspector','Fingerprint','Technician','Engineering','Assistant','Criminal','COMMISSIONER','ATTORNEY','Service','Witness']\n",
    "\n",
    "df_POLICE = pd.DataFrame()\n",
    "for i in POLICE:\n",
    "    df_POLICE = df_POLICE.append(df[df['JobTitle'].str.upper().str.contains(i)&(df['Status']==1)])\n",
    "\n",
    "    #РАЗБИВКА  общей суммы по годам \n",
    "dr2=df_POLICE.groupby(['Year'])['TotalPay'].median()\n",
    "k2=dr2.median()\n"
   ]
  },
  {
   "cell_type": "code",
   "execution_count": null,
   "metadata": {},
   "outputs": [],
   "source": []
  },
  {
   "cell_type": "code",
   "execution_count": 591,
   "metadata": {},
   "outputs": [
    {
     "data": {
      "text/plain": [
       "160607.83"
      ]
     },
     "execution_count": 591,
     "metadata": {},
     "output_type": "execute_result"
    }
   ],
   "source": [
    "# группирую по ключевым словам относяшимся к департаменту - пожарные\n",
    "FIRE=['FIRE']\n",
    "\n",
    "df_FIRE = pd.DataFrame()\n",
    "for i in FIRE:\n",
    "    df_FIRE = df_FIRE.append(df[df['JobTitle'].str.upper().str.contains(i)&(df['Status']==1)])\n",
    "    #РАЗБИВКА общей суммы по годам\n",
    "dr1=df_FIRE.groupby(['Year'])['TotalPay'].median() \n",
    "k1=dr1.median()\n",
    "k1"
   ]
  },
  {
   "cell_type": "code",
   "execution_count": 664,
   "metadata": {
    "scrolled": true
   },
   "outputs": [
    {
     "data": {
      "image/png": "[encoded data removed]",
      "text/plain": [
       "<Figure size 432x288 with 1 Axes>"
      ]
     },
     "metadata": {},
     "output_type": "display_data"
    }
   ],
   "source": [
    "#или график инфляции изобразим в виде круговой диаграммы\n",
    "color = ['green','blue','red']\n",
    "values = [k3,k2,k1]\n",
    "labels=[k3,k2,k1]\n",
    "plt.pie(values,labels=labels,colors=color,autopct='%.1f%%')\n",
    "plt.axis('equal')\n",
    "plt.show()\n"
   ]
  },
  {
   "cell_type": "markdown",
   "metadata": {},
   "source": [
    "вывод - в любом случае - зп сотрудников пожарных самая большая"
   ]
  }
 ],
 "metadata": {
  "kernelspec": {
   "display_name": "Python 3",
   "language": "python",
   "name": "python3"
  },
  "language_info": {
   "codemirror_mode": {
    "name": "ipython",
    "version": 3
   },
   "file_extension": ".py",
   "mimetype": "text/x-python",
   "name": "python",
   "nbconvert_exporter": "python",
   "pygments_lexer": "ipython3",
   "version": "3.7.6"
  }
 },
 "nbformat": 4,
 "nbformat_minor": 4
}
