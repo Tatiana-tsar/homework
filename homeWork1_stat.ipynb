{
 "cells": [
  {
   "cell_type": "markdown",
   "metadata": {
    "id": "pDrecLU-4QjS"
   },
   "source": [
    "# Практика  ДОмАШНЯЯ работа"
   ]
  },
  {
   "cell_type": "code",
   "execution_count": 12,
   "metadata": {},
   "outputs": [],
   "source": [
    "import pandas as pd\n",
    "import numpy as np\n",
    "import matplotlib.pyplot as plt\n",
    "import scipy.stats as sts\n",
    "%matplotlib inline\n",
    "import random\n"
   ]
  },
  {
   "cell_type": "markdown",
   "metadata": {
    "id": "gUvTNDlMaV-a"
   },
   "source": [
    "## Определение вероятности. События\n",
    "\n",
    "Требуется сгенерировать необходимые выборки и произвести по ним расчеты"
   ]
  },
  {
   "cell_type": "code",
   "execution_count": null,
   "metadata": {},
   "outputs": [],
   "source": [
    "mu = 1\n",
    "sigma = 0\n",
    "\n",
    "norm_rv = sts.norm(loc=mu, scale=sigma)\n",
    "\n",
    "# сгенерировать 10 значений \n",
    "norm_rv.rvs(size=10)"
   ]
  },
  {
   "cell_type": "code",
   "execution_count": null,
   "metadata": {},
   "outputs": [],
   "source": [
    "heads = 0\n",
    "tails = 0\n",
    "cointoss = 0\n",
    "for i in range(0, 100):\n",
    "    coinresult = random.randint(0,1)\n",
    "    \n",
    "    \n",
    "    \n",
    "    if coinresult == 1:\n",
    "        heads += 1\n",
    "    else:\n",
    "        tails += 1\n",
    "print(\"Heads came up\", heads, \"times\")\n",
    "print(\"Tails came up\", tails, \"times\")"
   ]
  },
  {
   "cell_type": "markdown",
   "metadata": {
    "id": "5V70InEBTgup"
   },
   "source": [
    "### Задача 1\n",
    "Брошено две монеты. Найти вероятность того, что монеты выпали разными сторонами"
   ]
  },
  {
   "cell_type": "code",
   "execution_count": 25,
   "metadata": {
    "scrolled": true
   },
   "outputs": [
    {
     "name": "stdout",
     "output_type": "stream",
     "text": [
      "1 1\n",
      "1 1\n",
      "1 1\n",
      "1 0\n",
      "1 1\n",
      "1 1\n",
      "1 1\n",
      "1 0\n",
      "0 0\n",
      "0 0\n",
      "0 0\n",
      "0 1\n",
      "1 0\n",
      "0 1\n",
      "0 0\n",
      "0 0\n",
      "0 0\n",
      "0 0\n",
      "1 1\n",
      "0 1\n",
      "1 1\n",
      "1 0\n",
      "1 0\n",
      "0 1\n",
      "0 1\n",
      "0 0\n",
      "0 0\n",
      "1 1\n",
      "0 0\n",
      "0 1\n",
      "Вероятность что монеты выпали разными сторонами 0.4\n"
     ]
    }
   ],
   "source": [
    "kol=30\n",
    "cointoss = 0\n",
    "for i in range(0, kol):\n",
    "    many_1 = random.randint(0,1)\n",
    "    many_2 = random.randint(0,1)\n",
    "    if int(many_1)!=int(many_2):\n",
    "        cointoss+=1\n",
    "    print(many_1,many_2)\n",
    "\n",
    "P=round(cointoss/kol,1)\n",
    "print('Вероятность что монеты выпали разными сторонами',P)\n",
    "\n",
    "   "
   ]
  },
  {
   "cell_type": "markdown",
   "metadata": {
    "id": "t0XOMos2Tl0e"
   },
   "source": [
    "### Задача 2\n",
    "Брошено три монеты. Описать множество всех элементарных событий. Найти вероятности следующих событий:\n",
    "\n",
    "\n",
    "1.   A = {не выпало ни одного герба}\n",
    "2.   B = {выпало четное число гербов}\n",
    "3.   C = {на третьей монете выпал герб}\n"
   ]
  },
  {
   "cell_type": "code",
   "execution_count": 71,
   "metadata": {
    "id": "o7NjAE9uUo-L",
    "scrolled": true
   },
   "outputs": [
    {
     "name": "stdout",
     "output_type": "stream",
     "text": [
      "0 0 1\n",
      "0 1 1\n",
      "1 0 1\n",
      "1 1 1\n",
      "1 0 1\n",
      "1 1 0\n",
      "0 0 0\n",
      "1 1 1\n",
      "0 1 1\n",
      "1 0 1\n",
      "0 0 0\n",
      "1 0 1\n",
      "0 0 1\n",
      "1 1 1\n",
      "1 0 0\n",
      "0 0 0\n",
      "0 0 1\n",
      "0 1 1\n",
      "0 1 1\n",
      "0 0 1\n",
      "0 1 0\n",
      "0 0 0\n",
      "0 0 0\n",
      "1 0 0\n",
      "0 0 1\n",
      "0 0 1\n",
      "0 1 1\n",
      "1 1 0\n",
      "0 0 0\n",
      "1 0 0\n",
      "Вероятность что, не выпало ни одного герба из  30 бросков равна 0.2\n",
      "Вероятность что, выпало четное число гербов из 30 бросков равна 0.8\n",
      "Вероятность что, на третьей монете выпал герб из 30 бросков равна 0.6\n"
     ]
    }
   ],
   "source": [
    "# пусть герб =1, решка = 0\n",
    "coint_Gerb_chet=coint_Gerb=coint_Gerb_3=0\n",
    "kol=30\n",
    "for i in range(0, kol):\n",
    "    many_1 = random.randint(0,1)\n",
    "    many_2 = random.randint(0,1)\n",
    "    many_3 = random.randint(0,1)\n",
    "    if int(many_1)==int(many_2)==int(many_3) and int(many_1)!=1:\n",
    "        coint_Gerb+=1\n",
    "    if ( int(many_1)==int(many_2) or int(many_1)==int(many_3) or int(many_3)==int(many_2)) and (int(many_1)==1 or int(many_2)==1 or int(many_3)==1):\n",
    "        coint_Gerb_chet+=1\n",
    "    if int(many_3)==1:\n",
    "        coint_Gerb_3+=1\n",
    "    print(many_1, many_2,many_3)\n",
    "P1=round(coint_Gerb/kol,1)\n",
    "P2=round(coint_Gerb_chet/kol,1)\n",
    "P3=round(coint_Gerb_3/kol,1)\n",
    "#print(\"{}: {}\".format(N, counts/N))\n",
    "print('Вероятность что, не выпало ни одного герба из ',kol,'бросков равна',P1)\n",
    "print('Вероятность что, выпало четное число гербов из',kol,'бросков равна',P2)\n",
    "print('Вероятность что, на третьей монете выпал герб из',kol,'бросков равна',P3)\n",
    "      "
   ]
  },
  {
   "cell_type": "markdown",
   "metadata": {},
   "source": [
    "Предлагается также решить задачи: \n",
    "\n",
    "### Задача 3\n",
    "Из двух претендентов E и L на ответственную должность три члена комиссии должны отобрать одного. Каждый член комиссии должен указать либо одного достойного, либо забраковать обоих. Претендент считается выбранным, если он был признана достойным хотя бы двумя членами комиссии.\n",
    "Найти вероятность событий:\n",
    "\n",
    "A = {рекомендован L}, B = {рекомендован E}\n"
   ]
  },
  {
   "cell_type": "code",
   "execution_count": null,
   "metadata": {},
   "outputs": [],
   "source": []
  },
  {
   "cell_type": "markdown",
   "metadata": {
    "id": "peM38mVfYa5B"
   },
   "source": [
    "### Задача 4\n",
    "Брошено две игральных кости. Описать множество элементарных событий. Найти вероятности событий:\n",
    "\n",
    "A = {вышло две \"шестерки\"}\n",
    "\n",
    "B = {сумма выпавших очков не меньше 11}\n",
    "\n",
    "C = {не выпала ни одна \"шестерка\"}"
   ]
  },
  {
   "cell_type": "code",
   "execution_count": 23,
   "metadata": {
    "scrolled": true
   },
   "outputs": [
    {
     "name": "stdout",
     "output_type": "stream",
     "text": [
      "[3 3 5 6 3 6 2 3 5 2 4 4 4 5 4 6 5 5 2 2 1 3 4 4 1 1 6 2 2 2 6 6 6 2 2 3 4\n",
      " 3 5 3 5 6 1 2 5 3 1 3 2 4 5 6 5 1 1 2 6 2 6 6 6 5 3 2 2 5 5 4 5 1 6 1 2 2\n",
      " 6 2 2 6 5 4 5 4 6 6 3 1 2 4 4 5 3 4 3 2 1 3 2 5 1 4]\n",
      "[2 1 5 1 3 5 1 5 1 5 4 6 6 1 6 4 2 4 4 5 4 1 4 3 4 4 3 5 5 1 6 6 4 1 5 4 2\n",
      " 2 4 3 1 1 5 3 1 3 3 6 2 1 6 1 1 2 2 6 3 1 2 1 1 6 3 1 4 3 3 5 5 2 2 4 3 3\n",
      " 6 3 1 4 5 3 3 6 5 5 4 5 2 5 6 1 3 1 4 4 1 4 3 1 5 5]\n",
      " вероятности событий, что вышло две \"шестерки\" 0.03\n",
      " вероятности событий, сумма выпавших очков не меньше 11- 0.03\n",
      " вероятности событий, что не выпала ни одна \"шестерка\" 0.73\n"
     ]
    }
   ],
   "source": [
    "N = 100\n",
    "kol1=kol2=kol3=0\n",
    "sample1 = np.random.choice([1,2,3,4,5,6], N)\n",
    "sample2 = np.random.choice([1,2,3,4,5,6], N)\n",
    "print(sample1)\n",
    "print(sample2)\n",
    "for i in range(0, N):\n",
    "    if sample1[i]==sample2[i] and sample1[i]==6:\n",
    "        kol1+=1\n",
    "        \n",
    "    if (sample1[i]+sample2[i]) >11:\n",
    "        kol2+=1\n",
    "        \n",
    "    if sample1[i]!=6 and sample2[i]!=6: \n",
    "        kol3+=1\n",
    "print(' вероятности событий, что вышло две \"шестерки\"',kol1/N)   \n",
    "print(' вероятности событий, сумма выпавших очков не меньше 11-',kol2/N) \n",
    "print(' вероятности событий, что не выпала ни одна \"шестерка\"',kol3/N) "
   ]
  },
  {
   "cell_type": "markdown",
   "metadata": {
    "id": "f-Bi0p8haclB"
   },
   "source": [
    "## Вероятность суммы событий"
   ]
  },
  {
   "cell_type": "markdown",
   "metadata": {
    "id": "g7A7QlvGTnwZ"
   },
   "source": [
    "### Задача 5\n",
    "Брошены две игральные кости. Найти вероятность события D = {выпала хотя бы одна шестёрка}\n"
   ]
  },
  {
   "cell_type": "code",
   "execution_count": 20,
   "metadata": {
    "id": "vjtTJN-kUp9D"
   },
   "outputs": [
    {
     "name": "stdout",
     "output_type": "stream",
     "text": [
      " вероятности событий,при броске=  10  выпадет хотя бы одна шестёрка 0.2\n",
      " вероятности событий,при броске=  100  выпадет хотя бы одна шестёрка 0.33\n",
      " вероятности событий,при броске=  1000  выпадет хотя бы одна шестёрка 0.325\n",
      " вероятности событий,при броске=  10000  выпадет хотя бы одна шестёрка 0.3005\n",
      " вероятности событий,при броске=  100000  выпадет хотя бы одна шестёрка 0.30677\n"
     ]
    }
   ],
   "source": [
    "N = 100\n",
    "for N in [10, 100, 1000, 10000, 100000]:\n",
    "    kol1=kol2=kol3=0\n",
    "    sample1 = np.random.choice([1,2,3,4,5,6], N)\n",
    "    sample2 = np.random.choice([1,2,3,4,5,6], N)\n",
    "    #print(sample1)\n",
    "    #print(sample2)\n",
    "\n",
    "    num_tel=pd.DataFrame(zip(sample1,sample2),columns=['Num1','Num2'])\n",
    "\n",
    "    P= num_tel[(num_tel['Num1']==6) | (num_tel['Num2']==6)].shape[0]/N\n",
    "\n",
    "    print(' вероятности событий,при броске= ',N,' выпадет хотя бы одна шестёрка',P)   \n"
   ]
  },
  {
   "cell_type": "markdown",
   "metadata": {
    "id": "R1bYSzQQbC6I"
   },
   "source": [
    "Предлагается также решить задачи: \n",
    "\n",
    "### Задача 6\n",
    "В телефонном номере три последние цифры стерлись. Считая, что все возможные значения стершихся цифр равновероятны, найти вероятность событий:\n",
    "\n",
    "A = {Стерлись различные цифры},\n",
    "\n",
    "B = {Стерлись одинаковые цифры},\n",
    "\n",
    "C = {Среди стершихся цифр хотя бы две совпадают},\n",
    "\n",
    "D = {Среди стершихся цифр хотя бы две различны}\n"
   ]
  },
  {
   "cell_type": "code",
   "execution_count": 134,
   "metadata": {
    "scrolled": false
   },
   "outputs": [
    {
     "name": "stdout",
     "output_type": "stream",
     "text": [
      "Вероятность при N= 10  Стерлись различные цифры 0.7\n",
      "Стерлись Стерлись одинаковые цифры 0.0\n",
      "Среди стершихся цифр хотя бы две совпадают 0.3\n",
      "Среди стершихся цифр хотя бы две различны 1.0\n",
      "Вероятность при N= 100  Стерлись различные цифры 0.69\n",
      "Стерлись Стерлись одинаковые цифры 0.01\n",
      "Среди стершихся цифр хотя бы две совпадают 0.31\n",
      "Среди стершихся цифр хотя бы две различны 0.99\n",
      "Вероятность при N= 1000  Стерлись различные цифры 0.729\n",
      "Стерлись Стерлись одинаковые цифры 0.011\n",
      "Среди стершихся цифр хотя бы две совпадают 0.271\n",
      "Среди стершихся цифр хотя бы две различны 0.989\n",
      "Вероятность при N= 10000  Стерлись различные цифры 0.7201\n",
      "Стерлись Стерлись одинаковые цифры 0.0108\n",
      "Среди стершихся цифр хотя бы две совпадают 0.2799\n",
      "Среди стершихся цифр хотя бы две различны 0.9892\n",
      "Вероятность при N= 100000  Стерлись различные цифры 0.71955\n",
      "Стерлись Стерлись одинаковые цифры 0.00987\n",
      "Среди стершихся цифр хотя бы две совпадают 0.28045\n",
      "Среди стершихся цифр хотя бы две различны 0.99013\n"
     ]
    }
   ],
   "source": [
    "\n",
    "for N in [10, 100, 1000, 10000, 100000]:\n",
    "    kol1=kol2=kol3=kol4=0\n",
    "    sample1 = np.random.choice([0,1,2,3,4,5,6,7,8,9], N)\n",
    "    sample2 = np.random.choice([0,1,2,3,4,5,6,7,8,9], N)\n",
    "    sample3 = np.random.choice([0,1,2,3,4,5,6,7,8,9], N)\n",
    "\n",
    "#print(sample1)\n",
    "#print(sample2)\n",
    "#print(sample3)\n",
    "    num_tel=pd.DataFrame(zip(sample1,sample2,sample3),columns=['Num1','Num2','Num3'])\n",
    "    #print(num_tel)\n",
    "\n",
    "    for i in range(0,N):\n",
    "        if num_tel['Num1'][i]!=num_tel['Num2'][i] and num_tel['Num1'][i]!=num_tel['Num3'][i] and num_tel['Num2'][i]!=num_tel['Num3'][i]:\n",
    "                kol1+=1\n",
    "        if num_tel['Num1'][i]==num_tel['Num2'][i]==num_tel['Num3'][i]:\n",
    "                kol2+=1        \n",
    "        if num_tel['Num1'][i]==num_tel['Num2'][i] or num_tel['Num1'][i]==num_tel['Num3'][i] or num_tel['Num2'][i]==num_tel['Num3'][i]:\n",
    "                kol3+=1  \n",
    "        if num_tel['Num1'][i]!=num_tel['Num2'][i] or num_tel['Num1'][i]!=num_tel['Num3'][i] or num_tel['Num2'][i]!=num_tel['Num3'][i]:\n",
    "                kol4+=1          \n",
    "    print('Вероятность при N=',N,' Стерлись различные цифры',kol1/N)\n",
    "    print('Стерлись Стерлись одинаковые цифры',kol2/N)\n",
    "    print('Среди стершихся цифр хотя бы две совпадают',kol3/N)\n",
    "    print('Среди стершихся цифр хотя бы две различны',kol4/N)\n",
    "      \n",
    "    "
   ]
  },
  {
   "cell_type": "markdown",
   "metadata": {
    "id": "RnugkR8BalK_"
   },
   "source": [
    "## Случайные величины"
   ]
  },
  {
   "cell_type": "markdown",
   "metadata": {
    "id": "yLoZDZ17UVsp"
   },
   "source": [
    "### Задача 7\n",
    "В лотерее имеется 10 билетов, из которых один выигрышный. Размер выигрыша 10 ден. ед.; стоимость билета 1 ден ед. Найти закон распределения случайной величины X, равной чистому выигрышу участника лотереи, который вытаскивает билет первым."
   ]
  },
  {
   "cell_type": "code",
   "execution_count": 11,
   "metadata": {
    "id": "oNk432sKUqzT"
   },
   "outputs": [
    {
     "data": {
      "text/plain": [
       "[<matplotlib.lines.Line2D at 0xb079e08>]"
      ]
     },
     "execution_count": 11,
     "metadata": {},
     "output_type": "execute_result"
    },
    {
     "data": {
      "image/png": "[encoded data removed]",
      "text/plain": [
       "<Figure size 432x288 with 1 Axes>"
      ]
     },
     "metadata": {
      "needs_background": "light"
     },
     "output_type": "display_data"
    }
   ],
   "source": [
    "#закон распределения 1/10=0.1\n",
    "#выигрыш- количество (1,0)\n",
    "#выигрыш сумма (10, 0)\n",
    "#Мат. ожидание Mx=10р*(1/10)=1\n",
    "#x:10,0\n",
    "#P:0.1,0.9\n",
    "\n",
    "norm_rv = sts.norm(0, 1)\n",
    "#cdf = norm_rv.cdf(x)\n",
    "plt.plot(x, cdf, label='Теоретическая функция распределения')\n",
    "\n",
    "pdf = norm_rv.pdf(x)\n",
    "plt.plot(x, pdf, label='теоретическая плотность', alpha=0.5)\n",
    "#to_fill = np.linspace(-1.96, 1.96, 100)\n",
    "#plt.fill_between(to_fill, norm_rv.pdf(to_fill), alpha=0.5, color='green')\n",
    "\n",
    "\n",
    "#binomial_rv = sts.binom(20, 0.1) # 20 испытаний с вероятностью успеха 0.1\n",
    "#binomial_rv.rvs(10)"
   ]
  },
  {
   "cell_type": "markdown",
   "metadata": {
    "id": "U-NK9liSbpvb"
   },
   "source": [
    "Предлагается также решить задачу: \n",
    "\n",
    "### Задача 8\n",
    "Брошены две игральные кости. Найти закон распределения случайной величины $X$, равной сумме выпавших очков. Найти вероятности событий ${X <= 4}$, ${X > 4}$"
   ]
  },
  {
   "cell_type": "code",
   "execution_count": null,
   "metadata": {},
   "outputs": [],
   "source": []
  },
  {
   "cell_type": "markdown",
   "metadata": {
    "id": "shgW4D83awjK"
   },
   "source": [
    "## Условные вероятности"
   ]
  },
  {
   "cell_type": "markdown",
   "metadata": {
    "id": "Fbu1RFZwWZrk"
   },
   "source": [
    "### Задача 9\n",
    "Из колоды (36 карт) вынимают последовательно без возвращения две карты. Найти вероятность того, что первой картой была шестерка, а второй — семерка. Найти условную вероятность того же события при условии, что обе карты бубновой масти.\n"
   ]
  },
  {
   "cell_type": "code",
   "execution_count": null,
   "metadata": {
    "id": "037o56awW9-E"
   },
   "outputs": [],
   "source": [
    "# выпадение шестерки - 4/36=1/9, выпадение семерки 4/35\n",
    "# условная вероятность P(A)=1/9*4/35=4/315  P(AB)= 1/(36*36)  P(B)=9*8/36*35  P(A/B)=P(AB)/P(B)=1/72\n",
    "\n",
    "????\n",
    "\n"
   ]
  },
  {
   "cell_type": "markdown",
   "metadata": {
    "id": "hNVxtaz5c57b"
   },
   "source": [
    "Предлагается также решить задачу: \n",
    "\n",
    "### Задача 10\n",
    "Из урны, содержащей два белых и три черных шара, последовательно извлекают два шара; вынутые шары не возвращаются. Если первый шар оказался черным, то перед вторым извлечением в урну добавляют белый шар. В противном случае состав оставшихся шаров не меняют. Найти вероятности событий:\n",
    "\n",
    "$A$ = {извлечены два белых шара},\n",
    "\n",
    "$B$ = {извлечены два черных шара}\n",
    "\n",
    "Указание. Пусть событие $C_1$ = {первый шар белый}, событие $C_2$ = {второй шар белый}. Тогда $A = C_1C_2$, $B = \\overline C_1 \\overline C_2$ "
   ]
  },
  {
   "cell_type": "code",
   "execution_count": null,
   "metadata": {
    "id": "WSLnhk2sdBt_"
   },
   "outputs": [],
   "source": []
  }
 ],
 "metadata": {
  "colab": {
   "collapsed_sections": [],
   "name": "Практика к занятию 11.ipynb",
   "provenance": []
  },
  "kernelspec": {
   "display_name": "Python 3",
   "language": "python",
   "name": "python3"
  },
  "language_info": {
   "codemirror_mode": {
    "name": "ipython",
    "version": 3
   },
   "file_extension": ".py",
   "mimetype": "text/x-python",
   "name": "python",
   "nbconvert_exporter": "python",
   "pygments_lexer": "ipython3",
   "version": "3.7.6"
  }
 },
 "nbformat": 4,
 "nbformat_minor": 1
}
