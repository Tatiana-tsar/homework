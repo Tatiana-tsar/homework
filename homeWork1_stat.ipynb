{
 "cells": [
  {
   "cell_type": "markdown",
   "metadata": {
    "id": "pDrecLU-4QjS"
   },
   "source": [
    "# Практика  ДОмАШНЯЯ работа"
   ]
  },
  {
   "cell_type": "code",
   "execution_count": 1,
   "metadata": {},
   "outputs": [],
   "source": [
    "import pandas as pd\n",
    "import numpy as np\n",
    "import matplotlib.pyplot as plt\n",
    "import scipy.stats as sts\n",
    "%matplotlib inline\n",
    "import random\n"
   ]
  },
  {
   "cell_type": "markdown",
   "metadata": {
    "id": "gUvTNDlMaV-a"
   },
   "source": [
    "## Определение вероятности. События\n",
    "\n",
    "Требуется сгенерировать необходимые выборки и произвести по ним расчеты"
   ]
  },
  {
   "cell_type": "code",
   "execution_count": null,
   "metadata": {},
   "outputs": [],
   "source": [
    "mu = 1\n",
    "sigma = 0\n",
    "\n",
    "norm_rv = sts.norm(loc=mu, scale=sigma)\n",
    "\n",
    "# сгенерировать 10 значений \n",
    "norm_rv.rvs(size=10)"
   ]
  },
  {
   "cell_type": "code",
   "execution_count": null,
   "metadata": {},
   "outputs": [],
   "source": [
    "heads = 0\n",
    "tails = 0\n",
    "cointoss = 0\n",
    "for i in range(0, 100):\n",
    "    coinresult = random.randint(0,1)\n",
    "    \n",
    "    \n",
    "    \n",
    "    if coinresult == 1:\n",
    "        heads += 1\n",
    "    else:\n",
    "        tails += 1\n",
    "print(\"Heads came up\", heads, \"times\")\n",
    "print(\"Tails came up\", tails, \"times\")"
   ]
  },
  {
   "cell_type": "markdown",
   "metadata": {
    "id": "5V70InEBTgup"
   },
   "source": [
    "### Задача 1\n",
    "Брошено две монеты. Найти вероятность того, что монеты выпали разными сторонами"
   ]
  },
  {
   "cell_type": "code",
   "execution_count": 28,
   "metadata": {
    "scrolled": true
   },
   "outputs": [
    {
     "name": "stdout",
     "output_type": "stream",
     "text": [
      "0 1\n",
      "1 0\n",
      "1 1\n",
      "0 1\n",
      "1 1\n",
      "1 1\n",
      "1 0\n",
      "1 0\n",
      "0 1\n",
      "1 0\n",
      "1 0\n",
      "0 1\n",
      "0 1\n",
      "1 0\n",
      "1 0\n",
      "0 0\n",
      "0 1\n",
      "1 1\n",
      "1 1\n",
      "1 1\n",
      "1 0\n",
      "0 1\n",
      "0 0\n",
      "0 0\n",
      "0 0\n",
      "1 0\n",
      "0 0\n",
      "0 1\n",
      "1 0\n",
      "1 1\n",
      "Вероятность что монеты выпали разными сторонами 0.6\n"
     ]
    }
   ],
   "source": [
    "kol=30\n",
    "cointoss = 0\n",
    "for i in range(0, kol):\n",
    "    many_1 = random.randint(0,1)\n",
    "    many_2 = random.randint(0,1)\n",
    "    if int(many_1)!=int(many_2):\n",
    "        cointoss+=1\n",
    "    print(many_1, many_2)\n",
    "\n",
    "P=(cointoss/kol)\n",
    "print('Вероятность что монеты выпали разными сторонами',P)\n",
    "\n",
    "   "
   ]
  },
  {
   "cell_type": "markdown",
   "metadata": {
    "id": "t0XOMos2Tl0e"
   },
   "source": [
    "### Задача 2\n",
    "Брошено три монеты. Описать множество всех элементарных событий. Найти вероятности следующих событий:\n",
    "\n",
    "\n",
    "1.   A = {не выпало ни одного герба}\n",
    "2.   B = {выпало четное число гербов}\n",
    "3.   C = {на третьей монете выпал герб}\n"
   ]
  },
  {
   "cell_type": "code",
   "execution_count": 13,
   "metadata": {
    "id": "o7NjAE9uUo-L",
    "scrolled": true
   },
   "outputs": [
    {
     "name": "stdout",
     "output_type": "stream",
     "text": [
      "Вероятность что, не выпало ни одного герба из  30 бросков равна 0.2\n",
      "Вероятность что, выпало четное число гербов из 30 бросков равна 0.43333333333333335\n",
      "Вероятность что, на третьей монете выпал герб из 30 бросков равна 0.43333333333333335\n"
     ]
    }
   ],
   "source": [
    "# пусть герб =1, решка = 0\n",
    "coint_Gerb_chet,coint_Gerb,coint_Gerb_3=0,0,0\n",
    "kol=30\n",
    "for i in range(0, kol):\n",
    "    many_1 = random.randint(0,1)\n",
    "    many_2 = random.randint(0,1)\n",
    "    many_3 = random.randint(0,1)\n",
    "    \n",
    "    if int(many_1)==int(many_2)==int(many_3) and int(many_1)!=1:\n",
    "        coint_Gerb+=1\n",
    "    if int(many_1)+int(many_2)+int(many_3)==2:\n",
    "        coint_Gerb_chet+=1\n",
    "    if int(many_3)==1:\n",
    "        coint_Gerb_3+=1\n",
    "    #print(many_1, many_2,many_3)\n",
    "P1=(coint_Gerb/kol)\n",
    "P2=(coint_Gerb_chet/kol)\n",
    "P3=(coint_Gerb_3/kol)\n",
    "#print(\"{}: {}\".format(N, counts/N))\n",
    "\n",
    "print('Вероятность что, не выпало ни одного герба из ',kol,'бросков равна',P1)\n",
    "print('Вероятность что, выпало четное число гербов из',kol,'бросков равна',P2)\n",
    "print('Вероятность что, на третьей монете выпал герб из',kol,'бросков равна',P3)\n",
    "      "
   ]
  },
  {
   "cell_type": "markdown",
   "metadata": {},
   "source": [
    "Предлагается также решить задачи: \n",
    "\n",
    "### Задача 3\n",
    "Из двух претендентов E и L на ответственную должность три члена комиссии должны отобрать одного. Каждый член комиссии должен указать либо одного достойного, либо забраковать обоих. Претендент считается выбранным, если он был признана достойным хотя бы двумя членами комиссии.\n",
    "Найти вероятность событий:\n",
    "\n",
    "A = {рекомендован L}, B = {рекомендован E}\n"
   ]
  },
  {
   "cell_type": "code",
   "execution_count": null,
   "metadata": {},
   "outputs": [],
   "source": []
  },
  {
   "cell_type": "markdown",
   "metadata": {
    "id": "peM38mVfYa5B"
   },
   "source": [
    "### Задача 4\n",
    "Брошено две игральных кости. Описать множество элементарных событий. Найти вероятности событий:\n",
    "\n",
    "A = {вышло две \"шестерки\"}\n",
    "\n",
    "B = {сумма выпавших очков не меньше 11}\n",
    "\n",
    "C = {не выпала ни одна \"шестерка\"}"
   ]
  },
  {
   "cell_type": "code",
   "execution_count": 14,
   "metadata": {
    "scrolled": true
   },
   "outputs": [
    {
     "name": "stdout",
     "output_type": "stream",
     "text": [
      "{(1, 3), (6, 6), (5, 6), (2, 1), (6, 2), (1, 6), (5, 1), (2, 5), (1, 2), (3, 3), (4, 4), (1, 5), (3, 6), (2, 2), (4, 1), (1, 1), (6, 4), (5, 4), (2, 6), (3, 2), (4, 5), (5, 2), (1, 4), (2, 3), (4, 2), (6, 5), (5, 3), (3, 5), (4, 6), (6, 1), (3, 1), (4, 3), (3, 4), (2, 4)}\n",
      " вероятности событий, что вышло две \"шестерки\" 0.04\n",
      " вероятности событий, сумма выпавших очков не меньше 11- 0.1\n",
      " вероятности событий, что не выпала ни одна \"шестерка\" 0.68\n"
     ]
    }
   ],
   "source": [
    "N = 100\n",
    "kol1,kol2,kol3=0,0,0\n",
    "sample1 = np.random.choice([1,2,3,4,5,6], N)\n",
    "sample2 = np.random.choice([1,2,3,4,5,6], N)\n",
    "set_many=set(zip(sample1,sample2))\n",
    "#unique_value1, counts = np.unique(sample1, return_counts=True)\n",
    "#unique_value2, counts = np.unique(sample2, return_counts=True)\n",
    "\n",
    "#print(sample1)\n",
    "#print(sample2)\n",
    "print(set_many)\n",
    "for i in range(0, N):\n",
    "    if sample1[i]==sample2[i] and sample1[i]==6:\n",
    "        kol1+=1\n",
    "        \n",
    "    if (sample1[i]+sample2[i]) >=11:\n",
    "        kol2+=1\n",
    "        \n",
    "    if sample1[i]!=6 and sample2[i]!=6: \n",
    "        kol3+=1\n",
    "print(' вероятности событий, что вышло две \"шестерки\"',kol1/N)   \n",
    "print(' вероятности событий, сумма выпавших очков не меньше 11-',kol2/N) \n",
    "print(' вероятности событий, что не выпала ни одна \"шестерка\"',kol3/N) "
   ]
  },
  {
   "cell_type": "markdown",
   "metadata": {
    "id": "f-Bi0p8haclB"
   },
   "source": [
    "## Вероятность суммы событий"
   ]
  },
  {
   "cell_type": "markdown",
   "metadata": {
    "id": "g7A7QlvGTnwZ"
   },
   "source": [
    "### Задача 5\n",
    "Брошены две игральные кости. Найти вероятность события D = {выпала хотя бы одна шестёрка}\n"
   ]
  },
  {
   "cell_type": "code",
   "execution_count": 20,
   "metadata": {
    "id": "vjtTJN-kUp9D"
   },
   "outputs": [
    {
     "name": "stdout",
     "output_type": "stream",
     "text": [
      " вероятности событий,при броске=  10  выпадет хотя бы одна шестёрка 0.2\n",
      " вероятности событий,при броске=  100  выпадет хотя бы одна шестёрка 0.33\n",
      " вероятности событий,при броске=  1000  выпадет хотя бы одна шестёрка 0.325\n",
      " вероятности событий,при броске=  10000  выпадет хотя бы одна шестёрка 0.3005\n",
      " вероятности событий,при броске=  100000  выпадет хотя бы одна шестёрка 0.30677\n"
     ]
    }
   ],
   "source": [
    "N = 100\n",
    "for N in [10, 100, 1000, 10000, 100000]:\n",
    "    kol1=kol2=kol3=0\n",
    "    sample1 = np.random.choice([1,2,3,4,5,6], N)\n",
    "    sample2 = np.random.choice([1,2,3,4,5,6], N)\n",
    "    #print(sample1)\n",
    "    #print(sample2)\n",
    "\n",
    "    num_tel=pd.DataFrame(zip(sample1,sample2),columns=['Num1','Num2'])\n",
    "\n",
    "    P= num_tel[(num_tel['Num1']==6) | (num_tel['Num2']==6)].shape[0]/N\n",
    "\n",
    "    print(' вероятности событий,при броске= ',N,' выпадет хотя бы одна шестёрка',P)   \n"
   ]
  },
  {
   "cell_type": "markdown",
   "metadata": {
    "id": "R1bYSzQQbC6I"
   },
   "source": [
    "Предлагается также решить задачи: \n",
    "\n",
    "### Задача 6\n",
    "В телефонном номере три последние цифры стерлись. Считая, что все возможные значения стершихся цифр равновероятны, найти вероятность событий:\n",
    "\n",
    "A = {Стерлись различные цифры},\n",
    "\n",
    "B = {Стерлись одинаковые цифры},\n",
    "\n",
    "C = {Среди стершихся цифр хотя бы две совпадают},\n",
    "\n",
    "D = {Среди стершихся цифр хотя бы две различны}\n"
   ]
  },
  {
   "cell_type": "code",
   "execution_count": 16,
   "metadata": {
    "scrolled": false
   },
   "outputs": [
    {
     "name": "stdout",
     "output_type": "stream",
     "text": [
      "Вероятность при N= 10  Стерлись различные цифры 0.6\n",
      "Стерлись Стерлись одинаковые цифры 0.0\n",
      "Среди стершихся цифр хотя бы две совпадают 0.4\n",
      "Среди стершихся цифр хотя бы две различны 1.0\n",
      "Вероятность при N= 100  Стерлись различные цифры 0.77\n",
      "Стерлись Стерлись одинаковые цифры 0.01\n",
      "Среди стершихся цифр хотя бы две совпадают 0.23\n",
      "Среди стершихся цифр хотя бы две различны 0.99\n",
      "Вероятность при N= 1000  Стерлись различные цифры 0.731\n",
      "Стерлись Стерлись одинаковые цифры 0.006\n",
      "Среди стершихся цифр хотя бы две совпадают 0.269\n",
      "Среди стершихся цифр хотя бы две различны 0.994\n",
      "Вероятность при N= 10000  Стерлись различные цифры 0.72\n",
      "Стерлись Стерлись одинаковые цифры 0.0118\n",
      "Среди стершихся цифр хотя бы две совпадают 0.28\n",
      "Среди стершихся цифр хотя бы две различны 0.9882\n",
      "Вероятность при N= 100000  Стерлись различные цифры 0.71772\n",
      "Стерлись Стерлись одинаковые цифры 0.01043\n",
      "Среди стершихся цифр хотя бы две совпадают 0.28228\n",
      "Среди стершихся цифр хотя бы две различны 0.98957\n"
     ]
    }
   ],
   "source": [
    "\n",
    "for N in [10, 100, 1000, 10000, 100000]:\n",
    "    kol1=kol2=kol3=kol4=0\n",
    "    sample1 = np.random.choice([0,1,2,3,4,5,6,7,8,9], N)\n",
    "    sample2 = np.random.choice([0,1,2,3,4,5,6,7,8,9], N)\n",
    "    sample3 = np.random.choice([0,1,2,3,4,5,6,7,8,9], N)\n",
    "    sample_vse=set(zip(sample1,sample2,sample3))\n",
    "#print(sample1)\n",
    "#print(sample2)\n",
    "#print(sample3)\n",
    "    num_tel=pd.DataFrame(zip(sample1,sample2,sample3),columns=['Num1','Num2','Num3'])\n",
    "    #print(num_tel)\n",
    "\n",
    "    for i in range(0,N):\n",
    "        if num_tel['Num1'][i]!=num_tel['Num2'][i] and num_tel['Num1'][i]!=num_tel['Num3'][i] and num_tel['Num2'][i]!=num_tel['Num3'][i]:\n",
    "                kol1+=1\n",
    "        if num_tel['Num1'][i]==num_tel['Num2'][i]==num_tel['Num3'][i]:\n",
    "                kol2+=1        \n",
    "        if num_tel['Num1'][i]==num_tel['Num2'][i] or num_tel['Num1'][i]==num_tel['Num3'][i] or num_tel['Num2'][i]==num_tel['Num3'][i]:\n",
    "                kol3+=1  \n",
    "        if num_tel['Num1'][i]!=num_tel['Num2'][i] or num_tel['Num1'][i]!=num_tel['Num3'][i] or num_tel['Num2'][i]!=num_tel['Num3'][i]:\n",
    "                kol4+=1          \n",
    "    #print(sample_vse)\n",
    "    print('Вероятность при N=',N,' Стерлись различные цифры',kol1/N)\n",
    "    print('Стерлись Стерлись одинаковые цифры',kol2/N)\n",
    "    print('Среди стершихся цифр хотя бы две совпадают',kol3/N)\n",
    "    print('Среди стершихся цифр хотя бы две различны',kol4/N)\n",
    "      \n",
    "    "
   ]
  },
  {
   "cell_type": "markdown",
   "metadata": {
    "id": "RnugkR8BalK_"
   },
   "source": [
    "## Случайные величины"
   ]
  },
  {
   "cell_type": "markdown",
   "metadata": {
    "id": "yLoZDZ17UVsp"
   },
   "source": [
    "### Задача 7\n",
    "В лотерее имеется 10 билетов, из которых один выигрышный. Размер выигрыша 10 ден. ед.; стоимость билета 1 ден ед. Найти закон распределения случайной величины X, равной чистому выигрышу участника лотереи, который вытаскивает билет первым."
   ]
  },
  {
   "cell_type": "code",
   "execution_count": 32,
   "metadata": {
    "scrolled": true
   },
   "outputs": [
    {
     "name": "stdout",
     "output_type": "stream",
     "text": [
      "[-1, 9, -1, -1, -1, -1, -1, -1, -1, -1]\n"
     ]
    },
    {
     "data": {
      "text/plain": [
       "(array([9., 0., 0., 0., 0., 0., 0., 0., 0., 1.]),\n",
       " array([-1.,  0.,  1.,  2.,  3.,  4.,  5.,  6.,  7.,  8.,  9.]),\n",
       " <a list of 10 Patch objects>)"
      ]
     },
     "execution_count": 32,
     "metadata": {},
     "output_type": "execute_result"
    },
    {
     "data": {
      "image/png": "[encoded data removed]",
      "text/plain": [
       "<Figure size 432x288 with 1 Axes>"
      ]
     },
     "metadata": {
      "needs_background": "light"
     },
     "output_type": "display_data"
    }
   ],
   "source": [
    "ex=[np.random.choice([-1,9], p=[0.9,0.1]) for i in range (N)]\n",
    "print(ex)\n",
    "plt.hist(ex)"
   ]
  },
  {
   "cell_type": "code",
   "execution_count": 31,
   "metadata": {
    "id": "oNk432sKUqzT"
   },
   "outputs": [
    {
     "name": "stdout",
     "output_type": "stream",
     "text": [
      "[-1, -1, -1, -1, -1, -1, -1, -1, -1, -1]\n"
     ]
    }
   ],
   "source": [
    "#закон распределения 1/10=0.1\n",
    "#выигрыш- количество (1,0)\n",
    "#выигрыш сумма (10, 0)\n",
    "#Мат. ожидание Mx=10р*(1/10)=1\n",
    "#x:10,0\n",
    "#P:0.1,0.9\n",
    "\n",
    "sample = [np.random.choice([-1,9], p=[0.9,0.1]) for i in range (N)]\n",
    "print(sample)\n",
    "    \n",
    "    "
   ]
  },
  {
   "cell_type": "markdown",
   "metadata": {
    "id": "U-NK9liSbpvb"
   },
   "source": [
    "Предлагается также решить задачу: \n",
    "\n",
    "### Задача 8\n",
    "Брошены две игральные кости. Найти закон распределения случайной величины $X$, равной сумме выпавших очков. Найти вероятности событий ${X <= 4}$, ${X > 4}$"
   ]
  },
  {
   "cell_type": "code",
   "execution_count": null,
   "metadata": {},
   "outputs": [],
   "source": []
  },
  {
   "cell_type": "markdown",
   "metadata": {
    "id": "shgW4D83awjK"
   },
   "source": [
    "## Условные вероятности"
   ]
  },
  {
   "cell_type": "markdown",
   "metadata": {
    "id": "Fbu1RFZwWZrk"
   },
   "source": [
    "### Задача 9\n",
    "Из колоды (36 карт) вынимают последовательно без возвращения две карты. Найти вероятность того, что первой картой была шестерка, а второй — семерка. Найти условную вероятность того же события при условии, что обе карты бубновой масти.\n"
   ]
  },
  {
   "cell_type": "code",
   "execution_count": 40,
   "metadata": {
    "id": "037o56awW9-E"
   },
   "outputs": [
    {
     "name": "stdout",
     "output_type": "stream",
     "text": [
      "вероятность того, что первой картой была шестерка, а второй — семерка 0.012698412698412698\n",
      "условная вероятность того же события при условии, что обе карты бубновой масти. 0.0007936507936507937\n"
     ]
    }
   ],
   "source": [
    "# выпадение шестерки - 4/36=1/9, выпадение семерки 4/35  карт бубновой масти в колоде 9 шт\n",
    "# условная вероятность P(A)=1/9*4/35=4/315  P(AB)= 1/(36*35)  \n",
    "A=4*4              # всего вариантов карт шестерок и семерок\n",
    "pA=(4*4)/(36*35) # вероятность того, что первой карты - выпадение шестерка, второй - семерка\n",
    "B=1*1              # число благоприятгных условий выпадения бубуновой карты (обе карты бубны)\n",
    "pAB=1/(36*35)    #условная вероятность, что обе карты бубны\n",
    "\n",
    "print('вероятность того, что первой картой была шестерка, а второй — семерка', pA)\n",
    "print('условная вероятность того же события при условии, что обе карты бубновой масти.',pAB)\n",
    "\n"
   ]
  },
  {
   "cell_type": "markdown",
   "metadata": {
    "id": "hNVxtaz5c57b"
   },
   "source": [
    "Предлагается также решить задачу: \n",
    "\n",
    "### Задача 10\n",
    "Из урны, содержащей два белых и три черных шара, последовательно извлекают два шара; вынутые шары не возвращаются. Если первый шар оказался черным, то перед вторым извлечением в урну добавляют белый шар. В противном случае состав оставшихся шаров не меняют. Найти вероятности событий:\n",
    "\n",
    "$A$ = {извлечены два белых шара},\n",
    "\n",
    "$B$ = {извлечены два черных шара}\n",
    "\n",
    "Указание. Пусть событие $C_1$ = {первый шар белый}, событие $C_2$ = {второй шар белый}. Тогда $A = C_1C_2$, $B = \\overline C_1 \\overline C_2$ "
   ]
  },
  {
   "cell_type": "code",
   "execution_count": null,
   "metadata": {
    "id": "WSLnhk2sdBt_"
   },
   "outputs": [],
   "source": []
  }
 ],
 "metadata": {
  "colab": {
   "collapsed_sections": [],
   "name": "Практика к занятию 11.ipynb",
   "provenance": []
  },
  "kernelspec": {
   "display_name": "Python 3",
   "language": "python",
   "name": "python3"
  },
  "language_info": {
   "codemirror_mode": {
    "name": "ipython",
    "version": 3
   },
   "file_extension": ".py",
   "mimetype": "text/x-python",
   "name": "python",
   "nbconvert_exporter": "python",
   "pygments_lexer": "ipython3",
   "version": "3.7.6"
  }
 },
 "nbformat": 4,
 "nbformat_minor": 1
}
